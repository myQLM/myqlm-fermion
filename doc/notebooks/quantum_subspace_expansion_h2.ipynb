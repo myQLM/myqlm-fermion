{
    "cells": [
        {
            "cell_type": "markdown",
            "metadata": {},
            "source": [
                "# Advanced VQE: Quantum Subspace Expansion\n",
                "\n",
                "*References: https://arxiv.org/abs/1603.05681, https://arxiv.org/abs/1707.06408, https://arxiv.org/abs/1807.10050*\n",
                "\n",
                "The VQE algorithm exhibits a \"natural\" robustness against errors, especially regarding $\\vec{\\theta}^\\star$, the optimal value of the parameter. Unfortunately, the energy evalutation (i.e. mean-value measurement) can still suffer from important errors. \n",
                "\n",
                "McClean *et al.* drew inspiration from *Linear Response Theory* to design an extension to the VQE, the *Quantum Subspace Expansion* (QSE). The core idea is to expand the Hamiltonian post-VQE on a well-chosen subspace (i.e. where an improved, lower, energy lies) and solve classically the associated generalized eigenvalue problem with the hope of getting an improved value for the ground state energy.\n",
                "\n",
                "More precisely, the QSE can be split into different steps:\n",
                "1. Choice of qubit operators;\n",
                "2. Expansion of the Hamiltonian on the subspace defined by the two previous choices; Construction of the overlap matrix;\n",
                "3. Resolution of the generalized eigenvalue problem.\n",
                "\n",
                "Thus, the $n$-qubit QSE using $G$ as the chosen set of $n$-qubit operators, is associated  with the following state subspace:\n",
                "$$\n",
                "    \\{ \\hat{\\sigma}|\\psi^\\star\\rangle, \\qquad \\hat{\\sigma} \\in G \\}\n",
                "$$\n",
                "where $|\\psi^\\star\\rangle = |\\mathrm{UCC}(\\vec{\\theta}^\\star)\\rangle$ is the output of the VQE.  \n",
                "The expanded Hamiltonian and overlap matrices, $(H_{i, j})$ and $(S_{i, j})$, are then measured *via* a quantum computer, i.e.\n",
                "$$\n",
                "    H_{i, j} = \\langle \\psi^\\star | \\hat{\\sigma}_i^\\dagger \\hat{H} \\hat{\\sigma}_j | \\psi^\\star\\rangle \\qquad\n",
                "    S_{i, j} = \\langle \\psi^\\star | \\hat{\\sigma}_i^\\dagger \\hat{\\sigma}_j | \\psi^\\star\\rangle\n",
                "$$\n",
                "Finally, the associated generalized eigenvalue problem is solved classically and the minimal solution is extracted, i.e.\n",
                "$$\n",
                "    E_{\\mathrm{QSE}} = \\min\\{E, \\qquad H \\vec{x} = E S \\vec{x}\\}\n",
                "$$\n",
                "\n",
                "\n",
                "## Part 1: Problem definition and UCC preparation"
            ]
        },
        {
            "cell_type": "code",
            "execution_count": null,
            "metadata": {},
            "outputs": [],
            "source": [
                "import numpy as np\n",
                "nels = 2\n",
                "one_body_integrals = np.array([[-1.25246357, 0],\n",
                "                                [ 0, -0.475948715]])\n",
                "two_body_integrals = np.array([[[[ 0.674488766, 0],\n",
                "                                [0,  0.181288808]],\n",
                "                                [[0,  0.181288808],\n",
                "                                [ 0.663468096,  0]]],\n",
                "                                [[[0,  0.663468096],\n",
                "                                [ 0.181288808, 0]],\n",
                "                                [[ 0.181288808, 0],\n",
                "                                [ 0,  0.697393767]]]])\n",
                "orbital_energies = np.array([-0.57797481,  0.66969867])\n",
                "nuclear_repulsion = 0.7137539936876182\n",
                "\n",
                "## the natural-orbital occupation numbers (NOONs) are computed from 1-RDM (computed in CISD here)\n",
                "noons = np.array([1.9745399697399246, 0.025460030260075376])\n",
                "\n",
                "# If you have installed the pySCF module, you can use the following lines of code to perform\n",
                "# the quantum-chemistry part of the computation\n",
                "#import numpy as np\n",
                "#from qat.fermion.chemistry.pyscf_tools import perform_pyscf_computation\n",
                "\n",
                "#geometry = [('H', (0., 0., 0.)), ('H', (0., 0., 0.7414))]\n",
                "#basis = 'sto-3g'\n",
                "\n",
                "#rdm1, orbital_energies, nuclear_repulsion,\\\n",
                "#nels, one_body_integrals, two_body_integrals, info = perform_pyscf_computation(geometry=geometry, basis=basis, spin=0,\n",
                "#                                                                               charge=0, verbose=True)\n",
                "## get NOONs from 1-RDM (computed in CISD)\n",
                "#noons = list(reversed(sorted(np.linalg.eigvalsh(rdm1))))"
            ]
        },
        {
            "cell_type": "markdown",
            "metadata": {},
            "source": [
                "### UCC preparation"
            ]
        },
        {
            "cell_type": "code",
            "execution_count": null,
            "metadata": {},
            "outputs": [],
            "source": [
                "%load_ext autoreload\n",
                "%autoreload 2\n",
                "\n",
                "from qat.fermion.chemistry.ucc import get_cluster_ops_and_init_guess, get_active_space_hamiltonian\n",
                "\n",
                "\n",
                "H_active, active_inds, occ_inds = get_active_space_hamiltonian(one_body_integrals,\n",
                "                                                               two_body_integrals,\n",
                "                                                               noons, nels, nuclear_repulsion)\n",
                "\n",
                "active_noons, active_orb_energies = [], []\n",
                "for ind in active_inds:\n",
                "    active_noons.extend([noons[ind], noons[ind]])\n",
                "    active_orb_energies.extend([orbital_energies[ind], orbital_energies[ind]])\n",
                "nb_active_els = nels - 2 * len(occ_inds)\n",
                "cluster_ops, theta_0, hf_init =\\\n",
                "        get_cluster_ops_and_init_guess(nb_active_els,\n",
                "                                       active_noons,\n",
                "                                       active_orb_energies,\n",
                "                                       H_active.hpqrs)"
            ]
        },
        {
            "cell_type": "markdown",
            "metadata": {},
            "source": [
                "### Transformation to qubit space"
            ]
        },
        {
            "cell_type": "code",
            "execution_count": null,
            "metadata": {},
            "outputs": [],
            "source": [
                "from qat.fermion.transforms import recode_integer\n",
                "from qat.fermion.transforms import transform_to_bk_basis, get_bk_code\n",
                "from qat.fermion.transforms import transform_to_jw_basis, get_jw_code\n",
                "from qat.fermion.transforms import transform_to_parity_basis, get_parity_code\n",
                "\n",
                "\n",
                "#transformation, code = transform_to_bk_basis, get_bk_code\n",
                "#transformation, code = transform_to_jw_basis, get_jw_code\n",
                "transformation, code = transform_to_parity_basis, get_parity_code\n",
                "\n",
                "H_active_sp = transformation(H_active)\n",
                "nqbits = H_active_sp.nbqbits\n",
                "\n",
                "# T-> Tspin\n",
                "#cluster_ops_sp = {k: transformation(t_o) for k, t_o in cluster_ops.items()}\n",
                "cluster_ops_sp = [transformation(t_o) for t_o in cluster_ops]\n",
                "\n",
                "# ket -> ketspin\n",
                "hf_init_sp = recode_integer(hf_init, code(nqbits))\n",
                "\n",
                "##Finally: build_uccsd\n",
                "from qat.fermion.chemistry.ucc import construct_ucc_ansatz\n",
                "prog = construct_ucc_ansatz(cluster_ops_sp, hf_init_sp)\n",
                "circ = prog.to_circ()\n",
                "\n",
                "circ.display()"
            ]
        },
        {
            "cell_type": "markdown",
            "metadata": {},
            "source": [
                "## Part 2: Definition of the noise model"
            ]
        },
        {
            "cell_type": "code",
            "execution_count": null,
            "metadata": {},
            "outputs": [],
            "source": [
                "# Noisy QPU construction:\n",
                "from qat.quops import ParametricPureDephasing, ParametricAmplitudeDamping\n",
                "from qat.hardware import HardwareModel, DefaultGatesSpecification\n",
                "from qat.noisy import NoisyQProc\n",
                "\n",
                "gate_durations = {\"H\":50, \"X\":50,\"RY\": lambda angle : 200, \"RX\": lambda angle : 200,\n",
                "                  \"RZ\": lambda angle : 200,\"CNOT\":500, \"PH\": lambda angle : 200}\n",
                "\n",
                "ibm_gates_spec = DefaultGatesSpecification(gate_durations)\n",
                "\n",
                "T1, T2 = 800000, 800000 #nanosecs\n",
                "\n",
                "amp_damping = ParametricAmplitudeDamping(T_1 = T1)\n",
                "pure_dephasing = ParametricPureDephasing(T_phi = 1/(1/T2 - 1/(2*T1)))\n",
                "qpu = NoisyQProc(hardware_model=HardwareModel(ibm_gates_spec,\n",
                "                                              idle_noise=[amp_damping, pure_dephasing]),\n",
                "                 sim_method=\"deterministic-vectorized\")"
            ]
        },
        {
            "cell_type": "markdown",
            "metadata": {},
            "source": [
                "## Part 3: VQE optimization\n",
                "\n",
                "Let us first compute the exact ground state energy:"
            ]
        },
        {
            "cell_type": "code",
            "execution_count": null,
            "metadata": {},
            "outputs": [],
            "source": [
                "eigvals = np.linalg.eigvalsh(H_active_sp.get_matrix())\n",
                "E_min = min(eigvals)\n",
                "print(\"E_min (exact diagonalization) = %s\"%(E_min))"
            ]
        },
        {
            "cell_type": "markdown",
            "metadata": {},
            "source": [
                "### Minimizing with COBYLA"
            ]
        },
        {
            "cell_type": "code",
            "execution_count": null,
            "metadata": {},
            "outputs": [],
            "source": [
                "\n",
                "from qat.plugins import ScipyMinimizePlugin\n",
                "optimizer_scipy = ScipyMinimizePlugin(method=\"COBYLA\", tol=1e-3, options={\"maxiter\": 1000},\n",
                "                                      x0=theta_0)\n",
                "stack = optimizer_scipy | qpu\n",
                "res = stack.submit(circ.to_job(job_type='OBS', observable=H_active_sp))\n",
                "theta_VQE = res.meta_data[\"parameters\"]\n",
                "print(\"Optimal theta (VQE): %s\"%theta_VQE)\n",
                "print(\"E (VQE) = %s (err = %s %%)\"%(res.value, 100*abs((res.value-E_min)/E_min))) "
            ]
        },
        {
            "cell_type": "markdown",
            "metadata": {},
            "source": [
                "### Minimizing with SPSA\n",
                "Let us try with an alternative optimizer:"
            ]
        },
        {
            "cell_type": "code",
            "execution_count": null,
            "metadata": {},
            "outputs": [],
            "source": [
                "from qat.plugins import SPSAMinimizePlugin\n",
                "optimizer_spsa = ScipyMinimizePlugin(x0=theta_0)\n",
                "stack = optimizer_spsa | qpu\n",
                "\n",
                "res = stack.submit(circ.to_job(job_type='OBS', observable=H_active_sp))\n",
                "theta_VQE = res.meta_data[\"parameters\"]\n",
                "print(\"Optimal theta (VQE): %s\"%theta_VQE)\n",
                "print(\"E (VQE) = %s (err = %s %%)\"%(res.value, 100*abs((res.value-E_min)/E_min))) \n",
                "e_vqe = res.value "
            ]
        },
        {
            "cell_type": "markdown",
            "metadata": {},
            "source": [
                "## Part 4: Quantum subspace expansion"
            ]
        },
        {
            "cell_type": "code",
            "execution_count": null,
            "metadata": {},
            "outputs": [],
            "source": [
                "from qat.fermion import Hamiltonian\n",
                "from qat.core import Term\n",
                "\n",
                "expansion_operators = [Hamiltonian(nqbits, [], 1.0),\n",
                "                       Hamiltonian(nqbits, [Term(1., \"ZZ\", [0, 1])])]\n",
                "\n",
                "from qat.fermion.chemistry.qse import apply_quantum_subspace_expansion\n",
                "\n",
                "# we use the optimal parameters found by VQE\n",
                "opt_circ = circ.bind_variables(eval(res.meta_data[\"parameter_map\"]))\n",
                "\n",
                "e_qse = apply_quantum_subspace_expansion(H_active_sp, \n",
                "                                         opt_circ,\n",
                "                                         expansion_operators, \n",
                "                                         qpu,\n",
                "                                         return_matrices=False)\n",
                "print(\"E(QSE) = %s (err = %s %%)\"%(e_qse, 100*abs((e_qse-E_min)/E_min)))"
            ]
        },
        {
            "cell_type": "markdown",
            "metadata": {},
            "source": [
                "Notice how the error decreased between VQE and QSE."
            ]
        }
    ],
    "metadata": {
        "authors": [
            "Thomas Ayral",
            "Satyanarayana Bade"
        ],
        "kernelspec": {
            "display_name": "Python 3 (ipykernel)",
            "language": "python",
            "name": "python3"
        },
        "language_info": {
            "codemirror_mode": {
                "name": "ipython",
                "version": 3
            },
            "file_extension": ".py",
            "mimetype": "text/x-python",
            "name": "python",
            "nbconvert_exporter": "python",
            "pygments_lexer": "ipython3",
            "version": "3.9.2"
        }
    },
    "nbformat": 4,
    "nbformat_minor": 2
}