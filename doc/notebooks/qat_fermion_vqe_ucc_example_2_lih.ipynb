{
 "cells": [
  {
   "cell_type": "markdown",
   "metadata": {
    "slideshow": {
     "slide_type": "slide"
    },
    "tags": []
   },
   "source": [
    "# Quantum chemistry: Solving LiH using UCC\n",
    "\n",
    "Let us now study the molecule $LiH$. As for the $H_2$ case (studied in a previous tutorial), we need to first describe the geometry and atomic content of the molecule. In this example, we will compute the basis change and select the active space."
   ]
  },
  {
   "cell_type": "markdown",
   "metadata": {},
   "source": [
    "We extract the data from the included resource file. These data were computed using the PySCF package."
   ]
  },
  {
   "cell_type": "code",
   "execution_count": 1,
   "metadata": {},
   "outputs": [
    {
     "name": "stdout",
     "output_type": "stream",
     "text": [
      " HF energy :  -7.978244325721493\n",
      " MP2 energy : -7.991271632153254\n",
      " FCI energy : -7.998354311186427\n",
      "\n",
      "Number of qubits before active space selection = 22\n",
      "Number of qubits =  22\n"
     ]
    }
   ],
   "source": [
    "import numpy as np\n",
    "\n",
    "lih_data = np.load(\"lih_data.npz\", allow_pickle=True)\n",
    "\n",
    "rdm1 = lih_data[\"rdm1\"]\n",
    "orbital_energies = lih_data[\"orbital_energies\"]\n",
    "nuclear_repulsion = lih_data[\"nuclear_repulsion\"]\n",
    "n_electrons = lih_data[\"n_electrons\"]\n",
    "one_body_integrals = lih_data[\"one_body_integrals\"]\n",
    "two_body_integrals = lih_data[\"two_body_integrals\"]\n",
    "info = lih_data[\"info\"].tolist()\n",
    "\n",
    "nqbits = rdm1.shape[0] * 2\n",
    "\n",
    "print(\n",
    "    f\" HF energy :  {info['HF']}\\n\",\n",
    "    f\"MP2 energy : {info['MP2']}\\n\",\n",
    "    f\"FCI energy : {info['FCI']}\\n\",\n",
    ")\n",
    "print(f\"Number of qubits before active space selection = {rdm1.shape[0] * 2}\")\n",
    "print(\"Number of qubits = \", nqbits)"
   ]
  },
  {
   "cell_type": "markdown",
   "metadata": {
    "tags": []
   },
   "source": [
    "### Note: PySCF\n",
    "\n",
    "If you have the PySCF package installed, you can do the previous computation yourself using our `perform_pyscf_computation`function.\n",
    "\n",
    "```python\n",
    "from qat.fermion.chemistry.pyscf_tools import perform_pyscf_computation\n",
    "\n",
    "geometry = [(\"Li\", (0.0, 0.0, 0.0)), (\"H\", (0.0, 0.0, 1.75))]\n",
    "basis = \"6-31g\"\n",
    "spin = 0\n",
    "charge = 0\n",
    "\n",
    "(\n",
    "    rdm1,\n",
    "    orbital_energies,\n",
    "    nuclear_repulsion,\n",
    "    n_electrons,\n",
    "    one_body_integrals,\n",
    "    two_body_integrals,\n",
    "    info,\n",
    ") = perform_pyscf_computation(geometry=geometry, basis=basis, spin=spin, charge=charge)\n",
    "\n",
    "# We give the full CI energy computed on the QLM for LiH\n",
    "info[\"FCI\"] = -7.998354311186427\n",
    "\n",
    "print(\n",
    "    f\" HF energy :  {info['HF']}\\n\",\n",
    "    f\"MP2 energy : {info['MP2']}\\n\",\n",
    "    f\"FCI energy : {info['FCI']}\\n\",\n",
    ")\n",
    "print(f\"Number of qubits before active space selection = {rdm1.shape[0] * 2}\")\n",
    "\n",
    "nqbits = rdm1.shape[0] * 2\n",
    "print(\"Number of qubits = \", nqbits)\n",
    "```"
   ]
  },
  {
   "cell_type": "markdown",
   "metadata": {
    "tags": []
   },
   "source": [
    "We wrap the body integrals and the nuclear repulsion in the `MolecularHamiltonian` class:"
   ]
  },
  {
   "cell_type": "code",
   "execution_count": 2,
   "metadata": {},
   "outputs": [
    {
     "name": "stdout",
     "output_type": "stream",
     "text": [
      " MolecularHamiltonian(\n",
      " - constant_coeff : 0.9071609330057144\n",
      " - integrals shape\n",
      "    * one_body_integrals : (11, 11)\n",
      "    * two_body_integrals : (11, 11, 11, 11)\n",
      ")\n"
     ]
    }
   ],
   "source": [
    "from qat.fermion.chemistry import MolecularHamiltonian, MoleculeInfo\n",
    "\n",
    "# Define the molecular hamiltonian\n",
    "mol_h = MolecularHamiltonian(one_body_integrals, two_body_integrals, nuclear_repulsion)\n",
    "\n",
    "print(mol_h)"
   ]
  },
  {
   "cell_type": "markdown",
   "metadata": {
    "slideshow": {
     "slide_type": "slide"
    },
    "tags": []
   },
   "source": [
    "## Active space selection\n",
    "\n",
    "Based on the (approximate) one-particle reduced density matrix computed (``rdm1``), we compute the so-called \"natural-orbital occupation numbers\" (NOONs). We use them to select, with a given threshold, the \"active space orbitals\" (which are contained in the ``active_indices`` list below). We then compute the Hamiltonian in this active space."
   ]
  },
  {
   "cell_type": "code",
   "execution_count": 3,
   "metadata": {
    "slideshow": {
     "slide_type": "fragment"
    }
   },
   "outputs": [],
   "source": [
    "# Compute the natural orbitals occupation numbers and the basis transformation matrix\n",
    "noons, basis_change = np.linalg.eigh(rdm1)\n",
    "\n",
    "# The noons should be in decreasing order\n",
    "noons = list(reversed(noons))\n",
    "\n",
    "# Since we reversed the noons, we have to flip the basis as well\n",
    "basis_change = np.flip(basis_change, axis=1)"
   ]
  },
  {
   "cell_type": "markdown",
   "metadata": {
    "tags": []
   },
   "source": [
    "The basis change can be done within the `MolecularHamiltonian` class:"
   ]
  },
  {
   "cell_type": "code",
   "execution_count": 4,
   "metadata": {},
   "outputs": [],
   "source": [
    "# Change the hamiltonian basis\n",
    "mol_h_new_basis = mol_h.transform_basis(basis_change)"
   ]
  },
  {
   "cell_type": "markdown",
   "metadata": {},
   "source": [
    "The `MoleculeInfo` class is a helper class which contains various molecule properties."
   ]
  },
  {
   "cell_type": "code",
   "execution_count": 5,
   "metadata": {},
   "outputs": [],
   "source": [
    "molecule = MoleculeInfo(\n",
    "    mol_h_new_basis,\n",
    "    n_electrons=n_electrons,\n",
    "    noons=noons,\n",
    "    orbital_energies=orbital_energies,\n",
    ")"
   ]
  },
  {
   "cell_type": "code",
   "execution_count": 6,
   "metadata": {},
   "outputs": [
    {
     "data": {
      "text/plain": [
       "MoleculeInfo(\n",
       " - MolecularHamiltonian(\n",
       "    * constant_coeff : 0.9071609330057144\n",
       "    * integrals shape\n",
       "       ** one_body_integrals : (11, 11)\n",
       "       ** two_body_integrals : (11, 11, 11, 11)\n",
       "   )\n",
       " - n_electrons = 4\n",
       " - noons = [1.999908803582278, 1.9490174404821416, 0.04680924206971765, 0.0018388291832408565, 0.0009388060306067255, 0.0009388060306067249, 0.000498740509127347, 2.53154537304913e-05, 1.1601438714599513e-05, 1.1601438714598397e-05, 8.137811217332868e-07]\n",
       " - orbital energies = [-2.46481078 -0.29198191  0.00584726  0.05830485  0.05830485  0.14705508\n",
       "  0.19900943  0.21877097  0.21877097  0.32774881  1.30468514]\n",
       ")"
      ]
     },
     "execution_count": 6,
     "metadata": {},
     "output_type": "execute_result"
    }
   ],
   "source": [
    "molecule"
   ]
  },
  {
   "cell_type": "markdown",
   "metadata": {},
   "source": [
    " The `MoleculeInfo.restrict_active_space()` method updates the class to the new computed active space."
   ]
  },
  {
   "cell_type": "code",
   "execution_count": 7,
   "metadata": {},
   "outputs": [],
   "source": [
    "# Selection of the active space\n",
    "molecule.restrict_active_space(threshold_1=0.02, threshold_2=0.002)"
   ]
  },
  {
   "cell_type": "code",
   "execution_count": 8,
   "metadata": {
    "scrolled": true
   },
   "outputs": [
    {
     "data": {
      "text/plain": [
       "MoleculeInfo(\n",
       " - MolecularHamiltonian(\n",
       "    * constant_coeff : 0.9071609330057144\n",
       "    * integrals shape\n",
       "       ** one_body_integrals : (2, 2)\n",
       "       ** two_body_integrals : (2, 2, 2, 2)\n",
       "   )\n",
       " - n_electrons = 2\n",
       " - noons = [1.9490174404821416, 0.04680924206971765]\n",
       " - orbital energies = [-0.29198190623310005, 0.005847259432339362]\n",
       ")"
      ]
     },
     "execution_count": 8,
     "metadata": {},
     "output_type": "execute_result"
    }
   ],
   "source": [
    "molecule"
   ]
  },
  {
   "cell_type": "markdown",
   "metadata": {
    "slideshow": {
     "slide_type": "slide"
    }
   },
   "source": [
    "## Computation of cluster operators $T$ and good guess $\\vec{\\theta}_0$\n",
    "\n",
    "We construct the cluster operators (``cluster_ops``) $\\hat{T}(\\vec{\\theta})$, as well as a good starting parameter $\\vec{\\theta}$ (based on the second order Møller-Plesset perturbation theory)."
   ]
  },
  {
   "cell_type": "code",
   "execution_count": 9,
   "metadata": {
    "slideshow": {
     "slide_type": "fragment"
    }
   },
   "outputs": [],
   "source": [
    "from qat.fermion.chemistry.ucc import guess_init_params, get_hf_ket, get_cluster_ops\n",
    "\n",
    "# Compute the cluster operators\n",
    "cluster_ops = get_cluster_ops(molecule.n_electrons, noons=molecule.noons)"
   ]
  },
  {
   "cell_type": "code",
   "execution_count": 10,
   "metadata": {
    "scrolled": true
   },
   "outputs": [
    {
     "name": "stdout",
     "output_type": "stream",
     "text": [
      "List of initial parameters : [0, 0, 0.19640341508488024]\n"
     ]
    }
   ],
   "source": [
    "# Computation of the initial  parameters\n",
    "theta_list = guess_init_params(\n",
    "    molecule.two_body_integrals,\n",
    "    molecule.n_electrons,\n",
    "    molecule.orbital_energies,\n",
    ")\n",
    "\n",
    "print(f\"List of initial parameters : {theta_list}\")"
   ]
  },
  {
   "cell_type": "code",
   "execution_count": 11,
   "metadata": {
    "scrolled": true
   },
   "outputs": [
    {
     "name": "stdout",
     "output_type": "stream",
     "text": [
      "Initial Hartree-Fock state : 12\n"
     ]
    }
   ],
   "source": [
    "# Define the initial Hartree-Fock state\n",
    "ket_hf_init = get_hf_ket(molecule.n_electrons, nqbits=molecule.nqbits)\n",
    "print(f\"Initial Hartree-Fock state : {ket_hf_init}\")"
   ]
  },
  {
   "cell_type": "markdown",
   "metadata": {
    "slideshow": {
     "slide_type": "slide"
    },
    "tags": []
   },
   "source": [
    "## Encode to qubits: Fermion-spin transformation\n",
    "\n",
    "We transform the fermionic operators to spin (or qubit) space. In this example we choose the Bravyi-Kitaev transform."
   ]
  },
  {
   "cell_type": "code",
   "execution_count": 12,
   "metadata": {
    "slideshow": {
     "slide_type": "fragment"
    }
   },
   "outputs": [],
   "source": [
    "from qat.fermion.transforms import transform_to_bk_basis\n",
    "\n",
    "# Compute the ElectronicStructureHamiltonian\n",
    "H_active = molecule.hamiltonian.get_electronic_hamiltonian()\n",
    "\n",
    "# Transform the ElectronicStructureHamiltonian into a spin Hamiltonian\n",
    "H_active_sp = transform_to_bk_basis(H_active)"
   ]
  },
  {
   "cell_type": "code",
   "execution_count": 13,
   "metadata": {
    "slideshow": {
     "slide_type": "fragment"
    }
   },
   "outputs": [],
   "source": [
    "from qat.fermion.transforms import recode_integer, get_bk_code\n",
    "\n",
    "# Express the cluster operator in spin terms\n",
    "cluster_ops_sp = [transform_to_bk_basis(t_o) for t_o in cluster_ops]\n",
    "\n",
    "# Encoding the initial state to new encoding\n",
    "hf_init_sp = recode_integer(ket_hf_init, get_bk_code(H_active_sp.nbqbits))"
   ]
  },
  {
   "cell_type": "markdown",
   "metadata": {},
   "source": [
    "## Trotterize the Hamiltonian to get the parameterized circuit to optimize"
   ]
  },
  {
   "cell_type": "code",
   "execution_count": 14,
   "metadata": {},
   "outputs": [],
   "source": [
    "from qat.lang.AQASM import Program, X\n",
    "from qat.fermion.trotterisation import make_trotterisation_routine\n",
    "\n",
    "nqbits = cluster_ops_sp[0].nbqbits\n",
    "\n",
    "prog = Program()\n",
    "reg = prog.qalloc(nqbits)\n",
    "\n",
    "# Initialize the Hartree-Fock state into the Program\n",
    "for j, char in enumerate(format(hf_init_sp, \"0\" + str(nqbits) + \"b\")):\n",
    "    if char == \"1\":\n",
    "        prog.apply(X, reg[j])\n",
    "\n",
    "# Define the parameters to optimize\n",
    "theta = [prog.new_var(float, \"\\\\theta_{%s}\" % i) for i in range(len(cluster_ops))]\n",
    "\n",
    "# Define the parameterized Hamiltonian\n",
    "hamiltonian = sum([th * T for th, T in zip(theta, cluster_ops_sp)])\n",
    "\n",
    "# Trotterize the Hamiltonian (with 1 trotter step)\n",
    "qrout = make_trotterisation_routine(hamiltonian, n_trotter_steps=1, final_time=1)\n",
    "\n",
    "prog.apply(qrout, reg)\n",
    "circ = prog.to_circ()"
   ]
  },
  {
   "cell_type": "markdown",
   "metadata": {},
   "source": [
    "Alternatively, you can simply use the `construct_ucc_ansatz` fonction:"
   ]
  },
  {
   "cell_type": "code",
   "execution_count": 15,
   "metadata": {
    "slideshow": {
     "slide_type": "fragment"
    }
   },
   "outputs": [],
   "source": [
    "from qat.fermion.chemistry.ucc import construct_ucc_ansatz\n",
    "\n",
    "prog = construct_ucc_ansatz(cluster_ops_sp, hf_init_sp, n_steps=1)\n",
    "circ = prog.to_circ()"
   ]
  },
  {
   "cell_type": "code",
   "execution_count": 16,
   "metadata": {},
   "outputs": [
    {
     "data": {
      "image/png": "[encoded data removed]",
      "text/plain": [
       "<IPython.core.display.Image object>"
      ]
     },
     "metadata": {},
     "output_type": "display_data"
    }
   ],
   "source": [
    "circ.display()"
   ]
  },
  {
   "cell_type": "markdown",
   "metadata": {
    "slideshow": {
     "slide_type": "slide"
    },
    "tags": []
   },
   "source": [
    "## Optimize the angles of $\\psi(\\vec{\\theta})$ for a given QPU\n",
    "\n",
    "We can now use the QLM's variational plugins to perform the VQE optimization."
   ]
  },
  {
   "cell_type": "code",
   "execution_count": 17,
   "metadata": {
    "slideshow": {
     "slide_type": "fragment"
    }
   },
   "outputs": [
    {
     "name": "stdout",
     "output_type": "stream",
     "text": [
      "Minimum energy = -7.995936082863967\n",
      "FCI energy: -7.998354311186427\n"
     ]
    }
   ],
   "source": [
    "job = circ.to_job(job_type=\"OBS\", observable=H_active_sp, nbshots=0)\n",
    "\n",
    "from qat.qpus import get_default_qpu\n",
    "from qat.vsolve.optimize import ScipyMinimizePlugin\n",
    "\n",
    "optimizer_scipy = ScipyMinimizePlugin(method=\"COBYLA\", tol=1e-3, options={\"maxiter\": 1000}, x0=theta_list)\n",
    "qpu = optimizer_scipy | get_default_qpu()\n",
    "result = qpu.submit(job)\n",
    "\n",
    "print(\"Minimum energy =\", result.value)\n",
    "print(\"FCI energy:\", info[\"FCI\"])"
   ]
  },
  {
   "cell_type": "code",
   "execution_count": 18,
   "metadata": {
    "slideshow": {
     "slide_type": "fragment"
    }
   },
   "outputs": [
    {
     "data": {
      "image/png": "[encoded data removed]",
      "text/plain": [
       "<Figure size 640x480 with 1 Axes>"
      ]
     },
     "metadata": {},
     "output_type": "display_data"
    }
   ],
   "source": [
    "%matplotlib inline\n",
    "import matplotlib.pyplot as plt\n",
    "\n",
    "plt.plot(eval(result.meta_data[\"optimization_trace\"]), label=\"UCCSD-VQE\", lw=3)\n",
    "plt.plot(\n",
    "    [info[\"FCI\"] for _ in range(len(eval(result.meta_data[\"optimization_trace\"])))],\n",
    "    \"--k\",\n",
    "    label=\"FCI\",\n",
    ")\n",
    "plt.legend(loc=\"best\")\n",
    "plt.xlabel(\"Steps\")\n",
    "plt.ylabel(\"Energy\")\n",
    "plt.grid()"
   ]
  },
  {
   "cell_type": "markdown",
   "metadata": {},
   "source": [
    "# Solving $LiH$ using ADAPT-VQE plugin\n",
    "\n",
    "We can use the **ADAPT-VQE** plugin to generate iteratively the ansatz which minimizes the energy. Assuming we have our Hamiltonian in the selected active space (`H_active`), we need to initialize the circuit with the corresponding Hartree-Fock state.\n",
    "\n",
    "The plugin `AdaptVQEPlugin` generates automatically the ansatz, which needs to be optimized using an optimizer. Here, we will use once again `ScipyMinimizePlugin`, coupled to the QPU."
   ]
  },
  {
   "cell_type": "code",
   "execution_count": 19,
   "metadata": {},
   "outputs": [
    {
     "data": {
      "application/vnd.jupyter.widget-view+json": {
       "model_id": "c8cfe8331acf46b09792ce2c35aa120f",
       "version_major": 2,
       "version_minor": 0
      },
      "text/plain": [
       "Computing commutators...:   0%|          | 0/3 [00:00<?, ?it/s]"
      ]
     },
     "metadata": {},
     "output_type": "display_data"
    },
    {
     "data": {
      "application/vnd.jupyter.widget-view+json": {
       "model_id": "963fc634656846f2a5ec007b0d016f0d",
       "version_major": 2,
       "version_minor": 0
      },
      "text/plain": [
       "  0%|          | 0/15 [00:00<?, ?it/s]"
      ]
     },
     "metadata": {},
     "output_type": "display_data"
    },
    {
     "name": "stderr",
     "output_type": "stream",
     "text": [
      "/tmp/ipykernel_72872/3176836110.py:25: UserWarning: All energy gradients are equal to zero for given operator pool. Ending calculation.\n",
      "  result_adapt = stack.submit(job)\n"
     ]
    }
   ],
   "source": [
    "from qat.plugins import AdaptVQEPlugin\n",
    "\n",
    "# Initialize a Program\n",
    "prog = Program()\n",
    "reg = prog.qalloc(H_active_sp.nbqbits)\n",
    "\n",
    "# Define the circuit which prepares a Hartree-Fock state\n",
    "for j, char in enumerate(format(hf_init_sp, \"0\" + str(H_active_sp.nbqbits) + \"b\")):\n",
    "    if char == \"1\":\n",
    "        prog.apply(X, reg[j])\n",
    "\n",
    "circuit = prog.to_circ()\n",
    "\n",
    "# We have the variational Job we need to optimize\n",
    "job = circuit.to_job(observable=H_active_sp)\n",
    "\n",
    "# We define the stack...\n",
    "adaptvqe_plugin = AdaptVQEPlugin(cluster_ops_sp, n_iterations=15, early_stopper=1e-6)\n",
    "optimizer = ScipyMinimizePlugin(method=\"COBYLA\", tol=1e-3, options={\"maxiter\": 200}, x0=theta_list)\n",
    "qpu = get_default_qpu()\n",
    "\n",
    "stack = adaptvqe_plugin | optimizer | qpu\n",
    "\n",
    "# ... and submit the job\n",
    "result_adapt = stack.submit(job)"
   ]
  },
  {
   "cell_type": "markdown",
   "metadata": {},
   "source": [
    "Let us plot the result and compare the convergence with the previous optimization."
   ]
  },
  {
   "cell_type": "code",
   "execution_count": 20,
   "metadata": {
    "slideshow": {
     "slide_type": "fragment"
    }
   },
   "outputs": [
    {
     "data": {
      "image/png": "[encoded data removed]",
      "text/plain": [
       "<Figure size 640x480 with 1 Axes>"
      ]
     },
     "metadata": {},
     "output_type": "display_data"
    }
   ],
   "source": [
    "%matplotlib inline\n",
    "import matplotlib.pyplot as plt\n",
    "\n",
    "plt.plot(eval(result.meta_data[\"optimization_trace\"]), label=\"VQE\", lw=3)\n",
    "plt.plot(eval(result_adapt.meta_data[\"optimization_trace\"]), label=\"ADAPT-VQE\", lw=3)\n",
    "plt.plot(\n",
    "    [info[\"FCI\"] for _ in enumerate(eval(result.meta_data[\"optimization_trace\"]))],\n",
    "    \"--k\",\n",
    "    label=\"FCI\",\n",
    ")\n",
    "plt.legend(loc=\"best\")\n",
    "plt.xlabel(\"Steps\")\n",
    "plt.ylabel(\"Energy\")\n",
    "plt.grid()"
   ]
  },
  {
   "cell_type": "markdown",
   "metadata": {},
   "source": [
    "## Annex : Active space selection using only the `MolecularHamiltonian`class"
   ]
  },
  {
   "cell_type": "markdown",
   "metadata": {},
   "source": [
    "To explain better what is happening under the hood, let us select the active space of the $LiH$ molecule without using the `MoleculeInfo` class. Let us assume we already used `perform_pyscf_computation` to compute the molecule properties we need."
   ]
  },
  {
   "cell_type": "code",
   "execution_count": 21,
   "metadata": {},
   "outputs": [
    {
     "name": "stdout",
     "output_type": "stream",
     "text": [
      " MolecularHamiltonian(\n",
      " - constant_coeff : 0.9071609330057144\n",
      " - integrals shape\n",
      "    * one_body_integrals : (11, 11)\n",
      "    * two_body_integrals : (11, 11, 11, 11)\n",
      ")\n"
     ]
    }
   ],
   "source": [
    "# We define the molecular hamiltonian\n",
    "mol_h = MolecularHamiltonian(one_body_integrals, two_body_integrals, nuclear_repulsion)\n",
    "\n",
    "print(mol_h)\n",
    "\n",
    "# We compute the natural orbitals occupation numbers and the basis transformation matrix\n",
    "noons, basis_change = np.linalg.eigh(rdm1)\n",
    "\n",
    "# Reverse the noons order for them to be in decreasing order...\n",
    "noons = list(reversed(noons))\n",
    "\n",
    "# ... and flip the basis as well\n",
    "basis_change = np.flip(basis_change, axis=1)"
   ]
  },
  {
   "cell_type": "markdown",
   "metadata": {},
   "source": [
    "We use `MolecularHamiltonian.select_active_space()` to select an active space. This will update the body integrals as well as the constant coefficient in the `MolecularHamiltonian`class (here `mol_h_active`)."
   ]
  },
  {
   "cell_type": "code",
   "execution_count": 22,
   "metadata": {},
   "outputs": [
    {
     "name": "stdout",
     "output_type": "stream",
     "text": [
      " MolecularHamiltonian(\n",
      " - constant_coeff : 0.9071609330057144\n",
      " - integrals shape\n",
      "    * one_body_integrals : (2, 2)\n",
      "    * two_body_integrals : (2, 2, 2, 2)\n",
      ")\n",
      "We reduced the number of qubits from 22 to only 4 !\n"
     ]
    }
   ],
   "source": [
    "# Active space selection\n",
    "mol_h_active, active_indices, occupied_indices = mol_h_new_basis.select_active_space(\n",
    "    noons=noons, n_electrons=n_electrons, threshold_1=0.02, threshold_2=0.002\n",
    ")\n",
    "\n",
    "print(mol_h_active)\n",
    "\n",
    "# The number of qubits can be computed from the one body integral in the active space:\n",
    "nqbits = mol_h_active.one_body_integrals.shape[0] * 2\n",
    "\n",
    "print(f\"We reduced the number of qubits from {mol_h.one_body_integrals.shape[0] * 2} to only {nqbits} !\")"
   ]
  },
  {
   "cell_type": "markdown",
   "metadata": {},
   "source": [
    "We get the `active_indices` and the `occupied_indices`. The `MoleculeInfo` takes care of everything for us by overwriting the correct attributes with their updated **active** counterparts. But since we are not going to use it, we need to do it manually:"
   ]
  },
  {
   "cell_type": "code",
   "execution_count": 23,
   "metadata": {},
   "outputs": [],
   "source": [
    "active_noons = [noons[idx] for idx in active_indices]\n",
    "active_orbital_energies = [orbital_energies[idx] for idx in active_indices]\n",
    "active_n_electrons = n_electrons - 2 * len(occupied_indices)"
   ]
  },
  {
   "cell_type": "markdown",
   "metadata": {},
   "source": [
    "We can then do as usual, by calling directly the functions we need. For example we can guess the optimal initial parameter:"
   ]
  },
  {
   "cell_type": "code",
   "execution_count": 24,
   "metadata": {
    "scrolled": true
   },
   "outputs": [
    {
     "name": "stdout",
     "output_type": "stream",
     "text": [
      "List of initial parameters : [0, 0, 0.19640341508488024]\n",
      "Initial Hartree-Fock state : 12\n"
     ]
    }
   ],
   "source": [
    "# Computation of the initial parameters\n",
    "theta_list = guess_init_params(\n",
    "    mol_h_active.two_body_integrals,\n",
    "    active_n_electrons,\n",
    "    active_orbital_energies,\n",
    ")\n",
    "\n",
    "print(f\"List of initial parameters : {theta_list}\")\n",
    "\n",
    "# Get the initial Hartree-Fock state\n",
    "ket_hf_init = get_hf_ket(active_n_electrons, nqbits=nqbits)\n",
    "\n",
    "print(f\"Initial Hartree-Fock state : {ket_hf_init}\")\n",
    "\n",
    "# Compute the cluster operators\n",
    "cluster_ops = get_cluster_ops(molecule.n_electrons, noons=active_noons)"
   ]
  },
  {
   "cell_type": "markdown",
   "metadata": {},
   "source": [
    "You are then free to convert the `MolecularHamiltonian` to an `ElectronicStructureHamiltonian` just as in the `MoleculeInfo`part by doing:"
   ]
  },
  {
   "cell_type": "code",
   "execution_count": 25,
   "metadata": {},
   "outputs": [],
   "source": [
    "# Get the ElectronicStructureHamiltonian\n",
    "H_active = mol_h_active.get_electronic_hamiltonian()"
   ]
  },
  {
   "cell_type": "markdown",
   "metadata": {
    "slideshow": {
     "slide_type": "slide"
    },
    "tags": []
   },
   "source": [
    "## Further questions to be investigated:\n",
    "\n",
    "This notebook only tackles certain aspects of performing chemistry on the QLM. Other questions that you can deal with using other QLM tools include:\n",
    "\n",
    "- what are the effects of noise on the VQE ?\n",
    "- how do noisy and noiseless VQE compare ?\n",
    "- what is the effect of the QPU connectivity constraints (e.g. IBM QX5 chip) ? \n",
    "- how to reduce the gate count given a topology?\n",
    "- how to rewrite a circuit for another gate set (say, for ions)?\n",
    "- how to mitigate noise effects? (zero-noise extrapolation...)"
   ]
  }
 ],
 "metadata": {
  "authors": [
   "Maxime Oliva"
  ],
  "celltoolbar": "Diaporama",
  "documentation-tags": {
   "icon": "issue-draft"
  },
  "kernelspec": {
   "display_name": "Python 3 (ipykernel)",
   "language": "python",
   "name": "python3"
  },
  "language_info": {
   "codemirror_mode": {
    "name": "ipython",
    "version": 3
   },
   "file_extension": ".py",
   "mimetype": "text/x-python",
   "name": "python",
   "nbconvert_exporter": "python",
   "pygments_lexer": "ipython3",
   "version": "3.9.7"
  },
  "vscode": {
   "interpreter": {
    "hash": "e7370f93d1d0cde622a1f8e1c04877d8463912d04d973331ad4851f04de6915a"
   }
  }
 },
 "nbformat": 4,
 "nbformat_minor": 4
}
