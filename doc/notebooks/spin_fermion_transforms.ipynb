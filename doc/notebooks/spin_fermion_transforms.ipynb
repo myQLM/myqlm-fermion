{
 "cells": [
  {
   "cell_type": "markdown",
   "metadata": {
    "tags": []
   },
   "source": [
    "## Spin fermion transforms\n",
    "\n",
    "Chemistry problems involve electrons, which are fermions, while quantum computers work in the language of qubits (or, equivalently, spins or two-level systems).\n",
    "\n",
    "The ``qat.fermion`` module of QLM comes with a few tools to go from the fermionic representation to the spin representation. In particular, three transformations are implemented:\n",
    "\n",
    "- Jordan-Wigner transformation,\n",
    "- parity transformation,\n",
    "- Bravyi-Kitaev transformation.\n",
    "\n",
    "\n",
    "Let us look at a simple example with a single $c^\\dagger_1$ operator acting on 3 qubits:"
   ]
  },
  {
   "cell_type": "code",
   "execution_count": 1,
   "metadata": {},
   "outputs": [
    {
     "name": "stdout",
     "output_type": "stream",
     "text": [
      "spin Hamiltonian= 0.5 * (ZX|[0, 1]) +\n",
      "-0.5j * (ZY|[0, 1])\n",
      "spin Hamiltonian= 0.5 * (ZXX|[0, 1, 2]) +\n",
      "-0.5j * (YX|[1, 2])\n",
      "spin Hamiltonian= 0.5 * (ZXX|[0, 1, 2]) +\n",
      "-0.5j * (YX|[1, 2])\n"
     ]
    }
   ],
   "source": [
    "from qat.core import Term\n",
    "from qat.fermion.transforms import transform_to_jw_basis\n",
    "from qat.fermion.transforms import transform_to_parity_basis\n",
    "from qat.fermion.transforms import transform_to_bk_basis\n",
    "from qat.fermion.hamiltonians import Hamiltonian\n",
    "\n",
    "nqbits = 3\n",
    "H_f = Hamiltonian(nqbits, [Term(1.0, \"C\", [1])])\n",
    "\n",
    "transforms = [transform_to_jw_basis, transform_to_parity_basis, transform_to_bk_basis]\n",
    "\n",
    "for transform in transforms:\n",
    "    hamilt_s = transform(H_f)\n",
    "    print(\"spin Hamiltonian=\", hamilt_s)"
   ]
  },
  {
   "cell_type": "markdown",
   "metadata": {},
   "source": [
    "You can also transform Hamiltonians of the ``ElectronicStructureHamiltonian`` type."
   ]
  },
  {
   "cell_type": "code",
   "execution_count": 2,
   "metadata": {},
   "outputs": [
    {
     "name": "stdout",
     "output_type": "stream",
     "text": [
      "\n",
      " Spin Hamiltonian= (0.22499999999999998+0j) * I^4 +\n",
      "(0.5+0j) * (XX|[0, 1]) +\n",
      "(0.5+0j) * (YY|[0, 1]) +\n",
      "(0.5+0j) * (XX|[1, 2]) +\n",
      "(0.5+0j) * (YY|[1, 2]) +\n",
      "(0.5+0j) * (XX|[2, 3]) +\n",
      "(0.5+0j) * (YY|[2, 3]) +\n",
      "(-0.22499999999999998+0j) * (Z|[0]) +\n",
      "(-0.15+0j) * (Z|[1]) +\n",
      "(0.15+0j) * (ZZ|[0, 1]) +\n",
      "(-0.075+0j) * (Z|[2]) +\n",
      "(0.075+0j) * (ZZ|[0, 2])\n",
      "\n",
      " Spin Hamiltonian= (0.22499999999999998+0j) * I^4 +\n",
      "(0.5+0j) * (X|[0]) +\n",
      "(-0.5+0j) * (XZ|[0, 1]) +\n",
      "(0.5+0j) * (X|[1]) +\n",
      "(-0.5+0j) * (ZXZ|[0, 1, 2]) +\n",
      "(0.5+0j) * (X|[2]) +\n",
      "(-0.5+0j) * (ZXZ|[1, 2, 3]) +\n",
      "(-0.22499999999999998+0j) * (Z|[0]) +\n",
      "(-0.15+0j) * (ZZ|[0, 1]) +\n",
      "(0.15+0j) * (Z|[1]) +\n",
      "(-0.075+0j) * (ZZ|[1, 2]) +\n",
      "(0.075+0j) * (ZZZ|[0, 1, 2])\n",
      "\n",
      " Spin Hamiltonian= (0.22499999999999998+0j) * I^4 +\n",
      "(0.5+0j) * (X|[0]) +\n",
      "(-0.5+0j) * (XZ|[0, 1]) +\n",
      "(0.5+0j) * (XX|[1, 2]) +\n",
      "(0.5+0j) * (ZYY|[0, 1, 2]) +\n",
      "(0.5+0j) * (X|[2]) +\n",
      "(-0.5+0j) * (ZXZ|[1, 2, 3]) +\n",
      "(-0.22499999999999998+0j) * (Z|[0]) +\n",
      "(-0.15+0j) * (ZZ|[0, 1]) +\n",
      "(0.15+0j) * (Z|[1]) +\n",
      "(-0.075+0j) * (Z|[2]) +\n",
      "(0.075+0j) * (ZZ|[0, 2])\n"
     ]
    }
   ],
   "source": [
    "import numpy as np\n",
    "\n",
    "from qat.fermion.hamiltonians import ElectronicStructureHamiltonian\n",
    "\n",
    "hpq = np.array(\n",
    "    [\n",
    "        [0.0, 1.0, 0.0, 0.0],\n",
    "        [1.0, 0.0, 1.0, 0.0],\n",
    "        [0.0, 1.0, 0.0, 1.0],\n",
    "        [0.0, 0.0, 1.0, 0.0],\n",
    "    ]\n",
    ")\n",
    "\n",
    "hpqrs = np.zeros((4, 4, 4, 4))\n",
    "hpqrs[0, 1, 1, 0] = 0.6\n",
    "hpqrs[1, 0, 0, 1] = 0.6\n",
    "hpqrs[2, 0, 0, 2] = 0.6\n",
    "\n",
    "H_f = ElectronicStructureHamiltonian(hpq, hpqrs)\n",
    "transforms = [transform_to_jw_basis, transform_to_parity_basis, transform_to_bk_basis]\n",
    "\n",
    "for transform in transforms:\n",
    "    hamilt_s = transform(H_f)\n",
    "    print(\"\\n Spin Hamiltonian=\", hamilt_s)"
   ]
  },
  {
   "cell_type": "code",
   "execution_count": null,
   "metadata": {},
   "outputs": [],
   "source": []
  }
 ],
 "metadata": {
  "authors": [
   "Thomas Ayral",
   "Satyanarayana Bade"
  ],
  "kernelspec": {
   "display_name": "Python 3 (ipykernel)",
   "language": "python",
   "name": "python3"
  },
  "language_info": {
   "codemirror_mode": {
    "name": "ipython",
    "version": 3
   },
   "file_extension": ".py",
   "mimetype": "text/x-python",
   "name": "python",
   "nbconvert_exporter": "python",
   "pygments_lexer": "ipython3",
   "version": "3.9.2"
  }
 },
 "nbformat": 4,
 "nbformat_minor": 4
}
