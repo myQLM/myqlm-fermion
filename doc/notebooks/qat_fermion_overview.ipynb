{
 "cells": [
  {
   "cell_type": "markdown",
   "metadata": {},
   "source": [
    "# Running digital quantum simulations for spin and fermionic systems\n",
    "\n",
    "\n",
    "We provide here a serie of Jupyter notebooks which serve as examples of `qat.fermion` capabilities.\n",
    "\n",
    "\n",
    "- [Spin-fermions transforms](./qat_fermion_spin_fermion_transforms.ipynb)\n",
    "- [Variational Quantum Eigensolver for fermions](./qat_fermion_vqe_hubbard.ipynb)\n",
    "- [Quantum Phase Estimation on the Hubbard molecule](./qat_fermion_qpe_hubbard_molecule.ipynb)\n",
    "- [VQE for a H2 molecule using the UCC ansatz](./qat_fermion_vqe_ucc_example_1_h2.ipynb)\n",
    "- [VQE for a LiH molecule using the UCC ansatz](./qat_fermion_vqe_ucc_example_2_lih.ipynb)\n",
    "- [Advanced VQE: Quantum Subspace Expansion](./qat_fermion_quantum_subspace_expansion_h2.ipynb)"
   ]
  }
 ],
 "metadata": {
  "authors": [
   "Jerome Pioux"
  ],
  "kernelspec": {
   "display_name": "Python 3 (ipykernel)",
   "language": "python",
   "name": "python3"
  },
  "language_info": {
   "codemirror_mode": {
    "name": "ipython",
    "version": 3
   },
   "file_extension": ".py",
   "mimetype": "text/x-python",
   "name": "python",
   "nbconvert_exporter": "python",
   "pygments_lexer": "ipython3",
   "version": "3.9.2"
  }
 },
 "nbformat": 4,
 "nbformat_minor": 4
}
