{
 "cells": [
  {
   "cell_type": "markdown",
   "metadata": {},
   "source": [
    "# PySCF tutorial\n",
    "\n",
    "Here we give a small tutorial on how to use pySCF. Please refer to the online pySCF documentation for a full reference.\n",
    "\n",
    "Note that you need to install pySCF on your machine in order to be able to run the code below.\n"
   ]
  },
  {
   "cell_type": "code",
   "execution_count": null,
   "metadata": {},
   "outputs": [],
   "source": [
    "# %load qat/dqs/qchem/pyscf_tools.py\n",
    "from functools import reduce\n",
    "import numpy as np\n",
    "\n",
    "from pyscf import gto, scf, fci, mp, ci\n",
    "from pyscf import ao2mo\n",
    "\n",
    "def compute_integrals(molecule, mo_coeff, hcore):\n",
    "    \"\"\"\n",
    "    for a given molecule, compute 1-body and 2-body integrals\n",
    "    \"\"\"\n",
    "    ### no spin dof\n",
    "    one_electron_compressed = reduce(np.dot, (mo_coeff.T, hcore, mo_coeff))\n",
    "    n_orbitals = mo_coeff.shape[1]\n",
    "    one_electron_integrals = one_electron_compressed.reshape(n_orbitals, n_orbitals).astype(float)\n",
    "    two_electron_compressed = ao2mo.kernel(molecule, mo_coeff)\n",
    "    #1: no permutation symmetry\n",
    "    two_electron_integrals = ao2mo.restore(1, two_electron_compressed, n_orbitals)\n",
    "    two_electron_integrals = np.asarray(two_electron_integrals.transpose(0, 2, 3, 1), order='C')\n",
    "    return one_electron_integrals, two_electron_integrals\n",
    "\n",
    "\n",
    "def perform_pyscf_computation(geometry, basis, spin, charge, verbose=False):\n",
    "    #define molecule in pySCF format\n",
    "    molecule = gto.Mole()\n",
    "    molecule.atom = geometry\n",
    "    molecule.basis = basis\n",
    "    molecule.spin = spin\n",
    "    molecule.charge = charge\n",
    "    molecule.symmetry = False\n",
    "    molecule.build()\n",
    "\n",
    "    # Run SCF.\n",
    "    scf_worker = scf.ROHF(molecule) if molecule.spin else scf.RHF(molecule)\n",
    "    scf_worker.verbose = 0\n",
    "    scf_worker.run()\n",
    "    hf_energy = float(scf_worker.e_tot)\n",
    "\n",
    "    if verbose:\n",
    "        print(\"HF energy=\", hf_energy)\n",
    "\n",
    "    one_body_integrals, two_body_integrals = compute_integrals(molecule,\n",
    "                                                               scf_worker.mo_coeff,\n",
    "                                                               scf_worker.get_hcore())\n",
    "\n",
    "    nuclear_repulsion = float(molecule.energy_nuc())\n",
    "    orbital_energies = scf_worker.mo_energy.astype(float)\n",
    "    nels = molecule.nelectron\n",
    "\n",
    "    # Run CISD\n",
    "    cisd = ci.CISD(scf_worker)\n",
    "    cisd.verbose = 0\n",
    "    cisd.run()\n",
    "    rdm1 = cisd.make_rdm1()\n",
    "\n",
    "    # Run MP2.\n",
    "    #note: molecule.spin must be 0\n",
    "    mp2 = mp.MP2(scf_worker)\n",
    "    mp2.verbose = 0\n",
    "    mp2.run()\n",
    "    mp2_energy = scf_worker.e_tot + mp2.e_corr\n",
    "\n",
    "    if verbose:\n",
    "        print(\"MP2 energy=\", mp2_energy)\n",
    "\n",
    "    # Run FCI\n",
    "    fci_worker = fci.FCI(molecule, scf_worker.mo_coeff)\n",
    "    fci_worker.verbose = 0\n",
    "    fci_energy = fci_worker.kernel()[0]\n",
    "\n",
    "    if verbose:\n",
    "        print(\"FCI energy=\", fci_energy)\n",
    "\n",
    "\n",
    "    return rdm1, orbital_energies, nuclear_repulsion, nels, one_body_integrals,\\\n",
    "           two_body_integrals\n"
   ]
  },
  {
   "cell_type": "markdown",
   "metadata": {
    "collapsed": true
   },
   "source": [
    "We provide a simple wrapper that carries out these steps in ``qat.dqs.qchem.pyscf_tools``: "
   ]
  },
  {
   "cell_type": "code",
   "execution_count": null,
   "metadata": {},
   "outputs": [],
   "source": [
    "import numpy as np\n",
    "from qat.dqs.qchem.pyscf_tools import perform_pyscf_computation\n",
    "geometry = [('H', (0., 0., 0.)), ('H', (0., 0., 0.7414))]\n",
    "basis = \"sto-3g\"\n",
    "#geometry = [('Li', (0., 0., 0.)), ('H', (0., 0., 1.75))]\n",
    "#basis = \"6-31g\"\n",
    "\n",
    "rdm1, orbital_energies, nuclear_repulsion,\\\n",
    "nels, one_body_integrals, two_body_integrals, info = perform_pyscf_computation(geometry=geometry, basis=basis, spin=0,\n",
    "                                                                               charge=0, verbose=True)"
   ]
  },
  {
   "cell_type": "markdown",
   "metadata": {},
   "source": [
    "These outputs can be used as a starting point for a VQE computation, see [VQE on a H2 molecule](./vqe_ucc_h2.ipynb)."
   ]
  }
 ],
 "metadata": {
  "kernelspec": {
   "display_name": "Python 3",
   "language": "python",
   "name": "python3"
  },
  "language_info": {
   "codemirror_mode": {
    "name": "ipython",
    "version": 3
   },
   "file_extension": ".py",
   "mimetype": "text/x-python",
   "name": "python",
   "nbconvert_exporter": "python",
   "pygments_lexer": "ipython3",
   "version": "3.6.8"
  }
 },
 "nbformat": 4,
 "nbformat_minor": 2
}
