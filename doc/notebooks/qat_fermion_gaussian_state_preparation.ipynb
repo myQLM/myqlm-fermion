{
 "cells": [
  {
   "cell_type": "markdown",
   "id": "23868b3c-85cb-4c8c-be47-b9ca3d45acaa",
   "metadata": {},
   "source": [
    "# Leveraging Givens rotations for non-interacting ground state preparation and educated VQE initialization\n",
    "\n",
    "In this notebook, we show how to prepare the ground state of a non-interacting Hamiltonian ($h_{pqrs} = 0$) on a digital quantum platform using an instance of the LDCA circuit (in its 1-cycle version) that only performs so-called _Givens rotations_. The rotations' angles are determined classically, with a gradient descent. \n",
    "\n",
    "As a side note, the Givens rotations angles may be used to initialize the LDCA circuit for a variational preparation of the ground state of the interacting Hamiltonian."
   ]
  },
  {
   "cell_type": "code",
   "execution_count": 1,
   "id": "bd8ed17b-97b4-4e7a-a88a-07bb7b0eeb9e",
   "metadata": {},
   "outputs": [],
   "source": [
    "import numpy as np\n",
    "import copy\n",
    "\n",
    "from qat.fermion.hamiltonians import make_hubbard_model, FermionHamiltonian\n",
    "from qat.fermion.matchgates import get_nn_rotation_angles\n",
    "from qat.fermion.circuits import make_ldca_circ\n",
    "from qat.fermion.transforms import transform_to_jw_basis\n",
    "\n",
    "from qat.qpus import get_default_qpu"
   ]
  },
  {
   "cell_type": "markdown",
   "id": "3fbc9097-0857-4192-8c3f-585aee49bc78",
   "metadata": {},
   "source": [
    "## 1. Definition of the model Hamiltonian"
   ]
  },
  {
   "cell_type": "markdown",
   "id": "3bfb9630-8d60-4a03-9759-aceab105927d",
   "metadata": {},
   "source": [
    "We define a Hubbard model:"
   ]
  },
  {
   "cell_type": "code",
   "execution_count": 2,
   "id": "2a8d5823-5a22-4aa7-a271-082dfdf3c642",
   "metadata": {},
   "outputs": [
    {
     "name": "stdout",
     "output_type": "stream",
     "text": [
      "Ground state energy of the Hubbard dimer Hamiltonian: -2.1180339887498945\n"
     ]
    }
   ],
   "source": [
    "# Define an interacting Hubbard (here, Hubbard dimer)\n",
    "t_mat = 0.25*np.array([[1, 1], [1, 1]])\n",
    "U = 2\n",
    "mu = U/2 \n",
    "\n",
    "H = make_hubbard_model(t_mat, U, mu)\n",
    "\n",
    "eigvals = np.linalg.eigvalsh(H.get_matrix())\n",
    "print('Ground state energy of the Hubbard dimer Hamiltonian:', eigvals.min())"
   ]
  },
  {
   "cell_type": "markdown",
   "id": "e65ff587-12e0-4e30-8350-1c5cb374705a",
   "metadata": {},
   "source": [
    "Let us remove the interacting part of the Hamiltonian, and see how it affects its ground state energy:"
   ]
  },
  {
   "cell_type": "code",
   "execution_count": 3,
   "id": "6bd8b745-6342-4b1b-9967-17a17de83407",
   "metadata": {},
   "outputs": [
    {
     "name": "stdout",
     "output_type": "stream",
     "text": [
      "Ground state energy of the Hamiltonian without interaction: -4.0\n"
     ]
    }
   ],
   "source": [
    "non_interacting_H = copy.deepcopy(H)\n",
    "non_interacting_H.hpqrs = np.zeros(np.shape(H.hpqrs))\n",
    "\n",
    "eigvals = np.linalg.eigvalsh(non_interacting_H.get_matrix())\n",
    "print('Ground state energy of the Hamiltonian without interaction:', eigvals.min())"
   ]
  },
  {
   "cell_type": "markdown",
   "id": "83d6d818-21c8-4517-9d24-c81161f2f9ec",
   "metadata": {},
   "source": [
    "## 2. Preparation of the ground state of the non-interacting part"
   ]
  },
  {
   "cell_type": "markdown",
   "id": "0122239d-0a6d-4ea6-9fad-1a74c3b9ab88",
   "metadata": {},
   "source": [
    "The ground state of a non-interacting (=quadratic) Hamiltonian belongs to the class of so-called _gaussian states_. Such states are similar to well-known Slater determinants, except that they are not bound to have a fixed number of particles. Similarly to Slater determinants, they can be prepared easily by carrying out a suitable single-particle orbital rotation. Mathematically, such rotation can be decomposed into elementary _Givens rotations_.\n",
    "\n",
    "Let's calculate the Givens rotations' angles associated to the ground state of the non-interacting Hamiltonian defined previously:\n",
    "\n",
    "------\n",
    "(to discard?)\n",
    "Now, let us generate an LDCA circuit which prepares the ground state of the non-interacting Hamiltonian defined previously. The LDCA circuit is a generalization of a Gaussian state preparation circuit based on a quantum-gate implementation of the Givens rotations. The gaussian state preparation circuit corresponds to the 1-cycle LDCA circuit without the $R_{ZZ}$ gates."
   ]
  },
  {
   "cell_type": "code",
   "execution_count": 4,
   "id": "589b09f5-cb02-42ef-8342-0aa452554caa",
   "metadata": {},
   "outputs": [
    {
     "name": "stdout",
     "output_type": "stream",
     "text": [
      "Number of Givens rotation angles: 28\n"
     ]
    }
   ],
   "source": [
    "# Get the rotation angles that allow to reach the ground state of the non interacting hamiltonian\n",
    "givens_rotation_angles, _ = get_nn_rotation_angles(H.hpq)\n",
    "\n",
    "nb_angles = len(givens_rotation_angles)\n",
    "print('Number of Givens rotation angles:', nb_angles) "
   ]
  },
  {
   "cell_type": "markdown",
   "id": "dda7bc7f",
   "metadata": {},
   "source": [
    "Givens rotations can be translated into quantum routines, enabling for an on-chip preparation of the latter state. One simply has to use the _Low-Depth Circuit Ansatz_ (LDCA) [(Dallaire-Demers et al., 2018)](https://arxiv.org/abs/1801.01053) in its 1-cycle flavour: this ansatz elaborates on gaussian states preparation -- parametrized by the Givens angles -- to be able to reach a wider class of states, but upon setting its $R_{ZZ}$ gates' parameters to 0, it offers an exact preparation circuit for the state of interest. \n",
    "\n",
    "Let us construct the circuit and print its number of parameters:"
   ]
  },
  {
   "cell_type": "code",
   "execution_count": 5,
   "id": "e7a90a72-0df9-4b50-aab6-320d982f79e7",
   "metadata": {},
   "outputs": [
    {
     "name": "stdout",
     "output_type": "stream",
     "text": [
      "Number of parameters in 1-cycle LDCA circit on 4 qubits: 34\n",
      "\u001b)0\u001b7\u001b[?47h\u001b[1;24r\u001b[m\u001b[4l\u001b[H\u001b[2J\u001b[?1l\u001b>"
     ]
    },
    {
     "ename": "error",
     "evalue": "nocbreak() returned ERR",
     "output_type": "error",
     "traceback": [
      "\u001b[0;31m---------------------------------------------------------------------------\u001b[0m",
      "\u001b[0;31merror\u001b[0m                                     Traceback (most recent call last)",
      "\u001b[0;32m/usr/lib64/python3.9/curses/__init__.py\u001b[0m in \u001b[0;36mwrapper\u001b[0;34m(func, *args, **kwds)\u001b[0m\n\u001b[1;32m     77\u001b[0m         \u001b[0mnoecho\u001b[0m\u001b[0;34m(\u001b[0m\u001b[0;34m)\u001b[0m\u001b[0;34m\u001b[0m\u001b[0;34m\u001b[0m\u001b[0m\n\u001b[0;32m---> 78\u001b[0;31m         \u001b[0mcbreak\u001b[0m\u001b[0;34m(\u001b[0m\u001b[0;34m)\u001b[0m\u001b[0;34m\u001b[0m\u001b[0;34m\u001b[0m\u001b[0m\n\u001b[0m\u001b[1;32m     79\u001b[0m \u001b[0;34m\u001b[0m\u001b[0m\n",
      "\u001b[0;31merror\u001b[0m: cbreak() returned ERR",
      "\nDuring handling of the above exception, another exception occurred:\n",
      "\u001b[0;31merror\u001b[0m                                     Traceback (most recent call last)",
      "\u001b[0;32m/tmp/ipykernel_924258/903491379.py\u001b[0m in \u001b[0;36m<module>\u001b[0;34m\u001b[0m\n\u001b[1;32m      4\u001b[0m \u001b[0mprint\u001b[0m\u001b[0;34m(\u001b[0m\u001b[0;34m'Number of parameters in 1-cycle LDCA circit on 4 qubits:'\u001b[0m\u001b[0;34m,\u001b[0m \u001b[0mnb_ldca_params\u001b[0m\u001b[0;34m)\u001b[0m\u001b[0;34m\u001b[0m\u001b[0;34m\u001b[0m\u001b[0m\n\u001b[1;32m      5\u001b[0m \u001b[0;34m\u001b[0m\u001b[0m\n\u001b[0;32m----> 6\u001b[0;31m \u001b[0mcirc\u001b[0m\u001b[0;34m.\u001b[0m\u001b[0mdisplay\u001b[0m\u001b[0;34m(\u001b[0m\u001b[0;34m)\u001b[0m\u001b[0;34m\u001b[0m\u001b[0;34m\u001b[0m\u001b[0m\n\u001b[0m",
      "\u001b[0;32m~/.local/lib/python3.9/site-packages/qat/core/wrappers/circuit.so\u001b[0m in \u001b[0;36mqat.core.wrappers.circuit.Circuit.display\u001b[0;34m()\u001b[0m\n",
      "\u001b[0;32m~/.local/lib/python3.9/site-packages/qat/core/console.so\u001b[0m in \u001b[0;36mqat.core.console.display\u001b[0;34m()\u001b[0m\n",
      "\u001b[0;32m~/.local/lib/python3.9/site-packages/qat/core/console.so\u001b[0m in \u001b[0;36mqat.core.console._display_curses\u001b[0;34m()\u001b[0m\n",
      "\u001b[0;32m/usr/lib64/python3.9/curses/__init__.py\u001b[0m in \u001b[0;36mwrapper\u001b[0;34m(func, *args, **kwds)\u001b[0m\n\u001b[1;32m     98\u001b[0m             \u001b[0mstdscr\u001b[0m\u001b[0;34m.\u001b[0m\u001b[0mkeypad\u001b[0m\u001b[0;34m(\u001b[0m\u001b[0;36m0\u001b[0m\u001b[0;34m)\u001b[0m\u001b[0;34m\u001b[0m\u001b[0;34m\u001b[0m\u001b[0m\n\u001b[1;32m     99\u001b[0m             \u001b[0mecho\u001b[0m\u001b[0;34m(\u001b[0m\u001b[0;34m)\u001b[0m\u001b[0;34m\u001b[0m\u001b[0;34m\u001b[0m\u001b[0m\n\u001b[0;32m--> 100\u001b[0;31m             \u001b[0mnocbreak\u001b[0m\u001b[0;34m(\u001b[0m\u001b[0;34m)\u001b[0m\u001b[0;34m\u001b[0m\u001b[0;34m\u001b[0m\u001b[0m\n\u001b[0m\u001b[1;32m    101\u001b[0m             \u001b[0mendwin\u001b[0m\u001b[0;34m(\u001b[0m\u001b[0;34m)\u001b[0m\u001b[0;34m\u001b[0m\u001b[0;34m\u001b[0m\u001b[0m\n",
      "\u001b[0;31merror\u001b[0m: nocbreak() returned ERR"
     ]
    }
   ],
   "source": [
    "circ = make_ldca_circ(nb_fermionic_modes=4, ncycles=1)\n",
    "\n",
    "nb_ldca_params = len(circ.var_dic)\n",
    "print('Number of parameters in 1-cycle LDCA circit on 4 qubits:', nb_ldca_params)\n",
    "\n",
    "circ.display()"
   ]
  },
  {
   "cell_type": "markdown",
   "id": "86c3cef8-11b7-4457-b189-fd03a2b92656",
   "metadata": {},
   "source": [
    "We see that we have 6 $R_{ZZ}$ gates, which is simply the difference between the number of LDCA parameters and the number of Givens rotation angles. The $R_{ZZ}$ angles correspond to the last parameters. Let us thus bind the circuit to the Givens angles completed with 6 vanishing parameters:"
   ]
  },
  {
   "cell_type": "code",
   "execution_count": null,
   "id": "7da1f26f-474e-44c0-9ab0-891d02c9e318",
   "metadata": {},
   "outputs": [],
   "source": [
    "nb_other_params = nb_ldca_params - nb_angles\n",
    "\n",
    "# We set the initial parameters to the Givens rotations, the rest of the parameters beeing set to 0\n",
    "theta = list(givens_rotation_angles) + [0]*nb_other_params \n",
    "\n",
    "# We bind these parameters to the paramterized circuit defined previously\n",
    "prep_circ = circ.bind_variables({ r\"\\theta_{%i}\"%i : 0.5*theta[i] for i in range(len(theta))})"
   ]
  },
  {
   "cell_type": "markdown",
   "id": "860a1e25-9afe-4b18-8a2a-112b0c06b086",
   "metadata": {},
   "source": [
    "We should find that the LDCA circuit, parametrized as such, prepares a state whose energy is the ground state energy of the non-interacting Hamiltonian:"
   ]
  },
  {
   "cell_type": "code",
   "execution_count": null,
   "id": "765ce0a7-1e95-4e5e-873e-39f967f36467",
   "metadata": {},
   "outputs": [],
   "source": [
    "job = prep_circ.to_job(observable=non_interacting_H.to_spin())\n",
    "qpu = get_default_qpu()\n",
    "\n",
    "# evaluate energy of bound circuit\n",
    "res = qpu.submit(job)\n",
    "print(\"Expectation value of the non interacting part of the Hamiltonian on the quantum circuit:\", res.value)"
   ]
  },
  {
   "cell_type": "markdown",
   "id": "98039a26-28eb-486f-ae2f-cb35a4791450",
   "metadata": {},
   "source": [
    "This is indeed very close to the value we computed at the start of the notebook !"
   ]
  }
 ],
 "metadata": {
  "kernelspec": {
   "display_name": "Python 3 (ipykernel)",
   "language": "python",
   "name": "python3"
  },
  "language_info": {
   "codemirror_mode": {
    "name": "ipython",
    "version": 3
   },
   "file_extension": ".py",
   "mimetype": "text/x-python",
   "name": "python",
   "nbconvert_exporter": "python",
   "pygments_lexer": "ipython3",
   "version": "3.9.7"
  }
 },
 "nbformat": 4,
 "nbformat_minor": 5
}
