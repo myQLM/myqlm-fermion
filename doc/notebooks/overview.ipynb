{
 "cells": [
  {
   "cell_type": "markdown",
   "metadata": {},
   "source": [
    "# Running digital quantum simulations on QLM\n",
    "\n",
    "QLM comes with a collection of tools that help you to design and run variational algorithms to find the eigen values of problems in quantum chemistry.\n",
    "\n",
    "This folder contains notebooks that combine different tools provided inside `qat.fermion`, `qat.vsolve` and `qat.noisy` namespaces.\n",
    "\n",
    "#### Basic\n",
    "- [VQE for fermions](./vqe_hubbard.ipynb)\n",
    "- [Fermion-spin transforms](./spin_fermion_transforms.ipynb)\n",
    "- [Quantum phase estimation](./qpe_hubbard_molecule.ipynb)\n",
    "\n",
    "#### Advanced\n",
    "- [VQE for a H2 molecule using the UCC ansatz](./vqe_ucc_example_1_h2.ipynb)\n",
    "- [VQE for a LiH molecule using the UCC ansatz](./vqe_ucc_example_2_lih.ipynb)\n",
    "- [Quantum subspace expansion on a H2 molecule](./quantum_subspace_expansion_h2.ipynb)"
   ]
  }
 ],
 "metadata": {
  "authors": [
   "Jerome Pioux"
  ],
  "kernelspec": {
   "display_name": "Python 3 (ipykernel)",
   "language": "python",
   "name": "python3"
  },
  "language_info": {
   "codemirror_mode": {
    "name": "ipython",
    "version": 3
   },
   "file_extension": ".py",
   "mimetype": "text/x-python",
   "name": "python",
   "nbconvert_exporter": "python",
   "pygments_lexer": "ipython3",
   "version": "3.9.2"
  }
 },
 "nbformat": 4,
 "nbformat_minor": 4
}
