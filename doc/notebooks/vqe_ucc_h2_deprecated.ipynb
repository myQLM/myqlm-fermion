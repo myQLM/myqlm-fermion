{
 "cells": [
  {
   "cell_type": "code",
   "execution_count": 1,
   "metadata": {
    "slideshow": {
     "slide_type": "fragment"
    }
   },
   "outputs": [
    {
     "name": "stderr",
     "output_type": "stream",
     "text": [
      "/usr/local/lib64/python3.9/site-packages/pyscf/lib/misc.py:46: H5pyDeprecationWarning: Using default_file_mode other than 'r' is deprecated. Pass the mode to h5py.File() instead.\n",
      "  h5py.get_config().default_file_mode = 'a'\n"
     ]
    },
    {
     "name": "stdout",
     "output_type": "stream",
     "text": [
      "HF energy= -1.1166843870853405\n",
      "MP2 energy= -1.1298551535553094\n",
      "FCI energy= -1.137270174660903\n",
      "Number of qubits before active space selection =  4\n"
     ]
    }
   ],
   "source": [
    "import numpy as np\n",
    "\n",
    "from qat.fermion.chemistry.pyscf_tools import perform_pyscf_computation\n",
    "\n",
    "geometry = [(\"H\", (0.0, 0.0, 0.0)), (\"H\", (0.0, 0.0, 0.7414))]\n",
    "basis = \"sto-3g\"\n",
    "spin = 0  # = 2 S with S total spin angular momentum = # of unpaired electrons\n",
    "charge = 0\n",
    "\n",
    "(\n",
    "    rdm1,\n",
    "    orbital_energies,\n",
    "    nuclear_repulsion,\n",
    "    n_electrons,\n",
    "    one_body_integrals,\n",
    "    two_body_integrals,\n",
    "    info,\n",
    ") = perform_pyscf_computation(geometry=geometry, basis=basis, spin=spin, charge=charge, verbose=True)\n",
    "\n",
    "# rdm1 = (rdm1[0] + rdm1[1]) / 2. # For CO2\n",
    "print(\"Number of qubits before active space selection = \", rdm1.shape[0] * 2)"
   ]
  },
  {
   "cell_type": "markdown",
   "metadata": {
    "slideshow": {
     "slide_type": "slide"
    }
   },
   "source": [
    "## Active space selection\n",
    "\n",
    "Based on the (approximate) one-particle reduced density matrix computed above (``rdm1``), we compute the so-called \"natural-orbital occupation numbers\" (NOONs). We use them to select, with a given threshold, the \"active space orbitals\" (which are contained in the ``active_indices`` list below). We then compute the Hamiltonian in this active space: we obtain ``H_active``."
   ]
  },
  {
   "cell_type": "code",
   "execution_count": 2,
   "metadata": {
    "slideshow": {
     "slide_type": "fragment"
    }
   },
   "outputs": [
    {
     "name": "stdout",
     "output_type": "stream",
     "text": [
      "Number of qubits after active space selection = 4\n",
      "Active-space Hamiltonian: 0.7137539936876182 * I^4 +\n",
      "(-1.2524635735648983+0j) * (Cc|[0, 0]) +\n",
      "(-1.2524635735648983+0j) * (Cc|[1, 1]) +\n",
      "(-0.4759487152209642+0j) * (Cc|[2, 2]) +\n",
      "(-0.4759487152209642+0j) * (Cc|[3, 3]) +\n",
      "(0.3372443831784191+0j) * (CCcc|[0, 1, 1, 0]) +\n",
      "(0.09064440410574806+0j) * (CCcc|[0, 1, 3, 2]) +\n",
      "(0.09064440410574806+0j) * (CCcc|[0, 2, 0, 2]) +\n",
      "(0.33173404821178437+0j) * (CCcc|[0, 2, 2, 0]) +\n",
      "(0.09064440410574806+0j) * (CCcc|[0, 3, 1, 2]) +\n",
      "(0.33173404821178437+0j) * (CCcc|[0, 3, 3, 0]) +\n",
      "(0.3372443831784191+0j) * (CCcc|[1, 0, 0, 1]) +\n",
      "(0.09064440410574806+0j) * (CCcc|[1, 0, 2, 3]) +\n",
      "(0.09064440410574806+0j) * (CCcc|[1, 2, 0, 3]) +\n",
      "(0.33173404821178437+0j) * (CCcc|[1, 2, 2, 1]) +\n",
      "(0.09064440410574806+0j) * (CCcc|[1, 3, 1, 3]) +\n",
      "(0.33173404821178437+0j) * (CCcc|[1, 3, 3, 1]) +\n",
      "(0.33173404821178437+0j) * (CCcc|[2, 0, 0, 2]) +\n",
      "(0.09064440410574806+0j) * (CCcc|[2, 0, 2, 0]) +\n",
      "(0.33173404821178437+0j) * (CCcc|[2, 1, 1, 2]) +\n",
      "(0.09064440410574806+0j) * (CCcc|[2, 1, 3, 0]) +\n",
      "(0.09064440410574806+0j) * (CCcc|[2, 3, 1, 0]) +\n",
      "(0.34869688371151397+0j) * (CCcc|[2, 3, 3, 2]) +\n",
      "(0.33173404821178437+0j) * (CCcc|[3, 0, 0, 3]) +\n",
      "(0.09064440410574806+0j) * (CCcc|[3, 0, 2, 1]) +\n",
      "(0.33173404821178437+0j) * (CCcc|[3, 1, 1, 3]) +\n",
      "(0.09064440410574806+0j) * (CCcc|[3, 1, 3, 1]) +\n",
      "(0.09064440410574806+0j) * (CCcc|[3, 2, 0, 1]) +\n",
      "(0.34869688371151397+0j) * (CCcc|[3, 2, 2, 3])\n"
     ]
    }
   ],
   "source": [
    "from qat.fermion.chemistry.ucc import transform_integrals_to_new_basis\n",
    "\n",
    "noons, basis_change = np.linalg.eigh(rdm1)\n",
    "noons = list(reversed(noons))  # need to put noons in decreasing order\n",
    "basis_change = np.flip(basis_change, axis=1)\n",
    "one_body_integrals, two_body_integrals = transform_integrals_to_new_basis(one_body_integrals, two_body_integrals, basis_change)\n",
    "from qat.fermion.chemistry.ucc import get_active_space_hamiltonian\n",
    "\n",
    "H_active, active_inds, occ_inds = get_active_space_hamiltonian(\n",
    "    one_body_integrals,\n",
    "    two_body_integrals,\n",
    "    noons,\n",
    "    n_electrons,\n",
    "    nuclear_repulsion,\n",
    "    threshold_1=0.02,\n",
    "    threshold_2=0.002,\n",
    ")\n",
    "\n",
    "print(\"Number of qubits after active space selection =\", H_active.nbqbits)\n",
    "\n",
    "print(\"Active-space Hamiltonian:\", H_active)"
   ]
  },
  {
   "cell_type": "markdown",
   "metadata": {
    "slideshow": {
     "slide_type": "slide"
    }
   },
   "source": [
    "## Computation of cluster operators $T$ and good guess $\\vec{\\theta}_0$\n",
    "\n",
    "We now construct the cluster operators (``cluster_ops``) defined in the introduction part as $\\hat{T}(\\vec{\\theta})$, as well as a good starting parameter $\\vec{\\theta}$ (based on MP2 theory)."
   ]
  },
  {
   "cell_type": "code",
   "execution_count": 3,
   "metadata": {
    "slideshow": {
     "slide_type": "fragment"
    }
   },
   "outputs": [
    {
     "name": "stdout",
     "output_type": "stream",
     "text": [
      "Initial theta: [0, 0, 0.07265074220469023]\n"
     ]
    },
    {
     "name": "stderr",
     "output_type": "stream",
     "text": [
      "/tmp/ipykernel_581912/2647546597.py:14: UserWarning: This guess_init_state function is deprecated.\n",
      "  ) = guess_init_state(nb_active_els, active_noons, active_orb_energies, H_active.hpqrs)\n",
      "/tmp/ipykernel_581912/2647546597.py:16: UserWarning: This get_cluster_ops function is deprecated.\n",
      "  cluster_ops = get_cluster_ops(active_noons, actives_occupied_orbitals, actives_unoccupied_orbitals)\n"
     ]
    }
   ],
   "source": [
    "from qat.fermion.chemistry.ucc_deprecated import guess_init_state, get_cluster_ops\n",
    "\n",
    "active_noons, active_orb_energies = [], []\n",
    "for ind in active_inds:\n",
    "    active_noons.extend([noons[ind], noons[ind]])\n",
    "    active_orb_energies.extend([orbital_energies[ind], orbital_energies[ind]])\n",
    "nb_active_els = n_electrons - 2 * len(occ_inds)\n",
    "\n",
    "(\n",
    "    theta_0,\n",
    "    hf_init,\n",
    "    actives_occupied_orbitals,\n",
    "    actives_unoccupied_orbitals,\n",
    ") = guess_init_state(nb_active_els, active_noons, active_orb_energies, H_active.hpqrs)\n",
    "\n",
    "cluster_ops = get_cluster_ops(active_noons, actives_occupied_orbitals, actives_unoccupied_orbitals)\n",
    "\n",
    "print(\"Initial theta:\", theta_0)"
   ]
  },
  {
   "cell_type": "markdown",
   "metadata": {
    "slideshow": {
     "slide_type": "slide"
    },
    "tags": []
   },
   "source": [
    "## Encode to qubits: Fermion-spin transformation\n",
    "\n",
    "\n",
    "All the above operators are fermion operators. We now transform them to spin (or qubit) space. There are different possible choices. Here, we choose the Jordan-Wigner transform (the commented out imports show how to use the other transforms that are available on QLM)."
   ]
  },
  {
   "cell_type": "code",
   "execution_count": 4,
   "metadata": {
    "slideshow": {
     "slide_type": "fragment"
    }
   },
   "outputs": [],
   "source": [
    "from qat.fermion.transforms import recode_integer\n",
    "from qat.fermion.transforms import transform_to_jw_basis, get_jw_code\n",
    "\n",
    "# from qat.fermion.transforms import transform_to_bk_basis, get_bk_code\n",
    "# from qat.fermion.transforms import transform_to_parity_basis, get_parity_code\n",
    "\n",
    "transform, code = transform_to_jw_basis, get_jw_code  # Jordan Wigner\n",
    "# transform, code = transform_to_bk_basis, get_bk_code #Bravyi Kitaev\n",
    "H_active_sp = transform(H_active)\n",
    "\n",
    "# expressing the cluster operator in spin terms\n",
    "cluster_ops_sp = [transform(t_o) for t_o in cluster_ops]\n",
    "# encoding the initial state to new encoding\n",
    "hf_init_sp = recode_integer(hf_init, code(H_active_sp.nbqbits))\n",
    "\n",
    "# Finally: build_uccsd\n",
    "from qat.fermion.chemistry.ucc import construct_ucc_ansatz\n",
    "\n",
    "qprog = construct_ucc_ansatz(cluster_ops_sp, hf_init_sp, n_steps=1)\n",
    "circ = qprog.to_circ()"
   ]
  },
  {
   "cell_type": "markdown",
   "metadata": {
    "slideshow": {
     "slide_type": "slide"
    },
    "tags": []
   },
   "source": [
    "## Optimize the angles of $\\psi(\\vec{\\theta})$ for a given QPU\n",
    "\n",
    "We can now use the QLM's variational plugins to perform the VQE optimization."
   ]
  },
  {
   "cell_type": "code",
   "execution_count": 5,
   "metadata": {
    "slideshow": {
     "slide_type": "fragment"
    }
   },
   "outputs": [
    {
     "name": "stdout",
     "output_type": "stream",
     "text": [
      "Minimum energy = -1.1372692374939386\n",
      "FCI energy: -1.137270174660903\n"
     ]
    },
    {
     "data": {
      "image/png": "[encoded data removed]",
      "text/plain": [
       "<Figure size 432x288 with 1 Axes>"
      ]
     },
     "metadata": {
      "needs_background": "light"
     },
     "output_type": "display_data"
    }
   ],
   "source": [
    "job = circ.to_job(job_type=\"OBS\", observable=H_active_sp, nbshots=0)\n",
    "\n",
    "from qat.qpus import LinAlg\n",
    "from qat.vsolve.optimize import ScipyMinimizePlugin\n",
    "\n",
    "optimizer_scipy = ScipyMinimizePlugin(method=\"COBYLA\", tol=1e-3, options={\"maxiter\": 1000}, x0=theta_0)\n",
    "qpu = optimizer_scipy | LinAlg()\n",
    "result = qpu.submit(job)\n",
    "\n",
    "print(\"Minimum energy =\", result.value)\n",
    "print(\"FCI energy:\", info[\"FCI\"])\n",
    "\n",
    "%matplotlib inline\n",
    "import matplotlib.pyplot as plt\n",
    "\n",
    "plt.plot(eval(result.meta_data[\"optimization_trace\"]), label=\"noiseless\", lw=3)\n",
    "plt.plot(\n",
    "    [info[\"FCI\"] for _ in range(len(eval(result.meta_data[\"optimization_trace\"])))],\n",
    "    \"--k\",\n",
    "    label=\"FCI\",\n",
    ")\n",
    "plt.legend(loc=\"best\")\n",
    "plt.xlabel(\"Steps\")\n",
    "plt.ylabel(\"Energy\")\n",
    "plt.grid()"
   ]
  },
  {
   "cell_type": "markdown",
   "metadata": {
    "slideshow": {
     "slide_type": "slide"
    }
   },
   "source": [
    "## With a Noisy QPU\n",
    "\n",
    "We can easily switch to another QPU. Here, we want to investigate the effect of noise on VQE accuracy.\n",
    "To this end, we use a noisy QPU with a simple noise model with $T_1$ and $T_2$ noise."
   ]
  },
  {
   "cell_type": "code",
   "execution_count": 6,
   "metadata": {
    "slideshow": {
     "slide_type": "fragment"
    }
   },
   "outputs": [
    {
     "name": "stdout",
     "output_type": "stream",
     "text": [
      "=== StatPlugin:compile ===\n",
      "Job 0: {'nbqbits': 4, 'size': 158, 'gates': {'custom gate': 0, 'X': 2, 'RX': 40, 'H': 40, 'CNOT': 64, 'RZ': 12}, 'measurements': 0, 'resets': 0, 'logic': 0, 'breaks': 0, 'remaps': 0, 'gate_size': 158}\n",
      "Minimum energy = -0.937772457791241\n"
     ]
    }
   ],
   "source": [
    "from qat.hardware import HardwareModel, DefaultGatesSpecification\n",
    "from qat.quops import ParametricAmplitudeDamping, ParametricPureDephasing\n",
    "from qat.qpus import NoisyQProc\n",
    "from qat.plugins import StatPlugin\n",
    "\n",
    "gate_durations = {\n",
    "    \"Z\": 60,\n",
    "    \"H\": 60,\n",
    "    \"X\": 60,\n",
    "    \"Y\": 60,\n",
    "    \"RX\": lambda angle: 60,\n",
    "    \"RY\": lambda angle: 60,\n",
    "    \"RZ\": lambda angle: 60,\n",
    "    \"CNOT\": 150,\n",
    "}  # nanosecs\n",
    "T1 = 50000  # = 50 microsecs\n",
    "T2 = 50000\n",
    "\n",
    "amp_damping = ParametricAmplitudeDamping(T_1=T1)\n",
    "pure_dephasing = ParametricPureDephasing(T_phi=1 / (1 / T2 - 1 / (2 * T1)))\n",
    "hw_model = HardwareModel(DefaultGatesSpecification(gate_durations), idle_noise=[amp_damping, pure_dephasing])\n",
    "noisy_qpu = NoisyQProc(hardware_model=hw_model, sim_method=\"deterministic-vectorized\")\n",
    "\n",
    "\n",
    "qpu = StatPlugin() | optimizer_scipy | noisy_qpu\n",
    "result_n = qpu.submit(job)\n",
    "print(\"Minimum energy =\", result_n.value)"
   ]
  },
  {
   "cell_type": "markdown",
   "metadata": {
    "slideshow": {
     "slide_type": "slide"
    }
   },
   "source": [
    "## Comparison: noiseless vs. noisy\n",
    "\n",
    "As you can see, the final energy obtained with a noisy QPU is higher than the one obtained with a perfect (noiseless) QPU:"
   ]
  },
  {
   "cell_type": "code",
   "execution_count": 8,
   "metadata": {
    "slideshow": {
     "slide_type": "fragment"
    }
   },
   "outputs": [
    {
     "data": {
      "image/png": "[encoded data removed]",
      "text/plain": [
       "<Figure size 432x288 with 1 Axes>"
      ]
     },
     "metadata": {
      "needs_background": "light"
     },
     "output_type": "display_data"
    }
   ],
   "source": [
    "%matplotlib inline\n",
    "import matplotlib.pyplot as plt\n",
    "\n",
    "plt.plot(eval(result_n.meta_data[\"optimization_trace\"]), label=\"noisy\", lw=3)\n",
    "plt.plot(eval(result.meta_data[\"optimization_trace\"]), label=\"noiseless\", lw=3)\n",
    "plt.plot(\n",
    "    [info[\"FCI\"] for _ in range(len(eval(result.meta_data[\"optimization_trace\"])))],\n",
    "    \"--k\",\n",
    "    label=\"FCI\",\n",
    ")\n",
    "plt.legend(loc=\"best\")\n",
    "plt.xlabel(\"Steps\")\n",
    "plt.ylabel(\"Energy\")\n",
    "plt.grid()"
   ]
  },
  {
   "cell_type": "markdown",
   "metadata": {
    "slideshow": {
     "slide_type": "slide"
    }
   },
   "source": [
    "## VQE with noise + constraints:\n",
    "\n",
    "We now add another layer of complexity by adding connectivity constraints to the QPU. This is done via the ``QuameleonPlugin``. As a result of these constraints, the circuit needs to be compiled. This task is carried out by yet another QLM plugin, the ``Nnizer`` (see also the ``LazySynthesis`` plugin that carries out a similar task). Notice how the gate count (printed through the ``StatPlugin`` plugin) has increased with respect to the original circuit:"
   ]
  },
  {
   "cell_type": "code",
   "execution_count": 9,
   "metadata": {
    "slideshow": {
     "slide_type": "fragment"
    }
   },
   "outputs": [
    {
     "name": "stdout",
     "output_type": "stream",
     "text": [
      "=== StatPlugin:compile ===\n",
      "Job 0: {'nbqbits': 16, 'size': 503, 'gates': {'custom gate': 0, 'X': 2, 'RX': 40, 'H': 328, 'CNOT': 121, 'RZ': 12}, 'measurements': 0, 'resets': 0, 'logic': 0, 'breaks': 0, 'remaps': 0, 'gate_size': 503}\n",
      "Minimum energy = -7.777753535782647\n"
     ]
    }
   ],
   "source": [
    "import json\n",
    "from qat.core import Topology, HardwareSpecs, TopologyType\n",
    "from qat.plugins import Nnizer, QuameleonPlugin, Remap\n",
    "\n",
    "graph_dict = json.load(open(\"graph_ibmqx5.json\", \"r\"))[\"edges\"]  # we load a graph (here corresponding to IBM QX5' chip)\n",
    "graph = {int(vertex): edges for vertex, edges in graph_dict.items()}\n",
    "topology = Topology(type=TopologyType.CUSTOM, is_directed=False, graph=graph)\n",
    "hw_specs = HardwareSpecs(nbqbits=16, topology=topology)\n",
    "nnizer = Nnizer()\n",
    "\n",
    "# the Remap plugin below allows for a smart remapping of qubits to minimize the qubit count\n",
    "noisy_qpu_with_topology = QuameleonPlugin(specs=hw_specs) | (Remap() | noisy_qpu)\n",
    "qpu = Nnizer() | StatPlugin() | optimizer_scipy | noisy_qpu_with_topology\n",
    "result_nn = qpu.submit(job)\n",
    "print(\"Minimum energy =\", result_nn.value)"
   ]
  },
  {
   "cell_type": "markdown",
   "metadata": {
    "slideshow": {
     "slide_type": "slide"
    }
   },
   "source": [
    "## Final comparison\n",
    "\n",
    "Below, we compare the convergence of the VQE energy for the different QPUs. As expected, in the presence of noise and connectivity constraints, the VQE energy is highest because connectivity constraints lead to longer circuits that in turn lead to a higher sensitivity to decoherence."
   ]
  },
  {
   "cell_type": "code",
   "execution_count": 10,
   "metadata": {
    "slideshow": {
     "slide_type": "fragment"
    }
   },
   "outputs": [
    {
     "data": {
      "image/png": "[encoded data removed]",
      "text/plain": [
       "<Figure size 432x288 with 1 Axes>"
      ]
     },
     "metadata": {
      "needs_background": "light"
     },
     "output_type": "display_data"
    }
   ],
   "source": [
    "%matplotlib inline\n",
    "import matplotlib.pyplot as plt\n",
    "\n",
    "plt.plot(eval(result_n.meta_data[\"optimization_trace\"]), label=\"noisy\", lw=3)\n",
    "plt.plot(eval(result.meta_data[\"optimization_trace\"]), label=\"noiseless\", lw=3)\n",
    "plt.plot(eval(result_nn.meta_data[\"optimization_trace\"]), label=\"noisy + topology\", lw=3)\n",
    "plt.plot(\n",
    "    [info[\"FCI\"] for _ in range(len(eval(result.meta_data[\"optimization_trace\"])))],\n",
    "    \"--k\",\n",
    "    label=\"FCI\",\n",
    ")\n",
    "plt.legend(loc=\"best\")\n",
    "plt.xlabel(\"Steps\")\n",
    "plt.ylabel(\"Energy\")\n",
    "plt.grid()"
   ]
  },
  {
   "cell_type": "markdown",
   "metadata": {
    "slideshow": {
     "slide_type": "slide"
    },
    "tags": []
   },
   "source": [
    "## Further questions to be investigated:\n",
    "\n",
    "This notebook only tackles certain aspects of performing chemistry on the QLM with advanced QPUs and Plugins. Other questions that you can deal with using other QLM tools include:\n",
    "\n",
    "- how to reduce the gate count given a topology?\n",
    "- how to rewrite a circuit for another gate set (say, for ions)?\n",
    "- how to mitigate noise effects? (zero-noise extrapolation...)"
   ]
  }
 ],
 "metadata": {
  "celltoolbar": "Diaporama",
  "kernelspec": {
   "display_name": "Python 3 (ipykernel)",
   "language": "python",
   "name": "python3"
  },
  "language_info": {
   "codemirror_mode": {
    "name": "ipython",
    "version": 3
   },
   "file_extension": ".py",
   "mimetype": "text/x-python",
   "name": "python",
   "nbconvert_exporter": "python",
   "pygments_lexer": "ipython3",
   "version": "3.9.2"
  }
 },
 "nbformat": 4,
 "nbformat_minor": 4
}
