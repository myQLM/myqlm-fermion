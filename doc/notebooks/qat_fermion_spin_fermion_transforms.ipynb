{
 "cells": [
  {
   "cell_type": "markdown",
   "metadata": {
    "tags": []
   },
   "source": [
    "# Spin fermion transforms\n",
    "\n",
    "Chemistry problems involve electrons, which are fermions, while quantum computers work in the language of qubits (or, equivalently, spins or two-level systems).\n",
    "\n",
    "The ``qat.fermion`` module of QLM comes with a few tools to go from the fermionic representation to the spin representation. In particular, three transformations are implemented:\n",
    "\n",
    "- Jordan-Wigner transformation,\n",
    "- parity transformation,\n",
    "- Bravyi-Kitaev transformation.\n",
    "\n",
    "\n",
    "Let us look at a simple example with a single $c^\\dagger_1$ operator acting on 3 qubits."
   ]
  },
  {
   "cell_type": "code",
   "execution_count": 1,
   "metadata": {},
   "outputs": [
    {
     "name": "stdout",
     "output_type": "stream",
     "text": [
      "H_f is in FERMION representation.\n"
     ]
    }
   ],
   "source": [
    "import numpy as np\n",
    "\n",
    "from qat.core import Term\n",
    "from qat.fermion.hamiltonians import Hamiltonian\n",
    "\n",
    "# We define an arbitrary fermionic Hamiltonian H_f\n",
    "nqbits = 3\n",
    "H_f = Hamiltonian(nqbits, [Term(1.0, \"C\", [1])])\n",
    "\n",
    "print(f\"H_f is in {H_f.htype.name} representation.\")"
   ]
  },
  {
   "cell_type": "markdown",
   "metadata": {},
   "source": [
    "We can convert the fermionic `Hamiltonian` operator to a spin `Hamiltonian` operator using the method `.to_spin`. By default the Jordan-Wigner transform is used."
   ]
  },
  {
   "cell_type": "code",
   "execution_count": 2,
   "metadata": {},
   "outputs": [
    {
     "name": "stdout",
     "output_type": "stream",
     "text": [
      "H_spin is in SPIN representation.\n"
     ]
    }
   ],
   "source": [
    "# Using the Jordan-Wigner transform\n",
    "H_spin = H_f.to_spin(\"jordan-wigner\")\n",
    "\n",
    "# Using the Bravyi-Kitaev transform\n",
    "H_spin = H_f.to_spin(\"bravyi-kitaev\")\n",
    "\n",
    "# Using the parity transform\n",
    "H_spin = H_f.to_spin(\"parity\")\n",
    "\n",
    "print(f\"H_spin is in {H_spin.htype.name} representation.\")"
   ]
  },
  {
   "cell_type": "markdown",
   "metadata": {},
   "source": [
    "Otherwise, one can directly use the transformation functions."
   ]
  },
  {
   "cell_type": "code",
   "execution_count": 3,
   "metadata": {},
   "outputs": [
    {
     "name": "stdout",
     "output_type": "stream",
     "text": [
      "H_spin is in SPIN representation.\n"
     ]
    }
   ],
   "source": [
    "from qat.fermion.transforms import transform_to_jw_basis, transform_to_parity_basis, transform_to_bk_basis\n",
    "\n",
    "# Using the Jordan-Wigner transform\n",
    "H_spin = transform_to_jw_basis(H_f)\n",
    "\n",
    "# Using the Bravyi-Kitaev transform\n",
    "H_spin = transform_to_bk_basis(H_f)\n",
    "\n",
    "# Using the parity transform\n",
    "H_spin = transform_to_parity_basis(H_f)\n",
    "\n",
    "print(f\"H_spin is in {H_spin.htype.name} representation.\")"
   ]
  },
  {
   "cell_type": "markdown",
   "metadata": {},
   "source": [
    "You can also transform Hamiltonians of the ``ElectronicStructureHamiltonian`` type."
   ]
  },
  {
   "cell_type": "code",
   "execution_count": 4,
   "metadata": {},
   "outputs": [],
   "source": [
    "from qat.fermion.hamiltonians import ElectronicStructureHamiltonian\n",
    "\n",
    "hpq = np.array(\n",
    "    [\n",
    "        [0.0, 1.0, 0.0, 0.0],\n",
    "        [1.0, 0.0, 1.0, 0.0],\n",
    "        [0.0, 1.0, 0.0, 1.0],\n",
    "        [0.0, 0.0, 1.0, 0.0],\n",
    "    ]\n",
    ")\n",
    "\n",
    "hpqrs = np.zeros((4, 4, 4, 4))\n",
    "hpqrs[0, 1, 1, 0] = 0.6\n",
    "hpqrs[1, 0, 0, 1] = 0.6\n",
    "hpqrs[2, 0, 0, 2] = 0.6\n",
    "\n",
    "# We define the fermionic operator H_f, an `ElectronicStructureHamiltonian` object.\n",
    "H_f = ElectronicStructureHamiltonian(hpq, hpqrs)"
   ]
  },
  {
   "cell_type": "markdown",
   "metadata": {},
   "source": [
    "Just like before we convert the fermionic operator $H_f$ to a spin Hamiltonian operator using the method `.to_spin`."
   ]
  },
  {
   "cell_type": "code",
   "execution_count": 5,
   "metadata": {},
   "outputs": [
    {
     "name": "stdout",
     "output_type": "stream",
     "text": [
      "H_spin is in SPIN representation.\n"
     ]
    }
   ],
   "source": [
    "# Using the Jordan-Wigner transform\n",
    "H_spin = H_f.to_spin(\"jordan-wigner\")\n",
    "\n",
    "# Using the Bravyi-Kitaev transform\n",
    "H_spin = H_f.to_spin(\"bravyi-kitaev\")\n",
    "\n",
    "# Using the parity transform\n",
    "H_spin = H_f.to_spin(\"parity\")\n",
    "\n",
    "print(f\"H_spin is in {H_spin.htype.name} representation.\")"
   ]
  },
  {
   "cell_type": "markdown",
   "metadata": {},
   "source": [
    "Or, using the transformation functions directly:"
   ]
  },
  {
   "cell_type": "code",
   "execution_count": 6,
   "metadata": {},
   "outputs": [
    {
     "name": "stdout",
     "output_type": "stream",
     "text": [
      "H_spin is in SPIN representation.\n"
     ]
    }
   ],
   "source": [
    "from qat.fermion.transforms import transform_to_jw_basis, transform_to_parity_basis, transform_to_bk_basis\n",
    "\n",
    "# Using the Jordan-Wigner transform\n",
    "H_spin = transform_to_jw_basis(H_f)\n",
    "\n",
    "# Using the Bravyi-Kitaev transform\n",
    "H_spin = transform_to_bk_basis(H_f)\n",
    "\n",
    "# Using the parity transform\n",
    "H_spin = transform_to_parity_basis(H_f)\n",
    "\n",
    "print(f\"H_spin is in {H_spin.htype.name} representation.\")"
   ]
  }
 ],
 "metadata": {
  "authors": [
   "Thomas Ayral",
   "Satyanarayana Bade"
  ],
  "kernelspec": {
   "display_name": "Python 3 (ipykernel)",
   "language": "python",
   "name": "python3"
  },
  "language_info": {
   "codemirror_mode": {
    "name": "ipython",
    "version": 3
   },
   "file_extension": ".py",
   "mimetype": "text/x-python",
   "name": "python",
   "nbconvert_exporter": "python",
   "pygments_lexer": "ipython3",
   "version": "3.10.4"
  }
 },
 "nbformat": 4,
 "nbformat_minor": 4
}
