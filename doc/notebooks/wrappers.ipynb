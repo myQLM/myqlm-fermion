{
 "cells": [
  {
   "cell_type": "markdown",
   "id": "ab85676b-319c-45f0-929f-a80a821d8d0d",
   "metadata": {},
   "source": [
    "### Chemistry objects"
   ]
  },
  {
   "cell_type": "markdown",
   "id": "d3ebc76a-6b2f-43f4-a8c5-cd018b74bbaf",
   "metadata": {},
   "source": [
    "The `chemistry` submodule is built around two containers : `Molecule` and `MolecularHamiltonian`. The `MolecularHamiltonian` can be defined independently, or within the `Molecule` object."
   ]
  },
  {
   "cell_type": "code",
   "execution_count": 1,
   "id": "1084da0f-35da-4a42-bcb0-89460fc9126c",
   "metadata": {},
   "outputs": [
    {
     "name": "stdout",
     "output_type": "stream",
     "text": [
      "HF energy= -1.1166843870853405\n",
      "MP2 energy= -1.1298551535553094\n",
      "FCI energy= -1.137270174660903\n",
      "Number of qubits before active space selection =  4\n"
     ]
    }
   ],
   "source": [
    "import numpy as np\n",
    "from qat.fermion.chemistry.pyscf_tools import perform_pyscf_computation\n",
    "\n",
    "# H2\n",
    "geometry = [(\"H\", (0.0, 0.0, 0.0)), (\"H\", (0.0, 0.0, 0.7414))]\n",
    "basis = \"sto-3g\"\n",
    "spin = 0  # = 2 S with S total spin angular momentum = # of unpaired electrons\n",
    "charge = 0\n",
    "\n",
    "\"\"\"Other examples:\n",
    "geometry = [('Li', (0., 0., 0.)), ('H', (0., 0., 1.75))]\n",
    "basis = \"6-31g\"\n",
    "spin = 0\n",
    "charge = 0\n",
    "\n",
    "geometry = [['C', [0.0, 0.0, 8.261342997000753e-07]],\n",
    "            ['O', [1.0990287608769004e-18, 2.7114450405987004e-19, 1.2236575813458745]],\n",
    "            ['O', [2.696319376811295e-22, 2.4247676462727696e-23, -1.2236561920609494]]]\n",
    "basis = \"sto-3g\"\n",
    "spin = 1\n",
    "\"\"\"\n",
    "\n",
    "(\n",
    "    rdm1,\n",
    "    orbital_energies,\n",
    "    nuclear_repulsion,\n",
    "    nels,\n",
    "    one_body_integrals,\n",
    "    two_body_integrals,\n",
    "    info,\n",
    ") = perform_pyscf_computation(\n",
    "    geometry=geometry, basis=basis, spin=spin, charge=charge, verbose=True\n",
    ")\n",
    "\n",
    "noons, basis_change = np.linalg.eigh(rdm1)\n",
    "\n",
    "print(\"Number of qubits before active space selection = \", rdm1.shape[0] * 2)"
   ]
  },
  {
   "cell_type": "code",
   "execution_count": 2,
   "id": "4b3c03ec-60e5-45c5-b43c-e19548e5d0bd",
   "metadata": {},
   "outputs": [],
   "source": [
    "from qat.fermion.chemistry import Molecule, MolecularHamiltonian\n",
    "\n",
    "mol_h = MolecularHamiltonian(one_body_integrals, two_body_integrals, nuclear_repulsion)\n",
    "molecule = Molecule(mol_h, nels, noons, orbital_energies)"
   ]
  },
  {
   "cell_type": "code",
   "execution_count": null,
   "id": "42c80649-e0bd-4a57-8641-a8b86ca7ebbb",
   "metadata": {},
   "outputs": [],
   "source": []
  }
 ],
 "metadata": {
  "kernelspec": {
   "display_name": "Python 3 (ipykernel)",
   "language": "python",
   "name": "python3"
  },
  "language_info": {
   "codemirror_mode": {
    "name": "ipython",
    "version": 3
   },
   "file_extension": ".py",
   "mimetype": "text/x-python",
   "name": "python",
   "nbconvert_exporter": "python",
   "pygments_lexer": "ipython3",
   "version": "3.9.2"
  }
 },
 "nbformat": 4,
 "nbformat_minor": 5
}
