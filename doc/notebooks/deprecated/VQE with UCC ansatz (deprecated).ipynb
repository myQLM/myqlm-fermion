{
    "cells": [
        {
            "cell_type": "markdown",
            "metadata": {},
            "source": [
                "# Getting started with UCC state preparation in VQE"
            ]
        },
        {
            "cell_type": "markdown",
            "metadata": {},
            "source": [
                "The package ``qat.fermion.chemistry.ucc`` prodives all the necessary elements to study a molecule with the *variational quantum eigensolver* (VQE) using *unitary coupled cluster* (UCC) state preparation. "
            ]
        },
        {
            "cell_type": "markdown",
            "metadata": {},
            "source": [
                "As a reminder, the **VQE** solves the following minimization problem :\n",
                "$$\n",
                "E = \\min_{\\vec{\\theta}}\\; \\langle \\psi(\\vec{\\theta}) \\,|\\, \\hat{H} \\,|\\, \\psi(\\vec{\\theta}) \\rangle\n",
                "$$\n",
                "where $\\hat{H}$ is the molecular Hamiltonian (at fixed geometry) and $|\\psi(\\vec{\\theta})\\rangle$ is a parametrized state used to explore the state space."
            ]
        },
        {
            "cell_type": "markdown",
            "metadata": {},
            "source": [
                "An effective state preparation method is given by **UCC**. The state is then:\n",
                "$$\n",
                "|\\psi(\\vec{\\theta})\\rangle = e^{\\hat{T}(\\vec{\\theta}) - \\hat{T}^\\dagger(\\vec{\\theta})} |0\\rangle\n",
                "$$\n",
                "where $\\hat{T}(\\theta)$ is the *cluster operator*. Its non-truncated form is given by:\n",
                "$$\n",
                "\\hat{T}(\\vec{\\theta}) = \\hat{T}_1(\\vec{\\theta}) + \\hat{T}_2(\\vec{\\theta}) + \\cdots\n",
                "$$\n",
                "where\n",
                "$$\n",
                "\\hat{T}_1 = \\sum_{a\\in U}\\sum_{i \\in O} \\theta_a^i\\, \\hat{a}_a^\\dagger \\hat{a}_i \\qquad\n",
                "\\hat{T}_2 = \\sum_{a>b\\in U}\\sum_{i>j\\in O} \\theta_{a, b}^{i, j}\\, \\hat{a}^\\dagger_a \\hat{a}^\\dagger_b \\hat{a}_i \\hat{a}_j \\qquad\n",
                "\\cdots\n",
                "$$\n",
                "($O$ is the set of occupied orbitals and $U$, the set of unoccipied ones.)"
            ]
        },
        {
            "cell_type": "markdown",
            "metadata": {},
            "source": [
                "This notebook will describe the basics of the ``ucc`` module by first introducing the one-liner and then, describing the execution flow, subfunction by subfunction."
            ]
        },
        {
            "cell_type": "markdown",
            "metadata": {},
            "source": [
                "## Direct execution"
            ]
        },
        {
            "cell_type": "markdown",
            "metadata": {},
            "source": [
                "The most compact form of the procedure is given by ``uccsd``."
            ]
        },
        {
            "cell_type": "markdown",
            "metadata": {},
            "source": [
                "The first step is to instantiate OpenFermion's ``MolecularData`` class with the chosen basis set and the studied geometry.\n",
                "\n",
                "Then this object is given as argument to the function which outputs:\n",
                "- the parametric state preparation (as a function outputing a QRoutine),\n",
                "- the initial parameter set,\n",
                "- the Hamiltonian,\n",
                "- the number of qubits.\n",
                "\n",
                "These elements can then be used in a VQE algorithm.\n",
                "\n",
                "*Note: Both ``qat.fermion.chemistry.ucc`` and the ``MolecularData`` from ``openfermion.hamiltonians`` need to be imported.*"
            ]
        },
        {
            "cell_type": "markdown",
            "metadata": {},
            "source": [
                "**Example:** dihydrogen in STO-3G basis at 0.7414 Angström (internuclear distance.)"
            ]
        },
        {
            "cell_type": "code",
            "execution_count": 1,
            "metadata": {},
            "outputs": [],
            "source": [
                "# Package import:\n",
                "from qat.fermion.chemistry.deprecated.ucc import uccsd\n",
                "from openfermion.hamiltonians import MolecularData\n",
                "\n",
                "# Molecule construction:\n",
                "basis = 'sto-3g'\n",
                "multiplicity = 1 # Supposed to be set to 1 (i.e. singlet state is assumed!)\n",
                "bond_length = 0.7414 # In Angstrom.\n",
                "geometry = [('H', (0., 0., 0.)), ('H', (0., 0., bond_length))]\n",
                "\n",
                "molecule = MolecularData(geometry, basis, multiplicity)"
            ]
        },
        {
            "cell_type": "code",
            "execution_count": 2,
            "metadata": {},
            "outputs": [
                {
                    "name": "stderr",
                    "output_type": "stream",
                    "text": [
                        "/home/tayral/.my_python/lib64/python3.6/site-packages/pyscf/scf/chkfile.py:31: H5pyDeprecationWarning: The default file mode will change to 'r' (read-only) in h5py 3.0. To suppress this warning, pass the mode you need to h5py.File(), or set the global default h5.get_config().default_file_mode, or set the environment variable H5PY_DEFAULT_READONLY=1. Available modes are: 'r', 'r+', 'w', 'w-'/'x', 'a'. See the docs for details.\n",
                        "  with h5py.File(chkfile) as fh5:\n",
                        "/home/tayral/.my_python/lib64/python3.6/site-packages/pyscf/lib/misc.py:876: H5pyDeprecationWarning: The default file mode will change to 'r' (read-only) in h5py 3.0. To suppress this warning, pass the mode you need to h5py.File(), or set the global default h5.get_config().default_file_mode, or set the environment variable H5PY_DEFAULT_READONLY=1. Available modes are: 'r', 'r+', 'w', 'w-'/'x', 'a'. See the docs for details.\n",
                        "  h5py.File.__init__(self, filename, *args, **kwargs)\n"
                    ]
                }
            ],
            "source": [
                "qroutine_uccsd, theta_0, h_spin, nb_qubits = uccsd(molecule)\n",
                "\n",
                "# Optional parameters are:\n",
                "#  - The transformation: transformation='bk',\n",
                "#  - The numerical threshold: threshold=1e-15, \n",
                "#  - The active space selection criterion: as_selection=0.001,\n",
                "#        - either the lower limit value for the NOONs of active orbitals, \n",
                "#        - or the list of active orbitals.  \n",
                "#  - The numbers of single and double excitations to consider: max_nb_single_ex=0, max_nb_double_ex=3, \n",
                "#  - The transformation as a BinaryCode, for user-defined ones: code=None, \n",
                "#  - The reduction of trivially acted-upon qubits (valid for Braavyi-Kitaev, in certain basis): reduction=False, \n",
                "#  - The approximation of double excitation excitations transformed by Bravyi-Kitaev: approx=True."
            ]
        },
        {
            "cell_type": "code",
            "execution_count": 3,
            "metadata": {},
            "outputs": [
                {
                    "name": "stdout",
                    "output_type": "stream",
                    "text": [
                        "<qat.fermion.hamiltonian.IsingHamiltonian object at 0x2b1d19b39ac8>\n"
                    ]
                }
            ],
            "source": [
                "print(h_spin)"
            ]
        },
        {
            "cell_type": "markdown",
            "metadata": {},
            "source": [
                "And now, the VQE execution:"
            ]
        },
        {
            "cell_type": "code",
            "execution_count": 4,
            "metadata": {},
            "outputs": [
                {
                    "name": "stdout",
                    "output_type": "stream",
                    "text": [
                        "Precision reached ( 0.0001 ), iteration number = 8\n",
                        "Energy = (-1.1372701746002185+0j) Optimized parameters = [0.11306201+0.j] \n",
                        " Number of function evaluations = 8\n"
                    ]
                }
            ],
            "source": [
                "# Definition of the QPU, e.g. LinAlg:\n",
                "from qat.linalg import get_qpu_server as get_linalg_qpu\n",
                "linalg_qpu = get_linalg_qpu()\n",
                "# Definition of the optimizer, e.g. SPSA:\n",
                "from qat.fermion.optimization import Optimizer\n",
                "from qat.fermion.spsa import spsa_minimize\n",
                "spsa_minimizer = Optimizer(spsa_minimize)\n",
                "\n",
                "from qat.fermion.hamiltonian import IsingHamiltonian\n",
                "h_vqe = IsingHamiltonian(list_pauli_operators=h_spin.list_pauli_operators,\n",
                "                         list_pauli_values = h_spin.list_pauli_values)\n",
                "\n",
                "# Execution of the VQE:\n",
                "from qat.fermion.vqe import VQE\n",
                "e, param, nb_evals, energies = VQE(h_vqe,  spsa_minimizer, qroutine_uccsd, theta_0, \n",
                "                                   linalg_qpu, grouping=False, display=True)"
            ]
        },
        {
            "cell_type": "code",
            "execution_count": 5,
            "metadata": {},
            "outputs": [
                {
                    "name": "stdout",
                    "output_type": "stream",
                    "text": [
                        "VQE energy= -1.1372701746002185\n"
                    ]
                }
            ],
            "source": [
                "print(\"VQE energy=\", e.real)"
            ]
        },
        {
            "cell_type": "markdown",
            "metadata": {},
            "source": [
                "## Step-by-step execution\n",
                "\n",
                "We now break up the high-level function ``uccsd`` into its basic steps."
            ]
        },
        {
            "cell_type": "markdown",
            "metadata": {},
            "source": [
                "Package import:"
            ]
        },
        {
            "cell_type": "code",
            "execution_count": 6,
            "metadata": {},
            "outputs": [
                {
                    "ename": "ImportError",
                    "evalue": "cannot import name 'transform_all'",
                    "output_type": "error",
                    "traceback": [
                        "\u001b[0;31m---------------------------------------------------------------------------\u001b[0m",
                        "\u001b[0;31mImportError\u001b[0m                               Traceback (most recent call last)",
                        "\u001b[0;32m<ipython-input-6-ea366332b0ca>\u001b[0m in \u001b[0;36m<module>\u001b[0;34m\u001b[0m\n\u001b[1;32m      3\u001b[0m                                 \u001b[0mrestrict_to_active_space\u001b[0m\u001b[0;34m\u001b[0m\u001b[0;34m\u001b[0m\u001b[0m\n\u001b[1;32m      4\u001b[0m \u001b[0;32mfrom\u001b[0m \u001b[0mqat\u001b[0m\u001b[0;34m.\u001b[0m\u001b[0mfermion\u001b[0m\u001b[0;34m.\u001b[0m\u001b[0mqchem\u001b[0m\u001b[0;34m.\u001b[0m\u001b[0mdeprecated\u001b[0m\u001b[0;34m.\u001b[0m\u001b[0mucc\u001b[0m \u001b[0;32mimport\u001b[0m \u001b[0minit_uccsd\u001b[0m\u001b[0;34m,\u001b[0m \u001b[0mselect_excitation_operators\u001b[0m\u001b[0;34m,\u001b[0m \u001b[0mbuild_cluster_operator\u001b[0m\u001b[0;34m,\u001b[0m \u001b[0mbuild_ucc_ansatz\u001b[0m\u001b[0;34m\u001b[0m\u001b[0;34m\u001b[0m\u001b[0m\n\u001b[0;32m----> 5\u001b[0;31m \u001b[0;32mfrom\u001b[0m \u001b[0mqat\u001b[0m\u001b[0;34m.\u001b[0m\u001b[0mfermion\u001b[0m\u001b[0;34m.\u001b[0m\u001b[0mqchem\u001b[0m\u001b[0;34m.\u001b[0m\u001b[0mdeprecated\u001b[0m\u001b[0;34m.\u001b[0m\u001b[0mremapping\u001b[0m \u001b[0;32mimport\u001b[0m \u001b[0mtransform_all\u001b[0m\u001b[0;34m,\u001b[0m \u001b[0mremap_all\u001b[0m\u001b[0;34m,\u001b[0m \u001b[0mreduce_qubit_number\u001b[0m\u001b[0;34m\u001b[0m\u001b[0;34m\u001b[0m\u001b[0m\n\u001b[0m\u001b[1;32m      6\u001b[0m \u001b[0;32mfrom\u001b[0m \u001b[0mqat\u001b[0m\u001b[0;34m.\u001b[0m\u001b[0mfermion\u001b[0m\u001b[0;34m.\u001b[0m\u001b[0mqchem\u001b[0m\u001b[0;34m.\u001b[0m\u001b[0mdeprecated\u001b[0m\u001b[0;34m.\u001b[0m\u001b[0mutil\u001b[0m \u001b[0;32mimport\u001b[0m \u001b[0mfrom_QubitOperator_to_IsingHamiltonian\u001b[0m\u001b[0;34m\u001b[0m\u001b[0;34m\u001b[0m\u001b[0m\n\u001b[1;32m      7\u001b[0m \u001b[0;32mfrom\u001b[0m \u001b[0mopenfermion\u001b[0m\u001b[0;34m.\u001b[0m\u001b[0mhamiltonians\u001b[0m \u001b[0;32mimport\u001b[0m \u001b[0mMolecularData\u001b[0m\u001b[0;34m\u001b[0m\u001b[0;34m\u001b[0m\u001b[0m\n",
                        "\u001b[0;31mImportError\u001b[0m: cannot import name 'transform_all'"
                    ]
                }
            ],
            "source": [
                "# Package import:\n",
                "from qat.fermion.chemistry.deprecated.tools import compute_noons, select_active_orbitals, build_molecular_description,\\\n",
                "                                restrict_to_active_space\n",
                "from qat.fermion.chemistry.deprecated.ucc import init_uccsd, select_excitation_operators, build_cluster_operator, build_ucc_ansatz\n",
                "from qat.fermion.chemistrystry.deprecated.remapping import transform_all, remap_all, reduce_qubit_number\n",
                "from chemistryermion.chemistry.deprecated.util import from_QubitOperator_to_IsingHamiltonian\n",
                "from openfermion.hamiltonians import MolecularData"
            ]
        },
        {
            "cell_type": "markdown",
            "metadata": {},
            "source": [
                "### 0. Input\n",
                "\n",
                "To instanciate the ``MolecularData`` class, one needs to select the basis set and the geometry of the molecule (i.e. atoms and nuclear positions.) The ``multiplicity`` parameter should be be set to 1, as ground states are studied (and they are singlet state.)"
            ]
        },
        {
            "cell_type": "code",
            "execution_count": null,
            "metadata": {
                "collapsed": true
            },
            "outputs": [],
            "source": [
                "# Molecule construction:\n",
                "basis = 'sto-3g'\n",
                "multiplicity = 1\n",
                "bond_length = 0.7414 # In Angstrom.\n",
                "geometry = [('H', (0., 0., 0.)), ('H', (0., 0., bond_length))]\n",
                "\n",
                "molecule = MolecularData(geometry, basis, multiplicity)"
            ]
        },
        {
            "cell_type": "markdown",
            "metadata": {},
            "source": [
                "### 1. Active space selection\n",
                "#### a. Reference data\n",
                "\n",
                "This function computes the different data pieces needed for the state\n",
                "preparation and the definition of the Hamiltonian.\n",
                "\n",
                "The Restricted Hartree-Fock (RHF) and truncated Configuration\n",
                "Interaction (CISSD) methods are executed on the molecule passed as\n",
                "various necessary elements are outputed:\n",
                "(spatial) orbital number, electron number, one- and two-electron\n",
                "integrals, orbital energies, natural orbital occupation numbers..."
            ]
        },
        {
            "cell_type": "code",
            "execution_count": null,
            "metadata": {},
            "outputs": [],
            "source": [
                "mol_hf, nb_e, noons, orb_energies = compute_noons(molecule) \n",
                "\n",
                "print(\"Electron number =\", nb_e)\n",
                "print(\"Natural orbital occupation numbers:\", noons)"
            ]
        },
        {
            "cell_type": "markdown",
            "metadata": {},
            "source": [
                "#### b. Active space\n",
                "\n",
                "In order to reduce the size of the problem, an **active space** is defined.\n",
                "\n",
                "By using the CISD comutation, one can get a hint of the occupancy of spatial orbitals. Active ones can then be  easily selected by the following procedure:\n",
                "1. (Already done) Compute natural orbitals occupancy numbers (NOONs) with CISD or CCSD (NOONs are the eigenvalues of 1-body density matrix) ;\n",
                "2. Categorize i-th orbital as: \n",
                "    - Inactive occupied (*core*) i.f.f. \n",
                "         * $n_i \\geqslant 1.98$, and\n",
                "         * It is not the last one occupied ( $\\implies$ at least, one active occupied).\n",
                "    - Inactive unoccupied i.f.f. $n_i \\leqslant n_{\\mathrm{crit}}$ .\n",
                "3. Reduce the problem to active space (implies correction to Hamiltonian coefficients)."
            ]
        },
        {
            "cell_type": "code",
            "execution_count": null,
            "metadata": {
                "collapsed": true
            },
            "outputs": [],
            "source": [
                "active_spin_orbs, active_spatial_orbs, inactive_occupied_spatial_orbs = select_active_orbitals(noons, nb_e,\n",
                "                                                                                               as_selection=1e-3)"
            ]
        },
        {
            "cell_type": "markdown",
            "metadata": {},
            "source": [
                "#### c. Restriction to the active space\n",
                "\n",
                "The relevant data elements are restricted to the selected active."
            ]
        },
        {
            "cell_type": "code",
            "execution_count": null,
            "metadata": {
                "collapsed": true
            },
            "outputs": [],
            "source": [
                "nb_active_spin_orbs, nb_active_electrons, noons_active,\\\n",
                "    orb_energies_active, reindexed_active_orbs = restrict_to_active_space(active_spin_orbs, \n",
                "                                                                          inactive_occupied_spatial_orbs,\n",
                "                                                                          nb_e,\n",
                "                                                                          noons, \n",
                "                                                                          orb_energies)"
            ]
        },
        {
            "cell_type": "markdown",
            "metadata": {},
            "source": [
                "### 2. Construction of the Hamiltonian\n",
                "\n",
                "With the defined active space and the output of the HF method, the molecular Hamiltonian can be built as:\n",
                "$$\n",
                "\\hat{H} = c \\hat{I} +\n",
                "\\sum_{p, q} h_{p, q}\\, \\hat{a}^\\dagger_p \\hat{a}_q +\n",
                "\\frac{1}{2}\\sum_{p,q,r,s} h_{p, q, r, s}\\, \\hat{a}^\\dagger_p \\hat{a}^\\dagger_q \\hat{a}_r \\hat{a}_s\n",
                "$$\n",
                "where one- and two-electron coefficients, $h_{p, q}$ and $h_{p, q, r, s}$, are computed from HF by orbital transformation."
            ]
        },
        {
            "cell_type": "code",
            "execution_count": null,
            "metadata": {
                "collapsed": true
            },
            "outputs": [],
            "source": [
                "hamiltonian_of, two_body_coefficients = build_molecular_description(mol_hf,\n",
                "                                                                    inactive_occupied_spatial_orbs,\n",
                "                                                                    active_spatial_orbs)"
            ]
        },
        {
            "cell_type": "markdown",
            "metadata": {},
            "source": [
                "### 3. Cluster operator construction\n",
                "#### a. Construction of the initial state and parametrization\n",
                "\n",
                "This function builds the HF initial state by simply filling orbitals (fully) from inside to outside.\n",
                "\n",
                "Also, as MP2 gives a better initial guess, the trial parametrization is built from the following equations (obtained by identification in MP2 and CC equation):\n",
                "$$\n",
                "\\theta_a^i = 0 \\qquad \n",
                "    \\theta_{a, b}^{i, j} = \\frac{h_{a, b, j, i} -\n",
                "    h_{a, b, i, j}}{\\epsilon_i + \\epsilon_j -\\epsilon_a -\n",
                "    \\epsilon_b}\n",
                "$$\n",
                "where $\\epsilon_i$ is the energy of the $i$-th orbital."
            ]
        },
        {
            "cell_type": "code",
            "execution_count": null,
            "metadata": {
                "collapsed": true
            },
            "outputs": [],
            "source": [
                "ket_hf_init, active_occupied_orbs, active_unoccupied_orbs, theta_init = init_uccsd(nb_active_spin_orbs, \n",
                "                                                                                   nb_active_electrons, \n",
                "                                                                                   two_body_coefficients, \n",
                "                                                                                   reindexed_active_orbs,\n",
                "                                                                                   orb_energies_active)"
            ]
        },
        {
            "cell_type": "markdown",
            "metadata": {},
            "source": [
                "#### b. Selection of the excitation operators\n",
                "\n",
                "Based on the parameters limiting the number of one- and two-electron excitation terms, the cluster operator $T$ is built. \n",
                "\n",
                "Actually, it is an implementation of UCCSpD as in UCC \"single - paired double\" because only **single** and **singlet double** excitation terms are taken into account, i.e. of the form\n",
                "$$\n",
                "\\hat{a}^\\dagger_a \\hat{a}_i \\qquad \\text{or} \\qquad\n",
                "\\hat{a}^\\dagger_{k, \\uparrow}\\hat{a}^\\dagger_{k, \\downarrow} \\hat{a}_{l, \\uparrow}\\hat{a}_{l, \\downarrow}\n",
                "$$\n",
                "where $k, l$ are *spatial* indices."
            ]
        },
        {
            "cell_type": "code",
            "execution_count": null,
            "metadata": {
                "collapsed": true
            },
            "outputs": [],
            "source": [
                "l_ex_op = select_excitation_operators(noons_active, \n",
                "                                      active_occupied_orbs, \n",
                "                                      active_unoccupied_orbs, \n",
                "                                      max_nb_single_ex=0,\n",
                "                                      max_nb_double_ex=3)     "
            ]
        },
        {
            "cell_type": "markdown",
            "metadata": {},
            "source": [
                "####  c. Construction of the cluster operator\n",
                "\n",
                "Based on the selected excitation operators, the cluster operator is described as a dictionary within OpenFermion's formalism (the keys are the normal-ordered excitation indices and the values are FermionOperator instances.)\n",
                "\n",
                "Moreover, $\\vec{\\theta}$ is also mapped as a dictionary."
            ]
        },
        {
            "cell_type": "code",
            "execution_count": null,
            "metadata": {
                "collapsed": true
            },
            "outputs": [],
            "source": [
                "t_opti, theta_bis = build_cluster_operator(l_ex_op, theta_init)"
            ]
        },
        {
            "cell_type": "markdown",
            "metadata": {},
            "source": [
                "### 4. Mapping to qubit (spin) space\n",
                "\n",
                "####  a. Fermion-qubit transformation\n",
                "\n",
                "The selected transformation is applied to the operators **and** to the HF state. Indeed, some transforms (such as Bravyi-Kitaev) change the encoding of the orbitals and thus, call for some modification of the initial state;\n",
                "\n",
                "Here, the transformations are used as implemented by OpenFermion (be it directly or through user-defined BinaryCode instances.)"
            ]
        },
        {
            "cell_type": "code",
            "execution_count": null,
            "metadata": {
                "collapsed": true
            },
            "outputs": [],
            "source": [
                "h_transformed_of, t_transformed, ket_hf_transformed = transform_all(hamiltonian_of, \n",
                "                                                                 t_opti, \"bk\", ket_hf_init, len(active_spin_orbs))"
            ]
        },
        {
            "cell_type": "markdown",
            "metadata": {},
            "source": [
                "#### b. Remapping\n",
                "\n",
                "Unoccupied qubits that do not experience a population change can be eliminated as they do not contribute.\n",
                "\n",
                "``qubit_mapping`` produces the new numbering of qubits and ``remap_all`` applies it to the relevant elements.\n",
                "\n",
                "**Beware** high numerical sensivity have been experienced with classical eigensolvers. Size reduction helps improve outputs."
            ]
        },
        {
            "cell_type": "code",
            "execution_count": null,
            "metadata": {
                "collapsed": true
            },
            "outputs": [],
            "source": [
                "qubit_mapping = reduce_qubit_number(h_transformed_of, ket_hf_transformed)\n",
                "\n",
                "t_reduced, ket_hf_reduced, theta_0, h_reduced_of = remap_all(t_transformed, \n",
                "                                                             ket_hf_transformed, \n",
                "                                                             theta_bis, \n",
                "                                                             h_transformed_of, \n",
                "                                                             qubit_mapping)"
            ]
        },
        {
            "cell_type": "markdown",
            "metadata": {},
            "source": [
                "### 5. UCC preparation circuit\n",
                "\n",
                "The parametric QRoutine is output by the ``build_ucc_ansatz`` function. It implements the unitary operator $\\hat{U}$ such that:\n",
                "$$\n",
                "\\begin{align*}\n",
                "Q \\vert \\vec{0} \\rangle   \n",
                "    &= \\vert \\mathrm{UCC} (\\vec{\\theta}) \\rangle \\\\\n",
                "    &= e^{T(\\vec{\\theta})} \\vert \\mathrm{HF} \\rangle   \n",
                "\\end{align*}\n",
                "$$"
            ]
        },
        {
            "cell_type": "code",
            "execution_count": null,
            "metadata": {
                "collapsed": true
            },
            "outputs": [],
            "source": [
                "qroutine_uccsd = build_ucc_ansatz(t_reduced, ket_hf_reduced)"
            ]
        },
        {
            "cell_type": "markdown",
            "metadata": {},
            "source": [
                "### 6. Conversion to IsingHamiltonian"
            ]
        },
        {
            "cell_type": "markdown",
            "metadata": {},
            "source": [
                "And finally, the Hamiltonian is described in the right formalism:"
            ]
        },
        {
            "cell_type": "code",
            "execution_count": null,
            "metadata": {
                "collapsed": true
            },
            "outputs": [],
            "source": [
                "h_spin = from_QubitOperator_to_IsingHamiltonian(h_reduced_of, len(ket_hf_reduced))\n",
                "h_vqe = IsingHamiltonian(list_pauli_operators=h_spin.list_pauli_operators,\n",
                "                         list_pauli_values=h_spin.list_pauli_values)"
            ]
        },
        {
            "cell_type": "markdown",
            "metadata": {},
            "source": [
                "### 7. VQE Execution"
            ]
        },
        {
            "cell_type": "markdown",
            "metadata": {},
            "source": [
                "As with the direct execution:"
            ]
        },
        {
            "cell_type": "code",
            "execution_count": null,
            "metadata": {},
            "outputs": [],
            "source": [
                "# Definition of the optimizer, e.g. SPSA:\n",
                "from qat.fermion.optimization import Optimizer\n",
                "from qat.fermion.spsa import spsa_minimize\n",
                "spsa_minimizer = Optimizer(spsa_minimize)\n",
                "\n",
                "# Execution of the VQE:\n",
                "from qat.fermion.vqe import VQE\n",
                "e, param, nb_evals, energies = VQE(h_vqe, spsa_minimizer, qroutine_uccsd, theta_0, \n",
                "                                   linalg_qpu, grouping=False, display=True)"
            ]
        },
        {
            "cell_type": "code",
            "execution_count": null,
            "metadata": {},
            "outputs": [],
            "source": [
                "e.real"
            ]
        }
    ],
    "metadata": {
        "kernelspec": {
            "display_name": "Python 3",
            "language": "python",
            "name": "python3"
        },
        "language_info": {
            "codemirror_mode": {
                "name": "ipython",
                "version": 3
            },
            "file_extension": ".py",
            "mimetype": "text/x-python",
            "name": "python",
            "nbconvert_exporter": "python",
            "pygments_lexer": "ipython3",
            "version": "3.6.8"
        }
    },
    "nbformat": 4,
    "nbformat_minor": 2
}