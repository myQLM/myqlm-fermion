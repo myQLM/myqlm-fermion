{
 "cells": [
  {
   "cell_type": "markdown",
   "metadata": {},
   "source": [
    "## VQE, new syntax\n",
    "\n",
    "Very convenient, because the user now has direct access to the inner workings of VQE (no need for high-level function that hides the details."
   ]
  },
  {
   "cell_type": "code",
   "execution_count": 1,
   "metadata": {},
   "outputs": [],
   "source": [
    "import numpy as np\n",
    "from qat.fermion.jordan_wigner import jordan_wigner_representation\n",
    "from qat.fermion.hamiltonian import FermionicHamiltonian\n",
    "from qat.lang.AQASM import H, RX, RY, CNOT, QRoutine\n",
    "from qat.core import Observable, Term\n",
    "from qat.plugins import ObservableSplitter\n",
    "from qat.linalg import get_qpu_server\n",
    "from qat.lang.AQASM import Program\n",
    "from qat.fermion.hamiltonian import convert_to_observable\n",
    "import scipy.optimize\n",
    "from qat.noisy import NoisyQProc\n",
    "\n",
    "U = 2.0\n",
    "nqbit = 2\n",
    "hpq = np.zeros((nqbit, nqbit))\n",
    "hpq[0,0] = hpq[1,1] = - U/2\n",
    "hpqrs = np.zeros((nqbit, nqbit, nqbit, nqbit))\n",
    "hpqrs[0, 1, 0, 1] = hpqrs[1, 0, 1, 0] = - U\n",
    "\n",
    "hamilt = FermionicHamiltonian(hpq=hpq, hpqrs=hpqrs, mapping=jordan_wigner_representation)\n",
    "\n",
    "def simple_circuit_with_two_parameters(theta):\n",
    "    \"\"\"Take a parameter theta and return the corresponding circuit\"\"\"\n",
    "    Qrout = QRoutine()\n",
    "    Qrout.apply(H,0)\n",
    "    Qrout.apply(RY(theta[0]),0)\n",
    "    Qrout.apply(CNOT, 0,1)\n",
    "    Qrout.apply(RX(theta[1]),1)\n",
    "    return Qrout\n",
    "\n",
    "linalg_qpu = get_qpu_server()\n",
    "obs = convert_to_observable(hamilt)\n",
    "\n",
    "def fun(theta, nbshots, qpu):\n",
    "    prog = Program()\n",
    "    reg = prog.qalloc(obs.nbqbits)\n",
    "    prog.apply(simple_circuit_with_two_parameters(theta), reg)\n",
    "    job = prog.to_circ().to_job(job_type=\"OBS\", observable=obs, nbshots=nbshots)\n",
    "    res = qpu.submit(job)\n",
    "    return res.value\n"
   ]
  },
  {
   "cell_type": "markdown",
   "metadata": {},
   "source": [
    "We now choose a QPU and run the VQE optimization loop:"
   ]
  },
  {
   "cell_type": "code",
   "execution_count": 2,
   "metadata": {},
   "outputs": [
    {
     "name": "stdout",
     "output_type": "stream",
     "text": [
      "[0.49999997 3.14159264] -0.9999999999999998\n",
      "CPU times: user 3.79 s, sys: 538 ms, total: 4.33 s\n",
      "Wall time: 619 ms\n"
     ]
    }
   ],
   "source": [
    "%%time\n",
    "#qpu = ObservableSplitter(method=\"naive\") | linalg_qpu\n",
    "#qpu = linalg_qpu\n",
    "#qpu = NoisyQProc(sim_method='deterministic-vectorized')\n",
    "qpu = ObservableSplitter(method=\"naive\") | NoisyQProc()\n",
    "theta0 = [0.5, 1.23]\n",
    "res = scipy.optimize.minimize(lambda theta: fun(theta, 0, qpu), theta0)\n",
    "print(res.x, res.fun) #exact result = -1"
   ]
  },
  {
   "cell_type": "markdown",
   "metadata": {},
   "source": [
    "## An example using QLM's optimizers (SPSA, Nelder-Mead)"
   ]
  },
  {
   "cell_type": "code",
   "execution_count": 3,
   "metadata": {},
   "outputs": [],
   "source": [
    "# to do"
   ]
  },
  {
   "cell_type": "markdown",
   "metadata": {},
   "source": [
    "## Using ``qat.vsolve``"
   ]
  },
  {
   "cell_type": "code",
   "execution_count": 4,
   "metadata": {},
   "outputs": [],
   "source": [
    "import numpy as np\n",
    "from qat.fermion.jordan_wigner import jordan_wigner_representation\n",
    "from qat.fermion.hamiltonian import FermionicHamiltonian\n",
    "from qat.lang.AQASM import H, RX, RY, CNOT, QRoutine\n",
    "from qat.core import Observable, Term\n",
    "from qat.plugins import ObservableSplitter\n",
    "from qat.linalg import get_qpu_server\n",
    "from qat.lang.AQASM import Program\n",
    "from qat.fermion.hamiltonian import convert_to_observable\n",
    "import scipy.optimize\n",
    "from qat.noisy import NoisyQProc\n",
    "\n",
    "U = 2.0\n",
    "nqbit = 2\n",
    "hpq = np.zeros((nqbit, nqbit))\n",
    "hpq[0,0] = hpq[1,1] = - U/2\n",
    "hpqrs = np.zeros((nqbit, nqbit, nqbit, nqbit))\n",
    "hpqrs[0, 1, 0, 1] = hpqrs[1, 0, 1, 0] = - U\n",
    "\n",
    "hamilt = FermionicHamiltonian(hpq=hpq, hpqrs=hpqrs, mapping=jordan_wigner_representation)\n",
    "\n",
    "def simple_circuit_with_two_parameters(theta):\n",
    "    \"\"\"Take a parameter theta and return the corresponding circuit\"\"\"\n",
    "    Qrout = QRoutine()\n",
    "    Qrout.apply(H,0)\n",
    "    Qrout.apply(RY(theta[0]),0)\n",
    "    Qrout.apply(CNOT, 0,1)\n",
    "    Qrout.apply(RX(theta[1]),1)\n",
    "    return Qrout\n",
    "\n",
    "linalg_qpu = get_qpu_server()\n",
    "obs = convert_to_observable(hamilt)\n",
    "prog = Program()\n",
    "reg = prog.qalloc(obs.nbqbits)\n",
    "prog.apply(simple_circuit_with_two_parameters([prog.new_var(float, 'var_%s'%i) for i in range(2)]), reg)\n",
    "job = prog.to_circ().to_job(job_type=\"OBS\", observable=obs, nbshots=0)\n",
    "\n",
    "theta0 = [0.5, 1.23]\n",
    "from qat.vsolve.optimize import VariationalOptimizer, ScipyMinimize\n",
    "optimizer = VariationalOptimizer(ScipyMinimize(theta0,\n",
    "                                               method=\"COBYLA\",\n",
    "                                               tol=1e-3,\n",
    "                                               options={\"maxiter\": 600}))\n",
    "qpu = optimizer | linalg_qpu\n"
   ]
  },
  {
   "cell_type": "code",
   "execution_count": 5,
   "metadata": {},
   "outputs": [
    {
     "name": "stdout",
     "output_type": "stream",
     "text": [
      "Result(need_flip=False, nbqbits=None, raw_data=None, value=-0.9999996784470463, value_data=None, meta_data={'execution_time': '0.16381621360778809', 'circuit_generation_time': '0.031139373779296875', 'jobs': '29', 'optimization_data': \"     fun: -0.9999996784470463\\n   maxcv: 0.0\\n message: 'Optimization terminated successfully.'\\n    nfev: 29\\n  status: 1\\n success: True\\n       x: array([1.51513946, 3.14272677])\", 'optimization_trace': '[-0.3328811364377487, -0.33288113643774875, -0.8062437828291925, -0.9980473076030404, -0.8976159752473925, -0.8844161357009999, -0.9582590860686855, -0.9917311924822272, -0.9793683929041168, -0.9996749248621015, -0.9970634837395119, -0.9986786549463575, -0.9982907444349202, -0.9995497326211636, -0.9999940627364594, -0.999833004226545, -0.9999725091493277, -0.9999900559055426, -0.9999165454510057, -0.9999665218504141, -0.9999997632864236, -0.9999979266375773, -0.9999998130443086, -0.999997691639017, -0.9999980292345587, -0.999999995453863, -0.9999996800155805, -0.9999999944738216, -0.9999996784470463]'})\n",
      "CPU times: user 10.9 s, sys: 1.06 s, total: 12 s\n",
      "Wall time: 250 ms\n"
     ]
    }
   ],
   "source": [
    "%%time\n",
    "result = qpu.submit(job)\n",
    "print(result)"
   ]
  },
  {
   "cell_type": "code",
   "execution_count": null,
   "metadata": {},
   "outputs": [],
   "source": []
  }
 ],
 "metadata": {
  "kernelspec": {
   "display_name": "Python 3",
   "language": "python",
   "name": "python3"
  },
  "language_info": {
   "codemirror_mode": {
    "name": "ipython",
    "version": 3
   },
   "file_extension": ".py",
   "mimetype": "text/x-python",
   "name": "python",
   "nbconvert_exporter": "python",
   "pygments_lexer": "ipython3",
   "version": "3.6.8"
  }
 },
 "nbformat": 4,
 "nbformat_minor": 2
}
