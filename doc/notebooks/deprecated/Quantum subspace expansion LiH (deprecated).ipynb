{
 "cells": [
  {
   "cell_type": "markdown",
   "metadata": {},
   "source": [
    "# Advanced VQE: Quantum Subspace Expansion for LiH"
   ]
  },
  {
   "cell_type": "markdown",
   "metadata": {},
   "source": [
    "## Direct Hamiltonian description"
   ]
  },
  {
   "cell_type": "markdown",
   "metadata": {},
   "source": [
    "The function ``get_active_space_spin_hamiltonian`` is able to provide only the Hamiltonian. It is very similar to ``ucc``'s ``uccsd`` regarding its parameters."
   ]
  },
  {
   "cell_type": "markdown",
   "metadata": {},
   "source": [
    "The first step is to instantiate OpenFermion's ``MolecularData`` class with the chosen basis set and the studied geometry.\n",
    "\n",
    "Then this object is given as an argument to the function which outputs:\n",
    "- the Hamiltonian,\n",
    "- the number of qubits."
   ]
  },
  {
   "cell_type": "markdown",
   "metadata": {},
   "source": [
    "**Example:** lithium hydride in 6-31G basis at 1.75 Angström (internuclear distance.)"
   ]
  },
  {
   "cell_type": "code",
   "execution_count": 1,
   "metadata": {},
   "outputs": [],
   "source": [
    "# Package import:\n",
    "import numpy as np\n",
    "from qat.dqs.qchem.deprecated.tools import get_active_space_spin_hamiltonian\n",
    "from qat.dqs.qchem.deprecated.to_be_converted import perform_ci_and_ed\n",
    "from qat.dqs.qchem.deprecated.converters import from_QubitOperator_to_IsingHamiltonian\n",
    "from openfermion.hamiltonians import MolecularData"
   ]
  },
  {
   "cell_type": "code",
   "execution_count": 2,
   "metadata": {},
   "outputs": [],
   "source": [
    "# Molecule construction:\n",
    "basis = '6-31g'\n",
    "multiplicity = 1 # Supposed to be set to 1 (i.e. singlet state is assumed!)\n",
    "bond_length = 1.75 # In Angstrom.\n",
    "geometry = [('Li', (0., 0., 0.)), ('H', (0., 0., bond_length))]\n",
    "\n",
    "molecule = MolecularData(geometry, basis, multiplicity)"
   ]
  },
  {
   "cell_type": "code",
   "execution_count": 3,
   "metadata": {},
   "outputs": [
    {
     "name": "stderr",
     "output_type": "stream",
     "text": [
      "/home/tayral/.local/lib/python3.6/site-packages/pyscf/scf/chkfile.py:31: H5pyDeprecationWarning: The default file mode will change to 'r' (read-only) in h5py 3.0. To suppress this warning, pass the mode you need to h5py.File(), or set the global default h5.get_config().default_file_mode, or set the environment variable H5PY_DEFAULT_READONLY=1. Available modes are: 'r', 'r+', 'w', 'w-'/'x', 'a'. See the docs for details.\n",
      "  with h5py.File(chkfile) as fh5:\n",
      "/home/tayral/.local/lib/python3.6/site-packages/pyscf/lib/misc.py:876: H5pyDeprecationWarning: The default file mode will change to 'r' (read-only) in h5py 3.0. To suppress this warning, pass the mode you need to h5py.File(), or set the global default h5.get_config().default_file_mode, or set the environment variable H5PY_DEFAULT_READONLY=1. Available modes are: 'r', 'r+', 'w', 'w-'/'x', 'a'. See the docs for details.\n",
      "  h5py.File.__init__(self, filename, *args, **kwargs)\n"
     ]
    }
   ],
   "source": [
    "hamiltonian, nb_qubits = get_active_space_spin_hamiltonian(molecule)\n",
    "\n",
    "# Optional parameters are:\n",
    "#  - The transformation: transformation='bk',\n",
    "#  - The numerical threshold: threshold=1e-15, \n",
    "#  - The active space selection criterion: as_selection=0.001,\n",
    "#        - either the lower limit value for the NOONs of active orbitals, \n",
    "#        - or the list of active orbitals.  \n",
    "#  - The transformation as a BinaryCode, for user-defined ones: code=None, \n",
    "#  - The reduction of trivially acted-upon qubits (valid for Braavyi-Kitaev, in certain basis): reduction=False, \n",
    "#  - The display of the Hamiltonian under fermionic form: print_fermionic_hamiltonian=False."
   ]
  },
  {
   "cell_type": "markdown",
   "metadata": {},
   "source": [
    "## Reference value calculation"
   ]
  },
  {
   "cell_type": "markdown",
   "metadata": {},
   "source": [
    "The quality of the VQE output can be evaluted through comparison with:\n",
    "- the exact energy i.e. from *Full Configuration Interaction* ;\n",
    "- the encoded energy i.e. from classical diagonalization of the Hamiltonian matrix.\n",
    "\n",
    "The second comparison is more relevant as the VQE is first and foremost an eigensolver and is real input is the Hamiltonian (not the \"brute\" molecule)."
   ]
  },
  {
   "cell_type": "markdown",
   "metadata": {},
   "source": [
    "The function ``get_reference_values`` always provides the FCI energy (thanks to ``PySCF``) and if the Hamiltonian is of reasonable size, its smallest eigenvalue."
   ]
  },
  {
   "cell_type": "markdown",
   "metadata": {},
   "source": [
    "*Note: the Hamiltonian matrix is built using ``scipy.sparse``'s sparse matrices and diagonalized in this framework.*"
   ]
  },
  {
   "cell_type": "markdown",
   "metadata": {},
   "source": [
    "**Example:** water molecule in 3-21G basis at internuclear distance 1 Angström and bond angle 50°."
   ]
  },
  {
   "cell_type": "code",
   "execution_count": 4,
   "metadata": {},
   "outputs": [],
   "source": [
    "# Molecule construction:\n",
    "basis = '3-21g'\n",
    "multiplicity = 1 # Supposed to be set to 1 (i.e. singlet state is assumed!)\n",
    "bond_length = 1 # In Angstrom.\n",
    "bond_angle = 50 # In degrees.\n",
    "geometry = [('O', (0., 0., 0.)), \n",
    "            ('H', (bond_length, 0., 0.)), \n",
    "            ('H', (bond_length*np.cos(bond_angle), bond_length*np.sin(bond_angle), 0.))]\n",
    "\n",
    "molecule = MolecularData(geometry, basis, multiplicity)"
   ]
  },
  {
   "cell_type": "code",
   "execution_count": 5,
   "metadata": {},
   "outputs": [
    {
     "name": "stdout",
     "output_type": "stream",
     "text": [
      "FCI and ED energies:  -74.7825725478948 -74.66228226227454\n"
     ]
    }
   ],
   "source": [
    "h_ising, nb_qubits = get_active_space_spin_hamiltonian(molecule, \n",
    "                                                       as_selection=1e-2) # To reduce the size of the active \n",
    "                                                                          # (and thus of the Hamiltonian.)\n",
    "\n",
    "e_fci, e_diag = perform_ci_and_ed(molecule, h_ising, nb_qubits)\n",
    "print(\"FCI and ED energies: \", e_fci, e_diag)"
   ]
  },
  {
   "cell_type": "markdown",
   "metadata": {},
   "source": [
    "## Quantum Subspace Expansion"
   ]
  },
  {
   "cell_type": "markdown",
   "metadata": {},
   "source": [
    "*Source material: https://arxiv.org/abs/1603.05681, https://arxiv.org/abs/1707.06408, https://arxiv.org/abs/1807.10050*"
   ]
  },
  {
   "cell_type": "markdown",
   "metadata": {},
   "source": [
    "The VQE algorithm exhibits a \"natural\" robustness against errors, especially regarding $\\vec{\\theta}^\\star$, the optimal value of the parameter. Unfortunately, the energy evalutation (i.e. mean-value measurement) can still suffer from important errors. \n",
    "\n",
    "McClean *et al.* drew inspiration from the classical *Linear Response Theory* which is widely used in perturbation theory and error mitigation, to design an efficient extension to the VQE, the *Quantum Subspace Expansion* (QSE). The core idea is to expand the Hamiltonian post-VQE on a well-chosen subspace (i.e. where an improved, lower, energy lies) and solve classically the associated generalized eigeinvalue problem with the hope of getting an improved value for the ground state energy."
   ]
  },
  {
   "cell_type": "markdown",
   "metadata": {},
   "source": [
    "More precisely, the QSE can be splitted into different steps:\n",
    "1. Choice of qubit operators;\n",
    "2. Expansion of the Hamiltonian on the subspace defined by the two previous choices; Construction of the overlap matrix;\n",
    "3. Resolution of the generalized eigenvalue problem.\n",
    "\n",
    "Thus, the $n$-qubit QSE using $G$ as the chosen set of $n$-qubit operators, is associated  with the following state subspace:\n",
    "$$\n",
    "    \\{ \\hat{\\sigma}|\\psi^\\star\\rangle, \\qquad \\hat{\\sigma} \\in G \\}\n",
    "$$\n",
    "where $|\\psi^\\star\\rangle = |\\mathrm{UCC}(\\vec{\\theta}^\\star)\\rangle$ is the output of the VQE.  \n",
    "The expanded Hamiltonian and overlap matrices, $(H_{i, j})$ and $(S_{i, j})$, are then measured *via* a quantum computer, i.e.\n",
    "$$\n",
    "    H_{i, j} = \\langle \\psi^\\star | \\hat{\\sigma}_i^\\dagger \\hat{H} \\hat{\\sigma}_j | \\psi^\\star\\rangle \\qquad\n",
    "    S_{i, j} = \\langle \\psi^\\star | \\hat{\\sigma}_i^\\dagger \\hat{\\sigma}_j | \\psi^\\star\\rangle\n",
    "$$\n",
    "Finally, the associated generalized eigenvalue problem is solved classically and the minimal solution is extracted, i.e.\n",
    "$$\n",
    "    E_{\\mathrm{QSE}} = \\min\\{E, \\qquad H \\vec{x} = E S \\vec{x}\\}\n",
    "$$"
   ]
  },
  {
   "cell_type": "markdown",
   "metadata": {},
   "source": [
    "If $G$ is a set of 1-qubit operators (more exactly, $n$-qubit operators acting non-identically only on 1 qubit), the expansion is said to be *linear*.  \n",
    "If $G$ is a set of Pauli operators, it is named a Pauli expansion."
   ]
  },
  {
   "cell_type": "markdown",
   "metadata": {},
   "source": [
    "*Note: The selection of $G$ is really difficult as some choices can give outwardly bad results. Some of the best results are given by choosing $G$ as the set of symmetry operators of the Hamiltonian.*"
   ]
  },
  {
   "cell_type": "markdown",
   "metadata": {},
   "source": [
    "**Example:** dihydrogen in STO-3G basis at internuclear distance 0.7414 Angström and simulated on an IBM chip."
   ]
  },
  {
   "cell_type": "code",
   "execution_count": 1,
   "metadata": {},
   "outputs": [],
   "source": [
    "from openfermion import MolecularData\n",
    "from openfermion.ops import QubitOperator\n",
    "from qat.dqs.qchem.deprecated.ucc import uccsd\n",
    "from qat.dqs.qchem.deprecated.qse import apply_quantum_subspace_expansion\n",
    "from qat.dqs.hamiltonian import IsingHamiltonian\n",
    "from qat.dqs.vqe import VQE\n",
    "\n",
    "from qat.dqs.optimization import Optimizer\n",
    "from qat.dqs.spsa import spsa_minimize\n",
    "spsa_optimizer = Optimizer(spsa_minimize)"
   ]
  },
  {
   "cell_type": "code",
   "execution_count": 2,
   "metadata": {},
   "outputs": [],
   "source": [
    "# Molecule construction:\n",
    "basis = 'sto-3g'\n",
    "multiplicity = 1 # Supposed to be set to 1 (i.e. singlet state is assumed!)\n",
    "bond_length = 0.7414 # In Angstrom.\n",
    "geometry = [('H', (0., 0., 0.)), ('H', (0., 0., bond_length))]\n",
    "\n",
    "molecule = MolecularData(geometry, basis, multiplicity)"
   ]
  },
  {
   "cell_type": "code",
   "execution_count": 7,
   "metadata": {},
   "outputs": [],
   "source": [
    "# Noisy QPU construction:\n",
    "from qat.quops.quantum_channels import ParametricPureDephasing, ParametricAmplitudeDamping\n",
    "from qat.hardwares.default import HardwareModel\n",
    "from qat.hardwares.default import DefaultGatesSpecification\n",
    "\n",
    "from qat.linalg import get_qpu_server\n",
    "from qat.noisy import get_qpu_server as get_noisy_qpu_server\n",
    "\n",
    "def get_ibm_noisy_gpu():\n",
    "\n",
    "    gate_durations = {\"H\":50, \"X\":50,\"RY\": lambda angle : 200, \"RX\": lambda angle : 200,\"RZ\": lambda angle : 200,\"CNOT\":200, \"PH\": lambda angle : 200}\n",
    "\n",
    "    ibm_gates_spec = DefaultGatesSpecification(gate_durations)\n",
    "\n",
    "    T1, T2 = 40000, 40000 #nanosecs\n",
    "\n",
    "    amp_damping = ParametricAmplitudeDamping(T_1 = T1)\n",
    "    pure_dephasing = ParametricPureDephasing(T_phi = 1/(1/T2 - 1/(2*T1)))\n",
    "\n",
    "    return get_noisy_qpu_server(hardware_model = HardwareModel(ibm_gates_spec,\n",
    "                                                               idle_noise = [amp_damping, pure_dephasing]),\n",
    "                                sim_method = \"deterministic\")\n",
    "    \"\"\"\n",
    "    return get_noisy_qpu_server()\n",
    "    \"\"\"\n",
    "\n",
    "my_noisy_qpu = get_ibm_noisy_gpu()"
   ]
  },
  {
   "cell_type": "code",
   "execution_count": 11,
   "metadata": {},
   "outputs": [],
   "source": [
    "# State preparation:\n",
    "qroutine_uccsd, theta_0, h_spin, nb_qubits = uccsd(molecule, transformation='bk', reduction = False)\n"
   ]
  },
  {
   "cell_type": "code",
   "execution_count": 12,
   "metadata": {},
   "outputs": [
    {
     "name": "stdout",
     "output_type": "stream",
     "text": [
      "theta0= [0.03632537-0.j]\n",
      "Precision reached ( 0.0001 ), iteration number = 9\n",
      "E VQE= (-0.968867709591744+0j)\n"
     ]
    }
   ],
   "source": [
    "# VQE execution:\n",
    "print(\"theta0=\", theta_0)\n",
    "h_vqe = IsingHamiltonian(list_pauli_operators=h_spin.list_pauli_operators,\n",
    "                      list_pauli_values = h_spin.list_pauli_values)\n",
    "e_vqe, param_vqe, nb_evals, energies = VQE(h_vqe, spsa_optimizer, qroutine_uccsd, theta_0, \n",
    "                                           my_noisy_qpu, grouping=False, display=False)\n",
    "\n",
    "print(\"E VQE=\", e_vqe)"
   ]
  },
  {
   "cell_type": "code",
   "execution_count": 11,
   "metadata": {},
   "outputs": [],
   "source": [
    "# QSE execution:\n",
    "\n",
    "#expansion_operators = [QubitOperator(''), QubitOperator('Z0 Z1')]\n",
    "expansion_operators = [IsingHamiltonian([[\"I\", \"I\"]], [1.]), IsingHamiltonian([[\"Z\", \"Z\"]], [1.])]\n",
    "\n",
    "# Symmetry based choice (see third source material above.)\n",
    "\n",
    "e_qse = apply_quantum_subspace_expansion(h_spin, \n",
    "                                         nb_qubits, \n",
    "                                         qroutine_uccsd(param_vqe),\n",
    "                                         expansion_operators, \n",
    "                                         my_noisy_qpu,\n",
    "                                         return_matrices=False)"
   ]
  },
  {
   "cell_type": "code",
   "execution_count": 12,
   "metadata": {},
   "outputs": [],
   "source": [
    "# Reference value computation:\n",
    "e_fci, e_diag = perform_ci_and_ed(molecule, h_spin, nb_qubits)"
   ]
  },
  {
   "cell_type": "code",
   "execution_count": 13,
   "metadata": {},
   "outputs": [
    {
     "name": "stdout",
     "output_type": "stream",
     "text": [
      "Energy comparison (gap to encoded energy) in Hartree:\n",
      "Noisy VQE ground state energy:     -1.1372701746002212 (6.068234803535688e-11)\n",
      "Noisy VQE+QSE ground state energy: -1.137270174600222 (6.068145985693718e-11)\n",
      "Encoded ground state energy:       -1.1372701746609035 (0)\n",
      "FCI ground state energy:           -1.1372701746609022\n"
     ]
    }
   ],
   "source": [
    "# Comparison:\n",
    "print('Energy comparison (gap to encoded energy) in Hartree:')\n",
    "print('Noisy VQE ground state energy:     {} ({})'.format(e_vqe.real, e_vqe.real - e_diag))\n",
    "print('Noisy VQE+QSE ground state energy: {} ({})'.format(e_qse, e_qse - e_diag)) \n",
    "print('Encoded ground state energy:       {} (0)'.format(e_diag)) \n",
    "print('FCI ground state energy:           {}'.format(e_fci)) "
   ]
  },
  {
   "cell_type": "code",
   "execution_count": null,
   "metadata": {},
   "outputs": [],
   "source": []
  }
 ],
 "metadata": {
  "kernelspec": {
   "display_name": "Python 3",
   "language": "python",
   "name": "python3"
  },
  "language_info": {
   "codemirror_mode": {
    "name": "ipython",
    "version": 3
   },
   "file_extension": ".py",
   "mimetype": "text/x-python",
   "name": "python",
   "nbconvert_exporter": "python",
   "pygments_lexer": "ipython3",
   "version": "3.6.8"
  }
 },
 "nbformat": 4,
 "nbformat_minor": 2
}
