{
 "cells": [
  {
   "cell_type": "markdown",
   "metadata": {},
   "source": [
    "This notebook shows how to use the one and two body integrals computed using OpenFermion and a quantum chemistry package like pySCF in order to construct a fermionic Hamiltonian on the QLM.\n",
    "\n",
    "OpenFermion and qat-dqs use slightly different conventions for the definition of the second quantized Hamiltonian:\n",
    "\n",
    "$$ H_\\mathrm{OpenFermion}=\\sum_{pq}h_{pq}c_p^\\dagger c_q + \\sum_{pqrs} \\tilde{h}_{pqrs}c_p^\\dagger c_q^\\dagger c_r c_s $$\n",
    "\n",
    "$$ H_\\mathrm{QLM}=\\sum_{pq}h_{pq}c_p^\\dagger c_q + \\frac{1}{2} \\sum_{pqrs} h_{pqrs}c_p^\\dagger c_q^\\dagger c_r c_s $$\n",
    "\n",
    "In the notebook below, we take the example of a $H_2$ molecule."
   ]
  },
  {
   "cell_type": "code",
   "execution_count": null,
   "metadata": {
    "collapsed": true
   },
   "outputs": [],
   "source": [
    "from openfermion.hamiltonians import MolecularData\n",
    "from openfermionpyscf import run_pyscf\n",
    "\n",
    "diatomic_bond_length = 0.75\n",
    "geometry = [('H', (0., 0., 0.)), ('H', (0., 0., diatomic_bond_length))]\n",
    "\n",
    "molecule = MolecularData(geometry, basis='sto-3g', multiplicity=1)\n",
    "_ = run_pyscf(molecule, run_fci=True)\n",
    "openfermion_hamiltonian = molecule.get_molecular_hamiltonian()\n",
    "\n",
    "from qat.dqs.hamiltonians import FermionicHamiltonian\n",
    "qlm_hamiltonian = FermionicHamiltonian(hpq=openfermion_hamiltonian.one_body_tensor,\n",
    "                                       hpqrs=2 * openfermion_hamiltonian.two_body_tensor)"
   ]
  },
  {
   "cell_type": "markdown",
   "metadata": {},
   "source": [
    "We can check that both Hamiltonians have the same ground-state energy:"
   ]
  },
  {
   "cell_type": "code",
   "execution_count": null,
   "metadata": {
    "collapsed": true
   },
   "outputs": [],
   "source": [
    "import numpy as np\n",
    "from openfermion.transforms import get_sparse_operator\n",
    "\n",
    "matrix = get_sparse_operator(openfermion_hamiltonian)\n",
    "eigvals = np.linalg.eigvals(matrix.A)\n",
    "print(\"OpenFermion GS energy:\", min(eigvals))\n",
    "\n",
    "eigvals, _ = qlm_hamiltonian.get_eigenenergy()\n",
    "print(\"QLM GS energy:\", min(eigvals) + openfermion_hamiltonian.constant)"
   ]
  },
  {
   "cell_type": "code",
   "execution_count": null,
   "metadata": {
    "collapsed": true
   },
   "outputs": [],
   "source": []
  }
 ],
 "metadata": {
  "kernelspec": {
   "display_name": "Python 3",
   "language": "python",
   "name": "python3"
  },
  "language_info": {
   "codemirror_mode": {
    "name": "ipython",
    "version": 3
   },
   "file_extension": ".py",
   "mimetype": "text/x-python",
   "name": "python",
   "nbconvert_exporter": "python",
   "pygments_lexer": "ipython3",
   "version": "3.6.8"
  }
 },
 "nbformat": 4,
 "nbformat_minor": 2
}
