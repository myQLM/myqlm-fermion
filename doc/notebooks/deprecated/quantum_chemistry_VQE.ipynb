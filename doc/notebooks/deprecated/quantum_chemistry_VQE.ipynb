{
    "cells": [
        {
            "cell_type": "markdown",
            "metadata": {
                "slideshow": {
                    "slide_type": "slide"
                }
            },
            "source": [
                "# Quantum chemistry with a quantum computer\n",
                "\n",
                "## Quantum chemistry\n",
                "\n",
                "The bottleneck of many quantum chemistry calculations is to compute the energies of molecules. They are defined as the eigenvalues of the following problem:\n",
                "\n",
                "$$ H |\\psi\\rangle = E |\\psi\\rangle $$\n",
                "\n",
                "where $H$ is the Hamiltonian of the molecule, $|\\psi\\rangle$ is an eigenvector of $H$, and $E$ the corresponding eigenenergy. Finding $|\\psi\\rangle$ and $E$ is a computational task that is, on a classical computer, exponentially costly in the number of chemical orbitals of the Hamiltonian.\n",
                "\n",
                "The promise of quantum computers is to make this task less costly by using the quantum nature of the computation."
            ]
        },
        {
            "cell_type": "markdown",
            "metadata": {
                "slideshow": {
                    "slide_type": "slide"
                }
            },
            "source": [
                "## Variational Quantum Eigensolver\n",
                "The **Variational Quantum Eigensolver** method solves the following minimization problem :\n",
                "$$\n",
                "E = \\min_{\\vec{\\theta}}\\; \\langle \\psi(\\vec{\\theta}) \\,|\\, \\hat{H} \\,|\\, \\psi(\\vec{\\theta}) \\rangle\n",
                "$$\n",
                "where $\\hat{H}$ is the molecular Hamiltonian (at fixed geometry) and $|\\psi(\\vec{\\theta})\\rangle$ is a parametrized state used to explore the state space.\n",
                "\n",
                "The role of the **quantum computer** is to construct a trial wavefunction $|\\psi(\\vec{\\theta})\\rangle$ and measure its energy $\\langle \\psi(\\vec{\\theta}) \\,|\\, \\hat{H} \\,|\\, \\psi(\\vec{\\theta}) \\rangle$. A **classical optimizer** uses this energy to find an optimal value of the angles.\n",
                "\n",
                "The package ``qat.fermion.chemistry.ucc`` provides tools to construct a particular type of trial wavefunction called \"unitary coupled cluster\" ansatz, which is known to work well in quantum chemistry."
            ]
        },
        {
            "cell_type": "markdown",
            "metadata": {
                "slideshow": {
                    "slide_type": "slide"
                }
            },
            "source": [
                "## Unitary coupled cluster ansatz\n",
                "The UCC trial state is of the form:\n",
                "$$\n",
                "|\\psi(\\vec{\\theta})\\rangle = e^{\\hat{T}(\\vec{\\theta}) - \\hat{T}^\\dagger(\\vec{\\theta})} |0\\rangle\n",
                "$$\n",
                "where $\\hat{T}(\\theta)$ is the *cluster operator*. Its non-truncated form is given by:\n",
                "$$\n",
                "\\hat{T}(\\vec{\\theta}) = \\hat{T}_1(\\vec{\\theta}) + \\hat{T}_2(\\vec{\\theta}) + \\cdots\n",
                "$$\n",
                "where\n",
                "$$\n",
                "\\hat{T}_1 = \\sum_{a\\in U}\\sum_{i \\in O} \\theta_a^i\\, \\hat{a}_a^\\dagger \\hat{a}_i \\qquad\n",
                "\\hat{T}_2 = \\sum_{a>b\\in U}\\sum_{i>j\\in O} \\theta_{a, b}^{i, j}\\, \\hat{a}^\\dagger_a \\hat{a}^\\dagger_b \\hat{a}_i \\hat{a}_j \\qquad\n",
                "\\cdots\n",
                "$$\n",
                "($O$ is the set of occupied orbitals and $U$, the set of unoccupied ones.)\n",
                "\n",
                "This notebook will describe how to construct such a UCC ansatz."
            ]
        },
        {
            "cell_type": "markdown",
            "metadata": {
                "slideshow": {
                    "slide_type": "slide"
                }
            },
            "source": [
                "## Description of the molecule: dihydrogen\n",
                "One first has to describe the geometry and atomic content of the molecule.\n",
                "\n",
                "\n",
                "This is done, in the cell below, using OpenFermion's ``MolecularData`` class, where we specify the chosen basis set and the studied geometry. Here, we chose to study dihydrogen in the so-called STO-3G basis at 0.7414 Angström (internuclear distance.)"
            ]
        },
        {
            "cell_type": "code",
            "execution_count": 1,
            "metadata": {
                "collapsed": true,
                "slideshow": {
                    "slide_type": "fragment"
                }
            },
            "outputs": [],
            "source": [
                "from qat.fermion.chemistry.ucc import uccsd\n",
                "from openfermion.hamiltonians import MolecularData\n",
                "\n",
                "# Molecule construction:\n",
                "basis = 'sto-3g'\n",
                "multiplicity = 1 # Supposed to be set to 1 (i.e. singlet state is assumed!)\n",
                "bond_length = 0.7414 # In Angstrom.\n",
                "geometry = [('H', (0., 0., 0.)), ('H', (0., 0., bond_length))]\n",
                "\n",
                "molecule = MolecularData(geometry, basis, multiplicity)"
            ]
        },
        {
            "cell_type": "markdown",
            "metadata": {
                "slideshow": {
                    "slide_type": "slide"
                }
            },
            "source": [
                "## Construction of the UCC ansatz\n",
                "Then this object is given as argument to the function which outputs:\n",
                "- the parametric state preparation (as a function outputing a QRoutine),\n",
                "- the initial parameter set,\n",
                "- the Hamiltonian,\n",
                "- the number of qubits.\n",
                "\n",
                "These elements can then be used in a VQE algorithm."
            ]
        },
        {
            "cell_type": "code",
            "execution_count": 2,
            "metadata": {
                "collapsed": true,
                "slideshow": {
                    "slide_type": "fragment"
                }
            },
            "outputs": [],
            "source": [
                "qroutine_uccsd, theta_0, h_spin, nb_qubits = uccsd(molecule)\n",
                "\n",
                "# Optional parameters are:\n",
                "#  - The transformation: transformation='bk',\n",
                "#  - The numerical threshold: threshold=1e-15, \n",
                "#  - The active space selection criterion: as_selection=0.001,\n",
                "#        - either the lower limit value for the NOONs of active orbitals, \n",
                "#        - or the list of active orbitals.  \n",
                "#  - The numbers of single and double excitations to consider: max_nb_single_ex=0, max_nb_double_ex=3, \n",
                "#  - The transformation as a BinaryCode, for user-defined ones: code=None, \n",
                "#  - The reduction of trivially acted-upon qubits (valid for Braavyi-Kitaev, in certain basis): reduction=False, \n",
                "#  - The approximation of double excitation excitations transformed by Bravyi-Kitaev: approx=True."
            ]
        },
        {
            "cell_type": "markdown",
            "metadata": {
                "slideshow": {
                    "slide_type": "slide"
                }
            },
            "source": [
                "## VQE execution\n",
                "\n",
                "### Choice of optimizer"
            ]
        },
        {
            "cell_type": "code",
            "execution_count": 3,
            "metadata": {
                "collapsed": true,
                "slideshow": {
                    "slide_type": "fragment"
                }
            },
            "outputs": [],
            "source": [
                "# Definition of the optimizer, e.g. SPSA:\n",
                "from qat.fermion.optimization import Optimizer\n",
                "from qat.fermion.spsa import spsa_minimize\n",
                "spsa_minimizer = Optimizer(spsa_minimize)"
            ]
        },
        {
            "cell_type": "markdown",
            "metadata": {
                "slideshow": {
                    "slide_type": "slide"
                }
            },
            "source": [
                "### Choice of QPU, and execution"
            ]
        },
        {
            "cell_type": "code",
            "execution_count": 4,
            "metadata": {
                "slideshow": {
                    "slide_type": "fragment"
                }
            },
            "outputs": [
                {
                    "name": "stdout",
                    "output_type": "stream",
                    "text": [
                        "Precision reached ( 0.0001 ), iteration number = 8\n",
                        "Energy = (-1.1372701745250948+0j) Optimized parameters = [0.11305897+0.j] \n",
                        " Number of function evaluations = 8\n",
                        "VQE energy= -1.1372701745250948\n"
                    ]
                }
            ],
            "source": [
                "# Definition of the QPU, e.g. LinAlg:\n",
                "from qat.linalg import get_qpu_server as get_linalg_qpu\n",
                "my_linalg_qpu = get_linalg_qpu()\n",
                "\n",
                "from qat.fermion.hamiltonians import IsingHamiltonian\n",
                "h_vqe = IsingHamiltonian(list_pauli_operators=h_spin.list_pauli_operators,\n",
                "                         list_pauli_values = h_spin.list_pauli_values)\n",
                "\n",
                "# Execution of the VQE:\n",
                "from qat.fermion.vqe import VQE\n",
                "e, param, nb_evals, energies = VQE(h_vqe,  spsa_minimizer, qroutine_uccsd, theta_0, \n",
                "                                   my_linalg_qpu, grouping=False, display=True)\n",
                "\n",
                "print(\"VQE energy=\", e.real)"
            ]
        },
        {
            "cell_type": "markdown",
            "metadata": {
                "slideshow": {
                    "slide_type": "slide"
                }
            },
            "source": [
                "## Adding noise\n",
                "\n",
                "Later."
            ]
        },
        {
            "cell_type": "code",
            "execution_count": null,
            "metadata": {
                "collapsed": true
            },
            "outputs": [],
            "source": []
        }
    ],
    "metadata": {
        "celltoolbar": "Diaporama",
        "kernelspec": {
            "display_name": "Python 3",
            "language": "python",
            "name": "python3"
        },
        "language_info": {
            "codemirror_mode": {
                "name": "ipython",
                "version": 3
            },
            "file_extension": ".py",
            "mimetype": "text/x-python",
            "name": "python",
            "nbconvert_exporter": "python",
            "pygments_lexer": "ipython3",
            "version": "3.6.8"
        }
    },
    "nbformat": 4,
    "nbformat_minor": 2
}