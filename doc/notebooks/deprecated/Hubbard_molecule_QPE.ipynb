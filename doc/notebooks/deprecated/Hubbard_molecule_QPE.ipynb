{
 "cells": [
  {
   "cell_type": "markdown",
   "metadata": {},
   "source": [
    "# Quantum Phase Estimation on the Hubbard molecule\n",
    "\n",
    "We would like to study the \"Hubbard dimer\" molecule, whose Hamiltonian reads:\n",
    "\n",
    "$$H=-t\\sum_{\\sigma=\\uparrow,\\downarrow}\\left(c_{1\\sigma}^{\\dagger}c_{2\\sigma}+c_{2\\sigma}^{\\dagger}c_{1\\sigma}\\right)-\\mu\\sum_{i=1,2}\\sum_{\\sigma=\\uparrow,\\downarrow}n_{i\\sigma}+U\\sum_{i=1,2}n_{i\\uparrow}n_{i\\downarrow}$$\n",
    "\n",
    "with $n_{i\\sigma} = c^\\dagger_{i\\sigma} c_{i\\sigma}$. We will choose $\\mu=U/2$ to keep the number of electrons at one per site."
   ]
  },
  {
   "cell_type": "code",
   "execution_count": null,
   "metadata": {},
   "outputs": [],
   "source": [
    "%load_ext autoreload\n",
    "%autoreload 2\n",
    "import numpy as np\n",
    "import itertools\n",
    "from qat.linalg import get_qpu_server\n",
    "from qat.fermion.hamiltonians import ElectronicStructureHamiltonian\n",
    "from qat.fermion.phase_estimation import perform_phase_estimation\n",
    "\n",
    "\n",
    "def make_H(t):\n",
    "    U = 1.0\n",
    "    nqbit = 4\n",
    "    # set h_pq\n",
    "    # by convention: (i, sig) = 2*i + sig with i: site index and sig: spin index\n",
    "    hpq = np.zeros((nqbit, nqbit))\n",
    "    ## hopping\n",
    "    for sig in [0, 1]:\n",
    "        hpq[2 * 0 + sig,2 * 1 + sig] = - t\n",
    "        hpq[2 * 1 + sig,2 * 0 + sig] = - t\n",
    "    ## chemical potential\n",
    "    for i in [0, 1]:\n",
    "        for sig in [0, 1]:\n",
    "            hpq[2 * i + sig,2 * i + sig] = - U/2\n",
    "\n",
    "    # h_pqrs: Hubbard interaction\n",
    "    hpqrs = np.zeros((nqbit, nqbit, nqbit, nqbit))\n",
    "    for i in [0, 1]:\n",
    "        for sig in [0, 1]:\n",
    "            hpqrs[2 * i + sig, 2 * i + 1-sig, 2 * i + sig, 2 * i + 1-sig] = - U\n",
    "\n",
    "    hamilt = ElectronicStructureHamiltonian(hpq=hpq, hpqrs=hpqrs)\n",
    "    return hamilt\n",
    "\n",
    "t = 0.2\n",
    "\n",
    "hamilt = make_H(t)\n",
    "eigvals, eigvecs = hamilt.eigenenergies()\n",
    "E0 = min(eigvals)\n",
    "print(\"Exact energy = \", E0)\n",
    "print(\"eigvals =\", eigvals)\n",
    "\n",
    "\n",
    "qpu = get_qpu_server()\n",
    "nqbits_adiab = 6\n",
    "nqbits_phase = 6\n",
    "target_energy = E0 + 0.05\n",
    "\n",
    "print(\"Guess energy =\", target_energy)\n",
    "\n",
    "for n_adiab_steps, n_trotter_steps in itertools.product([2], [4]):\n",
    "    energy, prob, eigvec = perform_phase_estimation(hamilt, nqbits_adiab, nqbits_phase, n_adiab_steps, n_trotter_steps,\n",
    "                                                    target_energy, 0.2, 0.2,\n",
    "                                                    qpu = qpu,\n",
    "                                                    n_shots=np.inf, verbose=True)\n",
    "    print(\"-> n_adiab_steps =%s, n_trotter=%s, E = %s\"%(n_adiab_steps,n_trotter_steps, energy))"
   ]
  },
  {
   "cell_type": "markdown",
   "metadata": {},
   "source": [
    "Note that one can of course change the ideal QPU for a noisy one.\n",
    "\n",
    "The circuit used for phase estimation is accessible via the function ``make_phase_estimation_circuit``:"
   ]
  },
  {
   "cell_type": "code",
   "execution_count": null,
   "metadata": {},
   "outputs": [],
   "source": [
    "from qat.fermion.phase_estimation import make_phase_estimation_circuit\n",
    "n_adiab_steps = 2\n",
    "n_trotter_steps = 1\n",
    "circ = make_phase_estimation_circuit(hamilt, nqbits_adiab, nqbits_phase, n_adiab_steps, n_trotter_steps,\n",
    "                                     target_energy, 0.2, 0.2)\n",
    "\n",
    "print(\"Depth of PEA circuit =\", len(circ))"
   ]
  },
  {
   "cell_type": "markdown",
   "metadata": {},
   "source": [
    "## Trotterisation\n",
    "\n",
    "``qat.fermion.trotterisation`` also provides a trotterization routine (in the Jordan-Wigner representation) which returns a ``QRoutine`` approximating the unitary evolution $\\exp(-iHt)$:"
   ]
  },
  {
   "cell_type": "code",
   "execution_count": null,
   "metadata": {},
   "outputs": [],
   "source": [
    "from qat.fermion.trotterisation import trotterisation\n",
    "from qat.lang.AQASM import Program\n",
    "\n",
    "n_trotter_steps = 1\n",
    "final_time = 1\n",
    "\n",
    "prog = Program()\n",
    "reg = prog.qalloc(hamilt.hpq.shape[0])\n",
    "prog.apply(trotterisation(hamilt, n_trotter_steps, final_time), reg)\n",
    "\n",
    "circ = prog.to_circ()\n",
    "\n",
    "%qatdisplay circ"
   ]
  },
  {
   "cell_type": "code",
   "execution_count": null,
   "metadata": {
    "collapsed": true
   },
   "outputs": [],
   "source": []
  }
 ],
 "metadata": {
  "kernelspec": {
   "display_name": "Python 3",
   "language": "python",
   "name": "python3"
  },
  "language_info": {
   "codemirror_mode": {
    "name": "ipython",
    "version": 3
   },
   "file_extension": ".py",
   "mimetype": "text/x-python",
   "name": "python",
   "nbconvert_exporter": "python",
   "pygments_lexer": "ipython3",
   "version": "3.6.8"
  }
 },
 "nbformat": 4,
 "nbformat_minor": 2
}
