{
 "cells": [
  {
   "cell_type": "markdown",
   "metadata": {
    "slideshow": {
     "slide_type": "slide"
    },
    "tags": []
   },
   "source": [
    "# Quantum chemistry on the QLM\n",
    "\n",
    "The **Variational Quantum Eigensolver** method solves the following minimization problem :\n",
    "$$\n",
    "E = \\min_{\\vec{\\theta}}\\; \\langle \\psi(\\vec{\\theta}) \\,|\\, \\hat{H} \\,|\\, \\psi(\\vec{\\theta}) \\rangle\n",
    "$$\n",
    "\n",
    "Here, we use a **Unitary Coupled Cluster** trial state, of the form:\n",
    "$$\n",
    "|\\psi(\\vec{\\theta})\\rangle = e^{\\hat{T}(\\vec{\\theta}) - \\hat{T}^\\dagger(\\vec{\\theta})} |0\\rangle\n",
    "$$\n",
    "where $\\hat{T}(\\theta)$ is the *cluster operator*: \n",
    "$$\n",
    "\\hat{T}(\\vec{\\theta}) = \\hat{T}_1(\\vec{\\theta}) + \\hat{T}_2(\\vec{\\theta}) + \\cdots\n",
    "$$\n",
    "where\n",
    "$$\n",
    "\\hat{T}_1 = \\sum_{a\\in U}\\sum_{i \\in O} \\theta_a^i\\, \\hat{a}_a^\\dagger \\hat{a}_i \\qquad\n",
    "\\hat{T}_2 = \\sum_{a>b\\in U}\\sum_{i>j\\in O} \\theta_{a, b}^{i, j}\\, \\hat{a}^\\dagger_a \\hat{a}^\\dagger_b \\hat{a}_i \\hat{a}_j \\qquad\n",
    "\\cdots\n",
    "$$\n",
    "($O$ is the set of occupied orbitals and $U$, the set of unoccupied ones.)"
   ]
  },
  {
   "cell_type": "markdown",
   "metadata": {
    "slideshow": {
     "slide_type": "slide"
    },
    "tags": []
   },
   "source": [
    "## Example: $LiH$ molecule\n",
    "\n",
    "One has to first describe the geometry and atomic content of the molecule (in this case, $LiH$).\n",
    "\n",
    "This is done, in the cell below, using the open-source ``pySCF`` package. We specify the chosen basis set and the studied geometry. Here, we chose to study dihydrogen in the so-called STO-3G basis at 1.75 Angström (internuclear distance.)"
   ]
  },
  {
   "cell_type": "code",
   "execution_count": 1,
   "metadata": {
    "slideshow": {
     "slide_type": "fragment"
    }
   },
   "outputs": [
    {
     "name": "stderr",
     "output_type": "stream",
     "text": [
      "/usr/local/lib64/python3.9/site-packages/pyscf/lib/misc.py:46: H5pyDeprecationWarning: Using default_file_mode other than 'r' is deprecated. Pass the mode to h5py.File() instead.\n",
      "  h5py.get_config().default_file_mode = 'a'\n"
     ]
    },
    {
     "name": "stdout",
     "output_type": "stream",
     "text": [
      " HF energy :  -7.978244325721484\n",
      " MP2 energy : -7.9912716321532455\n",
      " FCI energy : -7.998354311186427\n",
      "\n",
      " Number of qubits before active space selection = 22\n"
     ]
    }
   ],
   "source": [
    "import numpy as np\n",
    "\n",
    "from qat.fermion.chemistry.pyscf_tools import perform_pyscf_computation\n",
    "\n",
    "geometry = [(\"Li\", (0.0, 0.0, 0.0)), (\"H\", (0.0, 0.0, 1.75))]\n",
    "basis = \"6-31g\"\n",
    "spin = 0\n",
    "charge = 0\n",
    "\n",
    "(\n",
    "    rdm1,\n",
    "    orbital_energies,\n",
    "    nuclear_repulsion,\n",
    "    n_electrons,\n",
    "    one_body_integrals,\n",
    "    two_body_integrals,\n",
    "    info,\n",
    ") = perform_pyscf_computation(geometry=geometry, basis=basis, spin=spin, charge=charge, run_FCI=False, verbose=False)\n",
    "\n",
    "# We give the full CI energy computed on the QLM for LiH\n",
    "info[\"FCI\"] = -7.998354311186427\n",
    "\n",
    "print(\n",
    "    f\" HF energy :  {info['HF']}\\n\",\n",
    "    f\"MP2 energy : {info['MP2']}\\n\",\n",
    "    f\"FCI energy : {info['FCI']}\\n\\n\",\n",
    "    f\"Number of qubits before active space selection = {rdm1.shape[0] * 2}\",\n",
    ")"
   ]
  },
  {
   "cell_type": "markdown",
   "metadata": {
    "slideshow": {
     "slide_type": "slide"
    }
   },
   "source": [
    "## Active space selection\n",
    "\n",
    "Based on the (approximate) one-particle reduced density matrix computed above (``rdm1``), we compute the so-called \"natural-orbital occupation numbers\" (NOONs). We use them to select, with a given threshold, the \"active space orbitals\" (which are contained in the ``active_indices`` list below). We then compute the Hamiltonian in this active space: we obtain ``H_active``."
   ]
  },
  {
   "cell_type": "code",
   "execution_count": 2,
   "metadata": {
    "slideshow": {
     "slide_type": "fragment"
    }
   },
   "outputs": [
    {
     "name": "stdout",
     "output_type": "stream",
     "text": [
      "Number of qubits after active space selection = 4\n",
      "Active-space Hamiltonian: -6.932570947982423 * I^4 +\n",
      "(-0.7481478021659403+0j) * (Cc|[0, 0]) +\n",
      "(-0.1370804677025736+0j) * (Cc|[0, 2]) +\n",
      "(-0.7481478021659403+0j) * (Cc|[1, 1]) +\n",
      "(-0.1370804677025736+0j) * (Cc|[1, 3]) +\n",
      "(-0.13708046770257362+0j) * (Cc|[2, 0]) +\n",
      "(-0.36286824641526083+0j) * (Cc|[2, 2]) +\n",
      "(-0.13708046770257362+0j) * (Cc|[3, 1]) +\n",
      "(-0.36286824641526083+0j) * (Cc|[3, 3]) +\n",
      "(0.2258946715255089+0j) * (CCcc|[0, 1, 1, 0]) +\n",
      "(0.06717915650159405+0j) * (CCcc|[0, 1, 1, 2]) +\n",
      "(0.06717915650159431+0j) * (CCcc|[0, 1, 3, 0]) +\n",
      "(0.0584946652306578+0j) * (CCcc|[0, 1, 3, 2]) +\n",
      "(0.05849466523065778+0j) * (CCcc|[0, 2, 0, 2]) +\n",
      "(0.20090542986450274+0j) * (CCcc|[0, 2, 2, 0]) +\n",
      "(0.06717915650159427+0j) * (CCcc|[0, 3, 1, 0]) +\n",
      "(0.05849466523065778+0j) * (CCcc|[0, 3, 1, 2]) +\n",
      "(0.20090542986450274+0j) * (CCcc|[0, 3, 3, 0]) +\n",
      "(0.060374148169242685+0j) * (CCcc|[0, 3, 3, 2]) +\n",
      "(0.2258946715255089+0j) * (CCcc|[1, 0, 0, 1]) +\n",
      "(0.06717915650159405+0j) * (CCcc|[1, 0, 0, 3]) +\n",
      "(0.06717915650159431+0j) * (CCcc|[1, 0, 2, 1]) +\n",
      "(0.0584946652306578+0j) * (CCcc|[1, 0, 2, 3]) +\n",
      "(0.06717915650159427+0j) * (CCcc|[1, 2, 0, 1]) +\n",
      "(0.05849466523065778+0j) * (CCcc|[1, 2, 0, 3]) +\n",
      "(0.20090542986450274+0j) * (CCcc|[1, 2, 2, 1]) +\n",
      "(0.060374148169242685+0j) * (CCcc|[1, 2, 2, 3]) +\n",
      "(0.05849466523065778+0j) * (CCcc|[1, 3, 1, 3]) +\n",
      "(0.20090542986450274+0j) * (CCcc|[1, 3, 3, 1]) +\n",
      "(0.2009054298645025+0j) * (CCcc|[2, 0, 0, 2]) +\n",
      "(0.05849466523065778+0j) * (CCcc|[2, 0, 2, 0]) +\n",
      "(0.06717915650159456+0j) * (CCcc|[2, 1, 1, 0]) +\n",
      "(0.2009054298645025+0j) * (CCcc|[2, 1, 1, 2]) +\n",
      "(0.05849466523065778+0j) * (CCcc|[2, 1, 3, 0]) +\n",
      "(0.060374148169242546+0j) * (CCcc|[2, 1, 3, 2]) +\n",
      "(0.058494665230657696+0j) * (CCcc|[2, 3, 1, 0]) +\n",
      "(0.06037414816924253+0j) * (CCcc|[2, 3, 1, 2]) +\n",
      "(0.06037414816924257+0j) * (CCcc|[2, 3, 3, 0]) +\n",
      "(0.19404538790919926+0j) * (CCcc|[2, 3, 3, 2]) +\n",
      "(0.06717915650159456+0j) * (CCcc|[3, 0, 0, 1]) +\n",
      "(0.2009054298645025+0j) * (CCcc|[3, 0, 0, 3]) +\n",
      "(0.05849466523065778+0j) * (CCcc|[3, 0, 2, 1]) +\n",
      "(0.060374148169242546+0j) * (CCcc|[3, 0, 2, 3]) +\n",
      "(0.2009054298645025+0j) * (CCcc|[3, 1, 1, 3]) +\n",
      "(0.05849466523065778+0j) * (CCcc|[3, 1, 3, 1]) +\n",
      "(0.058494665230657696+0j) * (CCcc|[3, 2, 0, 1]) +\n",
      "(0.06037414816924253+0j) * (CCcc|[3, 2, 0, 3]) +\n",
      "(0.06037414816924257+0j) * (CCcc|[3, 2, 2, 1]) +\n",
      "(0.19404538790919926+0j) * (CCcc|[3, 2, 2, 3])\n"
     ]
    }
   ],
   "source": [
    "from qat.fermion.chemistry.ucc import transform_integrals_to_new_basis\n",
    "\n",
    "noons, basis_change = np.linalg.eigh(rdm1)\n",
    "noons = list(reversed(noons))  # need to put noons in decreasing order\n",
    "basis_change = np.flip(basis_change, axis=1)\n",
    "one_body_integrals, two_body_integrals = transform_integrals_to_new_basis(one_body_integrals, two_body_integrals, basis_change)\n",
    "\n",
    "from qat.fermion.chemistry.ucc_deprecated import get_active_space_hamiltonian\n",
    "\n",
    "H_active, active_inds, occ_inds = get_active_space_hamiltonian(\n",
    "    one_body_integrals,\n",
    "    two_body_integrals,\n",
    "    noons,\n",
    "    n_electrons,\n",
    "    nuclear_repulsion,\n",
    "    threshold_1=0.02,\n",
    "    threshold_2=0.002,\n",
    ")\n",
    "\n",
    "print(\"Number of qubits after active space selection =\", H_active.nbqbits)\n",
    "\n",
    "print(\"Active-space Hamiltonian:\", H_active)"
   ]
  },
  {
   "cell_type": "markdown",
   "metadata": {
    "slideshow": {
     "slide_type": "slide"
    }
   },
   "source": [
    "## Computation of cluster operators $T$ and good guess $\\vec{\\theta}_0$\n",
    "\n",
    "We now construct the cluster operators (``cluster_ops``) defined in the introduction part as $\\hat{T}(\\vec{\\theta})$, as well as a good starting parameter $\\vec{\\theta}$ (based on MP2 theory)."
   ]
  },
  {
   "cell_type": "code",
   "execution_count": 3,
   "metadata": {
    "slideshow": {
     "slide_type": "fragment"
    }
   },
   "outputs": [
    {
     "name": "stdout",
     "output_type": "stream",
     "text": [
      "Initial theta: [0, 0, 0.1964034150247233]\n"
     ]
    },
    {
     "name": "stderr",
     "output_type": "stream",
     "text": [
      "/tmp/ipykernel_991220/2647546597.py:14: UserWarning: This guess_init_state function is deprecated.\n",
      "  ) = guess_init_state(nb_active_els, active_noons, active_orb_energies, H_active.hpqrs)\n",
      "/tmp/ipykernel_991220/2647546597.py:16: UserWarning: This get_cluster_ops function is deprecated.\n",
      "  cluster_ops = get_cluster_ops(active_noons, actives_occupied_orbitals, actives_unoccupied_orbitals)\n"
     ]
    }
   ],
   "source": [
    "from qat.fermion.chemistry.ucc_deprecated import guess_init_state, get_cluster_ops\n",
    "\n",
    "active_noons, active_orb_energies = [], []\n",
    "for ind in active_inds:\n",
    "    active_noons.extend([noons[ind], noons[ind]])\n",
    "    active_orb_energies.extend([orbital_energies[ind], orbital_energies[ind]])\n",
    "nb_active_els = n_electrons - 2 * len(occ_inds)\n",
    "\n",
    "(\n",
    "    theta_0,\n",
    "    hf_init,\n",
    "    actives_occupied_orbitals,\n",
    "    actives_unoccupied_orbitals,\n",
    ") = guess_init_state(nb_active_els, active_noons, active_orb_energies, H_active.hpqrs)\n",
    "\n",
    "cluster_ops = get_cluster_ops(active_noons, actives_occupied_orbitals, actives_unoccupied_orbitals)\n",
    "\n",
    "print(\"Initial theta:\", theta_0)"
   ]
  },
  {
   "cell_type": "markdown",
   "metadata": {
    "slideshow": {
     "slide_type": "slide"
    },
    "tags": []
   },
   "source": [
    "## Encode to qubits: Fermion-spin transformation\n",
    "\n",
    "\n",
    "All the above operators are fermion operators. We now transform them to spin (or qubit) space. There are different possible choices. Here, we choose the Jordan-Wigner transform (the commented out imports show how to use the other transforms that are available on QLM)."
   ]
  },
  {
   "cell_type": "code",
   "execution_count": 4,
   "metadata": {
    "slideshow": {
     "slide_type": "fragment"
    }
   },
   "outputs": [],
   "source": [
    "from qat.fermion.transforms import recode_integer\n",
    "from qat.fermion.transforms import transform_to_jw_basis, get_jw_code\n",
    "\n",
    "# from qat.fermion.transforms import transform_to_bk_basis, get_bk_code\n",
    "# from qat.fermion.transforms import transform_to_parity_basis, get_parity_code\n",
    "\n",
    "transform, code = transform_to_jw_basis, get_jw_code  # Jordan Wigner\n",
    "# transform, code = transform_to_bk_basis, get_bk_code #Bravyi Kitaev\n",
    "\n",
    "H_active_sp = transform(H_active)\n",
    "\n",
    "# expressing the cluster operator in spin terms\n",
    "cluster_ops_sp = [transform(t_o) for t_o in cluster_ops]\n",
    "\n",
    "# encoding the initial state to new encoding\n",
    "hf_init_sp = recode_integer(hf_init, code(H_active_sp.nbqbits))\n",
    "\n",
    "# Finally: build_uccsd\n",
    "from qat.fermion.chemistry.ucc import construct_ucc_ansatz\n",
    "\n",
    "qprog = construct_ucc_ansatz(cluster_ops_sp, hf_init_sp, n_steps=1)\n",
    "circ = qprog.to_circ()"
   ]
  },
  {
   "cell_type": "markdown",
   "metadata": {
    "slideshow": {
     "slide_type": "slide"
    },
    "tags": []
   },
   "source": [
    "## Optimize the angles of $\\psi(\\vec{\\theta})$ for a given QPU\n",
    "\n",
    "We can now use the QLM's variational plugins to perform the VQE optimization."
   ]
  },
  {
   "cell_type": "code",
   "execution_count": 5,
   "metadata": {
    "slideshow": {
     "slide_type": "fragment"
    }
   },
   "outputs": [
    {
     "name": "stdout",
     "output_type": "stream",
     "text": [
      "Minimum energy = -7.995936227516109\n",
      "FCI energy: -7.998354311186427\n"
     ]
    },
    {
     "data": {
      "image/png": "[encoded data removed]",
      "text/plain": [
       "<Figure size 432x288 with 1 Axes>"
      ]
     },
     "metadata": {
      "needs_background": "light"
     },
     "output_type": "display_data"
    }
   ],
   "source": [
    "job = circ.to_job(job_type=\"OBS\", observable=H_active_sp, nbshots=0)\n",
    "\n",
    "from qat.qpus import get_default_qpu\n",
    "from qat.vsolve.optimize import ScipyMinimizePlugin\n",
    "\n",
    "optimizer_scipy = ScipyMinimizePlugin(method=\"COBYLA\", tol=1e-3, options={\"maxiter\": 1000}, x0=theta_0)\n",
    "qpu = optimizer_scipy | get_default_qpu()\n",
    "result = qpu.submit(job)\n",
    "\n",
    "print(\"Minimum energy =\", result.value)\n",
    "print(\"FCI energy:\", info[\"FCI\"])\n",
    "\n",
    "%matplotlib inline\n",
    "import matplotlib.pyplot as plt\n",
    "\n",
    "plt.plot(eval(result.meta_data[\"optimization_trace\"]), label=\"noiseless\", lw=3)\n",
    "plt.plot(\n",
    "    [info[\"FCI\"] for _ in range(len(eval(result.meta_data[\"optimization_trace\"])))],\n",
    "    \"--k\",\n",
    "    label=\"FCI\",\n",
    ")\n",
    "plt.legend(loc=\"best\")\n",
    "plt.xlabel(\"Steps\")\n",
    "plt.ylabel(\"Energy\")\n",
    "plt.grid()"
   ]
  },
  {
   "cell_type": "markdown",
   "metadata": {
    "slideshow": {
     "slide_type": "slide"
    },
    "tags": []
   },
   "source": [
    "## Further questions to be investigated:\n",
    "\n",
    "This notebook only tackles certain aspects of performing chemistry on the QLM. Other questions that you can deal with using other QLM tools include:\n",
    "\n",
    "- what are the effects of noise on the VQE ?\n",
    "- how do noisy and noiseless VQE compare ?\n",
    "- what is the effect of the QPU connectivity constraints (e.g. IBM QX5 chip) ? \n",
    "- how to reduce the gate count given a topology?\n",
    "- how to rewrite a circuit for another gate set (say, for ions)?\n",
    "- how to mitigate noise effects? (zero-noise extrapolation...)"
   ]
  }
 ],
 "metadata": {
  "celltoolbar": "Diaporama",
  "kernelspec": {
   "display_name": "Python 3 (ipykernel)",
   "language": "python",
   "name": "python3"
  },
  "language_info": {
   "codemirror_mode": {
    "name": "ipython",
    "version": 3
   },
   "file_extension": ".py",
   "mimetype": "text/x-python",
   "name": "python",
   "nbconvert_exporter": "python",
   "pygments_lexer": "ipython3",
   "version": "3.9.2"
  }
 },
 "nbformat": 4,
 "nbformat_minor": 4
}
