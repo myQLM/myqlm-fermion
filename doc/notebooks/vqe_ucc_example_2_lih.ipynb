{
    "cells": [
        {
            "cell_type": "markdown",
            "metadata": {
                "slideshow": {
                    "slide_type": "slide"
                },
                "tags": []
            },
            "source": [
                "# Quantum chemistry on the QLM\n",
                "\n",
                "## Example: $LiH$ molecule\n",
                "\n",
                "Let us now study the molecule $LiH$. As for the $H_2$ case (studied in a previous tutorial), we need to first describe the geometry and atomic content of the molecule. In this example, we will compute the basis change and select the active space.\n",
                "\n",
                "Again, we use the ``pySCF`` package. We choose to study lithium in the 6-31G basis at 1.75 Angström (internuclear distance.)"
            ]
        },
        {
            "cell_type": "code",
            "execution_count": 1,
            "metadata": {
                "slideshow": {
                    "slide_type": "fragment"
                }
            },
            "outputs": [
                {
                    "name": "stdout",
                    "output_type": "stream",
                    "text": [
                        " HF energy :  -7.978244325721489\n",
                        " MP2 energy : -7.991271632153251\n",
                        " FCI energy : -7.998354311186427\n",
                        "\n",
                        " Number of qubits before active space selection = 22\n"
                    ]
                }
            ],
            "source": [
                "import numpy as np\n",
                "\n",
                "from qat.fermion.chemistry.pyscf_tools import perform_pyscf_computation\n",
                "\n",
                "geometry = [(\"Li\", (0.0, 0.0, 0.0)), (\"H\", (0.0, 0.0, 1.75))]\n",
                "basis = \"6-31g\"\n",
                "spin = 0\n",
                "charge = 0\n",
                "\n",
                "(\n",
                "    rdm1,\n",
                "    orbital_energies,\n",
                "    nuclear_repulsion,\n",
                "    n_electrons,\n",
                "    one_body_integrals,\n",
                "    two_body_integrals,\n",
                "    info,\n",
                ") = perform_pyscf_computation(geometry=geometry, basis=basis, spin=spin, charge=charge, run_FCI=False, verbose=False)\n",
                "\n",
                "# We give the full CI energy computed on the QLM for LiH\n",
                "info[\"FCI\"] = -7.998354311186427\n",
                "\n",
                "print(\n",
                "    f\" HF energy :  {info['HF']}\\n\",\n",
                "    f\"MP2 energy : {info['MP2']}\\n\",\n",
                "    f\"FCI energy : {info['FCI']}\\n\\n\",\n",
                "    f\"Number of qubits before active space selection = {rdm1.shape[0] * 2}\",\n",
                ")"
            ]
        },
        {
            "cell_type": "markdown",
            "metadata": {
                "tags": []
            },
            "source": [
                "We wrap the body integrals and the nuclear repulsion in the `MolecularHamiltonian` class:"
            ]
        },
        {
            "cell_type": "code",
            "execution_count": 2,
            "metadata": {},
            "outputs": [
                {
                    "name": "stdout",
                    "output_type": "stream",
                    "text": [
                        " MolecularHamiltonian(\n",
                        " - constant_coeff : 0.9071609330057144\n",
                        " - integrals shape\n",
                        "    * one_body_integrals : (11, 11)\n",
                        "    * two_body_integrals : (11, 11, 11, 11)\n",
                        "\n"
                    ]
                }
            ],
            "source": [
                "from qat.fermion.chemistry import MolecularHamiltonian, MoleculeInfo\n",
                "\n",
                "# Define the molecular hamiltonian\n",
                "mol_h = MolecularHamiltonian(one_body_integrals, two_body_integrals, nuclear_repulsion)\n",
                "\n",
                "print(mol_h)"
            ]
        },
        {
            "cell_type": "markdown",
            "metadata": {
                "slideshow": {
                    "slide_type": "slide"
                },
                "tags": []
            },
            "source": [
                "## Active space selection\n",
                "\n",
                "Based on the (approximate) one-particle reduced density matrix computed (``rdm1``), we compute the so-called \"natural-orbital occupation numbers\" (NOONs). We use them to select, with a given threshold, the \"active space orbitals\" (which are contained in the ``active_indices`` list below). We then compute the Hamiltonian in this active space."
            ]
        },
        {
            "cell_type": "code",
            "execution_count": 3,
            "metadata": {
                "slideshow": {
                    "slide_type": "fragment"
                }
            },
            "outputs": [],
            "source": [
                "# Compute the natural orbitals occupation numbers and the basis transformation matrix\n",
                "noons, basis_change = np.linalg.eigh(rdm1)\n",
                "\n",
                "# The noons should be in decreasing order\n",
                "noons = list(reversed(noons))\n",
                "\n",
                "# Since we reversed the noons, we have to flip the basis as well\n",
                "basis_change = np.flip(basis_change, axis=1)"
            ]
        },
        {
            "cell_type": "markdown",
            "metadata": {
                "tags": []
            },
            "source": [
                "The basis change can be done within the `MolecularHamiltonian` class:"
            ]
        },
        {
            "cell_type": "code",
            "execution_count": 4,
            "metadata": {},
            "outputs": [],
            "source": [
                "# Change the hamiltonian basis\n",
                "mol_h_new_basis = mol_h.transform_basis(basis_change)"
            ]
        },
        {
            "cell_type": "markdown",
            "metadata": {},
            "source": [
                "The `MoleculeInfo` class is a helper class which contains various molecule properties."
            ]
        },
        {
            "cell_type": "code",
            "execution_count": 5,
            "metadata": {},
            "outputs": [],
            "source": [
                "molecule = MoleculeInfo(\n",
                "    mol_h_new_basis,\n",
                "    n_electrons=n_electrons,\n",
                "    noons=noons,\n",
                "    orbital_energies=orbital_energies,\n",
                ")"
            ]
        },
        {
            "cell_type": "code",
            "execution_count": 6,
            "metadata": {},
            "outputs": [
                {
                    "data": {
                        "text/plain": [
                            "MoleculeInfo(\n",
                            " - MolecularHamiltonian(\n",
                            "    * constant_coeff : 0.9071609330057144\n",
                            "    * integrals shape\n",
                            "       ** one_body_integrals : (11, 11)\n",
                            "       ** two_body_integrals : (11, 11, 11, 11)\n",
                            " - n_electrons = 4\n",
                            " - noons = [1.999908803579985, 1.9490174405345226, 0.04680924215126579, 0.0018388292338301871, 0.0009388059266646317, 0.0009388059266646299, 0.0004987405341014949, 2.531545364378184e-05, 1.16014387832191e-05, 1.1601438783217666e-05, 8.137817565906994e-07]\n",
                            " - orbital energies = [-2.46481078 -0.29198191  0.00584726  0.05830485  0.05830485  0.14705508\n",
                            "  0.19900943  0.21877097  0.21877097  0.32774881  1.30468514]\n",
                            ")"
                        ]
                    },
                    "execution_count": 6,
                    "metadata": {},
                    "output_type": "execute_result"
                }
            ],
            "source": [
                "molecule"
            ]
        },
        {
            "cell_type": "markdown",
            "metadata": {},
            "source": [
                " The `MoleculeInfo.restrict_active_space()` method updates the class to the new computed active space."
            ]
        },
        {
            "cell_type": "code",
            "execution_count": 7,
            "metadata": {},
            "outputs": [],
            "source": [
                "# Selection of the active space\n",
                "molecule.restrict_active_space(threshold_1=0.02, threshold_2=0.002)"
            ]
        },
        {
            "cell_type": "code",
            "execution_count": 8,
            "metadata": {
                "scrolled": true
            },
            "outputs": [
                {
                    "data": {
                        "text/plain": [
                            "MoleculeInfo(\n",
                            " - MolecularHamiltonian(\n",
                            "    * constant_coeff : 0.9071609330057144\n",
                            "    * integrals shape\n",
                            "       ** one_body_integrals : (2, 2)\n",
                            "       ** two_body_integrals : (2, 2, 2, 2)\n",
                            " - n_electrons = 2\n",
                            " - noons = [1.9490174405345226, 0.04680924215126579]\n",
                            " - orbital energies = [-0.29198190623309855, 0.00584725943233137]\n",
                            ")"
                        ]
                    },
                    "execution_count": 8,
                    "metadata": {},
                    "output_type": "execute_result"
                }
            ],
            "source": [
                "molecule"
            ]
        },
        {
            "cell_type": "markdown",
            "metadata": {
                "slideshow": {
                    "slide_type": "slide"
                }
            },
            "source": [
                "## Computation of cluster operators $T$ and good guess $\\vec{\\theta}_0$\n",
                "\n",
                "We construct the cluster operators (``cluster_ops``) $\\hat{T}(\\vec{\\theta})$, as well as a good starting parameter $\\vec{\\theta}$ (based on the second order Møller-Plesset perturbation theory)."
            ]
        },
        {
            "cell_type": "code",
            "execution_count": 9,
            "metadata": {
                "slideshow": {
                    "slide_type": "fragment"
                }
            },
            "outputs": [],
            "source": [
                "from qat.fermion.chemistry.ucc import guess_init_params, get_hf_ket, get_cluster_ops\n",
                "\n",
                "# Compute the cluster operators\n",
                "cluster_ops = get_cluster_ops(molecule.n_electrons, noons=molecule.noons)"
            ]
        },
        {
            "cell_type": "code",
            "execution_count": 10,
            "metadata": {
                "scrolled": true
            },
            "outputs": [
                {
                    "name": "stdout",
                    "output_type": "stream",
                    "text": [
                        "List of initial parameters : [0, 0, 0.1964034149362929]\n"
                    ]
                }
            ],
            "source": [
                "# Computation of the initial  parameters\n",
                "theta_list = guess_init_params(\n",
                "    molecule.two_body_integrals,\n",
                "    molecule.n_electrons,\n",
                "    molecule.orbital_energies,\n",
                ")\n",
                "\n",
                "print(f\"List of initial parameters : {theta_list}\")"
            ]
        },
        {
            "cell_type": "code",
            "execution_count": 11,
            "metadata": {
                "scrolled": true
            },
            "outputs": [
                {
                    "name": "stdout",
                    "output_type": "stream",
                    "text": [
                        "Initial Hartree-Fock state : 12\n"
                    ]
                }
            ],
            "source": [
                "# Define the initial Hartree-Fock state\n",
                "ket_hf_init = get_hf_ket(molecule.n_electrons, nqbits=molecule.nqbits)\n",
                "print(f\"Initial Hartree-Fock state : {ket_hf_init}\")"
            ]
        },
        {
            "cell_type": "markdown",
            "metadata": {
                "slideshow": {
                    "slide_type": "slide"
                },
                "tags": []
            },
            "source": [
                "## Encode to qubits: Fermion-spin transformation\n",
                "\n",
                "We transform the fermionic operators to spin (or qubit) space. In this example we choose the Bravyi-Kitaev transform."
            ]
        },
        {
            "cell_type": "code",
            "execution_count": 12,
            "metadata": {
                "slideshow": {
                    "slide_type": "fragment"
                }
            },
            "outputs": [
                {
                    "name": "stdout",
                    "output_type": "stream",
                    "text": [
                        "ObservableType.SPIN\n"
                    ]
                }
            ],
            "source": [
                "from qat.fermion.transforms import transform_to_bk_basis\n",
                "\n",
                "# Compute the ElectronicStructureHamiltonian\n",
                "H_active = molecule.hamiltonian.get_electronic_hamiltonian()\n",
                "\n",
                "# Transform the ElectronicStructureHamiltonian into a spin Hamiltonian\n",
                "H_active_sp = transform_to_bk_basis(H_active)\n",
                "\n",
                "print(H_active_sp.htype)"
            ]
        },
        {
            "cell_type": "code",
            "execution_count": 13,
            "metadata": {
                "slideshow": {
                    "slide_type": "fragment"
                }
            },
            "outputs": [],
            "source": [
                "from qat.fermion.transforms import recode_integer, get_bk_code\n",
                "\n",
                "# Express the cluster operator in spin terms\n",
                "cluster_ops_sp = [transform_to_bk_basis(t_o) for t_o in cluster_ops]\n",
                "\n",
                "# Encoding the initial state to new encoding\n",
                "hf_init_sp = recode_integer(ket_hf_init, get_bk_code(H_active_sp.nbqbits))"
            ]
        },
        {
            "cell_type": "markdown",
            "metadata": {},
            "source": [
                "## Trotterize the Hamiltonian to get the parameterized circuit to optimize"
            ]
        },
        {
            "cell_type": "code",
            "execution_count": 14,
            "metadata": {},
            "outputs": [],
            "source": [
                "from qat.lang.AQASM import Program, X\n",
                "from qat.fermion.trotterisation import make_trotterisation_routine\n",
                "\n",
                "nqbits = cluster_ops_sp[0].nbqbits\n",
                "\n",
                "prog = Program()\n",
                "reg = prog.qalloc(nqbits)\n",
                "\n",
                "# Initialize the Hartree-Fock state into the Program\n",
                "for j, char in enumerate(format(hf_init_sp, \"0\" + str(nqbits) + \"b\")):\n",
                "    if char == \"1\":\n",
                "        prog.apply(X, reg[j])\n",
                "\n",
                "# Define the parameters to optimize\n",
                "theta = [prog.new_var(float, \"\\\\theta_{%s}\" % i) for i in range(len(cluster_ops))]\n",
                "\n",
                "# Define the parameterized Hamiltonian\n",
                "hamiltonian = sum([th * T for th, T in zip(theta, cluster_ops_sp)])\n",
                "\n",
                "# Trotterize the Hamiltonian (with 1 trotter step)\n",
                "qrout = make_trotterisation_routine(hamiltonian, n_trotter_steps=1, final_time=1)\n",
                "\n",
                "prog.apply(qrout, reg)\n",
                "circ = prog.to_circ()"
            ]
        },
        {
            "cell_type": "markdown",
            "metadata": {},
            "source": [
                "Alternatively, you can simply use the `construct_ucc_ansatz` fonction:"
            ]
        },
        {
            "cell_type": "code",
            "execution_count": 15,
            "metadata": {
                "slideshow": {
                    "slide_type": "fragment"
                }
            },
            "outputs": [],
            "source": [
                "from qat.fermion.chemistry.ucc import construct_ucc_ansatz\n",
                "\n",
                "prog = construct_ucc_ansatz(cluster_ops_sp, hf_init_sp, n_steps=1)\n",
                "circ = prog.to_circ()"
            ]
        },
        {
            "cell_type": "code",
            "execution_count": 16,
            "metadata": {},
            "outputs": [
                {
                    "data": {
                        "image/png": "iVBORw0KGgoAAAANSUhEUgAAIMsAAACoCAQAAABiDl2bAAAAAmJLR0QA/4ePzL8AAAAJcEhZcwAAAEgAAABIAEbJaz4AAAAHdElNRQfmBBwLMwQc1VIQAACAAElEQVR42u39bZA0XX7Xd/7+l+5BFp5BygtidLMj7Uh13YMmhAd0K9sgyUbj9WZjtLJAIFdLAWIXrdbVxL4wsUvgqheOxRHmRZUV4IXdsKgGYnkQu0RXAEaEVpgqB0ieRTLbtfcMwqwUM12WAsk7Yq0uhAbJoNWcfdHV3fWQlU+VDyezvp96cV1VXZV5TlbmP/95zslT5gQAAAAAAAAAAAAAAAAAAAAAAAAAAAAAAIBDr5ouAAAAAAAAAAAAAAAAAAAAAAAAAAAAAAAAgJ+YlgEAAAAAAAAAAAAAAAAAAAAAAAAAAAAAACAW0zIAAAAAAAAAAAAAAAAAAAAAAAAAAAAAAADEYloGAAAAAAAAAAAAAAAAAAAAAAAAAAAAAACAWEzLAAAAAAAAAAAAAAAAAAAAAAAAAAAAAAAAEItpGQAAAAAAAAAAAAAAAAAAAAAAAAAAAAAAAGIxLQMAAAAAAAAAAAAAAAAAAAAAAAAAAAAAAEAspmUAAAAAAAAAAAAAAAAAAAAAAAAAAAAAAACI9VbTBQAAAAAAoGn2O/Un9ZmmS/HsA3Lu65suBIBus8/qx5ouQ2Yf0tL9/gJ1/BGZfqHpwj97R3/IfX/ThQDQZfaXFOpnmi5FZh9zb2eoE1k6gNax36c/5lHkSkOOCgAAAAAAAABb6J0CgPp4NrYrWcaIzHkEgJ+sp7+v95ouRWbv6E+7SdOFSMK0DK1kP6gPt2h4JbrjQ/qv3XXThQAA4Jx51liD83EODXO/qAf5c/n+rr6t6SKcr5Y1PKFLMt2eWqIv1Xc2XeXMvlufK/S5X9Hf8Oh4nugXmy7CuSF3RuPqvtX1c/qU/lzTlc5snuldZOmd0KrJoNBFBaf4KuyfexW50pCj1sim+m308MNjdUdLoEFEZHiOiIwWYPQqPPeO/iP3l5suBFAe8ld4rov5K71TaFDLpn5GF9U9ysGvsV3JskZk384jv6vpIvirVdOCoItqvjvDrezXehSd0kz0E00XIRnTMrTTT+qftmh4JbrjuxmcBQBAw/xqrMH5OI8Onge3aLoIT0z67U2X4Xy1rOEJXZLt9tQS+RP10lhU8IO/pPf8qaU9NF2CM0TujKbVfavrz+vn/Yl6aSzrG8nSu6BNk0Ghi4pO8VXU53yKXGnIUWv1i62aQAnnp+5oCTSJiAy/EZHRBoxehd8m+udNFwEoFfkr/NbN/NWjNl56p85Ou6Z+RhfVPcrBq7FdyXJEZM4jbWH6q62ZFgRd1MC0Kf5EpzT24Pt1BtMytFOrhleiOwrfBgEAAMrjUWMNzgcNczg3RFo0IfPtqQCyI3dGo7jVFXhCNEaT6NuCN/6Ffop4CH8RLXFWiMjwGhEZrcDoVXjN/4H7QE7kr/Aa+StQslZN/YwuYpQDzsovtGdaEHQRd2e0m7fTMthUX6d/UvDDH9TC/eGmawDgVPbHFRWOA1+kL3Bf33QNAAAAUIz9Y/144Q+/oz/gfqjpGgAAAAAAAJwXevYAZGW/U39Snyn44crjxUmt0x91X15l2QCgbCdFZKnn3lRaupMisj7uVlWWDgBO43dOnLkWP6Jf0S8V/DBj/QEUYB/Xn/c3fwUAAABwHrydlkGf1z/Snyv42e/Wq6aLD6AEr06IA+/qdzVdfAAAABT2Zfquwp+d6H1NFx8AAAAAAODs0LMHIKtXetCk4Gff1bdVXLpTWqfnFZcNAMp2SkSuPuqdFJGZlAGA5/zOibP6Ff0NvVfws4z1B1DE+7zOXwEAAACcBX+nZfh5/bxbFPuoRU0XHkAp/oV+qnAckH5708UHAABAcUXzQMkemi47AAAAAADAGaJnD0BWn9ODz/HihNbpqosGAGU7ISLXEfV8LhsAnMjznDijX9J7jPUHUDOv81cAAAAA54CZJgEAAAAAqITNzZlLec/YnDmGHADogixRL3UZnkdFIjuA89LNyE4sB9A+p8dj4hoAAAAAAAAANIXeKQCoC6Mcmi4rgHNyviMZ3mq6AGiezRVJbmv6P4tOmWu69vLvlTbtue9soJlb17HkpOc21lDSZZu2HAAAyG8/E2xd5pSY+bWtNvVlgsl5IZngNhvvvTBzyyN/X7iFZAP1Hp+60eb1y519cvr0d0kr92bzzpHNm64pqkOk9QuRNrUeiXEvX9RLWVNsTKwjKpZZRyL7eSGi+6mp1lQie+y6aoqKZOnnrdvRuH31eS63F31bPsfjciNXyrqIa2eh7T38adlo22qTudZES6CDiMjtREQGfNL2SNrVK/3UensRSYmjQH5tj7rkr1Uvmfz1OHqn0EZEfV8xyiG1Hoxy4DzSQm2Pud1t36gq5nYlk2YkQ1FMy9AQC9VXqH9d/50+rUU5h3dK4hFoePCRG7eStLf7W6jo6cCwQKHWu4fT3lqj5L+XvuXGCiV3GVfaLM9Tlp5QG+tttpYsOOX7Or6OzXJnGtuo2Bqev+VJ7Of3l5zwvKyQZj31Feq3SPr7Wmr2tA0BADhfFqivSB/RV+r/qeX+hUvBZaZdDmXMBHczp7RMsOk8MC3zy5cHJmZpdeWBJ2SCKXng/pIT88LSMsGBQvX0Dfp7WmrpZqcvsQluZJHmmriRZIEiTW3prnf+HupO0pvNXjLTXCtN4r5p6ylyb6yvldaK3E3TdesyC9RXqK/VR4i0BeqZ45qbSLujiUjbV6iw3EibHPfyRL2UsjcYE8urI5G9euTOJ9TypNw5vbwvkTt+C5QV2T1uTa0mslfQb1BXZK8zKpKl12+TdXydfrS8rKOcPq180bj5eJyvT+v0aHxufVtlxeNN39bH9OvLy0DKjFyppSeuVcZ66ivSR/Ur5fV7VtHD377stLoe/s07iJZVRsvfoi/SPygrWgJZPe9/X6AfISLnrCURuYsROdBAYbktaOg+Rq+eUMuGRq9u3kEkrW6Ua8lXe8C2rfz1x7Ugf81VS/JXj6Luueev9E4hqypazYj6h8/yj3KoL6p7HNerHeXwaf2/tGSUQ7E6cR4pyiJFZe9/tG9keu5NzG1wzHAzmXTpo+MZyVDUq6YLkI+Nnx+RJNng6XnTJctVi8DGmivQTP9Yf11LDXRv/dOX60ZaaCi5kRtpoqWmNt36c6ShpIUbuZEbaaaBoriGHQs01mTz/7GGijSwI+Wzvs0l9ezWwrq2nhtp+TIvynZpszxPklqbe7uzqY1trsJhMGkdT8t1a91omnvRj7W91cyNtFLsEbG/5LTnp7Ox7hVqqTvdaalQ92Ucq1txYCBZbz8uAADgM+vrXgMt9df1jzVToLmNLTh1qSl5YMZMcDdzSs4Em88D0zK/PHlgan1qygOL52NpeeD+kmvIA0O701BrTfSrdSNpanPrnbzUZvLAnqTF43ZyM400sJ0mNbfUzeZdkhRq4a7imxrcyo0kRW6pSAzkqJBFutNAa93qv9eNAs3tlkibo56Zr7mJtHvbrolIO5Z0s4m0Y7sraV9JjHvZo16yhmNiSXUksleN3PmkWhbOndPLaz0b78a0mC1QQmT3uzW1gsheUb+BaorsNUdFsvQabWUd7y8z6yijTytPNPYhHufp0yopGtO3Vai+ulOkpf5vmwzkrowMRCVGrmQ+xrWu9Oxt+j0Xem/T73lnw9OXWn4Pf/uy00p7+ImWR56fzoabaHmn/+YpWpawVI/jhc9lOz82fB6J8l55I1GIyETkjEv3LyL3da/+VgtaKfmrz1HP57K1xV4r1IrRqzlr2dToVSLpkeen21ztzcq92itemi5EuW7UosTtsZ2/Lshfc9aS/LV7UbfN+Su9U8igmlYzon7qmIeU8tYX1f2O65WMcrh9vr681ZpRDsXrxHkkPwvsVrcKdKP/j2611lB3ZZz5ad9oT8xtdsxwA5l0JaPjddYjGU7ijjzU01hjDZ00dqr/oXH8ehXKyam3eRboTrcKs33Wj4dC3Wv+WAPNFTk5aaAHTUvYOgO5xyU6OSmS0/D52VSD5/8HutOdgs2z+ctnnDR+ep+GT69rvL3crX3k4XEZCvTw9J3UsAVvX7bVS2mzPU9Yampt9CAnp3uNn7Zc7HL6Rdeh8ctnNT3c3hnqMH/cLxTp/uh79pac9Hx3z0ja82LXFGiu+80ePn4p2cuel2EZx/b0vpxud97n9r9pRZrXtU/y4MGDBw8eWR+61cPjGf/pTKWe5rrfz2cTlnDkDJeUB2bNBLczp+RM0Ic8MC3zy54HptenzjywWCaYJQ/cX3JyXrifCebLrTSUe8rj5Db1vtVD9u/k6XOHW1mpeWBcHptpjceOrul2WRTJ7b9PkdzjvqlwP3892JI93TppfHBUnbTFeexsu7EeHiPgc6QNNNdD9kh7dP87i0ib55q7/kibFGvbH2mP7XlH1jTQw9PWeo60sTExYRlH1pcW9/JEvdT9IjYmxkTFgm19x8pTZh2zRvai56dzfsTkzqHuyJ1zbL9CuXNqxA411VDT7W0btwVOj+xtaE1Njew5jvvYfoO+Hraz39RlHGtNrS2y54qKmc57ZOnNPyrNOk7u08oejf2Ix9n7tMqKxufYt3VqLllhBlJq5EopQ2M5and79hToLrbfc15Cv2epPfxtzE6r6+EnWlYVLTetbf3tzynUne6y71NHo6UX8eKk1ukc7Ts8Cn07VY5EISITkbPU1auIXGn+6kXUIyJXslXjWqGGjF7NUftGRq8SSXONcs3TLtvTne4eo+ZWbvGQ52qv8L7kdU6c4/uM74vLUguvx/qXtoXIX0/dguSvnkXd88hf6Z3iUfRRaasZUT8h6qfE0pKjetvjeuWjHPJeX9Ywtiu1DCVHZM4j9TwU6UG3m+Nt/pxxu1yZybH9j/YNb2Ku73dnnJhJ57s7o7rR8WcxkqH8x6v4yRos1FwzN9LC7lTjrzJmmEaitDmNmmGBppq5y92ZcNyNLhSVMA9aKLnFzitb8/y4m+cyzBXo0q1jy9d/ep/6z9/9RNLg4M1DzR6X4dZaxvy9KpGWMaXN8DxRem2Wzpy5N24Ut+WeDRLmVkpchxu52fOTRf7taQOFz3MPHf8l4v0lpz0vbirpYnd/dAtdaFXCXD+BpNnW897L/g0AgL9srFBv3PY5TG7lLjUr4eyYmAdmyQT3MqfkTLDxPDAt88uVB6bXp848sEA+ljEP3F9yZXmgRRrqwo126rh2VxppbL2iS91oIg+MtH1shXslkOQWWmpgPQvV3613jMFmaWf5GxB1sL4GunA7v3/g1u5SN5qfPCfoeUTazNfcjUTapFh7XpE21FTXu1vLrd1Il5qWMGNyStzLFfWSNRcTy6wjkb0iNlbvIHdeugstyJ0zKpo7p5TXLd21m2h3m8RtgdMjextaU8trS1Vsv8FMbxSW0G9QX2SvLyqSpdek4qzjxD6tXNHYg3icq0+rrGhM31be8lSZgZQbuZL5F9fa37M31Sq231NVZ6e5e/hbl51W2cNPtKxsJMBQQWy0XHZ8JIDPZTsnVY5EISITkVP5FpErzV99jno+l817m9/522+FmuhC0e7v4BXC6FUiaSrfIqmmWrqL3THobqE3CnT6EVFUN6JcN2pRBvLXU5G/dirqtj5/pXcKaapsNSPqJ0X95FhadlRve1wvL6pXe33JKAfOI4ks0K1G7mr3aHUjXWhg/ZMXT/uGPzHX97sz6sukBxWOjj/vkQyFxU7LYIHmmril5JbqPR9kUQlDrMowk9SXJAsVnXz6rNtQiiuzW+law5O38NHDwKKtA+JWPV0dCVr9l0RWoTYDPt1am22+996XZSzjDgcLTj6wD5cZKniu5XZpszxPklqbEmReh5spit92Cdv0+XSSNJXK/pLTnhdlfUVxe5lb61rRyUlOKO3s67t7PgAAXrJQQ13H5WBuJJ18o03C5VDGTHA3c0rOBDNkNeVngjt5YFrmlycPrCMTzLGGAplgpjxwf8mV5YGBpo9XkwfrvymhE632PNB6L9fEkgUa6iam0+5G0jBTU8Njc8KqC80JPrKeprrebeh/5EYldHCdQaTNdc1NpE1dclWRVtJUEzc7fNktNDl1T88U97JHvWQNxcSS60hkr0RC7nxN7pxxCxbNnYtE7LR25KK8b00tL7Lb+Ei/wfr0foNaI3tNUZEsvUYVZh06vU8rTzRuW59Wx6LxqZl2bX1bRzMQjRScloGUHrmS+RfXWt6zZ31FcftGSf2e5fbwty87rbuHn2h5MosSomXv5OG2PscLn8t2NojIJ29BIvKWDkTkCvNX+R31fC6b/4ZaM3r1FF6NXvU4krZmlOtQPcW3y14l3vpRrW5EuW7U4mTkrydvQfLXLR3PX0/vAa487tA7hTQVt5oR9ZPHPOSN61VF9RZk0yWOXxtqlXB9edJPuDHKgfNIqqkWcRMwuaUmmlZ3kzrtG1nKe6DxTLq6McO1ZdI9jasaHX/2IxkKeyv21fHT3C3WezzILNRQN+rZQGnzPlXOLWypgU0UlHL6rJX1NNTF0XpNNNTVSUvvbQ0h3jkMXmbpsalCXbpjTQ+hXg7R3bLsfcICBXufPDSU4hotLVRfciOLFCrQ7LE0FmigQNLyZZCf9TSQtNaNos2rkVbPYWS7tFmeH992WWojySJJy2LHwPF12OPMusudwY1LRYoZ7Hh0m/bVez4hJiew+0tOe17M+FiscGsbaXriGqLtb8FCBbluBwIAoBlDTdyxxv5r3dmNy5i5HErKAzNngruZU0ImmDFzis1a4vPAuEwwJQ9My/wy54FZ61NjHpgzE8yRB+4vuZo8cKDV7lyMW651b313yjrqzwMjbTrtrKdIfY1iG/JubKyBswzLe+PWkrux07c04gy1OLqHXevOQld4jzmTSJvnmptIG6+GSGsDBcdaxNzI7mx4NA5nkSHu5Yh6yZqKieXWkchejWH8NE+SHiP6pHgb9ZlE9IK5c9ZW0j1HtsApkb01ranlRPZK+w1qjex1RUWy9JqkZB33p2UdJfRpZY7Gp/Rp1ZZfbz0vNxp70bd1eqZdT9/W0QzEre1a81MykNIjVzL/4lrbe/amRwbTyq1sovEpe1/pPfw1Z6cFevjT2hdK7+HfQ7QsYyRAYrTUKa0SfscLn8t2PsYaxfemubVdnzYSpe0RuYT2AiJy+rb3LSIn5a9Xp7Wgye+o53PZPJfSCnXD6FXfR6/u8TmStmWU6/DYLTSbq72LvAssRTeiXDdqcbqxJuSv5K/FynJ2+euJPcCqI+7QO4U0FbaaEfWTon6huF5JVG9NNl3eKIc38X9zC5tpzCiH/HXiPJKVhYqO7n8TCzXUCfcbd699o7yRDD7FXG/GDNeVSVc2Ov7sRzIU9ir21b5eDrLHkDHWjVu4mRY6dSa6MpQ3p1HdIi0SdvPZiTN9bB0GNtCtRu56/y021kCjhDKELzP6uNlzAO7rcavvvnN/2VvhzHqbZyvJegfzXPXdSKHdKtCNBhpIkoW609KN3Ejh07zLFmqumRtpobvHd+2WcOf/WZ4fl1ibjZ6NtdZKtzbItMyM67BAQzfSRLc761zuvz9lm0aS1hZZZFFKvfeXnPa8AAsVxAXhR+5GOmVubettndye6n6WM+kCAFqmr+Nnx+WJvxyeIQ9MzQR3MojETDAlc0rMWmLywLhMMDUPTMv8sueBWTLBevPAvJlg9jxwf8kV5IHavpo84Na6OWUdjeSBoaTIxjbWUANdx2e5FmgtZdk/nhqPmp7usLOihEi70oJImxpp81xzE2nj1RFpE/Z0SbMT15Eh7mWPeskai4ml1pHIXpG03PmUebPPI6IXzZ2ztJIefidxW+DUyN6W1tSyIntSv8HNiTPF1xjZa4uKZOl1Sc46Trq+Uxl9Wtmj8Sl9WnXl19vPy4vGjfdtlZZp19G3FSRmIIsTW+9KjlzJfItrbe/Zs1A6Ps2om6h30m8+ldzDX292WqiHP1+umoRoeaieaBkeH0LuFlqd8nuvPscLn8t2PlJGosxOG4nS7ohcSnsBETl92/sWkSvsffY56vlcthZg9Oqjdo5ePeBnJG3VKNdIa3e8DDcKT/uF34Kl6kSU60YtStgOoXrHJ7YlfyV/TSpLF/NXVTp6spa4Q+8UElXbakbUT4z6BeJ6RVG9Ldl0aSOFE36M8ObE60tGOfhSal/1NUuoOe0b1Y1k8Cnm+jJmuJ5MusrR8Wc9kuEUbx2+tDM7XKiFZIEidylJWmmg6+yLr0aJcxrVLUyad88tbW2RK34J+HgYRJIChbo6THFsoOGxw2NrGYeGmiV+6umzL2UfaGDXWmllfY012p4nxx63QqgbN7NAC91I1tNco+e6ryXJAs0fT1JuaS+z4URbc9CEByXIUpusW3P/m5g9TgRi17q31Qnf0/46BppsyhpoO6jsny4TtqmkSKtNEN26pLNI65jTfC/n8/yilKaMhaIT5qCM9Hj63XpeyvcBAECFbHce10OLEzOXlDwwQyZ4bP1ZMsHdzOlo1hKXB8ZlghnywLTM79QbUndzi7rzwHyZYGwe+Li9UzPB8vPAtG7OpYYnLLuJPDDS4mlCQJtqHje/qgUa60p3Sd2Hkg1ibqfLcp2FzKynXuIesVD/hHnHzyPS5rnmJtKqsUgbJe7Ji5MibYa4lyXqWXBkD3lupbBxzDtGJ8zZW3sdJcnmh69t2lBxEnJnyaPcOc80PNtboPzI7mtrajk5dFK/wcpWJ/UblBT10mJ7rfkuWXpdqs06Tu/TOiUaZ+zTqjG/To7HRaNx831bBTLtxvq2Qi1TM5Div9lQUuRKjcZh3E8sNJ6jtr1nL63fc1Zte0PhHv7Ks9OCPfxp2Wi5PfxJiJZFa5b8u0WzE6Olv/HC57Kdj2pHorQ4IpfUXkBETtn28i8ip7egEZGxLzGSuqWJ0auSfB29msSnSNqZUa5ubYuUSUur0Y0o141alLEdks/F5K/kr8fL0sH8NUMP8Cm/I1xH3KF3CsmqbTUj6ueL+nnierVR3ddsuvpRDkvTib/dziiH47XiPKKUiLrQrQUn3PTdqfaNykcy+BRzaxgzHBtzq8+kqx0dX9NIhu6Ntn3ryOtPO9Lj5c3zRnFLk/Vih6rel3Ji3va3jv3BAq0V2OBoKPq4vs5OGwxWob2SRXuzS8wzzjYRt3VSDgMbaKrJ01aL/x5jSzzWKtNkHFvLcyO70UA9BVrqYu9kFmhhoQLNJLfWlSRpKLkbySK9XHSPH1+TLHiawdBCBUXnLkw/vI/V5qlOm39XJg22S2GhXmbQCRRufYfJF1eP61i4teI6y/bmC0rcplJPk80JaSDpcRbVoW7Us4FGB9+Acj1/kePYMrf3fPdzfRtnWsyPxrwWand+qEHsPvGuov0yAADQrIOz4/7zbPPH/VzMa+kNUNVmgjtLS8ha4vLAuEyw2TzwIBOsPQ/Mlwke5IGS9dRXqECHl6pB0noS8sC3c+RW97vXNHuf+/wJOVq2PFD6hszXVbsOji7rqbfVeLdWL7ap+FZXbm0z9ROPrcXhNYaOvzvPFseLz6dG2uJb9Qwi7SmxtrpIWzjWti/SKsceepcYaU/Y0zPFvSxRLzgy/+7yuWl/FrOvHT9qfrN+R8G2vr9QWR0l5WzMfrfg+elMkTs3lTsnlzf7FqggslfdmjpQTwv17VZXe1EhOZYnRfYcx31V/QYlRr202J4r37Ve5vMVWXqzKss61JY+rYby66TS5tsCTfdt5c20C0fjpHicI5dMzUCyLeenD5ZbXuRKi8arxnPUjvbsVdjvWVE0rCU7bUEPf9btQ7TUadFymPz8iJ+OeS1bvGgmK8vaOn1ahoRUJUXkT+4M83/U5ojsX18bEbnl+asyRr0cV/dlIiKfZj9SMnqV3FZqZ7tsUiT9aI522b2+hoN22mnGBRXTtpw43t+OKWG2Wng91r8s5K/kr5utQP76uFXK6QGuI3+ldwqFVNhqRtTPp2D9GeUgKU/PUdr15V3G5Rzkk76OcsgRkavsK8xbaq/73wr7/MHV2v7+95Bx//sLMa91q32j6pEMFcRcb+/OOBZzi2fS2Y/PykbH1ziSIe9o2xytOzW4PJwYI2ZaBre0zY602V329eIOGBczE8Ypjjc0ZJhf44f0Q24kD9kP6Ifd9q8qzjXZ/lLsH+h/n2V+l7itk3YYWKipbp5PDP2sYc8GCtxVzB8Opy3YfWWtx3llDgKeW8TMDjPQwsZaa6nJcyDrP9fnZcbCtJkSkyQd3mm1kfW2XlvsLSnaCfi9rWerrfofWcdmO2SZHejoNrVQL3MWhVq5paTx495l0jjTiTuLjMeW/Wf6EvddW8/HLydMSbL/i/6p+99lWE58HIi0fDlOLFQQO8/ae1q0ec4cAEDXWKQ/4X7TzvPh9pnKhvpG982ZlnPQNJt+OVRyJpiaOR3LWmLzwLhMsM48MLU+XuSBR7dpbB4oSTcanvhL9rs+mzW3MqfX200T5tzWNbFF+nPuwxmXcyhbHij9vd3rrGziji5F0tb301PMt2njzTRoM/U1PJ55u1WebtzsWxwvLNR/5b5k6/l+pO3rD7l/M9OSDva/M4m0p8Ta6iJttljbhUgryWVqRTSnN9tbcC/S9nSfeTmHUuNetqjnVkppPcg5H/qn9KkibX0212erqqOU+/c13ityfjpP5M5SY7lzenkzbYESInv9rakDXbq1FiZNdVFo6x3KeNxX2W9QXtRLi+358l23skznPbL0ZlWZdbSlT6uh/LqkaNzKNo0qonHGXNIi/cfb14wHGch/JmXq26o0cqVG43XOATQl56jd7Nmrst+zqmhYU3bqfQ9/1u1DtJRUPFruHxGnRMus8aLyrOyk1umM7TsogogsedrXRkRuKiInt6DtHTEJyykckbNe3RdHRC6bfUJ/M7EV6qf03YxeJbeNL0ur2mV/XN+VaU/ey10Pcou/rk+5/7ikMsWt3+ucOHMt5nqvcC28HetfFvJXifz1uTTkr5X2AKvk/JXeKRRRZasZUT9F4bieI6qfUzaddZTDJ/QXt39qu/D1ZVw+6ekoh6wR2bPziLf9b6ewT+hPutnW8/39b2+kw9HlxIwt7Fz7RtkjheuIuX5m0lXE3IzHZ5Wj4+sbyZB7tG3G1p3mvBX76rUGJoUKYyu8TltoxbL+Xp2PfjhpwL719DHlG5S+LfEwsFBzzdzLjh9un4ASyjRQ+Pgpi3b3Bbfauypd731uqImWWivUnU3c/hQah+FtuXtJvnNB/PLuqPhsPEmHd3JtJEl3kl7H/32nsyLULP6gT1lHP23qhMRtGjwtzwINdC1ZoGgTYlePr9TqB5Q8S/A3Fi+R9dTbmR9nd88HAMBXS33MgoQZ+kL9cOFlp1wOlZ0JpmVOKZlg3GXuTiZYbx6YIRNsPA9M3KYHeeCmxmpsnNFKkY7vYVHsL6dk0kgeuHtNHEn7R7GNNXtsbnEzW6lvI5d6xRzT9YBSuKV9PnaWzieRPlF44ecRaU+ItdVF2myx9swi7ULR0alKTzpjKjXuFYl6yRqIiRXUkcheurTc+ZT9/Dwi+gnxPLWVNNsWODmy192aKqmnnpaSFqr/17mS+w2Ck/oNao/sNURFsvT6VJl1tKlPq/b8urRo3MY2jSaj8Ur/RmIG8q8p034Yq5LIlcyfuNaBnr20fs/fpeLD2SqJhjVmp7738GfdPkTLPFb6NxL//tsSsoe0reBxvPC5bGflB3Sb+PcTRqK0PiI32tdGRFZTEfljVeWvPkc9n8vWCn8zZfTq//SEwc5tutInt6Vd9tHfS1nnt+qP1V2kbkS5btSiFN+neeLfyV+3S0zUjStLt/LX9B5gv/NXeqeQpsJWM6J+sqJxPU9UJ5uO8YkKry8Z5ZCpVmd9FvlvFR7PHOyUyb061r5RxUjh6mOup5l0gzG30tHxZz2S4TSv4l50M11LbqKn39N4DiAW5f41u5Jtza+hBhKHUy0UWXD0r30tTtgxEw4DCzTX6iWgWHR0Kfu/Ddd7Plkcfma2Nd/M/gltrUt3o1A9N9FVzKDR6OC17XmJepv/rLbfbeOd/x2UNsPzJEm1eazRS3gtevo5ug6Lu/zfL33CNt365odauBvpJcV1y60tWv52i+UWCo7vZRapd2IXznYJe7nnywEAoAFuraUGx/5qgfondAUkXg5lzgT3MoDETDA5c0rOBKOYXOMwE0zLA9MymHz5TFp96s4Dc2SCMXlgsuTtVMa13kxRwl/7J05EV3ceuPuNb77Fp/3QAptquXWFfKPg+HG++czAxpL6dm+hUL6F+sf+ZMFJt42dR6TNd81NpD2m+kibsKcr/vvPLiHuFYl6yRqKiSXXkcheBbfWMiWiV3RTZGci+im5c1oraayDLVBGZK+3NVXu9eboj1KXfMoZMV5yv8FAyxP6DWqN7DVFRbL0+iRnHae0ZJTTp5UnGp/Sp1VPfr37vJxo7EPfVs5Mu3A0LqNva5WYgfROnBiq5MiVzLO41vqePbdQ7/iWPHH8RAU9/LVmp0V6+Mu8biZaNhMtV3a8r6OX/ZuI4XO88LlsZ2Tz619HWHjSSJS2R+Qy2guIyNqUoT0Rucr81d+o53PZ2iB19OoJy2b0KpFUmxLU0y5bRsvsQuHeyNrtrdt//j3MOnUjynWjFiVwS/LX52WRvxYoS+fy1/QeYL/zV3qnkKLSVjOiflpUKhDXK4rqbcmmyxkp3E8c5XDaBP+Mckip1dmfRXwfyeBX+0a5Ixl8irk1jxk+GnOrb7+ocnT8eY9kOMmr+Jfd2i30fHC6lRb2+OUFJ8zRVYLt+TW0SjyJe8kttTz2axrW0/CkrXv0MNiE/cunE4FFuj16SK9ebue3UGPJxo+Pp1Kas6fZ52+eTgYW7AdSN9vMLNST3NIdpvDB3gG/dfOWjRVIbvk0T40NdmbkWVnv+ZSwVdpMz5PE1GantrOnWRQt0npnRsXsjm+xw7mYQu3NzZS8TR+/Uesdmc+nl7DktOfF3Gh89PgcF9x+T+XbPTme9otcAADUZ6Lh0Q7d6VOWW0hiA1TmTHAnc0rJBBPywOSsJSYPPMgEM+WBaZlfnjwwLROsOw/Mmwkm54FJS64qD+wfa2iysXRa90J9eaD1bGx36im08XN9biQLbKClZJHd6l6Dl+PaxhpIGtptQkObNNDELdxIs5TfWUQxEw2PNtQMtT5perjziLR5rrmJtPHqibThsa5c6ysqtgWT417hqJes5phYUR2J7NWYJLQsTTU7aU7z84joxXPntFbSpy239f3EbIEyInsjrakWqr/3+0nJsbyUyO6WWiT2G7QnslccFcnSa3ej0I507VpfYeN9WnmiceE+rdry693n5URjD/q2imXauaNxWZl2BRlIZZErmV9xrQs9e5OjZ+pA08ajYXPZabEe/rT2hTJ7+J+2K9EyYc2F6poULSen/RSJt/HC57KdlxtNk/a/E5bc7ohcTnsBETl123sXkatrQfM56vlcthZIHb3qVSRl9Go7I2lN7bKlRFK3TrzaGzcyWr4bUa4btSgH+avIX4uUZeO88tdbf/NXeqeQWXWtZkT9tKifJa7XE9XbkU2XNcphqXH836ynAaMcstWp8HnkzM8ibqa1Hdv/Ig386rtrsn2jgpEMMeVtRSZd2pjhg5hbV99c6aPjGclwMnf0oZ6cos3/Q80VKtKtek51PDTWeO+VQFP1t54P5TTM9ll/Hgr08FILzZ+2sJPmmhbbOupprDs5PWj8/I1N5RRooL6TbuV0r/nmcS+nh52lbZdioNvn/z/srHS8WdfDy7o11FSBAk01OLIPxe4vGu6WwEmB5uor0lBjBZvX+por0lB9jTXWWD0nzXfesVXaLM9TtupBbbZr+/i6Ig10/7K9YpYyT/zrkS12+O3r4ci2O7ZNI03V11Th83P3/Df39Grcko8/P6xLnmNLd1t7ynjn/3fF9vTNa/fbn1fvad+M2SLz7N8+Dx48ePDgUcdDty9np+0zlQZ6eMpvUpexc4ZLywPzZIK7mVNaJpiWBx7LWg7zwLhMMD0PTMv88uWByZlg3Xlg3kxwPw98fn18mA3tLjkpL9yvTZ7cSkPdb31TL1lpKJe0jfaW4g5eyZgHpn0XR9eYoY6KNN7f0imf2N+SD4+f387XT93iPHa23Nb1xk6kjeSyf3fb3845Rdp819xNRNrk47vtkTYu8h2ta39nSS+RdqfVKc+efvQ9OeNevgh8LCbGRMWCbX1ZynNqHbNG9qLnp/N9kDs3lzsnt5I6aaxbPchp/nz+ONgC5UT2OltTN6+Gmh9E+8TW1JTInvm4V6CHlzru9RtkPuNmiZbVRvZcUTHTeY8svelHFVlHeX1a+aJx0T6tuvLrg/qUEI396dvKl2nnj8YpbRp5+rZut/pJtzOQYdEM5Oh7ToxcKe9uLEftbs9e+f2eVfXw15mdFuvhT81GS+zhJ1pWFi23ctSdI2KnZThlGTHHvD/x4qTW6cztOzwKfjtE5MraC4jIGba9fxG5ovzVn6hHRK5gm/YSRq9m3/cYvXpQ2izPU7ZqpyJp1e2yLnmUa5522fsjucW0+mtUv3PizLWI2dqZa+HxWP8StxD5K/mrqo+65K9l54j0TvEo+ii/1YyoH//M5RzlUG5Ub382Xdooh3KuL2sY25X6/pIjch3nkRyj7jp6HlGorRHBW2MIdq7ycm7VTrZvlD+S4bC8bcik88bco2OGD2LuSZl0nrszjo+Ofyg2Ov7IOzo7kqH8R9KXNdX8JZA4KaqzMnuNCNHmkLx7bkobPwYw3cY06XjdVKO+ni/1nnYQhbrTXdZUO1sNsx8GO4E/OEyDEz/b01DDvJN1KIgNWeHBARRsTQwS7P/vsLRpz0+tjUKN1U/+ntIO+vh1yO2dAML8iY96O5Mv9J7C026g2l9y0vMTp2UI9aDbzWl8/HzavM0V7hMbExVt4sD906l657MdTR558ODBg0ebHwp0/5TPvpypNJbLcStDyY01Ow0RjeWBh5lgWh6YlvnlrU1aferLA4tkgrt54POrBzcL7y45OS88rWFOty+NJM9Z6XC70SXDMhJui0/OA4teiFeTPx4ry/73cy5NoXU8dKe750ab7Ug7yLGMUhue2hRp81xzNxFpUxtZWx1psw4A2Lx3+tKx9Rxp+3rIPuVnvvVlXmaxCHy4JWuclqGsZaZF9jY0FPv1UKB7zXdzZwXkzk515M7FyhtTzpMje32tqZul3Cpw2ul0TY7laZE9x3Ef22/QK7/fIPd2Khi7MkTF0ga+lVcrsvTYrVJT1lGkT6vsjPTIZ2rKr2OelxKN29W3tVlKzmic2qaRp2+rpgykwPdYSqZd97QMXerZK7/f8+j+0/ke/rRstJ7axNaEaJk9Wva2ouXLETHWQ478N3GAedPx4qTWaW4CrvhBRK6uvYCInLGWfkXk0vNX36IeEbmSrToQo1dbOno183LOLJKe2C4b6eH5ZpXx8+0x8+O3Ppf38DsnzlyLxNuYUmrh9Vj/0rYQ+Sv5q7oVdc8jf6V3ikfhb7n0VrOj7yHqM8rhZSlNjnIo4/qyxrFdqZ8rKSLXeR7JMOqus+cRDfXw9GPvz/tftDtZUxn7SvtibvUjGeqMuX7dnXEYc0/MpPPdnVHL6PgC32NLRjJUUPOmC5CwcQs3t/jeVLNJMwbqaa5IkcZy2/N61V3DvWaxaZ7DsenHwXw2Kc9rKFGub+bxNKa+3O73r+npoUPzze/89beHR+4vOen5adMyPDcdDhVqrLFCDfWgeV17eneTRx48ePDg0ebHpol1rFCR5upp8HKBlHEJJZ/hdpoAWpUHpmV+bc0Dy8kEH8tz0Ng23cv7E/LCUxvmNNSDpuo7ySlQX/M8v6TqdNqFv//TMijU/d5smWfTFFrHY3ONHW1F2vt8+0S5DU9E2nK/3RzvbVmkzbvnqa8H3aqvQI+R9valoyHjEjxpYj2MiacN5Ti1PMWWmR7Z29BQ7NuD3LnUsnsX0Z/X7U9rarhprY92bidNjuVpkT3ffOC7/Qbh5ghorN+gSB226pIeFb0b+EaWfnR7xWUduaIG+fWx8jbfp/W85lZH49Q2jbx9W/sZyH2zGUh8rTJuzdpz1C737G1uy9nt97ylh79g6ROzUX9rQ7TcevfjSIDx5ojoafgy5DzjEk445uudlqHOz/LIuI3jR6Lk2f+IyEfKS0QuUBIfInKj+Wud0zL4VrY2Pxi9WmLZvb3ST/8Oc+4zHkfSk9tle5rrXkP1il7tFa671zlx5pKc0LLg+1j/0rYR+WuZW5P89dSSkL/SO8Wj4kezrWYxSyPqV1OyVsf1Skc5bK4vc9XBm2kZyovI9Z1HMo266/B5RJHuNddAwWb/m6rR/a/NMdff9g2f7s6Ii7knZtJ5787wbHR8fK0ybssOjLZ9JdTOLd2FZurrXpHmulWgSzdy66bLtTHSoOkinFDatOeVc6Ps77VQdxpKGmiy/f1bqMAtytg2FlqkvibHlpz2/MRtsXZXGinUXEMNNVeokbv0Zk8HAKABbu1GulKgueaKdK++Zu7CLZsu10a78sC0zK+VeWBZ+ZhFNlak0MYWxS+52jxQchNdaK2xOUkPGmqpN25W3vLbzUKNdeXNkd9BbqQLBZpuIu1AM12UuX+fhEh7ouyx9gwi7UwXWmmoBz1G2pUu3OTkxdauGzGxG7XwD7lzpeVtPKI/8ag1da5Ic801V3hsycmR/uRtsdtvMFegK4/6DXJoZ1RsZ6nrsZV1uOes46bpUm10Kxo3WJ82R+MK+rZGulJvKwO58SgDyYG4Vja3cpd7/Z7X7sqbM3W746E30TAN0XJrW6zdla7V2xwR94p04y7dqqzlA0k2+9/+SBRf9j9vY1im8hKR8/MhIu+3oLU0f0WdGL1aYWmJpPk1H0lX7lIThbr38moPHUD+WmF5ibr5NR91yV930IrbPZ63mnkbJzOV16Oo3+a4Xv4oB11uXV9OH68vy1t+fdoYkdtY5nK5hS600EAPm/1PuvBo/2tXzPW2fcOnuzMOY269mbTno+Nz6Ez0anpeiIT5O4r/lkZrZtAsOm9HlTNfOu3OlOX7Y7+0ac99eijQvYaa7v+aZXlz7Sra+273lpz8PGammaK/Tlnz5zZ17+ycXjx48ODBowuPomeqKn/x1+/M6cjWSMj8fK7NsTywzEwwecmpeWFp86UWnVfxpF+/KTbXbVUz1N7tLlfh49be+v2OgeZ6OJ8Zaut71L/fHt0LiLRNlLx1kbb+iFnRzLd3eY68w5h4JCoWbVeoZkb1QpG9DfP3+vsgdy5pK7Y0om+VsvLW1IM1Jreepkf2ou3/XvQbPJclV2TPERWb/T0isvRiW86LrKPL0bgd9fEtGmdo0yiaS3qSgTzX6sRMu54c9Tx69pro94zdJ1rcw5+WjbatNrE1PJ9oWXOUPfWzGdfAb7O35EFELqX8ROTy13hW+WvVUY+IXPXDj1aodkfSLlzpp9bR80haYrtszSPP/c6JM5fkhJaF9oz1L21rkb+WUX7y1/LXSP5a8jqOLpXeqTN7NNFqFrM0on7jD9/iuoejHGoZ25X6iVIjcj3nkcyj7s7iPOLH/tfumNuF9o36xwyfnEnXnhH7OWa4raNt32p6Wgh4YWxrd/n0xC2sZ1FbZkvZL23ac5+4td4cvmoHs/KcsnWSlpz03Abqv8yYBgAAOmwrE/Q5c4qTnPn5XJv4PLDcTDBpycl5IZlgmV6usx5ZqLEmCk2K9LSv3siXX5pFVYi0TZScSNuI/aiXLC4m+h8ViexnjojebB0qb01NXnJSpCeyP2+JVkRFYnnrdTYat6M+fkVj4nE84tqZaHEPf1o22rbaxNaQaAmcEyKy14jIQCu0OJJ24Uo/tY4eR1LiKFBIi6Mu+Wv5yF/rQ+8UGkLUb7oOXsX1c4nq5zDKoZ2j7s5Ai2NuF9o36h4zTCb96HxHMjAtA2J2f9eqnXm/tGnPfVddefNsqbaGNAAAkM9+Jtj2zGn3edtqU18mmLrdWrflWmSuQJEkyevGKZSJSOsXIq1XuhETu1ELZEJE91NTralE9iPaGRXbWeqz1e1o3L76VF/ufFuMeLxBXDsDbe/hz3cV3R1ES6CLiMjtREQGfNL2SNrVK/289a5uyYxyBcrV9qhL/lr1kslfa0QrLmpA1PcVoxw808aI3MYyd17bY2532zeqKjmZdCEdil5MywAAAAAAQC3c66ZLAAD+6EZM7EYtAKAs7YyK7Sw1ABxHXAMAAAAAAAAAn9GKCwC+aGNEbmOZAaBb0cvfaRl+q/4tGxb+9F9ruvgASvAR/Z4T4sCq6eIDAACgOHMnfPj/1HTpAQAAAAAAzg49ewCy+oiiE1qAf7bq4p3UOg0A7XJaRP7lqot3SkS2niPDBOAzz3PijHqaW/FPM9YfQH6/2u/8FQAAAMA58HZaBvc/a7oEAJrmvq3pEgAAAKAZ7oSeewAAAAAAANSPnj0AWbnv1fc2XYaE0tE6DeCMEJEBoCl+R+DMtXjTdAkAnBv3/SJHBAAAANCwV00XAAAAAAAAAAAAAAAAAAAAAAAAAAAAAAAAwE9vNV0AFPLv6Gts2HQhcJb+VtMFAADgzL2tyFzThcBZ+rmmCwDUxXoSkRYAOoHcGc37C00XAPAD0RgN+9GmCwBIkn6zfgc9/PAa0RLng4gM3xGR4T9Gr8J3f1uLposAlIj8Fb4jfwXK9C6jHNA4RjngfLyruTVdBpy3n266ACiOaRlayb3bdAkAAADQBPd9+r6mywB0lG83bjIRRmPcSrS04kx4FfXSFBvK8VHPuk7ouKwZuTPOzsf1dZ0bmkmW3gnOq9MxULm2DZkkR62N+6amSwAAeEREBoBTMXoVAOpE/grUjt4pNMh9j76n6TIAtfJtbFeybBHZt/MIt30f5X5d0yUA6tS6Hy38Mb8n3WRaBgAAAADA2ePGTQDn5hxukHRf3nQJAKBO7uubLkEFdSJLB9A6DJkEAAAAAAAAgPaidwoA6tPFsV2cRwD4iR8tLNerpgsAAAAAAAAAAAAAAAAAAAAAAAAAAAAAAADgJ6ZlAAAAAAAAAAAAAAAAAAAAAAAAAAAAAAAAiMW0DAAAAAAAAAAAAAAAAAAAAAAAAAAAAAAAALGYlgEAAAAAAAAAAAAAAAAAAAAAAAAAAAAAACAW0zIAAAAAAAAAAAAAAAAAAAAAAAAAAAAAAADEYloGAAAAAAAAAAAAAAAAAAAAAAAAAAAAAACAWEzLAAAAAAAAAAAAAAAAAAAAAAAAAAAAAAAAEItpGQAAAAAAAAAAAAAAAAAAAAAAAAAAAAAAAGIxLQMAAAAAAAAAAAAAAAAAAAAAAAAAAAAAAEAspmUAAAAAAAAAAAAAAAAAAAAAAAAAAAAAAACIxbQMAAAAAAAAAAAAAAAAAAAAAAAAAAAAAAAAsZiWAQAAAAAAAAAAAAAAAAAAAAAAAAAAAAAAINZbda/QXNNV3uWs6RIAaJL9Ef2nTZchl9/vvi9DrYi0QAf4diSn+FvumzLU6R/ry5ou6I7/0H1P00UA0KSWRdofdV+foU4/oq9ruqA7Mp0fAKAs9oP6HU2XIQ+ulgEAAAAAAAAAAAAAAAAAAIC2qH1aBr8GHLfsNhwA5XtPC3fZdCGysrk+m+2d5xxp7X/Qr226zuion3O/rt4V+nQkJ7Nxxjf+uL7LLZou7XOp53qv6TIAaFoHI+0P6YfcqOnS5i41AJTlU/qUP1EwDe2SAAAAAAAAAAAAAAAAAAAAQHs0MC0DAAAVek8Tf277RndYpGHTZQAAAAAAAAAAAAAAAAAAAAAAAAAAAPV71XQBAAAAAAAAAAAAAAAAAAAAAAAAAAAAAAAA/MS0DAAAAAAAAAAAAAAAAAAAAAAAAAAAAAAAALGYlgEAAAAAAAAAAAAAAAAAAAAAAAAAAAAAACBWJ6ZlsLk5cynvGZszZ1HTZQXQfVliUuoyvItZRFqgC06PT/4d50QnAH7pYiZIpAVw3roY2QEAAAAAAAAAAAAAAAAAAADk9VbTBZAkG++9MHPLI39fuIVkA/Uen7rR5vVLt0hehxtpZPOmawqgHZKjUhkxKU0VMav6WnUx0tpckeRs65VIOvX7rbH8e6VNe948G2jm1tUveX89e38da6gSjuQKalFDzpSM6ASg+7qYCRJpAZy3LkZ2AAAAAAAAAAAAAAAAAAAAAPXyYloGN7JIc03cSLJAkaa2dNc7fw91J+mNW0mSZpprpcnujYhPLNL0afi0pJV7U3Z5rad/R//lpiwAGmLfqvfrB6q5fTs5KuWLSan1qDxmVVGrmiLt3y+2TWOXl3wbTqDhwUduNlti5wYcCxU93ZpjgUKtk8poUfLfS99qY4WSu4wrbabnR8trvaezngWnHHUJa3ha7kxjGxVZx/O3ODny6d0l769n53mZN01ZqN9SXtZQbs6UUnKiU/x2CfTN+pz7L6raGgCyqPaKrL5MkEh7dMt8q97vvq+qrQGgSn7mSt28xm8DP/cHAHlV2QoLAEB9LNB3lNnvBKBKFuq36K+QgwIAAABongX6Zv2/aVEA2oEWBQAA2qPc+2wANKPsuz/b41XTBdjoSVpIklu7mUYa2M4Nsm6pm827JCnUwl0du3FUkXujK13oja6dlTv42Xo2tXvd60/p3u5tar3TlwkgL+vbrT3oT+vP6MHubHj6EmMkRqXsMSm1LpXGrKpqVXGkDWxsd7rXn9DftXubWljGUt1ICw0lN3IjTbTU1KZbf440lLRwIzdyI800UBSX3lugsSab/481VKSB3Vs/th59m0vq2W05NchYy+XLDUDbpU1/nlLee7uzqY1trsKTFSSt4WW5bq0bTXMu+rE2t5q5kVYax79jd8n76ym63sQyhTa1B/0dfY/u7c7GFpSy2NJyppTSE53ilj+0uR70p/QXzdlt/LEPoFrWs/HOFVk1Z9laMkEibezyBzY3p7+oP23O5jaodJsAKJkN7U4P+jOa2oN3uVI3r/G9Ru4MdMGmFfbP6s/oweYVtcICAFC5Tb/Tg/6E/q492NSipksE4DiL7NYe9Hf0J/RQYu8aAAAAAOT23KLwZ/R37cFuaVEAfPY8XpcWBQAAvGehTe1e/5X+VKn32QCoVTV3f7aHL9MyhNL2r5FL2m+8mEnqS4e/7b3LrdxIUuSWilTyjDk21J0CjZzpLWe6llTVDeEAjrDAbjXVSpf6Tn1Cr3Wjvt1VELrTolLGmJSmyphVXa0qjbR93auniV7rE/rdutZadzY+fblKvg0n0rUbPW4bCzZ7WJyhZo+zqNpwM4nDtWaKaXC3nqa6cgs307XmNU7i09PLN/xc2vTnqeVdK9RAfS2PbJnHpSTcaJOyhuXLBBFuqXWBLoxbLd1S0kpHP7u75P31FFzv8RqPdae1rvR79CN6rYlC3ZdyK1JpOVMyotM+C+1OA830Rjf6z/VGS03tlkYAoF7W1516O1dk1dwcVksmSKTdZz2ba6yF3ug/1/9ZbzTT0OrMowCcwEK7U183eqNP6PfpUivPcqVuXuN7ay93viB3BtpoqxX2O/QJvdGsolZYAAAqZpHuFD73O11qrTnDuwA/WWBjzbXSpX6PPrHpXbvjxicAAAAATThoUVjplhYFwFeb8brbLQr3tCgAAOCnzXn72n2J3tJrTdQr6T4bADWq8O7Pljg6LYP1bGxjG0q1bJBI20OjQz0Oh97iFlpqYD0L1U8bHG09BXr5jbuS2FRDXbsrN3sqkbvWlQZ2W8P2ASBJskD3CnThRo+/W+nW7sZdaKG70pOwlKiUJyal1qqSmFV1rSqKtGNNNXFXbjNdgFu4kS4U2V0JC0+8DcfdbEoQaK5AlzvTF+j5b/2n96mvp2HoE0mHv+T8POWBW2up+n7pOdIyprTpz9PKu3TmzL1xo7gt82yQ0IyZuAY3ctv74iLvFrOBwueJHZL2yt0l768n93oTSnSnSBdPk324tZu5S000LSGrKjVnSqkF0ellqZHmWujC3biVJLmVm+iNpHtuFwbqY2NNa7oiqy0TJNJuLTXUndZ64ybPkfZGF1oy8BpoA+vrTgv3kist3UgXCnTvzcCkbl7je8oi3e3kzktyZ6B9rLfXCruqrBUWAIBK2VC3unGXz/1Oj1crkebeXK0A2LBA803v2tNIgJm71I1u+bEUAAAAAHWzgeaa0aIAtMPzeN3tFoUJLQoAAPjI7tTX5c59Nle6LuU+GwC1sbGmGh3c/dkv5e7PljgyLYOFmmvmRlrYnSr//SPrqfd0G6lkgYa62b51dONG0jDT4OjBZqh1mb953VdfF+7wxscLRVyyAbWZauEu3d4vTrqRrjQts7EzU1TKHpPSVBCzaqhVFZE20lCXbrL7qlvqUkGVN7NbtHVDzq16ujoy9UD/Zfsp1KZEbq3Nr6ruvfdlGcu4rWRB+Q30Fip4ruV2adOfp5b3ZDnW4GaK4rfO0a32POlDctayu+T99Rxfb142ltyF293ichNdanjaraWl50zJiE4vZZpqsj8tiVu7K91oWu3WAfDE+hocuSILy70iqzUTJNK+mOrGXR1E2pFuys30AZTPAk11tR893MpdauFHrtTNa3xfWaCpRuTOQOsda4UdkZsBANrEQo11ddjv5C4k0cMP+GZ4pHftSmOrfNQSAAAAALywnsa6jOn/vNCaFgXANwnjdWlRAADAMzZWoIu9n9uVm51+nw2A+mzu/twbg+uWuijl7s+WiJ2WwQLNNXFLyS13hi1XdWESSY8Dlq1nA91q5K4P3+RutNYg0+Dox+HPq/KGP1ugqa73ByFKklvrWsMiv/VmgY31riY2ZhgjuswCG+vb9e1l7OnWV6TruL+4Wck3e2SISjliUprSY1Yttaom0k72G8Ykya11peFp56Ck23Dc4imtt6lCXcaVQZIU6uU8cKWrrb/sfcICBXufPDSMb6C30MY2liyyoT03CVpgQxvb+OUXCa1nYxvb0IKtXymMtHo+V22XNuV5pvLKIis8acHxNViwW6/nLRq/Z8VuNeur9zwdRdoZeXfJ++spZUoKCzU8EquWmpx4+0LZOVMyotOToVb7Q3c3JuoVuR3cAhtronfJA9FtFtjY5lIpeeBjnlDqFdlRdWaCRNoNG0uKjbRuVGxYA5EW58ICG0s2b3Rfn2qxP23OxrUiGzRWrhfdvMb31ZTcGTiND/0GNlR4pGVj4suUOwAAZDLVZH9g18Z1scFdZfZ7Au1X6kiASIOd3tdnbqEJOSgAAACAWk11c7RFYUCLAnCqMnuALUoer9t0XQEAwIvH+2zifkTXLYv+TIgPo2yA+vgwljLx7s/rU+/+bI+3Yl8dS483q1rv8Xe3rae+QgW6rKQUoaTIIkmBQl3F3WwjWaC1AhvE/Cb0vjduLbkbm6W+M6uBlkcGmMvNrK+Bcg7btkBzhZJ+rb5WkV0e+WV2oOWe93RpWMKePtTo6BKu9WC9+OhRQIaolCMmpSk/ZtVRq/JL3ZeO3QLjljbRIL7hLKOt23AUqa/RYR1trIGuj07KIIUvsf7lnGB9Pf6u6u4795cdvOy71tParSWtJOtJe99E341sbrea6Ub3CnQtWahbXbuFZGNbueXmlSu3tFB3Wmn2vN7FVhlGe2U6/jyxvJKkno0101q3Niu0zx9ZgwUaupEFerDXO2tcKtTOvpW41SJJ6013x/Y2iLO75P31HKy3kEF8iilJbmR9RSeso+ycKRnR6WndQ72J/5tb20jj+BuJE5dY5tkR8FTJe/pAyyO3eMotbJb/iixBnZkgkfbJQFcJmf5d4StuIi067nlfjxQ1ta9bT329jv+bW9tIA51+1Xyqbl7je8kC9cmdgVN40m8wqK0VFgCAClmk4Fj+uel3WuRcItkpsKX0FuCbo1nmRH2LXM4jFgAAAACKsUi9+GnjJLeyiYa0KACnKL1FIWm87r313Vn23AMA4KXB0enP5CbWVz/vSENPRtkANfHk2jLp7s+F3Zx492drxE/L0H++XTCSNgHvRkNVNVdFpMXTl2FTzeMG71qgsa50lyXEPu1SJe5ayTd5LpT/l//GW1sz1LDEm4gAn5S4p1uQdLu0W9tM/byD+49KjUrZYpIFR+LmersJqIKYVWmtKit18u3wp/4SX+ptODbQUNeJt+DEf5tDZZmoYPs8MtDArrXSyvoaa6StsliopaRQN25mgRa6kaynuUbPlx/rTSo1ckvJLU162ZuihKkW0p4fL68kzR73HbvWva1KGfb0uIaBJpuyBNqbCGLv/QlbTdHzL9EGCl/igEW7x1rsknuJfy0mSkwiZydNy1BSzkR0ylm+5fEbTtzMphYmTOgShzwQ56HcPT3tiqzAb28fVUpUItLmYeFzy0Pc+pa2yt1JSqTFufBhX+9rkRAPZpp6cPNuN6/x/dRPyZ1vc+8PPuzlQJ082Oetp15iK+xCkQdT7gAAkC5KuVqZ516iB2dqwCPlHhHR8R+J2eSgTMsAAAAAoB5pLQrj3EukRQHYVluLgqRZKT/VBgAAypF8n82iwH3LZNo4L37s8ckZ9uzEuz9bI2ZaBgsVPN/iubn5xa0kS1yQhQqKFWFvkN9avdhb22519XjbddLgXRvH3I6zcAkXW5vf1k7T1/fvvnPn2T9RmHE5L75l59ml0YVcn4/o000X4YyUuae/q59SaNvPX+8ceT+vvuW7LfZxKV+0/1KmqJQpJilQfGxYPkZZi2KGfCXFrA/o3eRYfFx5tcpd6qyR9t/Un9955+u92vYyLif+d1pTbsOxgaaaPE2vkP02ERtrlWkep63luZHdaKCeAi11sdeAH2hhoQLNJLfezLk8lNyNZJEirdxK0vjxFckC9Z4GIVmooLQBSXv1f9p2bmXa/f2onfN/sHOMLhNvQ3pcw2MHRrip1+6W2CtBwlbrabKZNmIgPe7nFmqoG/Xs8Pcdg6T1JGYzrzPtg+9Xb2ev349VP6dvyZ01PG3t8nKmlOgkmYv56+XRW2a/WF+SqVav9f5CtcoWc2NL7Y6HzS/KGFN/v35yp3Yf3otrP6H/wP5SlgU9Iw9sztv6nD7XdCHORrl7+v9CfyfhiuyXC1yRHVFaVEqPtPOYdxyPtF+otzPV8cP6bGV1UmXnhz+o9xIj7X+r32/5bm8m0jaHSFsvH/b1f0+fTLyS+yl9m71XW2mqjYJlX+NnvVpOVk07V9Gl/rspufOP6o+SO7cKUb1+Puzz7+ofJbbC/jP9u9b0hDv5+bU319FHUdE6yrryQk70azXjGzJeidelC/vB+/X+w4y9Qt+q28Srlf+f/RHlu1rx4UyNF104Ktqt3JEAv6wgoXftZ3Xl0RHXhX2v7oi8r6xt+BG9z6uz9fnqwlHRBVXlrz5/vz6XLaumI/Lb+oaiI9FQqi7szV3w1fplr3KLtxuND2XVodl22aLH1rfq/57YovA/0KLQckTdppV5RHxE70tsUfiXjbYoNB0Fy+HzEVNN2cr63mi1aEo3jrw2erv4nU4VaPpquxw+ReCytmhvf8zByffZkGk3y6e99Dz4sceXdfdnHcrKC2Luj3zryFufBtVl/z3nYdFpGRRJWzd49nRwM6hk481NlTP1NTx+A6wb5Z7lI+uvqv6vUj6X99dZv3jn2YdL/XVXJPuYfqzpIpyRMvf0L9Ov3/n8673lfaW+vMDyX8fcxJ8alTLHpFVyTHIL5bv2+Ap9h357we1XXq3yljprhPyIvmundh8+qG225XxYb++/lHYbjoWa6uZ52oa+sk7KMFDgrmL+cPD5vRt71pICrXVwWnYLyaLd31rVQAsba62lJpsTef+5NtHWb0tHMZMbZJNSXuttvbLYuxEp2pmWobf1bLVVvyNr2NQzzDSdxJGtZqG0NZ3UarPMsSZuIZk0zjRxRrq3c8SwpFj1ZXpTOBaWljOlRafEyQzifIU+ql+X4X0f1q/PX6us0Sl3qT+UMaZe6PM757N3pJ3afrW+Sv+TXGsmD2zOO/pZ/ULThTgb5e7p/6p+z94rp16RHVNSVMoQaS+Vx1foazJF2nf0yarqJFV2fgj1BTvf4H6kvZAOJ1NLRKRtzof0y/onTRfijPiwr/8mfYm+YqcUuznWr9e1/rvaSlNpFCz9Gr+cs1c17Vwf02f0SwU+91v1y+TOnUJUr58P+/x+K+t+y8bX6n05czMf+HQ1+EX6kD7T2nUQh5tQxz6DOL29XqmmdaF/84P6NbXuzV+pf09fv/V8/2rli/W/1k/nWqIPZ2q86MJR0W7ljgT4kpTeta/06Ijrwr73AX1po/nFO/qZQu0O+36TXrXw6qSLunBUdMGH9BUVxEq/r0e6sO81HZHf6Dv025reCPD8SDsnX6PP69c0XYhn3dgvmu5lKHqm+Er9Dn1s6/l+i8KvoUWh5bqQQ7RbuS0Kv8rjFgWfeqeK8/mIKat9YX+p5Xxvv0lfSKtFI5rOP87XG/0vC9/pVL4P6n36maYLcbJqolwx5bVfJI39LnKfDZl2s3zOE7rJjz2+rLs/6/CO/lkpecFIBz+oHDMtg1s+/QqlDV5+gztN7G2pMWJ+WzPcuqX08QbT/Rsux5o93mTpZrZS30Yu9XcyD25qPVbuTLfC2P3jzZ0vtdj+nIWa57ylRjbVYOvpn3V5p5MAWqHMPd0iTXeOvEjDnedjBS73zdcWxQT7lKhUJCZlKEeWmPVju7Ho6NLifsW4glqVHGnnmrmbnedbtbVAD5mXczgPW+JtOBZqrtnW3hO6TFMS2UDh46cs2v1e3GrvXpz13ueGmmiptULd2WS71o/rPzj3LrePHQsVbE1DsP2tFpzpKrm8ku6krQlMdv7qJjslm8XvoSlr6KdPnJCw1YKn5VmgweOSLFC02V9WT6+d7LN6L8s+aIEedPVy/BzEqoH6GfflmnKmlFJkO84/pU9lifA2j5kPr7no9JmMMXXv/GJjaeeYvNPNwXGcvETyQJyFcvf0lCuynu7zXpE9LiXmxdozwYwx6yf0E5ki7bieOpV8ftg7Ox5E2lstt3OODEsk0uJM+LCv21TrnSN2vhex7/UHs+RcJZWmpiiYWo5Sr5bbJEPuPMl2xf38CQ/2cqBOPuzzGVphxbF4rnavxICu249/aJ/99oSDqxWnb8432bUPZ2rAH6WOBNhr4T3IQYcKs45Jwjnh6gTYRv6KIvZzZOC8kVvgSWqLwoO+M0tP4NYnaFEAttTaopB5vC5QNjILnBuuL5GFOV1v983tjQXva8DduUASP/Z4m+tmewxo0bs/2+5V7KvXGlhkw53f4K7O7m2km1/ZfhpGbYFNtdxqvrhRsLMDxbCBjSX17d7Cksq4/9vgSTXIZrR1S+pSuW4wAVqkxD3dLdSzXsIbCt+SnrKknahUJCalqSBm1VCrCkq9VNKSIuVqyN6TcBuOBZpr9XLjvh2P9zslsFC955tNDj8ze9rGkkLt3nSy1qW7Uaiem+gqpl6Hdd1u1H88Clbb792cM7f/r4NlJD9PKq+01sst50WPtKNrsN1JM46V9+hW2/pmh1psbo5/3pfc8nmbxS85bTvl5tZaJmYN4QnrKD1nSkZ02kjMAy2IOWbSkAfiPJS7pydfkfVLywNrzgSJtBvJ32+R/INIi3Phw76enCv11Gu8y62b1/i+Ss+diehAMh/2+WVqK+zJrScAANQisd/JIq3yTcogP87UgD/KHAmw0sqq6l0DAAAAgHySWxTCxzGJudCiAGwru0Whn/AGWhQAAPBJ+ffZkGnjvPixxy9T7uo4kww8dloGN9O15CZal3hzSwzr2dju1FNo4+cu1hvJAhtoKVlkt7rXQMOnQYA21kDS0G4Tu2QHmriFG2mmaUlFXapvwdG/Fthd3FpvdKOllpro8vRf4QP8VPKePjt+c4RFBYb2Hy4lMSoVjklpyo9ZddSq/FLPEiPt4KTv9+htOJtJGZ73Tot0ezSmr16a2y3UWLLx4+N5Szu7fd7Cm613eMu2m20G+vUkt9xvordQwV5dZy8pi40VuOVTImWDvf1+Zb3nCRtWe50Dyc8PyrtTm9lTumaR1gVTt+NbJG7oY6i9VxK32vJx+6uva8XpHV3y/noO1lvIIiFWBernvoVfFeZMyYhOkiS3UJDQdD/UMu/5jTwQ56HkPX2RckVWwpVrI5kgkVbSppN0eLQW/fyDGoi0OBde7OsLhQkxY1Ak+y1LN6/x/eYWChK2HrkzkMqHfd6tq2+FBQCgFgtFCVMNFeh38uFMDfij9Bbg4zlor8QfaAAAAACANDP1E6ZfH+bv/6RFAdhW+r0FR8d2Wq/YeF0AAFCRpPN2oAF35wLJPNnjZyl3dZxJBv5W/MvucUKGqNrN4FYaHbx2bTMNNXNLyS32u1bd6PATMXrqaSlpoWGGd2cp6Y31NYxft40lV+AWVbc+cvMo0Cml7ukT3dki7nc2LdBUk9NPKGlRqWBMSlN6zKqlVuVH2qUtNNVV3N9sqF78X9JYTwNF6imwsZ72nhsNLNhMqTNVqJVu7aVWa3fs3Lf9q59zBVvPns4C66eb+t3CbmyqkaSxRrG/DntzZC2R1ns3Hl7r1vpaK1Sw2c+vNbTHKQQmiizaLGuhUNFzWfZ/ozTxeWx5n2ujica21Eo9DXWV+9ej0rZI3GD+8EjkiN9qI/UtUHS0bNuxYXfJ++sJS4lYE93b8EhuMNUi92zZqjBnSkZ0ejLR1BZxZxkLNdRlgbqTB+IslLmnu5kNNI5fno11/LyaZx1NZIJE2ifXurVZ3JncAk2L7ElEWpyL5vd1t7aJpnYRmytFGuqiwbJ18hrfexPd2htyZ6A4L/b5ie5sFtd+YYGmGtGRDQBoB7e0G03jc1DrK9KbAsv04UwNeKPUI2Kke+sf6aWd6qZI7xoAAAAAFOFWNtE0vpfT+oqK9H/SogBsK/negnsbuPiRYwXH6wIAgIrcaJB4n02Bu5jJtHFefNjjU+/+LOGujjZ46/ifrKfe0/BkixQpUm/rptbKHN5YmHsJrzf/KXPG/Gvd2erwkq3pAebAOXFLm2hqlzG3a421dmXcPBG/3pOjUsryq4hZldeqokgbezO7hRrqqtiA79Sb2fNM9jDT+KD+u+vaetVNrKeBpEn8VAFHJze42Z8Sya11aaGCly3jZrZQ6CaSZhZq9bht3OXL/3dLm+X5fnm3a+PWurZQfS11UXzg/dEtEu2nhRZqmWeruYWtFLjtpTy/z6Lt39feXfL+eo6vN2dN13alW4tpzrVxsYGeR9dEdKqp1G5ikaZ2vb//byYF4heagHpc686Wx67IqrsxrNpYS6R9KZPd6NYuYyNtoaZWAPVxI4vips6xnqaa+DfIoZtZtD/InYEu2LTCXsW2wq6KTFINAEBDJrqz8WEPooWa6pqJhgCfuLVda2qr2N61gtP3AwAAAEBBE/VjWxQe+z9LGGEIoCybFoVlbItCWOZ4XQAAcCq3tmvd2vJwBJkNyr3PBkClruOnRjvl7s/2eXXsDzbWUAtFFkmSW7iRu3Cv3ag9g2ctVL+U37iTtLmxd2y3FmytIbCxbnXt3wBzoKvcSAvd2c7vTVpodyX9wn2jyo1Z7Sy1W+tKw91IK9lYd2XfuuEWbpQ/dru1ZjbI8f6Vm7jcjfBuHfcJt3fp4dZPz93yJWXZ+f9eadOep5XXLd3IzVLSo2Xy97S7BgstkKwv7U9EoYFyDvB3e4O03EoL60uSgp2ZtnaXvL+e3Os9Wp7F42DP7dcssLkGbUwxiU6SpCv1dPeYFz+vo697rcraawCkcStdx16Rzdt/RUaklSRNtNb95vz9tI5Idwran+kDZ+Baod1ZuP2SDXWnRXUTKPqunbG9JNfqaX9/6Oteq/PdH4D2cSOtdLeXm3WkFRYAcE7cWlfq29x626/aWHe6YRJIwDduppuD3rWezdVvY+8aAAAAgDY70qIw1J1umLoY8M3RFoWBLmlRAADAL26hieYH99ncakxPANAebq2r/bs6qrn702dvHftD24fJWqixrsq8Pcfd2EJT3dlCC8n6CtXXShfMegnUyV3bQlPra6Ff1Ns2VKi+Jm2PWFXErHaW2i3sjaa6t5mW+jJ9o0Xqa60Lb7bMSHPdnL6Yhkqb9vxkeY5EC3WniUYaaLJ7AWWhghISsZHGtlKwfSvU7pL311PSep+2xcQWmtq9ZvqX+pANFKqvhd6072KR6PTIrXVhY81tpqW+Wv/SxorU08i1JyIAHeBmttzkCS9XZD7lCQURaR+5tS5tqKkNtNA7+lU2VKhIE4Y0AG3glrqwse5spqXe1jdYpEg9XZ/vbU7tjO1lcaut/eEldz7j/QFoJ3dlfU1t2LVWWADAuXFLu9Bwk51+md61SH1Jl+czHARoEzeyhaYWaaGfe+5du2EoJgAAAID6PbcoLLTQ23rXIkUKdEWLAuCjTYtCX7OtFoVWjtcFAKD7tu6zWUqct4F28v7uzxq8aroAJRnbfPuphRrqyi1fftPYBjZXmH/B29zKXepaaw30eQ0kjdwlkzIAdXMzvdGNAv1efZUiLXXh4XDgvZiUppqYVXWtKoq0a3elS63V1zv6Nkkj59Fp2a012p2ZzWf7pU17XrOVVlrbNOb3c4dl/O6iW7pLBZK72jpT7y55fz2lrHenBBcaSfo2vaO+1rp0fgwbyxWfiE7b3EhvtFSob9S/rZ5udMGkDEDd3Mpd6mrnisyjPOHZiZHWy1hbV6Sd6EIzhfq39Y0KtdQFkzIA7bHJlSJ9lX6vAt3oTYduwu/mNX6ldnLnru0PwNl4boX9Ln2VQi31xsNWWAAAUrm1G236nd7oDyjQSBfcQgH4yi10oYkC/YHn3rWRF71rAAAAAM7OpkVhpb6+Sn9AgW5oUQD85Ra60GinRcGP8boAAODA8302f0if57wNtJXfd3/WwVztK3RW+TpCjfV480aUPFCwaGnqqAWAZBZp6C79WMqJZcges+aaZGnY7UikzVjbsj53dGmB1tv7iA20ak/z+n5p0543zwZaVpOK7S55fz0Hf+0r3J3dumi0KB5lms82chznYynLzRnlHp8nl7polMlYWwBVKidGdjLS1hCjyi91E7UAUJU6Mr6EtXsQP6q/Wm4TH74RAKfyof0UvjiHcxfwgvjXPc1erQDIgxiMbGh3ALYRO1EEOTKwjdwCxxAtgfYgK4Y/yCxwbsiYUAQjEIAuONczwFtNF6AScwV6/D26M/xKAbROO2NWO0ud22HznLtpuky5yn+T73nzqivR7pKTt4S7kXdbphHtPM7bWWoA56qdMaudpQaAuhAlAQAAAAAAAAAAAAAAAAAAgA7q5LQM7nXTJQCA7NoZs9pZagB5tPM4b2epAZyrdsasdpYaAOpClAQAAAAAAAAAAAAAAAAAAAC66FXTBQAAAAAAAAAAAAAAAAAAAAAAAAAAAAAAAPAT0zIAAAAAAAAAAAAAAAAAAAAAAAAAAAAAAADEYloGAAAAAAAAAAAAAAAAAAAAAAAAAAAAAACAWG81XQAAAEr1Ab1rTZcBXfSuPtB0EQAAAAAAAAAAAAAAAAAAAAAAAAAAQP0amJbBoqYrDQDP3q/XLYpKr7O+sUV1Kp/Tt+m3N10IdNAH5OpeZYuO5A/rs5ne90VeTZvyWu9vuggAmtaqSPtPM73vi/UlHtUq6/kBAMryhXrboygIAAAAAAAAAAAAAAAAAAAAoDPqn5bhpzVsutJbVk0XAEDDPq/XXkWlZK/1y5net/KqTj9d7+rc1zddYaAkfuVMyT6o/z7T+75Av8ujaVNe6/NNFwFAw/zKmZJ9UD+a6X2v9NUe1Srr+QEAyvJ5r6JgGtolAQAAAAAAAAAAAAAAAAAAgNaofVoG9+VNVxkAXrjv1/c3XYYKavWm6RIAOF0XcyamTQHgly7mTO666RIAQJPcH266BAAAAAAAAAAAAAAAAAAAAAC66VXTBQAAAAAAAAAAAAAAAAAAAAAAAAAAAAAAAPAT0zIAAAAAAAAAAAAAAAAAAAAAAAAAAAAAAADEYloGAAAAAAAAAAAAAAAAAAAAAAAAAAAAAACAWEzLAAAAAAAAAAAAAAAAAAAAAAAAAAAAAAAAEItpGQAAAAAAAAAAAAAAAAAAAAAAAAAAAAAAAGIxLQMAAAAAAAAAAAAAAAAAAAAAAAAAAAAAAEAspmUAAAAAAAAAAAAAAAAAAAAAAAAAAAAAAACIxbQMAAAAAAAAAAAAAAAAAAAAAAAAAAAAAAAAsZiWAQAAAAAAAAAAAAAAAAAAAAAAAAAAAAAAIBbTMgAAAAAAAAAAAAAAAAAAAAAAAAAAAAAAAMRiWgYAAAAAAAAAAAAAAAAAAAAAAAAAAAAAAIBYbzVdAAAAAAAAUAb7uL5cn226FM/e1j90n2y6EADOiX2N/jWPomCaj7jvbboIAAAAQBb2+/TP9bmmS/HsXfc9TRcBQBtYoO/Qp5suRWYf0V9x6wy18isiZyw1gHPXuoj8g+4nM9SKiAxgo5u9U/ZH9F7TRc1fagA4Z/YV+qZWZd3krwAAAGgxpmUAAAAAAKAbRvqoPtN0IZ69o0/qdzddCABn5Y/qazyKgmkiMYQMAAAA7fDH9TN6aLoQzyL7q27VdCEAtMA36z/x6layZO/qF/R9Gd73x/TgUUTOWmoA565tEVmZWm6JyACedLN36j/VoumiFig1AJyzb2pZ1k3+CgAAgBZjWgYAAAAAALrhU/qUGzVdiCc2broEAM7OT+gn/ImCacw1XQIAAAAgox/TxHlzO4Y5JmUAkMln9Z67bLoQWdk84y8sf8ariJy11ADOXdsicrbfGCYiA3jS0d4pnyI3fWoAkMGnW5Z1k78CAACgxV41XQAAAAAAAAAAAAAAAAAAAAAAAAAAAAAAAAA/vdV0AQAAAFAe+536xcIfftt9X9PlBwD/nRZp9QNu3XQNAABtYt95wu9EkOEDQAMs0DefELt/tfv+TGs55fyQcR0A6kXeBwAAAAAAAADAE8ZDA+g2n8Yi1zPKAQDKZh/X+wp/+P36pPvJoh9mWgYAAIAu+RtaFP7suyYaIgEg1Z/Ugx4KfvZd/Qb9H5quAACgVf7SCRl+JPJ7AKjfd+g/0XsFP/tar5VhwIJ9p/6PhdchRbJmNg2AROR9AAAAAAAAAAA8YTw0gG47bSzyB/S9JZalhlEOAFCBP39CJH1Hn9TvLrpipmUAAADoFHdZ9JM2P2GWQwA4H5/RxBXs8rG5frjp4gMA2uaEDN81XXYAOEuf1ntFY7dFGmZ642eLr4PzA+AvjmsAAAAAAAAAAJ4wHhpAp502FvnTpZaljlEOAFC+UyLp+JQVv2q65gAAAAAAwFc2N5d2e4eNzZmzqOmyAkD5skTB1GUQJQEAAIA9tDcAaKfT2wn8i21EZADtREQG0GXd7J0iygFA+3Qx6wYAAABO91bTBQAAAAAAANU5mM1x5paxf124hWQD9R6futHm9cuXeSQt0vTp75JW7s3mnSObN11PAIhXZhRMXRdREgAAAGeD9gYAbZQcu8ptJ6gvthGRAbQREZmIDHRbF3unyo3cRDkAqMPJ5yMvs24AAACgaUzLAAAAAABAh7mRRZpr4kaSBYo0taW73vprqDtJb9xKkjTTXCtNdodQPLKeIvfG+lpprcjdNF0zAMiivCiYphtR0nqK9F36L/U3i2wDAPCPBYr0v9FKfzX7QGYAQBa0NwBoo+TYVWY7QZ2xrU0R2QL19Xv1nr6PdgfAfxbqW/Rv6f+qxSZ+lIqILHJkoNO62DtVZuSuIe/sqa9v1X+hWRVnMQBI40vvVBfPR1Xy5XsDcBqL9F36V/RXtHDrpssCAOiqV00XAAAAAAAAVKonaSFJbu1mGmlgw5c/uqVuNu+RpFALdxXfweZWbiQpcktFYvACgPYoKQqmaX+UtMjuda++foMize1hezsBQBtZaHM9aKiv0W/QrT3Y2IKmywQAnUJ7A4A2Soxd5bUT1BzbWhGRN/n5QL9RX625PRz8ZicAj9jYHjRXpN+ovu7tzqIKVkJEJkcGuq2LvVOlRe6K886B3eteob5Ooe7t3voVbxcA2LHTOzVtvHeqi+ejSnj2vQEoxAKbmtNUoT6qoR7s1nqnLxUAgENvHfuD9TSQtHYTG7tR08UEAABAcVvDmlbuZpPnPVowqysAlMHzSBtKe6WINNl6NtNAfS0kCxUltwFYT4GkXju70ACcqRKjYJp6omQVZx0LNNRAE924tc01cQuLNLVI1/yKEIC2srGGmuhqK66N1bfrZvLzOq4YPL8qAVCA98c17Q0A2igtdpXYTlBjbGtBRN7Jz7/nMT+3O10Xu90DQJUs1FSBrtzCIg3dpQUaam4TTUr+lUkiMjky0G2d653KUCcPopwFmirSyN1I5tyVZANNra9rfisZQD386p1SJ89HlYyXGGq8872FGuuuwe8NQAHW11RLvXErG0tuZD0NdGcTNzl92bXWw6PeQZ/KAgDZ1RG9Xh1Zdai5Zm6khd0pbHpDAAAA4BRupKWG6rmRu3mel3aolRtxSQwA5fA80kbaLkUoabZT+oWWGljPQvVTO9gGm2VV8btIAFCNMqNgmlqiZCVnnVtFunBbQ6vdQhda6o7fgADQTjZWXxdutB3X3IVmmlsjvV51XDF4flUCoADvj2vaGwC0UUrsKrWdoL7Y5n1EtqmimPx8oTm/WAf4xnqaa6GLl4zTrd1IF4o0LXlVRGRyZKDbOtc7lV6n5qOcBbqT9MbdbJXpRm8kzSveNgAgadM7delP75Q6eT4qv93cxhrsfW9Ld6kbzY1cHGgNizTVxF2+/PiMW7mRrjTcujm3FXzqHfSpLACQXR3RK3ZaBgs018QtJbdUT5t5yS1q7GIAAAAApwm025zak7a7oAAAJ/M20lrv5cp+82voNwclu5E0zNTB9tiFtmIIGIC2KDkKpqkrSpZ81rGhQm11TT5yazfSovTh1gBQA4s00OXh7+66kSaNxbU6rhi8vSoBUJjHxzXtDQDaKFPsKq+doKbY5n9Etr76uorNz290W+3WAZDbVIvt25EeuaUuFVm/vNUQkcmRgW7rYu9U6ZG7ilIPtXZXB2extbva+a1MAKiIRRrq6vBWr+Z6p7p4PpJUcru5hUe+t4kmmvIzFkA7WKBbTdxk/3W30JWGrbsb1qfeQZ/KAgDZVR69Yqdl0PhpNdZToIVkAxtL6tt9605GpbPAxpLNbUyKDTTFAhtronc5DgEgs1DamfV2dw5cZGKBjfXt+nbOP0CTPL4i8zfSRk8ls54NdKuRu95/i7vRWoNMHWxv3EpyN7qsoqhEWqDNLLCx3tXEuyO43CiYptIouaXUs471NNTBILWN62LDrYnoQBe0uhV2qsn+ZDOP3KixAbh1XDFUtg6Pr8SACngV//xtbWhfe4OPVysADlQegzPErhLbCepqJfA8IltwPD/XREGR/Jx2B2BbmbHTBgp1HfcXt9Z1qbckEZEbLjU5MrCtgtyii71TZUfu8vPOSMP4s5ikaw2L/OI50RJoDy9adacaHU5JKDXYO9XF85FUdrv59PEnjQ+5kdYa5l8grRY4N15kTGMtDydlkCS3aPCHG4ryqXeworJYYGObS0RKoN28OAPEqzySvhX7av95LohIcgtJA126tRYmTXXR9FZpkgWaK5QUKVJkl0eGKwOo0PNxKA05DgEgo0jLl3hpoQItT1ncOeL8A/jA6ysyfyNtKCmySFKgUFdxw18t0FqBDdJngnyqYxXbnkgLtNnzEfxr9bWeHcGlRsE0VUbJHeWedfpauCPNzm5tk63W4oyI6EAXtPlItkiKH3QhSZporDIGl+VVxxVDRevw+koMKJ1n8c/f1oY2tjf4d7UCYE8NMThD7CqvnaC2VgLfI3Kk1bH83K1tlP8GB8/O1kDDSj4i+hodW4Kb2VB9lfWbYkRkcmTAG5XkFl3snSo5cleSdx65rVZyS5vkvwmDaAm0hw/XiV72TnXxfCSV2m5uoXoJk1JMNM37vfmwNwJ18iRj6idMCTPR0HpHJo31k0+9g5WUhUgJdIMnZ4B4lUfSmGkZdlYTbpogeuppKWlRZLavThlvAr8khRo2MnQPOHcchwCQk/XU03aD7/McuMiB8w/gA2+PRK8jbaTFU/eRTTXXm4PSBxrrSndpg+li522/KbHB2tvvF0AG/h7BJUVBC7ZquG39OMDLehoc/G11+tCF2LKUfdYJExudi7QI+7s/AMiuzUdy4vBaN7Pb+odd1HHFUOE62rw3APl5tMd73dpQXqZdfSbt0XcKIEX1x2tq7MoWvdJaCeLbUkv55clCtWo4IoeJZ6+Fbi3IOViPyA5sK/eIiI7+yrgkLY5Ev2JrIiIfFRuRyy01kRTYVsUR0cHeqbIit2SRooMXj04gnquEk4S/LunvAjrNh+PVw96pRs9HlWXdJbeb91O+t6mFLt9NfD7sjUCdPNjnLXppBTjk1jZTPzFT9IpPvYOVlcWDvQZACbw9luuIpG8def0p4Y8efwnNvX5+fqQANlRQ47b5sP5H/WyN63txtfPs2+20pX2VPqufb6Qe5+y36r9pughn50ulUo/Yco/DanRhP/tS/Sv6qQbX/7X6gxadvhgk6sKe6rt39DWxt7BWKHbgUiSpt1WSSIrpzPqgvrsFx90X6qP6VCNrLvf888V6Wz/RSD3OGdl3E8o+1/iQCb6j98e86kek/bh+fP8l66m39Rvna/ViOotudfXY+FxqB+CH9RU5z4Llfr/NnTHOWXPtNefMl6zehwhdbRQMFB/Bl0Xn0T3hSiHbWSf7OiK92nnnO3vnqyB3Wcmdu4Go3hRfrlx8iOxF/fu6S4xra32PfbqytX9YH4x5NVvsfr/eyRRzP6wPFV6HCpyD2rw3tB9XNvXzaY+v7rjOJ6YtpMH2hqajGDmSL3y5Gj53X6ovKfV6rczjNSZjyhS7skWvslsJPpSx5diviJy11Nf6fyTm55/Tn82Zn/t0tgYRuXllHhEf0S9psLWED+9dpb6j/7nl/82zdkXkrH157YzIL4ikPuHKv3mnHREf10/uv9TF3qkSI3feNQeZSx3qG2zntuGdz32hwoZbFJoekYsn5K9+KLsH2Ifs5t/XP/Crd8rj81Hm/LWG8dDfpn+Z+L05/VH7R7lq58PeeM5owa+fD/v8t+yNe/r4Xib4G/Wu1XnPa1Y+jUWuY5TDi7L3mt+sH9e/KHFrICsy62b405LkwxngHb0d82q26JX9PoeYn7CMmZbBLZ8az22g3vY0DBaqv7e5AAAA4L9Q2pnLduDRb6oBQDf4G2l3Z3js6WUixg0ba+TWkmbqa5j0K0iV/XYQAFSntCjoVsmz+ab9vVRln3Ve6VfVVnYAqMOro5OSP/39fbWXqY4rBn+vSgAU5fNxXVumDQAlSo1dWaNXeuyqsS3V/4hs+nzi33+lgfwcQLz36VcS//6r9KqkNRGRyZGBbuti71RpkVtyi8raN/5Fwb8BQBlepVz91t871cXzkVR2u/kXpFzlMJoCaIMv0Bck/v1Vae0ZdfCpd9CnsgBAdnVELxfzUF+3ijTUrdzWq6HmCp3O+6HpztNx0+XhweMcHxyH5/HQXFHTZeDB4/SHIs1rXqOLffVed1vPQsVGT467lG3L+YcHDw8ePhyJ8dHSj0ir8eFaNd25sn/YP1No/HKlr3s9KEgvs6LD1oHD98WVxv/vlwcPHkUfPhzBdUXB1HJki5Iu49Ji3pftrJNjHbcaHi+telmX49f+wIMHj1MfbT6S988I+1FYTr0K1x7bGpTxiiFjS9Ip68h+fujG3sCDR/5HU3t8HXlf4bLFtQ00195AFOPBo8OPMo/XuIwpLXZV0U6QMbZlXK5nETlrqadJ+bkC5c7Piew8eGw/So2dgdx2lNiPpRrqtsBSicgn1KncUlez3/Dg0f7HaUfEufROVRO5Sy71/X478M6zvu7r3Td48OBR58OH4zVD71SF92IVybrTIrcHWXcN46E11jTxe3vI+735sDfy4FHnw4d9XtFupncQkffGRfny8Gksch2jHPzaa3jw4HH6w4dj+aRImvs+h+1H7Hw/bqZryU20fpkHwkINdeWWFjU9WUXDRlo//3+pSdPFAc4SxyEA5GI99XZm99qdAxdZcf4BfODpkeh1pI12ShJsSjyWJAtsqqVbPv/1RoEGKXUd2FhS3+4tLL2snn6/ADLx9QguOQqmqTRKPq2j/LPOUkml7RdYuq/7A4A82nwkL9U//keLtHKr7AsrQx1XDJWuo817A5CfN3u8160NtDcAqEbVx2tC7KqinaCOVgK1ISIvlTTWLNIyd35OZAe2lXhEuHXyFfVexDkFEZkcGfBJ+UdEB3unyo/cFZR6kZh3hprlXiLREmgPH47X9N6pZfaFlaKL56Py280Tzx4WSrm/Nx/2RqBOHuzzbqGe9RLeUF57RuV86h2ssCwe7DUASuDpsVxPJH0r/mX3OCFD9NQEYaHGmii0Vp2MquDW9kZjhZIWmrj1yQsEkBvHIQDkFEnabhjsSe6sM7piOP8APvD2SPQy0lpPA0XqKbCxFpvy3GhggfpaWqSBIgUKbTPo1cbqSxpaqJuE0g906dZamDTVRbkl9vb7BZCBf0dwRVEwTYVR8ln5Z52ZxhbFL8MCDfI3mfu3PwDIr9VH8kKB9d2xQbbDAsNvT1XHFUOF62j13gDk5tEe72VrA+0NAKpU3fGaHLukitoJKm4laE1EnmmcmJ/n3r5EdmBbyUfETEObxS/FIoW6PrW8ROQcdSJHBmpS5hHRxd6pyiJ3FXnnrd3ET/llPQ10lXeBREugPXw4Xt3MpjZwN0f+XGvvVBfPR89Kbjd3C5MN3bExEeP835sPeyNQJ0/2+ZnGx7I9G2td+8Q4xfnUO1hZWTzZawCcyNtjuZZI+tbxP+3MCzFXsJkFzIOhHs1y69O7FwCchuMQAHJ5THRfnPk0W8Vx/gF84OmR6GWkdSuNDl67tpmGmrmlDq7v3ejw/TF66unx08MKyuzn9wsgE9+O4IqiYJpKo+RG6Wcdt7KJpnYR2zQ+1Oro0JGkZXq2PwAoor1HslvbtaYW+5u7NlQv//Dbk9VxxVDpOtq7NwBFeLPHe9naQHsDgGpVdbymxS63qKSdoOJWgrZEZLe2iaa2iGt3sLFU5BeUiOzAtjKPCDexvoZx0cICTTWJv9U11xqIyNnrRI4M1Ka8I6KLvVOVRe7y886FLTTVZewfp8VuNCZaAu3hxfF6raktfOid6uL56Fn57ebXurXZke8tLPK9ebE3AjXyYp+/1n38xLAWangkQ/STT72DFZbFi70GwMk8PZZriaRHp2WwsQItFJncQnKvm94aAAAAKCjS8mWgk/XUa+BXIQGg21oUaQ8HReT8/FP7gCc3gwBAPqdGwdTl1xElKzjruJFFmtr1/g0SNtagwt+xAIDKuJn1dWtX+0OorK+xLhuYob2OK4YWXZUAyKhVxzXtDQDaqBOtBKXXqopSu4mFmsfk50MNdeHRLygBkKRr3dl6/7diLdBUK1dgGpVsiMj+lBpAFboY5U6vUyWlvta9TTXazTAt0LiRyXoBnJ2E3qmhrpq/+u3I+aj0dnO3sBvd2rVb7r5ufQ113fz3BiCLzQ83rPcn4rJQU03K/430CvnUO+hTWQAgu1qi16tjf3Ajd+0u3ahVJx8AAABssZ6N7U499WxskWSRjTWX1Lex9ZouHQB0wblGWgvVL2WedADopKqiZKVnnUsFurf+di3sTn1dnf4LeADQiGstdGdbv8Zjgd1qqqt6+73quGI416sSoMvO97imvQFAF7UztpVe6mut9vLzns011NX+TQ8AmuaWutTA5tt5p/V1L7X/dlYiMoBua2e8KLfUbq1LhbqzaGsNke4U+nA7NICzcKx36vp87sqq7nxUYbv55Oj3xg3IQGu4mSa6tbEFL6/ZWHdauJbkyD71DvpUFgDIrs7o9VbTlQUAAEBV3Gq3edMttGhfBxwA+Ow8I62FGjNcFgCOqS5KVnnWcWtd2lBTm2qmf13/gY0VaqIJg9QAtJVba2QLTW2ohb5Wf9jGCjXTm7rjWh1XDOd5VQJ027ke17Q3AOiidsa28kvt1rqy/iY/v9i0OzSQnwPIwi3sQkPd21I/owubqi914XYkIjKAbmtnvKgg71zqwsaa20oLyaaK1NOkLbfiAWg/X3qnmlPl+ai6dvPY722hC37CAmgXN7GZpnqwhb5cr6ynvpa6aE+G7FPvoE9lAYDs6oxer5quLAAAAAAA8NjY5ttPLXz8DbOXX5iwgc0VNl1MAKjIXhRM0+Yo6Sbuta60lkma6LUbnc/wEADd5BbujS71ONDiRq8dv4gGAD6hvQFAO+VqJ2hJbKspIruZe/2cn0/IzwGfubUb6bUmMklrXbrXXk7KQEQG0GXd7J2qK+8cOdO11pLWunbGpAwA6tWx3qkuZt2x9r63N+6SSRmA9nErd6k3msnJtNQb16JJGQAA7fJW0wUAAAAAAAC+cpe7zy3UWBOFJkVabN5zo5umywkA1diPgmnaHyXdQgsL9afcoumSAEA53FJLi/THiWsA4BfaGwC0U752gnbEtnoj8iY/p90BaAG31szW+iJfb2UlIgPosm72TtWcdy60sKGvZzEA3deV3qkuZt2J9e3I9wacN7fSjfUkN2m6JACALmNaBgAAAAAAkNVcgR7nNKcLCgAOESUBAACAIsikAXRRO2NbO0sNAMnaGdvaWWoATWhnvGhnqQEAxxHZAQAAcCaYlgEAAAAAAGTkXjddAgDwGVESAAAAKIJMGkAXtTO2tbPUAJCsnbGtnaUG0IR2xot2lhoAcByRHQAAAOeCaRkAAAA6xeaFP/qu3m669ADQAu9oYg8FP/uuvpH5wAEA+ZyQ4QMAmvARvVs4dr9WtiFrb5+wDgDe4rgGAAAAAAAAAOAJ46EBdNppY5E/UupY5DpGOQBA+U6JpO/ok8VXzLQMAAAAXfK/1acLf/Yj+oGmiw8ALfAf6Z/rcwU/+xH9YNPFBwC0zH+o9wp/9m83XXgAOEs/KBVunXm//tVM7/sBfeCEFqC/Vv9GAZABeR8AAAAAAAAAAE8YDw2g23wai1zHKAcAKN8f0qvCkfRt/cPiK2ZaBgAAgA5x33vCh/n9dgDIwP3lEz5MpAUA5OS+54QPc94BgAa4n9QprTPZ1rE+aR2cHwAvkfcBAAAAAAAAAPCE8dAAus2nsch1jHIAgPK5729qza+arjoAAAAAAAAAAAAAAAAAAAAAAAAAAAAAAICf3mq6AAAAAAAAoBQf1lfYuOlCPPu4frzpIgA4M1+qj3oUBQEAAICu+LC+26KmC/HCArduugwAWuD9eqdFrQTv6P2Z3vchryJy1lIDOHdti8hvZ3ofERnAk472TnWxTgDQaW+3LOsmfwUAAECLMS0DAAAAAADd8MP6H5suwpYf16LpIgA4M+2KOn+t6QIAAAAAGf19/X+bLsKWv9V0AQC0xCf1yaaLUEFp/2v9YtNFLVBqAOeuXdHik/qHmd5HRAbwpJu9U35de9OnBgDp/mGrMkLyVwAAALQa0zIAAAAAANAJ7nv1vU2XAQCa4/6y/nLTZQAAAAC6x31n0yUAgPzcT+p3N12GCmp13XQJACA/IjKAbutm75T7pqZLAADIx32yi1k3AAAA4KdXTRcAAAAAAAAAAAAAAAAAAAAAAAAAAAAAAADAT0zLAAAAAAAAAAAAAAAAAAAAAAAAAAAAAAAAEItpGQAAAAAAAAAAAAAAAAAAAAAAAAAAAAAAAGIxLQMAAAAAAAAAAAAAAAAAAAAAAAAAAAAAAEAspmUAAAAAAAAAAAAAAAAAAAAAAAAAAAAAAACIxbQMAAAAAAAAAAAAAAAAAAAAAAAAAAAAAAAAsZiWAQAAAAAAAAAAAAAAAAAAAAAAAAAAAAAAIBbTMgAAAAAAAAAAAAAAAAAAAAAAAAAAAAAAAMR669gfrKeBpLWb2NiNmi4mAAAAAAAAAAAAAAAAAAAAAAAAAAAAAABA3Y5My2ChbnXllhbandZNFxIAAAAAAAAAAAAAAAAAAAAAAAAAAAAAAKB+r+JetEBzTdxSckv1tNy8GlnYdHEBAOfAAhvrXU1sbEHTZQGKs8DGmuhd9mQAAAAAbcEVOYCuIa4BAAAA/iA/B9qD8Q4AgDazwMaSzTmPAWgGV7/txPcGdIEFNta369s5kgEAVTIX9+JUffdakqyne126hfXV01KBhrp2y6YLDQDoMgs019NEQEtdunXTJQKKYE8GAAAA0DZcxwDoGuIaAAAA4A/yc6A9OF4BAG3GeQxAs4hC7cT3BnQBRzIAoB6vYl/ta7b5XyS5haSBArdwM600bLrIAICOGz9fCkkh5x20FnsyAAAAgLbhOgZA1xDXAAAAAH+QnwPtwfEKAGgzzmMAmkUUaie+N6ALOJIBALV46/AlCxVouXkSaiFJGulxhqDe5nn8p+rztj6nz9W4vn0f0ac7UY/zVNa3h+zeL1Wwp79f79dnm67aUV3Yz5rbwt+y8+zSFgWXg3Rd2FP95eee3I3vvNlalJW/+X0e6yqy7yZUc8T6HM26sZ81u4XLi5A+7yld1Y0joG382tO7uA/4nbeV/f2Xex1D7tx2XTyi28GvLd/2I9DH9pk6zt3VrONL9bOVlxxx/Mr3zodv8a8L+0HT25Qe/q7pwlHRBVUd2T5/vz6XLauujARo+syCJ104Krqg7CPCx+vpfV3Y95qOZOS2vujC3twFvh0Rb3cg02lum5bd31XOd9F01McToq4fut2i0IZsOis/tmg9ZaPVoht8y+nOhy/ZKxG4Gr6ft33aVueFLd8Uv7a8X6XZVVZesHTr/ZfMHbzLQt3p0i0kye41c6PnvwwV6epwIZJkt7VOy/Ah/bL+SY3r2/cx/Vgpy3lHP6tfaLAe56msbw/ZfVCq4Ij9gL5Un2m6akd1YT/7oN6nn2lkzd+gX7317Of0XtObosO6sKf6y889+R39jH6p6UKc6Iv0oUbjf1l5qN/nsa4i+25CNecan89g3djPmt3CZeWhTZ8xzlPT7TXnya+Y2I0ouMvvvK3s77/c6xhy57YjqjfFr1j6Qf2aVh+B/rXP1JGlVrWOr9JPVFxyxOHKpim+xT+/8v5imt6mZbWOkyP5ogtHRRdUc2T7ffbrwr7X3HV2ufl5cyMasKsLR0UXlH1k+3c9fagL+17TLZ9+tUKdL79zn3Pi19VeN/aL5rZpueexsloUyF990YUcoguqyYN8iZ5tyKaz8vmIKXs8dNmtFn71MZwPv3K6c+LLHQpdisC+bFOpuvP2O6XdnevPtjovPucJXeZLzvvkY/qMt0fgO/pnpeQFI7fcf+mtw3e5pW0mXrCBetrMDGSBQgVaHVu2u2p6KwEAusGmGmw9/bMv0wMBbcKeDAAAAKBtuI4B0DXENQAAAMAf5OdAe3C8AgDajPMYgGYRhdqJ7w3oAo5kAEA9zMW92FdfNwoVqu9s5y9jRe6i6UIDALrMAt0r2DxZ6tKtmy4RUAR7MgAAAIC24ToGQNcQ1wAAAAB/kJ8D7cHxCgBoM85jAJpFFGonvjegCziSAQD1iJ2WQbJAoVvYVD13KVmgsSZuJVmkud64VdPFBgB0mQUaK5S00IRLIbQXezIAAACAtuE6BkDXENcAAAAAf5CfA+3B8QoAaDPOYwCaRRRqJ743oAs4kgEAdTgyLcPmj/eauZFkoW516VaSjTVwr5suNAAAAAAAAAAAAAAAAAAAAAAAAAAAAAAAQPXeOv4n66mnhSS5pc0U2UqBIl02XWQAAAAAAAAAAAAAAAAAAAAAAAAAAAAAAIA6mDv2h7EC9bTUwi0kyQKF0uP/Acewrl8AAADISURBVAAAAAAAAAAAAAAAAAAAAAAAAAAAAAAAuu/otAwAAAAAAAAAAAAAAAAAAAAAAAAAAAAAAADn7VXTBQAAAAAAAAAAAAAAAAAAAAAAAAAAAAAAAPAT0zIAAAAAAAAAAAAAAAAAAAAAAAAAAAAAAADEYloGAAAAAAAAAAAAAAAAAAAAAAAAAAAAAACAWEzLAAAAAAAAAAAAAAAAAAAAAAAAAAAAAAAAEItpGQAAAAAAAAAAAAAAAAAAAAAAAAAAAAAAAGL9/wGvV3MrkGGIpAAAACV0RVh0ZGF0ZTpjcmVhdGUAMjAyMi0wNC0yOFQxMTo1MTowNCswMDowMEbIdoQAAAAldEVYdGRhdGU6bW9kaWZ5ADIwMjItMDQtMjhUMTE6NTE6MDQrMDA6MDA3lc44AAAALXRFWHRpY2M6Y29weXJpZ2h0AENvcHlyaWdodCBBcnRpZmV4IFNvZnR3YXJlIDIwMTEIusW0AAAAMXRFWHRpY2M6ZGVzY3JpcHRpb24AQXJ0aWZleCBTb2Z0d2FyZSBzUkdCIElDQyBQcm9maWxlEwwBhgAAABN0RVh0cGRmOlZlcnNpb24AUERGLTEuNVM2WsEAAAAASUVORK5CYII=\n",
                        "text/plain": [
                            "<IPython.core.display.Image object>"
                        ]
                    },
                    "execution_count": 16,
                    "metadata": {},
                    "output_type": "execute_result"
                }
            ],
            "source": [
                "%qatdisplay circ"
            ]
        },
        {
            "cell_type": "markdown",
            "metadata": {
                "slideshow": {
                    "slide_type": "slide"
                },
                "tags": []
            },
            "source": [
                "## Optimize the angles of $\\psi(\\vec{\\theta})$ for a given QPU\n",
                "\n",
                "We can now use the QLM's variational plugins to perform the VQE optimization."
            ]
        },
        {
            "cell_type": "code",
            "execution_count": 17,
            "metadata": {
                "slideshow": {
                    "slide_type": "fragment"
                }
            },
            "outputs": [
                {
                    "name": "stdout",
                    "output_type": "stream",
                    "text": [
                        "Minimum energy = -7.995936018596706\n",
                        "FCI energy: -7.998354311186427\n"
                    ]
                }
            ],
            "source": [
                "job = circ.to_job(job_type=\"OBS\", observable=H_active_sp, nbshots=0)\n",
                "\n",
                "from qat.qpus import get_default_qpu\n",
                "from qat.vsolve.optimize import ScipyMinimizePlugin\n",
                "\n",
                "optimizer_scipy = ScipyMinimizePlugin(method=\"COBYLA\", tol=1e-3, options={\"maxiter\": 1000}, x0=theta_list)\n",
                "qpu = optimizer_scipy | get_default_qpu()\n",
                "result = qpu.submit(job)\n",
                "\n",
                "print(\"Minimum energy =\", result.value)\n",
                "print(\"FCI energy:\", info[\"FCI\"])"
            ]
        },
        {
            "cell_type": "code",
            "execution_count": 18,
            "metadata": {
                "slideshow": {
                    "slide_type": "fragment"
                }
            },
            "outputs": [
                {
                    "data": {
                        "image/png": "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\n",
                        "text/plain": [
                            "<Figure size 432x288 with 1 Axes>"
                        ]
                    },
                    "metadata": {
                        "needs_background": "light"
                    },
                    "output_type": "display_data"
                }
            ],
            "source": [
                "%matplotlib inline\n",
                "import matplotlib.pyplot as plt\n",
                "\n",
                "plt.plot(eval(result.meta_data[\"optimization_trace\"]), label=\"noiseless\", lw=3)\n",
                "plt.plot(\n",
                "    [info[\"FCI\"] for _ in range(len(eval(result.meta_data[\"optimization_trace\"])))],\n",
                "    \"--k\",\n",
                "    label=\"FCI\",\n",
                ")\n",
                "plt.legend(loc=\"best\")\n",
                "plt.xlabel(\"Steps\")\n",
                "plt.ylabel(\"Energy\")\n",
                "plt.grid()"
            ]
        },
        {
            "cell_type": "markdown",
            "metadata": {},
            "source": [
                "## Annex : Active space selection using only the `MolecularHamiltonian`class"
            ]
        },
        {
            "cell_type": "markdown",
            "metadata": {},
            "source": [
                "To explain better what is happening under the hood, let us select the active space of the $LiH$ molecule without using the `MoleculeInfo` class. Let us assume we already used `perform_pyscf_computation` to compute the molecule properties we need."
            ]
        },
        {
            "cell_type": "code",
            "execution_count": 19,
            "metadata": {},
            "outputs": [
                {
                    "name": "stdout",
                    "output_type": "stream",
                    "text": [
                        " MolecularHamiltonian(\n",
                        " - constant_coeff : 0.9071609330057144\n",
                        " - integrals shape\n",
                        "    * one_body_integrals : (11, 11)\n",
                        "    * two_body_integrals : (11, 11, 11, 11)\n",
                        "\n"
                    ]
                }
            ],
            "source": [
                "# We define the molecular hamiltonian\n",
                "mol_h = MolecularHamiltonian(one_body_integrals, two_body_integrals, nuclear_repulsion)\n",
                "\n",
                "print(mol_h)\n",
                "\n",
                "# We compute the natural orbitals occupation numbers and the basis transformation matrix\n",
                "noons, basis_change = np.linalg.eigh(rdm1)\n",
                "\n",
                "# Reverse the noons order for them to be in decreasing order...\n",
                "noons = list(reversed(noons))\n",
                "\n",
                "# ... and flip the basis as well\n",
                "basis_change = np.flip(basis_change, axis=1)"
            ]
        },
        {
            "cell_type": "markdown",
            "metadata": {},
            "source": [
                "We use `MolecularHamiltonian.select_active_space()` to select an active space. This will update the body integrals as well as the constant coefficient in the `MolecularHamiltonian`class (here `mol_h_active`)."
            ]
        },
        {
            "cell_type": "code",
            "execution_count": 20,
            "metadata": {},
            "outputs": [
                {
                    "name": "stdout",
                    "output_type": "stream",
                    "text": [
                        " MolecularHamiltonian(\n",
                        " - constant_coeff : 0.9071609330057144\n",
                        " - integrals shape\n",
                        "    * one_body_integrals : (2, 2)\n",
                        "    * two_body_integrals : (2, 2, 2, 2)\n",
                        "\n",
                        "We reduced the number of qubits from 22 to only 4 !\n"
                    ]
                }
            ],
            "source": [
                "# Active space selection\n",
                "mol_h_active, active_indices, occupied_indices = mol_h_new_basis.select_active_space(\n",
                "    noons=noons, n_electrons=n_electrons, threshold_1=0.02, threshold_2=0.002\n",
                ")\n",
                "\n",
                "print(mol_h_active)\n",
                "\n",
                "# The number of qubits can be computed from the one body integral in the active space:\n",
                "nqbits = mol_h_active.one_body_integrals.shape[0] * 2\n",
                "\n",
                "print(f\"We reduced the number of qubits from {mol_h.one_body_integrals.shape[0] * 2} to only {nqbits} !\")"
            ]
        },
        {
            "cell_type": "markdown",
            "metadata": {},
            "source": [
                "We get the `active_indices` and the `occupied_indices`. The `MoleculeInfo` takes care of everything for us by overwriting the correct attributes with their updated **active** counterparts. But since we are not going to use it, we need to do it manually:"
            ]
        },
        {
            "cell_type": "code",
            "execution_count": 21,
            "metadata": {},
            "outputs": [],
            "source": [
                "active_noons = [noons[idx] for idx in active_indices]\n",
                "active_orbital_energies = [orbital_energies[idx] for idx in active_indices]\n",
                "active_n_electrons = n_electrons - 2 * len(occupied_indices)"
            ]
        },
        {
            "cell_type": "markdown",
            "metadata": {},
            "source": [
                "We can then do as usual, by calling directly the functions we need. For example we can guess the optimal initial parameter:"
            ]
        },
        {
            "cell_type": "code",
            "execution_count": 22,
            "metadata": {
                "scrolled": true
            },
            "outputs": [
                {
                    "name": "stdout",
                    "output_type": "stream",
                    "text": [
                        "List of initial parameters : [0, 0, 0.1964034140766623]\n",
                        "Initial Hartree-Fock state : 12\n"
                    ]
                }
            ],
            "source": [
                "# Computation of the initial parameters\n",
                "theta_list = guess_init_params(\n",
                "    mol_h_active.two_body_integrals,\n",
                "    active_n_electrons,\n",
                "    active_orbital_energies,\n",
                ")\n",
                "\n",
                "print(f\"List of initial parameters : {theta_list}\")\n",
                "\n",
                "# Get the initial Hartree-Fock state\n",
                "ket_hf_init = get_hf_ket(active_n_electrons, nqbits=nqbits)\n",
                "\n",
                "print(f\"Initial Hartree-Fock state : {ket_hf_init}\")\n",
                "\n",
                "# Compute the cluster operators\n",
                "cluster_ops = get_cluster_ops(molecule.n_electrons, noons=active_noons)"
            ]
        },
        {
            "cell_type": "markdown",
            "metadata": {},
            "source": [
                "You are then free to convert the `MolecularHamiltonian` to an `ElectronicStructureHamiltonian` just as in the `MoleculeInfo`part by doing:"
            ]
        },
        {
            "cell_type": "code",
            "execution_count": 23,
            "metadata": {},
            "outputs": [],
            "source": [
                "# Get the ElectronicStructureHamiltonian\n",
                "H_active = mol_h_active.get_electronic_hamiltonian()"
            ]
        },
        {
            "cell_type": "markdown",
            "metadata": {
                "slideshow": {
                    "slide_type": "slide"
                },
                "tags": []
            },
            "source": [
                "## Further questions to be investigated:\n",
                "\n",
                "This notebook only tackles certain aspects of performing chemistry on the QLM. Other questions that you can deal with using other QLM tools include:\n",
                "\n",
                "- what are the effects of noise on the VQE ?\n",
                "- how do noisy and noiseless VQE compare ?\n",
                "- what is the effect of the QPU connectivity constraints (e.g. IBM QX5 chip) ? \n",
                "- how to reduce the gate count given a topology?\n",
                "- how to rewrite a circuit for another gate set (say, for ions)?\n",
                "- how to mitigate noise effects? (zero-noise extrapolation...)"
            ]
        }
    ],
    "metadata": {
        "celltoolbar": "Diaporama",
        "kernelspec": {
            "display_name": "Python 3 (ipykernel)",
            "language": "python",
            "name": "python3"
        },
        "language_info": {
            "codemirror_mode": {
                "name": "ipython",
                "version": 3
            },
            "file_extension": ".py",
            "mimetype": "text/x-python",
            "name": "python",
            "nbconvert_exporter": "python",
            "pygments_lexer": "ipython3",
            "version": "3.9.2"
        }
    },
    "tags": []
},
"source": [
    "# Quantum chemistry on the QLM\n",
    "\n",
    "## Example: $LiH$ molecule\n",
    "\n",
    "Let us now study the molecule $LiH$. As for the $H_2$ case (studied in a previous tutorial), we need to first describe the geometry and atomic content of the molecule. In this example, we will compute the basis change and select the active space.\n",
    "\n",
    "Again, we use the ``pySCF`` package. We choose to study lithium in the 6-31G basis at 1.75 Angström (internuclear distance.)"
]
},
{
"cell_type": "code",
"execution_count": 1,
"metadata": {
    "slideshow": {
        "slide_type": "fragment"
    }
},
"outputs": [
    {
        "name": "stderr",
        "output_type": "stream",
        "text": [
            "/usr/local/lib64/python3.9/site-packages/pyscf/lib/misc.py:46: H5pyDeprecationWarning: Using default_file_mode other than 'r' is deprecated. Pass the mode to h5py.File() instead.\n",
            "  h5py.get_config().default_file_mode = 'a'\n"
        ]
    },
    {
        "name": "stdout",
        "output_type": "stream",
        "text": [
            " HF energy :  -7.978244325721487\n",
            " MP2 energy : -7.991271632153249\n",
            " FCI energy : -7.998354311186427\n",
            "\n",
            " Number of qubits before active space selection = 22\n"
        ]
    }
],
"source": [
    "import numpy as np\n",
    "\n",
    "from qat.fermion.chemistry.pyscf_tools import perform_pyscf_computation\n",
    "\n",
    "geometry = [(\"Li\", (0.0, 0.0, 0.0)), (\"H\", (0.0, 0.0, 1.75))]\n",
    "basis = \"6-31g\"\n",
    "spin = 0\n",
    "charge = 0\n",
    "\n",
    "(\n",
    "    rdm1,\n",
    "    orbital_energies,\n",
    "    nuclear_repulsion,\n",
    "    n_electrons,\n",
    "    one_body_integrals,\n",
    "    two_body_integrals,\n",
    "    info,\n",
    ") = perform_pyscf_computation(geometry=geometry, basis=basis, spin=spin, charge=charge, run_FCI=False, verbose=False)\n",
    "\n",
    "# We give the full CI energy computed on the QLM for LiH\n",
    "info[\"FCI\"] = -7.998354311186427\n",
    "\n",
    "print(\n",
    "    f\" HF energy :  {info['HF']}\\n\",\n",
    "    f\"MP2 energy : {info['MP2']}\\n\",\n",
    "    f\"FCI energy : {info['FCI']}\\n\\n\",\n",
    "    f\"Number of qubits before active space selection = {rdm1.shape[0] * 2}\",\n",
    ")"
]
},
{
"cell_type": "markdown",
"metadata": {
    "tags": []
},
"source": [
    "We wrap the body integrals and the nuclear repulsion in the `MolecularHamiltonian` class:"
]
},
{
"cell_type": "code",
"execution_count": 2,
"metadata": {},
"outputs": [
    {
        "name": "stdout",
        "output_type": "stream",
        "text": [
            " MolecularHamiltonian(\n",
            " - constant_coeff : 0.9071609330057144\n",
            " - integrals shape\n",
            "    * one_body_integrals : (11, 11)\n",
            "    * two_body_integrals : (11, 11, 11, 11)\n",
            "\n"
        ]
    }
],
"source": [
    "from qat.fermion.chemistry import MolecularHamiltonian, MoleculeInfo\n",
    "\n",
    "# Define the molecular hamiltonian\n",
    "mol_h = MolecularHamiltonian(one_body_integrals, two_body_integrals, nuclear_repulsion)\n",
    "\n",
    "print(mol_h)"
]
},
{
"cell_type": "markdown",
"metadata": {
    "slideshow": {
        "slide_type": "slide"
    },
    "tags": []
},
"source": [
    "## Active space selection\n",
    "\n",
    "Based on the (approximate) one-particle reduced density matrix computed (``rdm1``), we compute the so-called \"natural-orbital occupation numbers\" (NOONs). We use them to select, with a given threshold, the \"active space orbitals\" (which are contained in the ``active_indices`` list below). We then compute the Hamiltonian in this active space."
]
},
{
"cell_type": "code",
"execution_count": 3,
"metadata": {
    "slideshow": {
        "slide_type": "fragment"
    }
},
"outputs": [],
"source": [
    "# Compute the natural orbitals occupation numbers and the basis transformation matrix\n",
    "noons, basis_change = np.linalg.eigh(rdm1)\n",
    "\n",
    "# The noons should be in decreasing order\n",
    "noons = list(reversed(noons))\n",
    "\n",
    "# Since we reversed the noons, we have to flip the basis as well\n",
    "basis_change = np.flip(basis_change, axis=1)"
]
},
{
"cell_type": "markdown",
"metadata": {
    "tags": []
},
"source": [
    "The basis change can be done within the `MolecularHamiltonian` class:"
]
},
{
"cell_type": "code",
"execution_count": 4,
"metadata": {},
"outputs": [],
"source": [
    "# Change the hamiltonian basis\n",
    "mol_h_new_basis = mol_h.transform_basis(basis_change)"
]
},
{
"cell_type": "markdown",
"metadata": {},
"source": [
    "The `MoleculeInfo` class is a helper class which contains various molecule properties."
]
},
{
"cell_type": "code",
"execution_count": 5,
"metadata": {},
"outputs": [],
"source": [
    "molecule = MoleculeInfo(\n",
    "    mol_h_new_basis,\n",
    "    n_electrons=n_electrons,\n",
    "    noons=noons,\n",
    "    orbital_energies=orbital_energies,\n",
    ")"
]
},
{
"cell_type": "code",
"execution_count": 6,
"metadata": {},
"outputs": [
    {
        "data": {
            "text/plain": [
                "MoleculeInfo(\n",
                " - MolecularHamiltonian(\n",
                "    * constant_coeff : 0.9071609330057144\n",
                "    * integrals shape\n",
                "       ** one_body_integrals : (11, 11)\n",
                "       ** two_body_integrals : (11, 11, 11, 11)\n",
                " - n_electrons = 4\n",
                " - noons = [1.9999088035669401, 1.9490174408118097, 0.046809242615195326, 0.001838829520564222, 0.0009388053500997923, 0.0009388053500997907, 0.0004987406680091257, 2.5315453359633425e-05, 1.1601439389401787e-05, 1.1601439389401373e-05, 8.137851448610777e-07]\n",
                " - orbital energies = [-2.46481078 -0.29198191  0.00584726  0.05830485  0.05830485  0.14705508\n",
                "  0.19900943  0.21877097  0.21877097  0.32774881  1.30468514]\n",
                ")"
            ]
        },
        "execution_count": 6,
        "metadata": {},
        "output_type": "execute_result"
    }
],
"source": [
    "molecule"
]
},
{
"cell_type": "markdown",
"metadata": {},
"source": [
    " The `MoleculeInfo.restrict_active_space()` method updates the class to the new computed active space."
]
},
{
"cell_type": "code",
"execution_count": 7,
"metadata": {},
"outputs": [],
"source": [
    "# Selection of the active space\n",
    "molecule.restrict_active_space(threshold_1=0.02, threshold_2=0.002)"
]
},
{
"cell_type": "code",
"execution_count": 8,
"metadata": {
    "scrolled": true
},
"outputs": [
    {
        "data": {
            "text/plain": [
                "MoleculeInfo(\n",
                " - MolecularHamiltonian(\n",
                "    * constant_coeff : 0.9071609330057144\n",
                "    * integrals shape\n",
                "       ** one_body_integrals : (2, 2)\n",
                "       ** two_body_integrals : (2, 2, 2, 2)\n",
                " - n_electrons = 2\n",
                " - noons = [1.9490174408118097, 0.046809242615195326]\n",
                " - orbital energies = [-0.2919819062330965, 0.005847259432338539]\n",
                ")"
            ]
        },
        "execution_count": 8,
        "metadata": {},
        "output_type": "execute_result"
    }
],
"source": [
    "molecule"
]
},
{
"cell_type": "markdown",
"metadata": {
    "slideshow": {
        "slide_type": "slide"
    }
},
"source": [
    "## Computation of cluster operators $T$ and good guess $\\vec{\\theta}_0$\n",
    "\n",
    "We construct the cluster operators (``cluster_ops``) $\\hat{T}(\\vec{\\theta})$, as well as a good starting parameter $\\vec{\\theta}$ (based on the second order Møller-Plesset perturbation theory)."
]
},
{
"cell_type": "code",
"execution_count": 9,
"metadata": {
    "slideshow": {
        "slide_type": "fragment"
    }
},
"outputs": [],
"source": [
    "from qat.fermion.chemistry.ucc import guess_init_params, get_hf_ket, get_cluster_ops\n",
    "\n",
    "# Compute the cluster operators\n",
    "cluster_ops = get_cluster_ops(molecule.n_electrons, noons=molecule.noons)"
]
},
{
"cell_type": "code",
"execution_count": 10,
"metadata": {
    "scrolled": true
},
"outputs": [
    {
        "name": "stdout",
        "output_type": "stream",
        "text": [
            "List of initial parameters : [0, 0, 0.1964034140766623]\n"
        ]
    }
],
"source": [
    "# Computation of the initial  parameters\n",
    "theta_list = guess_init_params(\n",
    "    molecule.two_body_integrals,\n",
    "    molecule.n_electrons,\n",
    "    molecule.orbital_energies,\n",
    ")\n",
    "\n",
    "print(f\"List of initial parameters : {theta_list}\")"
]
},
{
"cell_type": "code",
"execution_count": 11,
"metadata": {
    "scrolled": true
},
"outputs": [
    {
        "name": "stdout",
        "output_type": "stream",
        "text": [
            "Initial Hartree-Fock state : 12\n"
        ]
    }
],
"source": [
    "# Define the initial Hartree-Fock state\n",
    "ket_hf_init = get_hf_ket(molecule.n_electrons, nqbits=molecule.nqbits)\n",
    "print(f\"Initial Hartree-Fock state : {ket_hf_init}\")"
]
},
{
"cell_type": "markdown",
"metadata": {
    "slideshow": {
        "slide_type": "slide"
    },
    "tags": []
},
"source": [
    "## Encode to qubits: Fermion-spin transformation\n",
    "\n",
    "We transform the fermionic operators to spin (or qubit) space. In this example we choose the Bravyi-Kitaev transform."
]
},
{
"cell_type": "code",
"execution_count": 12,
"metadata": {
    "slideshow": {
        "slide_type": "fragment"
    }
},
"outputs": [
    {
        "name": "stdout",
        "output_type": "stream",
        "text": [
            "ObservableType.SPIN\n"
        ]
    }
],
"source": [
    "from qat.fermion.transforms import transform_to_bk_basis\n",
    "\n",
    "# Compute the ElectronicStructureHamiltonian\n",
    "H_active = molecule.hamiltonian.get_electronic_hamiltonian()\n",
    "\n",
    "# Transform the ElectronicStructureHamiltonian into a spin Hamiltonian\n",
    "H_active_sp = transform_to_bk_basis(H_active)\n",
    "\n",
    "print(H_active_sp.htype)"
]
},
{
"cell_type": "code",
"execution_count": 13,
"metadata": {
    "slideshow": {
        "slide_type": "fragment"
    }
},
"outputs": [],
"source": [
    "from qat.fermion.transforms import recode_integer, get_bk_code\n",
    "\n",
    "# Express the cluster operator in spin terms\n",
    "cluster_ops_sp = [transform_to_bk_basis(t_o) for t_o in cluster_ops]\n",
    "\n",
    "# Encoding the initial state to new encoding\n",
    "hf_init_sp = recode_integer(ket_hf_init, get_bk_code(H_active_sp.nbqbits))"
]
},
{
"cell_type": "markdown",
"metadata": {},
"source": [
    "## Trotterize the Hamiltonian to get the parameterized circuit to optimize"
]
},
{
"cell_type": "code",
"execution_count": 14,
"metadata": {},
"outputs": [],
"source": [
    "from qat.lang.AQASM import Program, X\n",
    "from qat.fermion.trotterisation import make_trotterisation_routine\n",
    "\n",
    "nqbits = cluster_ops_sp[0].nbqbits\n",
    "\n",
    "prog = Program()\n",
    "reg = prog.qalloc(nqbits)\n",
    "\n",
    "# Initialize the Hartree-Fock state into the Program\n",
    "for j, char in enumerate(format(hf_init_sp, \"0\" + str(nqbits) + \"b\")):\n",
    "    if char == \"1\":\n",
    "        prog.apply(X, reg[j])\n",
    "\n",
    "# Define the parameters to optimize\n",
    "theta = [prog.new_var(float, \"\\\\theta_{%s}\" % i) for i in range(len(cluster_ops))]\n",
    "\n",
    "# Define the parameterized Hamiltonian\n",
    "hamiltonian = sum([th * T for th, T in zip(theta, cluster_ops_sp)])\n",
    "\n",
    "# Trotterize the Hamiltonian (with 1 trotter step)\n",
    "qrout = make_trotterisation_routine(hamiltonian, n_trotter_steps=1, final_time=1)\n",
    "\n",
    "prog.apply(qrout, reg)\n",
    "circ = prog.to_circ()"
]
},
{
"cell_type": "markdown",
"metadata": {},
"source": [
    "Alternatively, you can simply use the `construct_ucc_ansatz` fonction:"
]
},
{
"cell_type": "code",
"execution_count": 15,
"metadata": {
    "slideshow": {
        "slide_type": "fragment"
    }
},
"outputs": [],
"source": [
    "from qat.fermion.chemistry.ucc import construct_ucc_ansatz\n",
    "\n",
    "prog = construct_ucc_ansatz(cluster_ops_sp, hf_init_sp, n_steps=1)\n",
    "circ = prog.to_circ()"
]
},
{
"cell_type": "code",
"execution_count": 16,
"metadata": {},
"outputs": [
    {
        "data": {
            "image/png": "iVBORw0KGgoAAAANSUhEUgAAIMsAAACoCAQAAABiDl2bAAAAAmJLR0QA/4ePzL8AAAAJcEhZcwAAAEgAAABIAEbJaz4AAAAHdElNRQfmBBwNCALNiWSvAACAAElEQVR42u39bZA0XX7Xd/7+l+5BFp5BygtidLMj7Uh13YMmhAd0K9sgyUbj9WZjtLJAIFdLAWIXrdbVxL4wsUvgqheOxRHmRZUV4IXdsKgGYnkQu0RXAEaEVpgqB0ieRTLbtfcMwqwUM12WAsk7Yq0uhAbJoNWcfdHV3fWQlU+VDyezvp96cV1VXZV5TlbmP/95zslT5gQAAAAAAAAAAAAAAAAAAAAAAAAAAAAAAIBDr5ouAAAAAAAAAAAAAAAAAAAAAAAAAAAAAAAAgJ+YlgEAAAAAAAAAAAAAAAAAAAAAAAAAAAAAACAW0zIAAAAAAAAAAAAAAAAAAAAAAAAAAAAAAADEYloGAAAAAAAAAAAAAAAAAAAAAAAAAAAAAACAWEzLAAAAAAAAAAAAAAAAAAAAAAAAAAAAAAAAEItpGQAAAAAAAAAAAAAAAAAAAAAAAAAAAAAAAGIxLQMAAAAAAAAAAAAAAAAAAAAAAAAAAAAAAEAspmUAAAAAAAAAAAAAAAAAAAAAAAAAAAAAAACI9VbTBQAAAAAAoGn2O/Un9ZmmS/HsA3Lu65suBIBus8/qx5ouQ2Yf0tL9/gJ1/BGZfqHpwj97R3/IfX/ThQDQZfaXFOpnmi5FZh9zb2eoE1k6gNax36c/5lHkSkOOCgAAAAAAAABb6J0CgPp4NrYrWcaIzHkEgJ+sp7+v95ouRWbv6E+7SdOFSMK0DK1kP6gPt2h4JbrjQ/qv3XXThQAA4Jx51liD83EODXO/qAf5c/n+rr6t6SKcr5Y1PKFLMt2eWqIv1Xc2XeXMvlufK/S5X9Hf8Oh4nugXmy7CuSF3RuPqvtX1c/qU/lzTlc5snuldZOmd0KrJoNBFBaf4KuyfexW50pCj1sim+m308MNjdUdLoEFEZHiOiIwWYPQqPPeO/iP3l5suBFAe8ld4rov5K71TaFDLpn5GF9U9ysGvsV3JskZk384jv6vpIvirVdOCoItqvjvDrezXehSd0kz0E00XIRnTMrTTT+qftmh4JbrjuxmcBQBAw/xqrMH5OI8Onge3aLoIT0z67U2X4Xy1rOEJXZLt9tQS+RP10lhU8IO/pPf8qaU9NF2CM0TujKbVfavrz+vn/Yl6aSzrG8nSu6BNk0Ghi4pO8VXU53yKXGnIUWv1i62aQAnnp+5oCTSJiAy/EZHRBoxehd8m+udNFwEoFfkr/NbN/NWjNl56p85Ou6Z+RhfVPcrBq7FdyXJEZM4jbWH6q62ZFgRd1MC0Kf5EpzT24Pt1BtMytFOrhleiOwrfBgEAAMrjUWMNzgcNczg3RFo0IfPtqQCyI3dGo7jVFXhCNEaT6NuCN/6Ffop4CH8RLXFWiMjwGhEZrcDoVXjN/4H7QE7kr/Aa+StQslZN/YwuYpQDzsovtGdaEHQRd2e0m7fTMthUX6d/UvDDH9TC/eGmawDgVPbHFRWOA1+kL3Bf33QNAAAAUIz9Y/144Q+/oz/gfqjpGgAAAAAAAJwXevYAZGW/U39Snyn44crjxUmt0x91X15l2QCgbCdFZKnn3lRaupMisj7uVlWWDgBO43dOnLkWP6Jf0S8V/DBj/QEUYB/Xn/c3fwUAAABwHrydlkGf1z/Snyv42e/Wq6aLD6AEr06IA+/qdzVdfAAAABT2Zfquwp+d6H1NFx8AAAAAAODs0LMHIKtXetCk4Gff1bdVXLpTWqfnFZcNAMp2SkSuPuqdFJGZlAGA5/zOibP6Ff0NvVfws4z1B1DE+7zOXwEAAACcBX+nZfh5/bxbFPuoRU0XHkAp/oV+qnAckH5708UHAABAcUXzQMkemi47AAAAAADAGaJnD0BWn9ODz/HihNbpqosGAGU7ISLXEfV8LhsAnMjznDijX9J7jPUHUDOv81cAAAAA54CZJgEAAAAAqITNzZlLec/YnDmGHADogixRL3UZnkdFIjuA89LNyE4sB9A+p8dj4hoAAAAAAAAANIXeKQCoC6Mcmi4rgHNyviMZ3mq6AGiezRVJbmv6P4tOmWu69vLvlTbtue9soJlb17HkpOc21lDSZZu2HAAAyG8/E2xd5pSY+bWtNvVlgsl5IZngNhvvvTBzyyN/X7iFZAP1Hp+60eb1y519cvr0d0kr92bzzpHNm64pqkOk9QuRNrUeiXEvX9RLWVNsTKwjKpZZRyL7eSGi+6mp1lQie+y6aoqKZOnnrdvRuH31eS63F31bPsfjciNXyrqIa2eh7T38adlo22qTudZES6CDiMjtREQGfNL2SNrVK/3UensRSYmjQH5tj7rkr1Uvmfz1OHqn0EZEfV8xyiG1Hoxy4DzSQm2Pud1t36gq5nYlk2YkQ1FMy9AQC9VXqH9d/50+rUU5h3dK4hFoePCRG7eStLf7W6jo6cCwQKHWu4fT3lqj5L+XvuXGCiV3GVfaLM9Tlp5QG+tttpYsOOX7Or6OzXJnGtuo2Bqev+VJ7Of3l5zwvKyQZj31Feq3SPr7Wmr2tA0BADhfFqivSB/RV+r/qeX+hUvBZaZdDmXMBHczp7RMsOk8MC3zy5cHJmZpdeWBJ2SCKXng/pIT88LSMsGBQvX0Dfp7WmrpZqcvsQluZJHmmriRZIEiTW3prnf+HupO0pvNXjLTXCtN4r5p6ylyb6yvldaK3E3TdesyC9RXqK/VR4i0BeqZ45qbSLujiUjbV6iw3EibHPfyRL2UsjcYE8urI5G9euTOJ9TypNw5vbwvkTt+C5QV2T1uTa0mslfQb1BXZK8zKpKl12+TdXydfrS8rKOcPq180bj5eJyvT+v0aHxufVtlxeNN39bH9OvLy0DKjFyppSeuVcZ66ivSR/Ur5fV7VtHD377stLoe/s07iJZVRsvfoi/SPygrWgJZPe9/X6AfISLnrCURuYsROdBAYbktaOg+Rq+eUMuGRq9u3kEkrW6Ua8lXe8C2rfz1x7Ugf81VS/JXj6Luueev9E4hqypazYj6h8/yj3KoL6p7HNerHeXwaf2/tGSUQ7E6cR4pyiJFZe9/tG9keu5NzG1wzHAzmXTpo+MZyVDUq6YLkI+Nnx+RJNng6XnTJctVi8DGmivQTP9Yf11LDXRv/dOX60ZaaCi5kRtpoqWmNt36c6ShpIUbuZEbaaaBoriGHQs01mTz/7GGijSwI+Wzvs0l9ezWwrq2nhtp+TIvynZpszxPklqbe7uzqY1trsJhMGkdT8t1a91omnvRj7W91cyNtFLsEbG/5LTnp7Ox7hVqqTvdaalQ92Ucq1txYCBZbz8uAADgM+vrXgMt9df1jzVToLmNLTh1qSl5YMZMcDdzSs4Em88D0zK/PHlgan1qygOL52NpeeD+kmvIA0O701BrTfSrdSNpanPrnbzUZvLAnqTF43ZyM400sJ0mNbfUzeZdkhRq4a7imxrcyo0kRW6pSAzkqJBFutNAa93qv9eNAs3tlkibo56Zr7mJtHvbrolIO5Z0s4m0Y7sraV9JjHvZo16yhmNiSXUksleN3PmkWhbOndPLaz0b78a0mC1QQmT3uzW1gsheUb+BaorsNUdFsvQabWUd7y8z6yijTytPNPYhHufp0yopGtO3Vai+ulOkpf5vmwzkrowMRCVGrmQ+xrWu9Oxt+j0Xem/T73lnw9OXWn4Pf/uy00p7+ImWR56fzoabaHmn/+YpWpawVI/jhc9lOz82fB6J8l55I1GIyETkjEv3LyL3da/+VgtaKfmrz1HP57K1xV4r1IrRqzlr2dToVSLpkeen21ztzcq92itemi5EuW7UosTtsZ2/Lshfc9aS/LV7UbfN+Su9U8igmlYzon7qmIeU8tYX1f2O65WMcrh9vr681ZpRDsXrxHkkPwvsVrcKdKP/j2611lB3ZZz5ad9oT8xtdsxwA5l0JaPjddYjGU7ijjzU01hjDZ00dqr/oXH8ehXKyam3eRboTrcKs33Wj4dC3Wv+WAPNFTk5aaAHTUvYOgO5xyU6OSmS0/D52VSD5/8HutOdgs2z+ctnnDR+ep+GT69rvL3crX3k4XEZCvTw9J3UsAVvX7bVS2mzPU9Yampt9CAnp3uNn7Zc7HL6Rdeh8ctnNT3c3hnqMH/cLxTp/uh79pac9Hx3z0ja82LXFGiu+80ePn4p2cuel2EZx/b0vpxud97n9r9pRZrXtU/y4MGDBw8eWR+61cPjGf/pTKWe5rrfz2cTlnDkDJeUB2bNBLczp+RM0Ic8MC3zy54HptenzjywWCaYJQ/cX3JyXrifCebLrTSUe8rj5Db1vtVD9u/k6XOHW1mpeWBcHptpjceOrul2WRTJ7b9PkdzjvqlwP3892JI93TppfHBUnbTFeexsu7EeHiPgc6QNNNdD9kh7dP87i0ib55q7/kibFGvbH2mP7XlH1jTQw9PWeo60sTExYRlH1pcW9/JEvdT9IjYmxkTFgm19x8pTZh2zRvai56dzfsTkzqHuyJ1zbL9CuXNqxA411VDT7W0btwVOj+xtaE1Njew5jvvYfoO+Hraz39RlHGtNrS2y54qKmc57ZOnNPyrNOk7u08oejf2Ix9n7tMqKxufYt3VqLllhBlJq5EopQ2M5and79hToLrbfc15Cv2epPfxtzE6r6+EnWlYVLTetbf3tzynUne6y71NHo6UX8eKk1ukc7Ts8Cn07VY5EISITkbPU1auIXGn+6kXUIyJXslXjWqGGjF7NUftGRq8SSXONcs3TLtvTne4eo+ZWbvGQ52qv8L7kdU6c4/uM74vLUguvx/qXtoXIX0/dguSvnkXd88hf6Z3iUfRRaasZUT8h6qfE0pKjetvjeuWjHPJeX9Ywtiu1DCVHZM4j9TwU6UG3m+Nt/pxxu1yZybH9j/YNb2Ku73dnnJhJ57s7o7rR8WcxkqH8x6v4yRos1FwzN9LC7lTjrzJmmEaitDmNmmGBppq5y92ZcNyNLhSVMA9aKLnFzitb8/y4m+cyzBXo0q1jy9d/ep/6z9/9RNLg4M1DzR6X4dZaxvy9KpGWMaXN8DxRem2Wzpy5N24Ut+WeDRLmVkpchxu52fOTRf7taQOFz3MPHf8l4v0lpz0vbirpYnd/dAtdaFXCXD+BpNnW897L/g0AgL9srFBv3PY5TG7lLjUr4eyYmAdmyQT3MqfkTLDxPDAt88uVB6bXp848sEA+ljEP3F9yZXmgRRrqwo126rh2VxppbL2iS91oIg+MtH1shXslkOQWWmpgPQvV3613jMFmaWf5GxB1sL4GunA7v3/g1u5SN5qfPCfoeUTazNfcjUTapFh7XpE21FTXu1vLrd1Il5qWMGNyStzLFfWSNRcTy6wjkb0iNlbvIHdeugstyJ0zKpo7p5TXLd21m2h3m8RtgdMjextaU8trS1Vsv8FMbxSW0G9QX2SvLyqSpdek4qzjxD6tXNHYg3icq0+rrGhM31be8lSZgZQbuZL5F9fa37M31Sq231NVZ6e5e/hbl51W2cNPtKxsJMBQQWy0XHZ8JIDPZTsnVY5EISITkVP5FpErzV99jno+l817m9/522+FmuhC0e7v4BXC6FUiaSrfIqmmWrqL3THobqE3CnT6EVFUN6JcN2pRBvLXU5G/dirqtj5/pXcKaapsNSPqJ0X95FhadlRve1wvL6pXe33JKAfOI4ks0K1G7mr3aHUjXWhg/ZMXT/uGPzHX97sz6sukBxWOjj/vkQyFxU7LYIHmmril5JbqPR9kUQlDrMowk9SXJAsVnXz6rNtQiiuzW+law5O38NHDwKKtA+JWPV0dCVr9l0RWoTYDPt1am22+996XZSzjDgcLTj6wD5cZKniu5XZpszxPklqbEmReh5spit92Cdv0+XSSNJXK/pLTnhdlfUVxe5lb61rRyUlOKO3s67t7PgAAXrJQQ13H5WBuJJ18o03C5VDGTHA3c0rOBDNkNeVngjt5YFrmlycPrCMTzLGGAplgpjxwf8mV5YGBpo9XkwfrvymhE632PNB6L9fEkgUa6iam0+5G0jBTU8Njc8KqC80JPrKeprrebeh/5EYldHCdQaTNdc1NpE1dclWRVtJUEzc7fNktNDl1T88U97JHvWQNxcSS60hkr0RC7nxN7pxxCxbNnYtE7LR25KK8b00tL7Lb+Ei/wfr0foNaI3tNUZEsvUYVZh06vU8rTzRuW59Wx6LxqZl2bX1bRzMQjRScloGUHrmS+RfXWt6zZ31FcftGSf2e5fbwty87rbuHn2h5MosSomXv5OG2PscLn8t2NojIJ29BIvKWDkTkCvNX+R31fC6b/4ZaM3r1FF6NXvU4krZmlOtQPcW3y14l3vpRrW5EuW7U4mTkrydvQfLXLR3PX0/vAa487tA7hTQVt5oR9ZPHPOSN61VF9RZk0yWOXxtqlXB9edJPuDHKgfNIqqkWcRMwuaUmmlZ3kzrtG1nKe6DxTLq6McO1ZdI9jasaHX/2IxkKeyv21fHT3C3WezzILNRQN+rZQGnzPlXOLWypgU0UlHL6rJX1NNTF0XpNNNTVSUvvbQ0h3jkMXmbpsalCXbpjTQ+hXg7R3bLsfcICBXufPDSU4hotLVRfciOLFCrQ7LE0FmigQNLyZZCf9TSQtNaNos2rkVbPYWS7tFmeH992WWojySJJy2LHwPF12OPMusudwY1LRYoZ7Hh0m/bVez4hJiew+0tOe17M+FiscGsbaXriGqLtb8FCBbluBwIAoBlDTdyxxv5r3dmNy5i5HErKAzNngruZU0ImmDFzis1a4vPAuEwwJQ9My/wy54FZ61NjHpgzE8yRB+4vuZo8cKDV7lyMW651b313yjrqzwMjbTrtrKdIfY1iG/JubKyBswzLe+PWkrux07c04gy1OLqHXevOQld4jzmTSJvnmptIG6+GSGsDBcdaxNzI7mx4NA5nkSHu5Yh6yZqKieXWkchejWH8NE+SHiP6pHgb9ZlE9IK5c9ZW0j1HtsApkb01ranlRPZK+w1qjex1RUWy9JqkZB33p2UdJfRpZY7Gp/Rp1ZZfbz0vNxp70bd1eqZdT9/W0QzEre1a81MykNIjVzL/4lrbe/amRwbTyq1sovEpe1/pPfw1Z6cFevjT2hdK7+HfQ7QsYyRAYrTUKa0SfscLn8t2PsYaxfemubVdnzYSpe0RuYT2AiJy+rb3LSIn5a9Xp7Wgye+o53PZPJfSCnXD6FXfR6/u8TmStmWU6/DYLTSbq72LvAssRTeiXDdqcbqxJuSv5K/FynJ2+euJPcCqI+7QO4U0FbaaEfWTon6huF5JVG9NNl3eKIc38X9zC5tpzCiH/HXiPJKVhYqO7n8TCzXUCfcbd699o7yRDD7FXG/GDNeVSVc2Ov7sRzIU9ir21b5eDrLHkDHWjVu4mRY6dSa6MpQ3p1HdIi0SdvPZiTN9bB0GNtCtRu56/y021kCjhDKELzP6uNlzAO7rcavvvnN/2VvhzHqbZyvJegfzXPXdSKHdKtCNBhpIkoW609KN3Ejh07zLFmqumRtpobvHd+2WcOf/WZ4fl1ibjZ6NtdZKtzbItMyM67BAQzfSRLc761zuvz9lm0aS1hZZZFFKvfeXnPa8AAsVxAXhR+5GOmVubettndye6n6WM+kCAFqmr+Nnx+WJvxyeIQ9MzQR3MojETDAlc0rMWmLywLhMMDUPTMv8sueBWTLBevPAvJlg9jxwf8kV5IHavpo84Na6OWUdjeSBoaTIxjbWUANdx2e5FmgtZdk/nhqPmp7usLOihEi70oJImxpp81xzE2nj1RFpE/Z0SbMT15Eh7mWPeskai4ml1pHIXpG03PmUebPPI6IXzZ2ztJIefidxW+DUyN6W1tSyIntSv8HNiTPF1xjZa4uKZOl1Sc46Trq+Uxl9Wtmj8Sl9WnXl19vPy4vGjfdtlZZp19G3FSRmIIsTW+9KjlzJfItrbe/Zs1A6Ps2om6h30m8+ldzDX292WqiHP1+umoRoeaieaBkeH0LuFlqd8nuvPscLn8t2PlJGosxOG4nS7ohcSnsBETl92/sWkSvsffY56vlcthZg9Oqjdo5ePeBnJG3VKNdIa3e8DDcKT/uF34Kl6kSU60YtStgOoXrHJ7YlfyV/TSpLF/NXVTp6spa4Q+8UElXbakbUT4z6BeJ6RVG9Ldl0aSOFE36M8ObE60tGOfhSal/1NUuoOe0b1Y1k8Cnm+jJmuJ5MusrR8Wc9kuEUbx2+tDM7XKiFZIEidylJWmmg6+yLr0aJcxrVLUyad88tbW2RK34J+HgYRJIChbo6THFsoOGxw2NrGYeGmiV+6umzL2UfaGDXWmllfY012p4nxx63QqgbN7NAC91I1tNco+e6ryXJAs0fT1JuaS+z4URbc9CEByXIUpusW3P/m5g9TgRi17q31Qnf0/46BppsyhpoO6jsny4TtqmkSKtNEN26pLNI65jTfC/n8/yilKaMhaIT5qCM9Hj63XpeyvcBAECFbHce10OLEzOXlDwwQyZ4bP1ZMsHdzOlo1hKXB8ZlghnywLTM79QbUndzi7rzwHyZYGwe+Li9UzPB8vPAtG7OpYYnLLuJPDDS4mlCQJtqHje/qgUa60p3Sd2Hkg1ibqfLcp2FzKynXuIesVD/hHnHzyPS5rnmJtKqsUgbJe7Ji5MibYa4lyXqWXBkD3lupbBxzDtGJ8zZW3sdJcnmh69t2lBxEnJnyaPcOc80PNtboPzI7mtrajk5dFK/wcpWJ/UblBT10mJ7rfkuWXpdqs06Tu/TOiUaZ+zTqjG/To7HRaNx831bBTLtxvq2Qi1TM5Div9lQUuRKjcZh3E8sNJ6jtr1nL63fc1Zte0PhHv7Ks9OCPfxp2Wi5PfxJiJZFa5b8u0WzE6Olv/HC57Kdj2pHorQ4IpfUXkBETtn28i8ip7egEZGxLzGSuqWJ0auSfB29msSnSNqZUa5ubYuUSUur0Y0o141alLEdks/F5K/kr8fL0sH8NUMP8Cm/I1xH3KF3CsmqbTUj6ueL+nnierVR3ddsuvpRDkvTib/dziiH47XiPKKUiLrQrQUn3PTdqfaNykcy+BRzaxgzHBtzq8+kqx0dX9NIhu6Ntn3ryOtPO9Lj5c3zRnFLk/Vih6rel3Ji3va3jv3BAq0V2OBoKPq4vs5OGwxWob2SRXuzS8wzzjYRt3VSDgMbaKrJ01aL/x5jSzzWKtNkHFvLcyO70UA9BVrqYu9kFmhhoQLNJLfWlSRpKLkbySK9XHSPH1+TLHiawdBCBUXnLkw/vI/V5qlOm39XJg22S2GhXmbQCRRufYfJF1eP61i4teI6y/bmC0rcplJPk80JaSDpcRbVoW7Us4FGB9+Acj1/kePYMrf3fPdzfRtnWsyPxrwWand+qEHsPvGuov0yAADQrIOz4/7zbPPH/VzMa+kNUNVmgjtLS8ha4vLAuEyw2TzwIBOsPQ/Mlwke5IGS9dRXqECHl6pB0noS8sC3c+RW97vXNHuf+/wJOVq2PFD6hszXVbsOji7rqbfVeLdWL7ap+FZXbm0z9ROPrcXhNYaOvzvPFseLz6dG2uJb9Qwi7SmxtrpIWzjWti/SKsceepcYaU/Y0zPFvSxRLzgy/+7yuWl/FrOvHT9qfrN+R8G2vr9QWR0l5WzMfrfg+elMkTs3lTsnlzf7FqggslfdmjpQTwv17VZXe1EhOZYnRfYcx31V/QYlRr202J4r37Ve5vMVWXqzKss61JY+rYby66TS5tsCTfdt5c20C0fjpHicI5dMzUCyLeenD5ZbXuRKi8arxnPUjvbsVdjvWVE0rCU7bUEPf9btQ7TUadFymPz8iJ+OeS1bvGgmK8vaOn1ahoRUJUXkT+4M83/U5ojsX18bEbnl+asyRr0cV/dlIiKfZj9SMnqV3FZqZ7tsUiT9aI522b2+hoN22mnGBRXTtpw43t+OKWG2Wng91r8s5K/kr5utQP76uFXK6QGuI3+ldwqFVNhqRtTPp2D9GeUgKU/PUdr15V3G5Rzkk76OcsgRkavsK8xbaq/73wr7/MHV2v7+95Bx//sLMa91q32j6pEMFcRcb+/OOBZzi2fS2Y/PykbH1ziSIe9o2xytOzW4PJwYI2ZaBre0zY602V329eIOGBczE8Ypjjc0ZJhf44f0Q24kD9kP6Ifd9q8qzjXZ/lLsH+h/n2V+l7itk3YYWKipbp5PDP2sYc8GCtxVzB8Opy3YfWWtx3llDgKeW8TMDjPQwsZaa6nJcyDrP9fnZcbCtJkSkyQd3mm1kfW2XlvsLSnaCfi9rWerrfofWcdmO2SZHejoNrVQL3MWhVq5paTx495l0jjTiTuLjMeW/Wf6EvddW8/HLydMSbL/i/6p+99lWE58HIi0fDlOLFQQO8/ae1q0ec4cAEDXWKQ/4X7TzvPh9pnKhvpG982ZlnPQNJt+OVRyJpiaOR3LWmLzwLhMsM48MLU+XuSBR7dpbB4oSTcanvhL9rs+mzW3MqfX200T5tzWNbFF+nPuwxmXcyhbHij9vd3rrGziji5F0tb301PMt2njzTRoM/U1PJ55u1WebtzsWxwvLNR/5b5k6/l+pO3rD7l/M9OSDva/M4m0p8Ta6iJttljbhUgryWVqRTSnN9tbcC/S9nSfeTmHUuNetqjnVkppPcg5H/qn9KkibX0212erqqOU+/c13ityfjpP5M5SY7lzenkzbYESInv9rakDXbq1FiZNdVFo6x3KeNxX2W9QXtRLi+358l23skznPbL0ZlWZdbSlT6uh/LqkaNzKNo0qonHGXNIi/cfb14wHGch/JmXq26o0cqVG43XOATQl56jd7Nmrst+zqmhYU3bqfQ9/1u1DtJRUPFruHxGnRMus8aLyrOyk1umM7TsogogsedrXRkRuKiInt6DtHTEJyykckbNe3RdHRC6bfUJ/M7EV6qf03YxeJbeNL0ur2mV/XN+VaU/ey10Pcou/rk+5/7ikMsWt3+ucOHMt5nqvcC28HetfFvJXifz1uTTkr5X2AKvk/JXeKRRRZasZUT9F4bieI6qfUzaddZTDJ/QXt39qu/D1ZVw+6ekoh6wR2bPziLf9b6ewT+hPutnW8/39b2+kw9HlxIwt7Fz7RtkjheuIuX5m0lXE3IzHZ5Wj4+sbyZB7tG3G1p3mvBX76rUGJoUKYyu8TltoxbL+Xp2PfjhpwL719DHlG5S+LfEwsFBzzdzLjh9un4ASyjRQ+Pgpi3b3Bbfauypd731uqImWWivUnU3c/hQah+FtuXtJvnNB/PLuqPhsPEmHd3JtJEl3kl7H/32nsyLULP6gT1lHP23qhMRtGjwtzwINdC1ZoGgTYlePr9TqB5Q8S/A3Fi+R9dTbmR9nd88HAMBXS33MgoQZ+kL9cOFlp1wOlZ0JpmVOKZlg3GXuTiZYbx6YIRNsPA9M3KYHeeCmxmpsnNFKkY7vYVHsL6dk0kgeuHtNHEn7R7GNNXtsbnEzW6lvI5d6xRzT9YBSuKV9PnaWzieRPlF44ecRaU+ItdVF2myx9swi7ULR0alKTzpjKjXuFYl6yRqIiRXUkcheurTc+ZT9/Dwi+gnxPLWVNNsWODmy192aKqmnnpaSFqr/17mS+w2Ck/oNao/sNURFsvT6VJl1tKlPq/b8urRo3MY2jSaj8Ur/RmIG8q8p034Yq5LIlcyfuNaBnr20fs/fpeLD2SqJhjVmp7738GfdPkTLPFb6NxL//tsSsoe0reBxvPC5bGflB3Sb+PcTRqK0PiI32tdGRFZTEfljVeWvPkc9n8vWCn8zZfTq//SEwc5tutInt6Vd9tHfS1nnt+qP1V2kbkS5btSiFN+neeLfyV+3S0zUjStLt/LX9B5gv/NXeqeQpsJWM6J+sqJxPU9UJ5uO8YkKry8Z5ZCpVmd9FvlvFR7PHOyUyb061r5RxUjh6mOup5l0gzG30tHxZz2S4TSv4l50M11LbqKn39N4DiAW5f41u5Jtza+hBhKHUy0UWXD0r30tTtgxEw4DCzTX6iWgWHR0Kfu/Ddd7Plkcfma2Nd/M/gltrUt3o1A9N9FVzKDR6OC17XmJepv/rLbfbeOd/x2UNsPzJEm1eazRS3gtevo5ug6Lu/zfL33CNt365odauBvpJcV1y60tWv52i+UWCo7vZRapd2IXznYJe7nnywEAoAFuraUGx/5qgfondAUkXg5lzgT3MoDETDA5c0rOBKOYXOMwE0zLA9MymHz5TFp96s4Dc2SCMXlgsuTtVMa13kxRwl/7J05EV3ceuPuNb77Fp/3QAptquXWFfKPg+HG++czAxpL6dm+hUL6F+sf+ZMFJt42dR6TNd81NpD2m+kibsKcr/vvPLiHuFYl6yRqKiSXXkcheBbfWMiWiV3RTZGci+im5c1oraayDLVBGZK+3NVXu9eboj1KXfMoZMV5yv8FAyxP6DWqN7DVFRbL0+iRnHae0ZJTTp5UnGp/Sp1VPfr37vJxo7EPfVs5Mu3A0LqNva5WYgfROnBiq5MiVzLO41vqePbdQ7/iWPHH8RAU9/LVmp0V6+Mu8biZaNhMtV3a8r6OX/ZuI4XO88LlsZ2Tz619HWHjSSJS2R+Qy2guIyNqUoT0Rucr81d+o53PZ2iB19OoJy2b0KpFUmxLU0y5bRsvsQuHeyNrtrdt//j3MOnUjynWjFiVwS/LX52WRvxYoS+fy1/QeYL/zV3qnkKLSVjOiflpUKhDXK4rqbcmmyxkp3E8c5XDaBP+Mckip1dmfRXwfyeBX+0a5Ixl8irk1jxk+GnOrb7+ocnT8eY9kOMmr+Jfd2i30fHC6lRb2+OUFJ8zRVYLt+TW0SjyJe8kttTz2axrW0/CkrXv0MNiE/cunE4FFuj16SK9ebue3UGPJxo+Pp1Kas6fZ52+eTgYW7AdSN9vMLNST3NIdpvDB3gG/dfOWjRVIbvk0T40NdmbkWVnv+ZSwVdpMz5PE1GantrOnWRQt0npnRsXsjm+xw7mYQu3NzZS8TR+/Uesdmc+nl7DktOfF3Gh89PgcF9x+T+XbPTme9otcAADUZ6Lh0Q7d6VOWW0hiA1TmTHAnc0rJBBPywOSsJSYPPMgEM+WBaZlfnjwwLROsOw/Mmwkm54FJS64qD+wfa2iysXRa90J9eaD1bGx36im08XN9biQLbKClZJHd6l6Dl+PaxhpIGtptQkObNNDELdxIs5TfWUQxEw2PNtQMtT5perjziLR5rrmJtPHqibThsa5c6ysqtgWT417hqJes5phYUR2J7NWYJLQsTTU7aU7z84joxXPntFbSpy239f3EbIEyInsjrakWqr/3+0nJsbyUyO6WWiT2G7QnslccFcnSa3ej0I507VpfYeN9WnmiceE+rdry693n5URjD/q2imXauaNxWZl2BRlIZZErmV9xrQs9e5OjZ+pA08ajYXPZabEe/rT2hTJ7+J+2K9EyYc2F6poULSen/RSJt/HC57KdlxtNk/a/E5bc7ohcTnsBETl123sXkatrQfM56vlcthZIHb3qVSRl9Go7I2lN7bKlRFK3TrzaGzcyWr4bUa4btSgH+avIX4uUZeO88tdbf/NXeqeQWXWtZkT9tKifJa7XE9XbkU2XNcphqXH836ynAaMcstWp8HnkzM8ibqa1Hdv/Ig386rtrsn2jgpEMMeVtRSZd2pjhg5hbV99c6aPjGclwMnf0oZ6cos3/Q80VKtKtek51PDTWeO+VQFP1t54P5TTM9ll/Hgr08FILzZ+2sJPmmhbbOupprDs5PWj8/I1N5RRooL6TbuV0r/nmcS+nh52lbZdioNvn/z/srHS8WdfDy7o11FSBAk01OLIPxe4vGu6WwEmB5uor0lBjBZvX+por0lB9jTXWWD0nzXfesVXaLM9TtupBbbZr+/i6Ig10/7K9YpYyT/zrkS12+O3r4ci2O7ZNI03V11Th83P3/Df39Grcko8/P6xLnmNLd1t7ynjn/3fF9vTNa/fbn1fvad+M2SLz7N8+Dx48ePDgUcdDty9np+0zlQZ6eMpvUpexc4ZLywPzZIK7mVNaJpiWBx7LWg7zwLhMMD0PTMv88uWByZlg3Xlg3kxwPw98fn18mA3tLjkpL9yvTZ7cSkPdb31TL1lpKJe0jfaW4g5eyZgHpn0XR9eYoY6KNN7f0imf2N+SD4+f387XT93iPHa23Nb1xk6kjeSyf3fb3845Rdp819xNRNrk47vtkTYu8h2ta39nSS+RdqfVKc+efvQ9OeNevgh8LCbGRMWCbX1ZynNqHbNG9qLnp/N9kDs3lzsnt5I6aaxbPchp/nz+ONgC5UT2OltTN6+Gmh9E+8TW1JTInvm4V6CHlzru9RtkPuNmiZbVRvZcUTHTeY8svelHFVlHeX1a+aJx0T6tuvLrg/qUEI396dvKl2nnj8YpbRp5+rZut/pJtzOQYdEM5Oh7ToxcKe9uLEftbs9e+f2eVfXw15mdFuvhT81GS+zhJ1pWFi23ctSdI2KnZThlGTHHvD/x4qTW6cztOzwKfjtE5MraC4jIGba9fxG5ovzVn6hHRK5gm/YSRq9m3/cYvXpQ2izPU7ZqpyJp1e2yLnmUa5522fsjucW0+mtUv3PizLWI2dqZa+HxWP8StxD5K/mrqo+65K9l54j0TvEo+ii/1YyoH//M5RzlUG5Ub382Xdooh3KuL2sY25X6/pIjch3nkRyj7jp6HlGorRHBW2MIdq7ycm7VTrZvlD+S4bC8bcik88bco2OGD2LuSZl0nrszjo+Ofyg2Ov7IOzo7kqH8R9KXNdX8JZA4KaqzMnuNCNHmkLx7bkobPwYw3cY06XjdVKO+ni/1nnYQhbrTXdZUO1sNsx8GO4E/OEyDEz/b01DDvJN1KIgNWeHBARRsTQwS7P/vsLRpz0+tjUKN1U/+ntIO+vh1yO2dAML8iY96O5Mv9J7C026g2l9y0vMTp2UI9aDbzWl8/HzavM0V7hMbExVt4sD906l657MdTR558ODBg0ebHwp0/5TPvpypNJbLcStDyY01Ow0RjeWBh5lgWh6YlvnlrU1aferLA4tkgrt54POrBzcL7y45OS88rWFOty+NJM9Z6XC70SXDMhJui0/OA4teiFeTPx4ry/73cy5NoXU8dKe750ab7Ug7yLGMUhue2hRp81xzNxFpUxtZWx1psw4A2Lx3+tKx9Rxp+3rIPuVnvvVlXmaxCHy4JWuclqGsZaZF9jY0FPv1UKB7zXdzZwXkzk515M7FyhtTzpMje32tqZul3Cpw2ul0TY7laZE9x3Ef22/QK7/fIPd2Khi7MkTF0ga+lVcrsvTYrVJT1lGkT6vsjPTIZ2rKr2OelxKN29W3tVlKzmic2qaRp2+rpgykwPdYSqZd97QMXerZK7/f8+j+0/ke/rRstJ7axNaEaJk9Wva2ouXLETHWQ478N3GAedPx4qTWaW4CrvhBRK6uvYCInLGWfkXk0vNX36IeEbmSrToQo1dbOno183LOLJKe2C4b6eH5ZpXx8+0x8+O3Ppf38DsnzlyLxNuYUmrh9Vj/0rYQ+Sv5q7oVdc8jf6V3ikfhb7n0VrOj7yHqM8rhZSlNjnIo4/qyxrFdqZ8rKSLXeR7JMOqus+cRDfXw9GPvz/tftDtZUxn7SvtibvUjGeqMuX7dnXEYc0/MpPPdnVHL6PgC32NLRjJUUPOmC5CwcQs3t/jeVLNJMwbqaa5IkcZy2/N61V3DvWaxaZ7DsenHwXw2Kc9rKFGub+bxNKa+3O73r+npoUPzze/89beHR+4vOen5adMyPDcdDhVqrLFCDfWgeV17eneTRx48ePDg0ebHpol1rFCR5upp8HKBlHEJJZ/hdpoAWpUHpmV+bc0Dy8kEH8tz0Ng23cv7E/LCUxvmNNSDpuo7ySlQX/M8v6TqdNqFv//TMijU/d5smWfTFFrHY3ONHW1F2vt8+0S5DU9E2nK/3RzvbVmkzbvnqa8H3aqvQI+R9valoyHjEjxpYj2MiacN5Ti1PMWWmR7Z29BQ7NuD3LnUsnsX0Z/X7U9rarhprY92bidNjuVpkT3ffOC7/Qbh5ghorN+gSB226pIeFb0b+EaWfnR7xWUduaIG+fWx8jbfp/W85lZH49Q2jbx9W/sZyH2zGUh8rTJuzdpz1C737G1uy9nt97ylh79g6ROzUX9rQ7TcevfjSIDx5ojoafgy5DzjEk445uudlqHOz/LIuI3jR6Lk2f+IyEfKS0QuUBIfInKj+Wud0zL4VrY2Pxi9WmLZvb3ST/8Oc+4zHkfSk9tle5rrXkP1il7tFa671zlx5pKc0LLg+1j/0rYR+WuZW5P89dSSkL/SO8Wj4kezrWYxSyPqV1OyVsf1Skc5bK4vc9XBm2kZyovI9Z1HMo266/B5RJHuNddAwWb/m6rR/a/NMdff9g2f7s6Ii7knZtJ5787wbHR8fK0ybssOjLZ9JdTOLd2FZurrXpHmulWgSzdy66bLtTHSoOkinFDatOeVc6Ps77VQdxpKGmiy/f1bqMAtytg2FlqkvibHlpz2/MRtsXZXGinUXEMNNVeokbv0Zk8HAKABbu1GulKgueaKdK++Zu7CLZsu10a78sC0zK+VeWBZ+ZhFNlak0MYWxS+52jxQchNdaK2xOUkPGmqpN25W3vLbzUKNdeXNkd9BbqQLBZpuIu1AM12UuX+fhEh7ouyx9gwi7UwXWmmoBz1G2pUu3OTkxdauGzGxG7XwD7lzpeVtPKI/8ag1da5Ic801V3hsycmR/uRtsdtvMFegK4/6DXJoZ1RsZ6nrsZV1uOes46bpUm10Kxo3WJ82R+MK+rZGulJvKwO58SgDyYG4Vja3cpd7/Z7X7sqbM3W746E30TAN0XJrW6zdla7V2xwR94p04y7dqqzlA0k2+9/+SBRf9j9vY1im8hKR8/MhIu+3oLU0f0WdGL1aYWmJpPk1H0lX7lIThbr38moPHUD+WmF5ibr5NR91yV930IrbPZ63mnkbJzOV16Oo3+a4Xv4oB11uXV9OH68vy1t+fdoYkdtY5nK5hS600EAPm/1PuvBo/2tXzPW2fcOnuzMOY269mbTno+Nz6Ez0anpeiIT5O4r/lkZrZtAsOm9HlTNfOu3OlOX7Y7+0ac99eijQvYaa7v+aZXlz7Sra+273lpz8PGammaK/Tlnz5zZ17+ycXjx48ODBowuPomeqKn/x1+/M6cjWSMj8fK7NsTywzEwwecmpeWFp86UWnVfxpF+/KTbXbVUz1N7tLlfh49be+v2OgeZ6OJ8Zaut71L/fHt0LiLRNlLx1kbb+iFnRzLd3eY68w5h4JCoWbVeoZkb1QpG9DfP3+vsgdy5pK7Y0om+VsvLW1IM1Jreepkf2ou3/XvQbPJclV2TPERWb/T0isvRiW86LrKPL0bgd9fEtGmdo0yiaS3qSgTzX6sRMu54c9Tx69pro94zdJ1rcw5+WjbatNrE1PJ9oWXOUPfWzGdfAb7O35EFELqX8ROTy13hW+WvVUY+IXPXDj1aodkfSLlzpp9bR80haYrtszSPP/c6JM5fkhJaF9oz1L21rkb+WUX7y1/LXSP5a8jqOLpXeqTN7NNFqFrM0on7jD9/iuoejHGoZ25X6iVIjcj3nkcyj7s7iPOLH/tfumNuF9o36xwyfnEnXnhH7OWa4raNt32p6Wgh4YWxrd/n0xC2sZ1FbZkvZL23ac5+4td4cvmoHs/KcsnWSlpz03Abqv8yYBgAAOmwrE/Q5c4qTnPn5XJv4PLDcTDBpycl5IZlgmV6usx5ZqLEmCk2K9LSv3siXX5pFVYi0TZScSNuI/aiXLC4m+h8ViexnjojebB0qb01NXnJSpCeyP2+JVkRFYnnrdTYat6M+fkVj4nE84tqZaHEPf1o22rbaxNaQaAmcEyKy14jIQCu0OJJ24Uo/tY4eR1LiKFBIi6Mu+Wv5yF/rQ+8UGkLUb7oOXsX1c4nq5zDKoZ2j7s5Ai2NuF9o36h4zTCb96HxHMjAtA2J2f9eqnXm/tGnPfVddefNsqbaGNAAAkM9+Jtj2zGn3edtqU18mmLrdWrflWmSuQJEkyevGKZSJSOsXIq1XuhETu1ELZEJE91NTralE9iPaGRXbWeqz1e1o3L76VF/ufFuMeLxBXDsDbe/hz3cV3R1ES6CLiMjtREQGfNL2SNrVK/289a5uyYxyBcrV9qhL/lr1kslfa0QrLmpA1PcVoxw808aI3MYyd17bY2532zeqKjmZdCEdil5MywAAAAAAQC3c66ZLAAD+6EZM7EYtAKAs7YyK7Sw1ABxHXAMAAAAAAAAAn9GKCwC+aGNEbmOZAaBb0cvfaRl+q/4tGxb+9F9ruvgASvAR/Z4T4sCq6eIDAACgOHMnfPj/1HTpAQAAAAAAzg49ewCy+oiiE1qAf7bq4p3UOg0A7XJaRP7lqot3SkS2niPDBOAzz3PijHqaW/FPM9YfQH6/2u/8FQAAAMA58HZaBvc/a7oEAJrmvq3pEgAAAKAZ7oSeewAAAAAAANSPnj0AWbnv1fc2XYaE0tE6DeCMEJEBoCl+R+DMtXjTdAkAnBv3/SJHBAAAANCwV00XAAAAAAAAAAAAAAAAAAAAAAAAAAAAAAAAwE9vNV0AFPLv6Gts2HQhcJb+VtMFAADgzL2tyFzThcBZ+rmmCwDUxXoSkRYAOoHcGc37C00XAPAD0RgN+9GmCwBIkn6zfgc9/PAa0RLng4gM3xGR4T9Gr8J3f1uLposAlIj8Fb4jfwXK9C6jHNA4RjngfLyruTVdBpy3n266ACiOaRlayb3bdAkAAADQBPd9+r6mywB0lG83bjIRRmPcSrS04kx4FfXSFBvK8VHPuk7ouKwZuTPOzsf1dZ0bmkmW3gnOq9MxULm2DZkkR62N+6amSwAAeEREBoBTMXoVAOpE/grUjt4pNMh9j76n6TIAtfJtbFeybBHZt/MIt30f5X5d0yUA6tS6Hy38Mb8n3WRaBgAAAADA2ePGTQDn5hxukHRf3nQJAKBO7uubLkEFdSJLB9A6DJkEAAAAAAAAgPaidwoA6tPFsV2cRwD4iR8tLNerpgsAAAAAAAAAAAAAAAAAAAAAAAAAAAAAAADgJ6ZlAAAAAAAAAAAAAAAAAAAAAAAAAAAAAAAAiMW0DAAAAAAAAAAAAAAAAAAAAAAAAAAAAAAAALGYlgEAAAAAAAAAAAAAAAAAAAAAAAAAAAAAACAW0zIAAAAAAAAAAAAAAAAAAAAAAAAAAAAAAADEYloGAAAAAAAAAAAAAAAAAAAAAAAAAAAAAACAWEzLAAAAAAAAAAAAAAAAAAAAAAAAAAAAAAAAEItpGQAAAAAAAAAAAAAAAAAAAAAAAAAAAAAAAGIxLQMAAAAAAAAAAAAAAAAAAAAAAAAAAAAAAEAspmUAAAAAAAAAAAAAAAAAAAAAAAAAAAAAAACIxbQMAAAAAAAAAAAAAAAAAAAAAAAAAAAAAAAAsZiWAQAAAAAAAAAAAAAAAAAAAAAAAAAAAAAAINZbda/QXNNV3uWs6RIAaJL9Ef2nTZchl9/vvi9DrYi0QAf4diSn+FvumzLU6R/ry5ou6I7/0H1P00UA0KSWRdofdV+foU4/oq9ruqA7Mp0fAKAs9oP6HU2XIQ+ulgEAAAAAAAAAAAAAAAAAAIC2qH1aBr8GHLfsNhwA5XtPC3fZdCGysrk+m+2d5xxp7X/Qr226zuion3O/rt4V+nQkJ7Nxxjf+uL7LLZou7XOp53qv6TIAaFoHI+0P6YfcqOnS5i41AJTlU/qUP1EwDe2SAAAAAAAAAAAAAAAAAAAAQHs0MC0DAAAVek8Tf277RndYpGHTZQAAAAAAAAAAAAAAAAAAAAAAAAAAAPV71XQBAAAAAAAAAAAAAAAAAAAAAAAAAAAAAAAA/MS0DAAAAAAAAAAAAAAAAAAAAAAAAAAAAAAAALGYlgEAAAAAAAAAAAAAAAAAAAAAAAAAAAAAACBWJ6ZlsLk5cynvGZszZ1HTZQXQfVliUuoyvItZRFqgC06PT/4d50QnAH7pYiZIpAVw3roY2QEAAAAAAAAAAAAAAAAAAADk9VbTBZAkG++9MHPLI39fuIVkA/Uen7rR5vVLt0hehxtpZPOmawqgHZKjUhkxKU0VMav6WnUx0tpckeRs65VIOvX7rbH8e6VNe948G2jm1tUveX89e38da6gSjuQKalFDzpSM6ASg+7qYCRJpAZy3LkZ2AAAAAAAAAAAAAAAAAAAAAPXyYloGN7JIc03cSLJAkaa2dNc7fw91J+mNW0mSZpprpcnujYhPLNL0afi0pJV7U3Z5rad/R//lpiwAGmLfqvfrB6q5fTs5KuWLSan1qDxmVVGrmiLt3y+2TWOXl3wbTqDhwUduNlti5wYcCxU93ZpjgUKtk8poUfLfS99qY4WSu4wrbabnR8trvaezngWnHHUJa3ha7kxjGxVZx/O3ODny6d0l769n53mZN01ZqN9SXtZQbs6UUnKiU/x2CfTN+pz7L6raGgCyqPaKrL5MkEh7dMt8q97vvq+qrQGgSn7mSt28xm8DP/cHAHlV2QoLAEB9LNB3lNnvBKBKFuq36K+QgwIAAABongX6Zv2/aVEA2oEWBQAA2qPc+2wANKPsuz/b41XTBdjoSVpIklu7mUYa2M4Nsm6pm827JCnUwl0du3FUkXujK13oja6dlTv42Xo2tXvd60/p3u5tar3TlwkgL+vbrT3oT+vP6MHubHj6EmMkRqXsMSm1LpXGrKpqVXGkDWxsd7rXn9DftXubWljGUt1ICw0lN3IjTbTU1KZbf440lLRwIzdyI800UBSX3lugsSab/481VKSB3Vs/th59m0vq2W05NchYy+XLDUDbpU1/nlLee7uzqY1trsKTFSSt4WW5bq0bTXMu+rE2t5q5kVYax79jd8n76ym63sQyhTa1B/0dfY/u7c7GFpSy2NJyppTSE53ilj+0uR70p/QXzdlt/LEPoFrWs/HOFVk1Z9laMkEibezyBzY3p7+oP23O5jaodJsAKJkN7U4P+jOa2oN3uVI3r/G9Ru4MdMGmFfbP6s/oweYVtcICAFC5Tb/Tg/6E/q492NSipksE4DiL7NYe9Hf0J/RQYu8aAAAAAOT23KLwZ/R37cFuaVEAfPY8XpcWBQAAvGehTe1e/5X+VKn32QCoVTV3f7aHL9MyhNL2r5FL2m+8mEnqS4e/7b3LrdxIUuSWilTyjDk21J0CjZzpLWe6llTVDeEAjrDAbjXVSpf6Tn1Cr3Wjvt1VELrTolLGmJSmyphVXa0qjbR93auniV7rE/rdutZadzY+fblKvg0n0rUbPW4bCzZ7WJyhZo+zqNpwM4nDtWaKaXC3nqa6cgs307XmNU7i09PLN/xc2vTnqeVdK9RAfS2PbJnHpSTcaJOyhuXLBBFuqXWBLoxbLd1S0kpHP7u75P31FFzv8RqPdae1rvR79CN6rYlC3ZdyK1JpOVMyotM+C+1OA830Rjf6z/VGS03tlkYAoF7W1516O1dk1dwcVksmSKTdZz2ba6yF3ug/1/9ZbzTT0OrMowCcwEK7U183eqNP6PfpUivPcqVuXuN7ay93viB3BtpoqxX2O/QJvdGsolZYAAAqZpHuFD73O11qrTnDuwA/WWBjzbXSpX6PPrHpXbvjxicAAAAATThoUVjplhYFwFeb8brbLQr3tCgAAOCnzXn72n2J3tJrTdQr6T4bADWq8O7Pljg6LYP1bGxjG0q1bJBI20OjQz0Oh97iFlpqYD0L1U8bHG09BXr5jbuS2FRDXbsrN3sqkbvWlQZ2W8P2ASBJskD3CnThRo+/W+nW7sZdaKG70pOwlKiUJyal1qqSmFV1rSqKtGNNNXFXbjNdgFu4kS4U2V0JC0+8DcfdbEoQaK5AlzvTF+j5b/2n96mvp2HoE0mHv+T8POWBW2up+n7pOdIyprTpz9PKu3TmzL1xo7gt82yQ0IyZuAY3ctv74iLvFrOBwueJHZL2yt0l768n93oTSnSnSBdPk324tZu5S000LSGrKjVnSqkF0ellqZHmWujC3biVJLmVm+iNpHtuFwbqY2NNa7oiqy0TJNJuLTXUndZ64ybPkfZGF1oy8BpoA+vrTgv3kist3UgXCnTvzcCkbl7je8oi3e3kzktyZ6B9rLfXCruqrBUWAIBK2VC3unGXz/1Oj1crkebeXK0A2LBA803v2tNIgJm71I1u+bEUAAAAAHWzgeaa0aIAtMPzeN3tFoUJLQoAAPjI7tTX5c59Nle6LuU+GwC1sbGmGh3c/dkv5e7PljgyLYOFmmvmRlrYnSr//SPrqfd0G6lkgYa62b51dONG0jDT4OjBZqh1mb953VdfF+7wxscLRVyyAbWZauEu3d4vTrqRrjQts7EzU1TKHpPSVBCzaqhVFZE20lCXbrL7qlvqUkGVN7NbtHVDzq16ujoy9UD/Zfsp1KZEbq3Nr6ruvfdlGcu4rWRB+Q30Fip4ruV2adOfp5b3ZDnW4GaK4rfO0a32POlDctayu+T99Rxfb142ltyF293ichNdanjaraWl50zJiE4vZZpqsj8tiVu7K91oWu3WAfDE+hocuSILy70iqzUTJNK+mOrGXR1E2pFuys30AZTPAk11tR893MpdauFHrtTNa3xfWaCpRuTOQOsda4UdkZsBANrEQo11ddjv5C4k0cMP+GZ4pHftSmOrfNQSAAAAALywnsa6jOn/vNCaFgXANwnjdWlRAADAMzZWoIu9n9uVm51+nw2A+mzu/twbg+uWuijl7s+WiJ2WwQLNNXFLyS13hi1XdWESSY8Dlq1nA91q5K4P3+RutNYg0+Dox+HPq/KGP1ugqa73ByFKklvrWsMiv/VmgY31riY2ZhgjuswCG+vb9e1l7OnWV6TruL+4Wck3e2SISjliUprSY1Yttaom0k72G8Ykya11peFp56Ck23Dc4imtt6lCXcaVQZIU6uU8cKWrrb/sfcICBXufPDSMb6C30MY2liyyoT03CVpgQxvb+OUXCa1nYxvb0IKtXymMtHo+V22XNuV5pvLKIis8acHxNViwW6/nLRq/Z8VuNeur9zwdRdoZeXfJ++spZUoKCzU8EquWmpx4+0LZOVMyotOToVb7Q3c3JuoVuR3cAhtronfJA9FtFtjY5lIpeeBjnlDqFdlRdWaCRNoNG0uKjbRuVGxYA5EW58ICG0s2b3Rfn2qxP23OxrUiGzRWrhfdvMb31ZTcGTiND/0GNlR4pGVj4suUOwAAZDLVZH9g18Z1scFdZfZ7Au1X6kiASIOd3tdnbqEJOSgAAACAWk11c7RFYUCLAnCqMnuALUoer9t0XQEAwIvH+2zifkTXLYv+TIgPo2yA+vgwljLx7s/rU+/+bI+3Yl8dS483q1rv8Xe3rae+QgW6rKQUoaTIIkmBQl3F3WwjWaC1AhvE/Cb0vjduLbkbm6W+M6uBlkcGmMvNrK+Bcg7btkBzhZJ+rb5WkV0e+WV2oOWe93RpWMKePtTo6BKu9WC9+OhRQIaolCMmpSk/ZtVRq/JL3ZeO3QLjljbRIL7hLKOt23AUqa/RYR1trIGuj07KIIUvsf7lnGB9Pf6u6u4795cdvOy71tParSWtJOtJe99E341sbrea6Ub3CnQtWahbXbuFZGNbueXmlSu3tFB3Wmn2vN7FVhlGe2U6/jyxvJKkno0101q3Niu0zx9ZgwUaupEFerDXO2tcKtTOvpW41SJJ6013x/Y2iLO75P31HKy3kEF8iilJbmR9RSeso+ycKRnR6WndQ72J/5tb20jj+BuJE5dY5tkR8FTJe/pAyyO3eMotbJb/iixBnZkgkfbJQFcJmf5d4StuIi067nlfjxQ1ta9bT329jv+bW9tIA51+1Xyqbl7je8kC9cmdgVN40m8wqK0VFgCAClmk4Fj+uel3WuRcItkpsKX0FuCbo1nmRH2LXM4jFgAAAACKsUi9+GnjJLeyiYa0KACnKL1FIWm87r313Vn23AMA4KXB0enP5CbWVz/vSENPRtkANfHk2jLp7s+F3Zx492drxE/L0H++XTCSNgHvRkNVNVdFpMXTl2FTzeMG71qgsa50lyXEPu1SJe5ayTd5LpT/l//GW1sz1LDEm4gAn5S4p1uQdLu0W9tM/byD+49KjUrZYpIFR+LmersJqIKYVWmtKit18u3wp/4SX+ptODbQUNeJt+DEf5tDZZmoYPs8MtDArrXSyvoaa6StsliopaRQN25mgRa6kaynuUbPlx/rTSo1ckvJLU162ZuihKkW0p4fL68kzR73HbvWva1KGfb0uIaBJpuyBNqbCGLv/QlbTdHzL9EGCl/igEW7x1rsknuJfy0mSkwiZydNy1BSzkR0ylm+5fEbTtzMphYmTOgShzwQ56HcPT3tiqzAb28fVUpUItLmYeFzy0Pc+pa2yt1JSqTFufBhX+9rkRAPZpp6cPNuN6/x/dRPyZ1vc+8PPuzlQJ082Oetp15iK+xCkQdT7gAAkC5KuVqZ516iB2dqwCPlHhHR8R+J2eSgTMsAAAAAoB5pLQrj3EukRQHYVluLgqRZKT/VBgAAypF8n82iwH3LZNo4L37s8ckZ9uzEuz9bI2ZaBgsVPN/iubn5xa0kS1yQhQqKFWFvkN9avdhb22519XjbddLgXRvH3I6zcAkXW5vf1k7T1/fvvnPn2T9RmHE5L75l59ml0YVcn4/o000X4YyUuae/q59SaNvPX+8ceT+vvuW7LfZxKV+0/1KmqJQpJilQfGxYPkZZi2KGfCXFrA/o3eRYfFx5tcpd6qyR9t/Un9955+u92vYyLif+d1pTbsOxgaaaPE2vkP02ERtrlWkep63luZHdaKCeAi11sdeAH2hhoQLNJLfezLk8lNyNZJEirdxK0vjxFckC9Z4GIVmooLQBSXv1f9p2bmXa/f2onfN/sHOMLhNvQ3pcw2MHRrip1+6W2CtBwlbrabKZNmIgPe7nFmqoG/Xs8Pcdg6T1JGYzrzPtg+9Xb2ev349VP6dvyZ01PG3t8nKmlOgkmYv56+XRW2a/WF+SqVav9f5CtcoWc2NL7Y6HzS/KGFN/v35yp3Yf3otrP6H/wP5SlgU9Iw9sztv6nD7XdCHORrl7+v9CfyfhiuyXC1yRHVFaVEqPtPOYdxyPtF+otzPV8cP6bGV1UmXnhz+o9xIj7X+r32/5bm8m0jaHSFsvH/b1f0+fTLyS+yl9m71XW2mqjYJlX+NnvVpOVk07V9Gl/rspufOP6o+SO7cKUb1+Puzz7+ofJbbC/jP9u9b0hDv5+bU319FHUdE6yrryQk70azXjGzJeidelC/vB+/X+w4y9Qt+q28Srlf+f/RHlu1rx4UyNF104Ktqt3JEAv6wgoXftZ3Xl0RHXhX2v7oi8r6xt+BG9z6uz9fnqwlHRBVXlrz5/vz6XLaumI/Lb+oaiI9FQqi7szV3w1fplr3KLtxuND2XVodl22aLH1rfq/57YovA/0KLQckTdppV5RHxE70tsUfiXjbYoNB0Fy+HzEVNN2cr63mi1aEo3jrw2erv4nU4VaPpquxw+ReCytmhvf8zByffZkGk3y6e99Dz4sceXdfdnHcrKC2Luj3zryFufBtVl/z3nYdFpGRRJWzd49nRwM6hk481NlTP1NTx+A6wb5Z7lI+uvqv6vUj6X99dZv3jn2YdL/XVXJPuYfqzpIpyRMvf0L9Ov3/n8673lfaW+vMDyX8fcxJ8alTLHpFVyTHIL5bv2+Ap9h357we1XXq3yljprhPyIvmundh8+qG225XxYb++/lHYbjoWa6uZ52oa+sk7KMFDgrmL+cPD5vRt71pICrXVwWnYLyaLd31rVQAsba62lJpsTef+5NtHWb0tHMZMbZJNSXuttvbLYuxEp2pmWobf1bLVVvyNr2NQzzDSdxJGtZqG0NZ3UarPMsSZuIZk0zjRxRrq3c8SwpFj1ZXpTOBaWljOlRafEyQzifIU+ql+X4X0f1q/PX6us0Sl3qT+UMaZe6PM757N3pJ3afrW+Sv+TXGsmD2zOO/pZ/ULThTgb5e7p/6p+z94rp16RHVNSVMoQaS+Vx1foazJF2nf0yarqJFV2fgj1BTvf4H6kvZAOJ1NLRKRtzof0y/onTRfijPiwr/8mfYm+YqcUuznWr9e1/rvaSlNpFCz9Gr+cs1c17Vwf02f0SwU+91v1y+TOnUJUr58P+/x+K+t+y8bX6n05czMf+HQ1+EX6kD7T2nUQh5tQxz6DOL29XqmmdaF/84P6NbXuzV+pf09fv/V8/2rli/W/1k/nWqIPZ2q86MJR0W7ljgT4kpTeta/06Ijrwr73AX1po/nFO/qZQu0O+36TXrXw6qSLunBUdMGH9BUVxEq/r0e6sO81HZHf6Dv025reCPD8SDsnX6PP69c0XYhn3dgvmu5lKHqm+Er9Dn1s6/l+i8KvoUWh5bqQQ7RbuS0Kv8rjFgWfeqeK8/mIKat9YX+p5Xxvv0lfSKtFI5rOP87XG/0vC9/pVL4P6n36maYLcbJqolwx5bVfJI39LnKfDZl2s3zOE7rJjz2+rLs/6/CO/lkpecFIBz+oHDMtg1s+/QqlDV5+gztN7G2pMWJ+WzPcuqX08QbT/Rsux5o93mTpZrZS30Yu9XcyD25qPVbuTLfC2P3jzZ0vtdj+nIWa57ylRjbVYOvpn3V5p5MAWqHMPd0iTXeOvEjDnedjBS73zdcWxQT7lKhUJCZlKEeWmPVju7Ho6NLifsW4glqVHGnnmrmbnedbtbVAD5mXczgPW+JtOBZqrtnW3hO6TFMS2UDh46cs2v1e3GrvXpz13ueGmmiptULd2WS71o/rPzj3LrePHQsVbE1DsP2tFpzpKrm8ku6krQlMdv7qJjslm8XvoSlr6KdPnJCw1YKn5VmgweOSLFC02V9WT6+d7LN6L8s+aIEedPVy/BzEqoH6GfflmnKmlFJkO84/pU9lifA2j5kPr7no9JmMMXXv/GJjaeeYvNPNwXGcvETyQJyFcvf0lCuynu7zXpE9LiXmxdozwYwx6yf0E5ki7bieOpV8ftg7Ox5E2lstt3OODEsk0uJM+LCv21TrnSN2vhex7/UHs+RcJZWmpiiYWo5Sr5bbJEPuPMl2xf38CQ/2cqBOPuzzGVphxbF4rnavxICu249/aJ/99oSDqxWnb8432bUPZ2rAH6WOBNhr4T3IQYcKs45Jwjnh6gTYRv6KIvZzZOC8kVvgSWqLwoO+M0tP4NYnaFEAttTaopB5vC5QNjILnBuuL5GFOV1v983tjQXva8DduUASP/Z4m+tmewxo0bs/2+5V7KvXGlhkw53f4K7O7m2km1/ZfhpGbYFNtdxqvrhRsLMDxbCBjSX17d7Cksq4/9vgSTXIZrR1S+pSuW4wAVqkxD3dLdSzXsIbCt+SnrKknahUJCalqSBm1VCrCkq9VNKSIuVqyN6TcBuOBZpr9XLjvh2P9zslsFC955tNDj8ze9rGkkLt3nSy1qW7Uaiem+gqpl6Hdd1u1H88Clbb792cM7f/r4NlJD9PKq+01sst50WPtKNrsN1JM46V9+hW2/pmh1psbo5/3pfc8nmbxS85bTvl5tZaJmYN4QnrKD1nSkZ02kjMAy2IOWbSkAfiPJS7pydfkfVLywNrzgSJtBvJ32+R/INIi3Phw76enCv11Gu8y62b1/i+Ss+diehAMh/2+WVqK+zJrScAANQisd/JIq3yTcogP87UgD/KHAmw0sqq6l0DAAAAgHySWxTCxzGJudCiAGwru0Whn/AGWhQAAPBJ+ffZkGnjvPixxy9T7uo4kww8dloGN9O15CZal3hzSwzr2dju1FNo4+cu1hvJAhtoKVlkt7rXQMOnQYA21kDS0G4Tu2QHmriFG2mmaUlFXapvwdG/Fthd3FpvdKOllpro8vRf4QP8VPKePjt+c4RFBYb2Hy4lMSoVjklpyo9ZddSq/FLPEiPt4KTv9+htOJtJGZ73Tot0ezSmr16a2y3UWLLx4+N5Szu7fd7Cm613eMu2m20G+vUkt9xvordQwV5dZy8pi40VuOVTImWDvf1+Zb3nCRtWe50Dyc8PyrtTm9lTumaR1gVTt+NbJG7oY6i9VxK32vJx+6uva8XpHV3y/noO1lvIIiFWBernvoVfFeZMyYhOkiS3UJDQdD/UMu/5jTwQ56HkPX2RckVWwpVrI5kgkVbSppN0eLQW/fyDGoi0OBde7OsLhQkxY1Ak+y1LN6/x/eYWChK2HrkzkMqHfd6tq2+FBQCgFgtFCVMNFeh38uFMDfij9Bbg4zlor8QfaAAAAACANDP1E6ZfH+bv/6RFAdhW+r0FR8d2Wq/YeF0AAFCRpPN2oAF35wLJPNnjZyl3dZxJBv5W/MvucUKGqNrN4FYaHbx2bTMNNXNLyS32u1bd6PATMXrqaSlpoWGGd2cp6Y31NYxft40lV+AWVbc+cvMo0Cml7ukT3dki7nc2LdBUk9NPKGlRqWBMSlN6zKqlVuVH2qUtNNVV3N9sqF78X9JYTwNF6imwsZ72nhsNLNhMqTNVqJVu7aVWa3fs3Lf9q59zBVvPns4C66eb+t3CbmyqkaSxRrG/DntzZC2R1ns3Hl7r1vpaK1Sw2c+vNbTHKQQmiizaLGuhUNFzWfZ/ozTxeWx5n2ujica21Eo9DXWV+9ej0rZI3GD+8EjkiN9qI/UtUHS0bNuxYXfJ++sJS4lYE93b8EhuMNUi92zZqjBnSkZ0ejLR1BZxZxkLNdRlgbqTB+IslLmnu5kNNI5fno11/LyaZx1NZIJE2ifXurVZ3JncAk2L7ElEWpyL5vd1t7aJpnYRmytFGuqiwbJ18hrfexPd2htyZ6A4L/b5ie5sFtd+YYGmGtGRDQBoB7e0G03jc1DrK9KbAsv04UwNeKPUI2Kke+sf6aWd6qZI7xoAAAAAFOFWNtE0vpfT+oqK9H/SogBsK/negnsbuPiRYwXH6wIAgIrcaJB4n02Bu5jJtHFefNjjU+/+LOGujjZ46/ifrKfe0/BkixQpUm/rptbKHN5YmHsJrzf/KXPG/Gvd2erwkq3pAebAOXFLm2hqlzG3a421dmXcPBG/3pOjUsryq4hZldeqokgbezO7hRrqqtiA79Sb2fNM9jDT+KD+u+vaetVNrKeBpEn8VAFHJze42Z8Sya11aaGCly3jZrZQ6CaSZhZq9bht3OXL/3dLm+X5fnm3a+PWurZQfS11UXzg/dEtEu2nhRZqmWeruYWtFLjtpTy/z6Lt39feXfL+eo6vN2dN13alW4tpzrVxsYGeR9dEdKqp1G5ikaZ2vb//byYF4heagHpc686Wx67IqrsxrNpYS6R9KZPd6NYuYyNtoaZWAPVxI4vips6xnqaa+DfIoZtZtD/InYEu2LTCXsW2wq6KTFINAEBDJrqz8WEPooWa6pqJhgCfuLVda2qr2N61gtP3AwAAAEBBE/VjWxQe+z9LGGEIoCybFoVlbItCWOZ4XQAAcCq3tmvd2vJwBJkNyr3PBkClruOnRjvl7s/2eXXsDzbWUAtFFkmSW7iRu3Cv3ag9g2ctVL+U37iTtLmxd2y3FmytIbCxbnXt3wBzoKvcSAvd2c7vTVpodyX9wn2jyo1Z7Sy1W+tKw91IK9lYd2XfuuEWbpQ/dru1ZjbI8f6Vm7jcjfBuHfcJt3fp4dZPz93yJWXZ+f9eadOep5XXLd3IzVLSo2Xy97S7BgstkKwv7U9EoYFyDvB3e4O03EoL60uSgp2ZtnaXvL+e3Os9Wp7F42DP7dcssLkGbUwxiU6SpCv1dPeYFz+vo697rcraawCkcStdx16Rzdt/RUaklSRNtNb95vz9tI5Idwran+kDZ+Baod1ZuP2SDXWnRXUTKPqunbG9JNfqaX9/6Oteq/PdH4D2cSOtdLeXm3WkFRYAcE7cWlfq29x626/aWHe6YRJIwDduppuD3rWezdVvY+8aAAAAgDY70qIw1J1umLoY8M3RFoWBLmlRAADAL26hieYH99ncakxPANAebq2r/bs6qrn702dvHftD24fJWqixrsq8Pcfd2EJT3dlCC8n6CtXXShfMegnUyV3bQlPra6Ff1Ns2VKi+Jm2PWFXErHaW2i3sjaa6t5mW+jJ9o0Xqa60Lb7bMSHPdnL6Yhkqb9vxkeY5EC3WniUYaaLJ7AWWhghISsZHGtlKwfSvU7pL311PSep+2xcQWmtq9ZvqX+pANFKqvhd6072KR6PTIrXVhY81tpqW+Wv/SxorU08i1JyIAHeBmttzkCS9XZD7lCQURaR+5tS5tqKkNtNA7+lU2VKhIE4Y0AG3glrqwse5spqXe1jdYpEg9XZ/vbU7tjO1lcaut/eEldz7j/QFoJ3dlfU1t2LVWWADAuXFLu9Bwk51+md61SH1Jl+czHARoEzeyhaYWaaGfe+5du2EoJgAAAID6PbcoLLTQ23rXIkUKdEWLAuCjTYtCX7OtFoVWjtcFAKD7tu6zWUqct4F28v7uzxq8aroAJRnbfPuphRrqyi1fftPYBjZXmH/B29zKXepaaw30eQ0kjdwlkzIAdXMzvdGNAv1efZUiLXXh4XDgvZiUppqYVXWtKoq0a3elS63V1zv6Nkkj59Fp2a012p2ZzWf7pU17XrOVVlrbNOb3c4dl/O6iW7pLBZK72jpT7y55fz2lrHenBBcaSfo2vaO+1rp0fgwbyxWfiE7b3EhvtFSob9S/rZ5udMGkDEDd3Mpd6mrnisyjPOHZiZHWy1hbV6Sd6EIzhfq39Y0KtdQFkzIA7bHJlSJ9lX6vAt3oTYduwu/mNX6ldnLnru0PwNl4boX9Ln2VQi31xsNWWAAAUrm1G236nd7oDyjQSBfcQgH4yi10oYkC/YHn3rWRF71rAAAAAM7OpkVhpb6+Sn9AgW5oUQD85Ra60GinRcGP8boAAODA8302f0if57wNtJXfd3/WwVztK3RW+TpCjfV480aUPFCwaGnqqAWAZBZp6C79WMqJZcges+aaZGnY7UikzVjbsj53dGmB1tv7iA20ak/z+n5p0543zwZaVpOK7S55fz0Hf+0r3J3dumi0KB5lms82chznYynLzRnlHp8nl7polMlYWwBVKidGdjLS1hCjyi91E7UAUJU6Mr6EtXsQP6q/Wm4TH74RAKfyof0UvjiHcxfwgvjXPc1erQDIgxiMbGh3ALYRO1EEOTKwjdwCxxAtgfYgK4Y/yCxwbsiYUAQjEIAuONczwFtNF6AScwV6/D26M/xKAbROO2NWO0ud22HznLtpuky5yn+T73nzqivR7pKTt4S7kXdbphHtPM7bWWoA56qdMaudpQaAuhAlAQAAAAAAAAAAAAAAAAAAgA7q5LQM7nXTJQCA7NoZs9pZagB5tPM4b2epAZyrdsasdpYaAOpClAQAAAAAAAAAAAAAAAAAAAC66FXTBQAAAAAAAAAAAAAAAAAAAAAAAAAAAAAAAPAT0zIAAAAAAAAAAAAAAAAAAAAAAAAAAAAAAADEYloGAAAAAAAAAAAAAAAAAAAAAAAAAAAAAACAWG81XQAAAEr1Ab1rTZcBXfSuPtB0EQAAAAAAAAAAAAAAAAAAAAAAAAAAQP0amJbBoqYrDQDP3q/XLYpKr7O+sUV1Kp/Tt+m3N10IdNAH5OpeZYuO5A/rs5ne90VeTZvyWu9vuggAmtaqSPtPM73vi/UlHtUq6/kBAMryhXrboygIAAAAAAAAAAAAAAAAAAAAoDPqn5bhpzVsutJbVk0XAEDDPq/XXkWlZK/1y5net/KqTj9d7+rc1zddYaAkfuVMyT6o/z7T+75Av8ujaVNe6/NNFwFAw/zKmZJ9UD+a6X2v9NUe1Srr+QEAyvJ5r6JgGtolAQAAAAAAAAAAAAAAAAAAgNaofVoG9+VNVxkAXrjv1/c3XYYKavWm6RIAOF0XcyamTQHgly7mTO666RIAQJPcH266BAAAAAAAAAAAAAAAAAAAAAC66VXTBQAAAAAAAAAAAAAAAAAAAAAAAAAAAAAAAPAT0zIAAAAAAAAAAAAAAAAAAAAAAAAAAAAAAADEYloGAAAAAAAAAAAAAAAAAAAAAAAAAAAAAACAWEzLAAAAAAAAAAAAAAAAAAAAAAAAAAAAAAAAEItpGQAAAAAAAAAAAAAAAAAAAAAAAAAAAAAAAGIxLQMAAAAAAAAAAAAAAAAAAAAAAAAAAAAAAEAspmUAAAAAAAAAAAAAAAAAAAAAAAAAAAAAAACIxbQMAAAAAAAAAAAAAAAAAAAAAAAAAAAAAAAAsZiWAQAAAAAAAAAAAAAAAAAAAAAAAAAAAAAAIBbTMgAAAAAAAAAAAAAAAAAAAAAAAAAAAAAAAMRiWgYAAAAAAAAAAAAAAAAAAAAAAAAAAAAAAIBYbzVdAAAAAAAAUAb7uL5cn226FM/e1j90n2y6EADOiX2N/jWPomCaj7jvbboIAAAAQBb2+/TP9bmmS/HsXfc9TRcBQBtYoO/Qp5suRWYf0V9x6wy18isiZyw1gHPXuoj8g+4nM9SKiAxgo5u9U/ZH9F7TRc1fagA4Z/YV+qZWZd3krwAAAGgxpmUAAAAAAKAbRvqoPtN0IZ69o0/qdzddCABn5Y/qazyKgmkiMYQMAAAA7fDH9TN6aLoQzyL7q27VdCEAtMA36z/x6layZO/qF/R9Gd73x/TgUUTOWmoA565tEVmZWm6JyACedLN36j/VoumiFig1AJyzb2pZ1k3+CgAAgBZjWgYAAAAAALrhU/qUGzVdiCc2broEAM7OT+gn/ImCacw1XQIAAAAgox/TxHlzO4Y5JmUAkMln9Z67bLoQWdk84y8sf8ariJy11ADOXdsicrbfGCYiA3jS0d4pnyI3fWoAkMGnW5Z1k78CAACgxV41XQAAAAAAAAAAAAAAAAAAAAAAAAAAAAAAAAA/vdV0AQAAAFAe+536xcIfftt9X9PlBwD/nRZp9QNu3XQNAABtYt95wu9EkOEDQAMs0DefELt/tfv+TGs55fyQcR0A6kXeBwAAAAAAAADAE8ZDA+g2n8Yi1zPKAQDKZh/X+wp/+P36pPvJoh9mWgYAAIAu+RtaFP7suyYaIgEg1Z/Ugx4KfvZd/Qb9H5quAACgVf7SCRl+JPJ7AKjfd+g/0XsFP/tar5VhwIJ9p/6PhdchRbJmNg2AROR9AAAAAAAAAAA8YTw0gG47bSzyB/S9JZalhlEOAFCBP39CJH1Hn9TvLrpipmUAAADoFHdZ9JM2P2GWQwA4H5/RxBXs8rG5frjp4gMA2uaEDN81XXYAOEuf1ntFY7dFGmZ642eLr4PzA+AvjmsAAAAAAAAAAJ4wHhpAp502FvnTpZaljlEOAFC+UyLp+JQVv2q65gAAAAAAwFc2N5d2e4eNzZmzqOmyAkD5skTB1GUQJQEAAIA9tDcAaKfT2wn8i21EZADtREQG0GXd7J0iygFA+3Qx6wYAAABO91bTBQAAAAAAANU5mM1x5paxf124hWQD9R6futHm9cuXeSQt0vTp75JW7s3mnSObN11PAIhXZhRMXRdREgAAAGeD9gYAbZQcu8ptJ6gvthGRAbQREZmIDHRbF3unyo3cRDkAqMPJ5yMvs24AAACgaUzLAAAAAABAh7mRRZpr4kaSBYo0taW73vprqDtJb9xKkjTTXCtNdodQPLKeIvfG+lpprcjdNF0zAMiivCiYphtR0nqK9F36L/U3i2wDAPCPBYr0v9FKfzX7QGYAQBa0NwBoo+TYVWY7QZ2xrU0R2QL19Xv1nr6PdgfAfxbqW/Rv6f+qxSZ+lIqILHJkoNO62DtVZuSuIe/sqa9v1X+hWRVnMQBI40vvVBfPR1Xy5XsDcBqL9F36V/RXtHDrpssCAOiqV00XAAAAAAAAVKonaSFJbu1mGmlgw5c/uqVuNu+RpFALdxXfweZWbiQpcktFYvACgPYoKQqmaX+UtMjuda++foMize1hezsBQBtZaHM9aKiv0W/QrT3Y2IKmywQAnUJ7A4A2Soxd5bUT1BzbWhGRN/n5QL9RX625PRz8ZicAj9jYHjRXpN+ovu7tzqIKVkJEJkcGuq2LvVOlRe6K886B3eteob5Ooe7t3voVbxcA2LHTOzVtvHeqi+ejSnj2vQEoxAKbmtNUoT6qoR7s1nqnLxUAgENvHfuD9TSQtHYTG7tR08UEAABAcVvDmlbuZpPnPVowqysAlMHzSBtKe6WINNl6NtNAfS0kCxUltwFYT4GkXju70ACcqRKjYJp6omQVZx0LNNRAE924tc01cQuLNLVI1/yKEIC2srGGmuhqK66N1bfrZvLzOq4YPL8qAVCA98c17Q0A2igtdpXYTlBjbGtBRN7Jz7/nMT+3O10Xu90DQJUs1FSBrtzCIg3dpQUaam4TTUr+lUkiMjky0G2d653KUCcPopwFmirSyN1I5tyVZANNra9rfisZQD386p1SJ89HlYyXGGq8872FGuuuwe8NQAHW11RLvXErG0tuZD0NdGcTNzl92bXWw6PeQZ/KAgDZ1RG9Xh1Zdai5Zm6khd0pbHpDAAAA4BRupKWG6rmRu3mel3aolRtxSQwA5fA80kbaLkUoabZT+oWWGljPQvVTO9gGm2VV8btIAFCNMqNgmlqiZCVnnVtFunBbQ6vdQhda6o7fgADQTjZWXxdutB3X3IVmmlsjvV51XDF4flUCoADvj2vaGwC0UUrsKrWdoL7Y5n1EtqmimPx8oTm/WAf4xnqaa6GLl4zTrd1IF4o0LXlVRGRyZKDbOtc7lV6n5qOcBbqT9MbdbJXpRm8kzSveNgAgadM7delP75Q6eT4qv93cxhrsfW9Ld6kbzY1cHGgNizTVxF2+/PiMW7mRrjTcujm3FXzqHfSpLACQXR3RK3ZaBgs018QtJbdUT5t5yS1q7GIAAAAApwm025zak7a7oAAAJ/M20lrv5cp+82voNwclu5E0zNTB9tiFtmIIGIC2KDkKpqkrSpZ81rGhQm11TT5yazfSovTh1gBQA4s00OXh7+66kSaNxbU6rhi8vSoBUJjHxzXtDQDaKFPsKq+doKbY5n9Etr76uorNz290W+3WAZDbVIvt25EeuaUuFVm/vNUQkcmRgW7rYu9U6ZG7ilIPtXZXB2extbva+a1MAKiIRRrq6vBWr+Z6p7p4PpJUcru5hUe+t4kmmvIzFkA7WKBbTdxk/3W30JWGrbsb1qfeQZ/KAgDZVR69Yqdl0PhpNdZToIVkAxtL6tt9605GpbPAxpLNbUyKDTTFAhtronc5DgEgs1DamfV2dw5cZGKBjfXt+nbOP0CTPL4i8zfSRk8ls54NdKuRu95/i7vRWoNMHWxv3EpyN7qsoqhEWqDNLLCx3tXEuyO43CiYptIouaXUs471NNTBILWN62LDrYnoQBe0uhV2qsn+ZDOP3KixAbh1XDFUtg6Pr8SACngV//xtbWhfe4OPVysADlQegzPErhLbCepqJfA8IltwPD/XREGR/Jx2B2BbmbHTBgp1HfcXt9Z1qbckEZEbLjU5MrCtgtyii71TZUfu8vPOSMP4s5ikaw2L/OI50RJoDy9adacaHU5JKDXYO9XF85FUdrv59PEnjQ+5kdYa5l8grRY4N15kTGMtDydlkCS3aPCHG4ryqXeworJYYGObS0RKoN28OAPEqzySvhX7av95LohIcgtJA126tRYmTXXR9FZpkgWaK5QUKVJkl0eGKwOo0PNxKA05DgEgo0jLl3hpoQItT1ncOeL8A/jA6ysyfyNtKCmySFKgUFdxw18t0FqBDdJngnyqYxXbnkgLtNnzEfxr9bWeHcGlRsE0VUbJHeWedfpauCPNzm5tk63W4oyI6EAXtPlItkiKH3QhSZporDIGl+VVxxVDRevw+koMKJ1n8c/f1oY2tjf4d7UCYE8NMThD7CqvnaC2VgLfI3Kk1bH83K1tlP8GB8/O1kDDSj4i+hodW4Kb2VB9lfWbYkRkcmTAG5XkFl3snSo5cleSdx65rVZyS5vkvwmDaAm0hw/XiV72TnXxfCSV2m5uoXoJk1JMNM37vfmwNwJ18iRj6idMCTPR0HpHJo31k0+9g5WUhUgJdIMnZ4B4lUfSmGkZdlYTbpogeuppKWlRZLavThlvAr8khRo2MnQPOHcchwCQk/XU03aD7/McuMiB8w/gA2+PRK8jbaTFU/eRTTXXm4PSBxrrSndpg+li522/KbHB2tvvF0AG/h7BJUVBC7ZquG39OMDLehoc/G11+tCF2LKUfdYJExudi7QI+7s/AMiuzUdy4vBaN7Pb+odd1HHFUOE62rw3APl5tMd73dpQXqZdfSbt0XcKIEX1x2tq7MoWvdJaCeLbUkv55clCtWo4IoeJZ6+Fbi3IOViPyA5sK/eIiI7+yrgkLY5Ev2JrIiIfFRuRyy01kRTYVsUR0cHeqbIit2SRooMXj04gnquEk4S/LunvAjrNh+PVw96pRs9HlWXdJbeb91O+t6mFLt9NfD7sjUCdPNjnLXppBTjk1jZTPzFT9IpPvYOVlcWDvQZACbw9luuIpG8def0p4Y8efwnNvX5+fqQANlRQ47b5sP5H/WyN63txtfPs2+20pX2VPqufb6Qe5+y36r9pughn50ulUo/Yco/DanRhP/tS/Sv6qQbX/7X6gxadvhgk6sKe6rt39DWxt7BWKHbgUiSpt1WSSIrpzPqgvrsFx90X6qP6VCNrLvf888V6Wz/RSD3OGdl3E8o+1/iQCb6j98e86kek/bh+fP8l66m39Rvna/ViOotudfXY+FxqB+CH9RU5z4Llfr/NnTHOWXPtNefMl6zehwhdbRQMFB/Bl0Xn0T3hSiHbWSf7OiK92nnnO3vnqyB3Wcmdu4Go3hRfrlx8iOxF/fu6S4xra32PfbqytX9YH4x5NVvsfr/eyRRzP6wPFV6HCpyD2rw3tB9XNvXzaY+v7rjOJ6YtpMH2hqajGDmSL3y5Gj53X6ovKfV6rczjNSZjyhS7skWvslsJPpSx5diviJy11Nf6fyTm55/Tn82Zn/t0tgYRuXllHhEf0S9psLWED+9dpb6j/7nl/82zdkXkrH157YzIL4ikPuHKv3mnHREf10/uv9TF3qkSI3feNQeZSx3qG2zntuGdz32hwoZbFJoekYsn5K9+KLsH2Ifs5t/XP/Crd8rj81Hm/LWG8dDfpn+Z+L05/VH7R7lq58PeeM5owa+fD/v8t+yNe/r4Xib4G/Wu1XnPa1Y+jUWuY5TDi7L3mt+sH9e/KHFrICsy62b405LkwxngHb0d82q26JX9PoeYn7CMmZbBLZ8az22g3vY0DBaqv7e5AAAA4L9Q2pnLduDRb6oBQDf4G2l3Z3js6WUixg0ba+TWkmbqa5j0K0iV/XYQAFSntCjoVsmz+ab9vVRln3Ve6VfVVnYAqMOro5OSP/39fbWXqY4rBn+vSgAU5fNxXVumDQAlSo1dWaNXeuyqsS3V/4hs+nzi33+lgfwcQLz36VcS//6r9KqkNRGRyZGBbuti71RpkVtyi8raN/5Fwb8BQBlepVz91t871cXzkVR2u/kXpFzlMJoCaIMv0Bck/v1Vae0ZdfCpd9CnsgBAdnVELxfzUF+3ijTUrdzWq6HmCp3O+6HpztNx0+XhweMcHxyH5/HQXFHTZeDB4/SHIs1rXqOLffVed1vPQsVGT467lG3L+YcHDw8ePhyJ8dHSj0ir8eFaNd25sn/YP1No/HKlr3s9KEgvs6LD1oHD98WVxv/vlwcPHkUfPhzBdUXB1HJki5Iu49Ji3pftrJNjHbcaHi+telmX49f+wIMHj1MfbT6S988I+1FYTr0K1x7bGpTxiiFjS9Ip68h+fujG3sCDR/5HU3t8HXlf4bLFtQ00195AFOPBo8OPMo/XuIwpLXZV0U6QMbZlXK5nETlrqadJ+bkC5c7Piew8eGw/So2dgdx2lNiPpRrqtsBSicgn1KncUlez3/Dg0f7HaUfEufROVRO5Sy71/X478M6zvu7r3Td48OBR58OH4zVD71SF92IVybrTIrcHWXcN46E11jTxe3vI+735sDfy4FHnw4d9XtFupncQkffGRfny8Gksch2jHPzaa3jw4HH6w4dj+aRImvs+h+1H7Hw/bqZryU20fpkHwkINdeWWFjU9WUXDRlo//3+pSdPFAc4SxyEA5GI99XZm99qdAxdZcf4BfODpkeh1pI12ShJsSjyWJAtsqqVbPv/1RoEGKXUd2FhS3+4tLL2snn6/ADLx9QguOQqmqTRKPq2j/LPOUkml7RdYuq/7A4A82nwkL9U//keLtHKr7AsrQx1XDJWuo817A5CfN3u8160NtDcAqEbVx2tC7KqinaCOVgK1ISIvlTTWLNIyd35OZAe2lXhEuHXyFfVexDkFEZkcGfBJ+UdEB3unyo/cFZR6kZh3hprlXiLREmgPH47X9N6pZfaFlaKL56Py280Tzx4WSrm/Nx/2RqBOHuzzbqGe9RLeUF57RuV86h2ssCwe7DUASuDpsVxPJH0r/mX3OCFD9NQEYaHGmii0Vp2MquDW9kZjhZIWmrj1yQsEkBvHIQDkFEnabhjsSe6sM7piOP8APvD2SPQy0lpPA0XqKbCxFpvy3GhggfpaWqSBIgUKbTPo1cbqSxpaqJuE0g906dZamDTVRbkl9vb7BZCBf0dwRVEwTYVR8ln5Z52ZxhbFL8MCDfI3mfu3PwDIr9VH8kKB9d2xQbbDAsNvT1XHFUOF62j13gDk5tEe72VrA+0NAKpU3fGaHLukitoJKm4laE1EnmmcmJ/n3r5EdmBbyUfETEObxS/FIoW6PrW8ROQcdSJHBmpS5hHRxd6pyiJ3FXnnrd3ET/llPQ10lXeBREugPXw4Xt3MpjZwN0f+XGvvVBfPR89Kbjd3C5MN3bExEeP835sPeyNQJ0/2+ZnGx7I9G2td+8Q4xfnUO1hZWTzZawCcyNtjuZZI+tbxP+3MCzFXsJkFzIOhHs1y69O7FwCchuMQAHJ5THRfnPk0W8Vx/gF84OmR6GWkdSuNDl67tpmGmrmlDq7v3ejw/TF66unx08MKyuzn9wsgE9+O4IqiYJpKo+RG6Wcdt7KJpnYR2zQ+1Oro0JGkZXq2PwAoor1HslvbtaYW+5u7NlQv//Dbk9VxxVDpOtq7NwBFeLPHe9naQHsDgGpVdbymxS63qKSdoOJWgrZEZLe2iaa2iGt3sLFU5BeUiOzAtjKPCDexvoZx0cICTTWJv9U11xqIyNnrRI4M1Ka8I6KLvVOVRe7y886FLTTVZewfp8VuNCZaAu3hxfF6raktfOid6uL56Fn57ebXurXZke8tLPK9ebE3AjXyYp+/1n38xLAWangkQ/STT72DFZbFi70GwMk8PZZriaRHp2WwsQItFJncQnKvm94aAAAAKCjS8mWgk/XUa+BXIQGg21oUaQ8HReT8/FP7gCc3gwBAPqdGwdTl1xElKzjruJFFmtr1/g0SNtagwt+xAIDKuJn1dWtX+0OorK+xLhuYob2OK4YWXZUAyKhVxzXtDQDaqBOtBKXXqopSu4mFmsfk50MNdeHRLygBkKRr3dl6/7diLdBUK1dgGpVsiMj+lBpAFboY5U6vUyWlvta9TTXazTAt0LiRyXoBnJ2E3qmhrpq/+u3I+aj0dnO3sBvd2rVb7r5ufQ113fz3BiCLzQ83rPcn4rJQU03K/430CvnUO+hTWQAgu1qi16tjf3Ajd+0u3ahVJx8AAABssZ6N7U499WxskWSRjTWX1Lex9ZouHQB0wblGWgvVL2WedADopKqiZKVnnUsFurf+di3sTn1dnf4LeADQiGstdGdbv8Zjgd1qqqt6+73quGI416sSoMvO97imvQFAF7UztpVe6mut9vLzns011NX+TQ8AmuaWutTA5tt5p/V1L7X/dlYiMoBua2e8KLfUbq1LhbqzaGsNke4U+nA7NICzcKx36vp87sqq7nxUYbv55Oj3xg3IQGu4mSa6tbEFL6/ZWHdauJbkyD71DvpUFgDIrs7o9VbTlQUAAEBV3Gq3edMttGhfBxwA+Ow8I62FGjNcFgCOqS5KVnnWcWtd2lBTm2qmf13/gY0VaqIJg9QAtJVba2QLTW2ohb5Wf9jGCjXTm7rjWh1XDOd5VQJ027ke17Q3AOiidsa28kvt1rqy/iY/v9i0OzSQnwPIwi3sQkPd21I/owubqi914XYkIjKAbmtnvKgg71zqwsaa20oLyaaK1NOkLbfiAWg/X3qnmlPl+ai6dvPY722hC37CAmgXN7GZpnqwhb5cr6ynvpa6aE+G7FPvoE9lAYDs6oxer5quLAAAAAAA8NjY5ttPLXz8DbOXX5iwgc0VNl1MAKjIXhRM0+Yo6Sbuta60lkma6LUbnc/wEADd5BbujS71ONDiRq8dv4gGAD6hvQFAO+VqJ2hJbKspIruZe/2cn0/IzwGfubUb6bUmMklrXbrXXk7KQEQG0GXd7J2qK+8cOdO11pLWunbGpAwA6tWx3qkuZt2x9r63N+6SSRmA9nErd6k3msnJtNQb16JJGQAA7fJW0wUAAAAAAAC+cpe7zy3UWBOFJkVabN5zo5umywkA1diPgmnaHyXdQgsL9afcoumSAEA53FJLi/THiWsA4BfaGwC0U752gnbEtnoj8iY/p90BaAG31szW+iJfb2UlIgPosm72TtWcdy60sKGvZzEA3deV3qkuZt2J9e3I9wacN7fSjfUkN2m6JACALmNaBgAAAAAAkNVcgR7nNKcLCgAOESUBAACAIsikAXRRO2NbO0sNAMnaGdvaWWoATWhnvGhnqQEAxxHZAQAAcCaYlgEAAAAAAGTkXjddAgDwGVESAAAAKIJMGkAXtTO2tbPUAJCsnbGtnaUG0IR2xot2lhoAcByRHQAAAOeCaRkAAAA6xeaFP/qu3m669ADQAu9oYg8FP/uuvpH5wAEA+ZyQ4QMAmvARvVs4dr9WtiFrb5+wDgDe4rgGAAAAAAAAAOAJ46EBdNppY5E/UupY5DpGOQBA+U6JpO/ok8VXzLQMAAAAXfK/1acLf/Yj+oGmiw8ALfAf6Z/rcwU/+xH9YNPFBwC0zH+o9wp/9m83XXgAOEs/KBVunXm//tVM7/sBfeCEFqC/Vv9GAZABeR8AAAAAAAAAAE8YDw2g23wai1zHKAcAKN8f0qvCkfRt/cPiK2ZaBgAAgA5x33vCh/n9dgDIwP3lEz5MpAUA5OS+54QPc94BgAa4n9QprTPZ1rE+aR2cHwAvkfcBAAAAAAAAAPCE8dAAus2nsch1jHIAgPK5729qza+arjoAAAAAAAAAAAAAAAAAAAAAAAAAAAAAAICf3mq6AAAAAAAAoBQf1lfYuOlCPPu4frzpIgA4M1+qj3oUBQEAAICu+LC+26KmC/HCArduugwAWuD9eqdFrQTv6P2Z3vchryJy1lIDOHdti8hvZ3ofERnAk472TnWxTgDQaW+3LOsmfwUAAECLMS0DAAAAAADd8MP6H5suwpYf16LpIgA4M+2KOn+t6QIAAAAAGf19/X+bLsKWv9V0AQC0xCf1yaaLUEFp/2v9YtNFLVBqAOeuXdHik/qHmd5HRAbwpJu9U35de9OnBgDp/mGrMkLyVwAAALQa0zIAAAAAANAJ7nv1vU2XAQCa4/6y/nLTZQAAAAC6x31n0yUAgPzcT+p3N12GCmp13XQJACA/IjKAbutm75T7pqZLAADIx32yi1k3AAAA4KdXTRcAAAAAAAAAAAAAAAAAAAAAAAAAAAAAAADAT0zLAAAAAAAAAAAAAAAAAAAAAAAAAAAAAAAAEItpGQAAAAAAAAAAAAAAAAAAAAAAAAAAAAAAAGIxLQMAAAAAAAAAAAAAAAAAAAAAAAAAAAAAAEAspmUAAAAAAAAAAAAAAAAAAAAAAAAAAAAAAACIxbQMAAAAAAAAAAAAAAAAAAAAAAAAAAAAAAAAsZiWAQAAAAAAAAAAAAAAAAAAAAAAAAAAAAAAIBbTMgAAAAAAAAAAAAAAAAAAAAAAAAAAAAAAAMR669gfrKeBpLWb2NiNmi4mAAAAAAAAAAAAAAAAAAAAAAAAAAAAAABA3Y5My2ChbnXllhbandZNFxIAAAAAAAAAAAAAAAAAAAAAAAAAAAAAAKB+r+JetEBzTdxSckv1tNy8GlnYdHEBAOfAAhvrXU1sbEHTZQGKs8DGmuhd9mQAAAAAbcEVOYCuIa4BAAAA/iA/B9qD8Q4AgDazwMaSzTmPAWgGV7/txPcGdIEFNta369s5kgEAVTIX9+JUffdakqyne126hfXV01KBhrp2y6YLDQDoMgs019NEQEtdunXTJQKKYE8GAAAA0DZcxwDoGuIaAAAA4A/yc6A9OF4BAG3GeQxAs4hC7cT3BnQBRzIAoB6vYl/ta7b5XyS5haSBArdwM600bLrIAICOGz9fCkkh5x20FnsyAAAAgLbhOgZA1xDXAAAAAH+QnwPtwfEKAGgzzmMAmkUUaie+N6ALOJIBALV46/AlCxVouXkSaiFJGulxhqDe5nn8p+rztj6nz9W4vn0f0ac7UY/zVNa3h+zeL1Wwp79f79dnm67aUV3Yz5rbwt+y8+zSFgWXg3Rd2FP95eee3I3vvNlalJW/+X0e6yqy7yZUc8T6HM26sZ81u4XLi5A+7yld1Y0joG382tO7uA/4nbeV/f2Xex1D7tx2XTyi28GvLd/2I9DH9pk6zt3VrONL9bOVlxxx/Mr3zodv8a8L+0HT25Qe/q7pwlHRBVUd2T5/vz6XLauujARo+syCJ104Krqg7CPCx+vpfV3Y95qOZOS2vujC3twFvh0Rb3cg02lum5bd31XOd9F01McToq4fut2i0IZsOis/tmg9ZaPVoht8y+nOhy/ZKxG4Gr6ft33aVueFLd8Uv7a8X6XZVVZesHTr/ZfMHbzLQt3p0i0kye41c6PnvwwV6epwIZJkt7VOy/Ah/bL+SY3r2/cx/Vgpy3lHP6tfaLAe56msbw/ZfVCq4Ij9gL5Un2m6akd1YT/7oN6nn2lkzd+gX7317Of0XtObosO6sKf6y889+R39jH6p6UKc6Iv0oUbjf1l5qN/nsa4i+25CNecan89g3djPmt3CZeWhTZ8xzlPT7TXnya+Y2I0ouMvvvK3s77/c6xhy57YjqjfFr1j6Qf2aVh+B/rXP1JGlVrWOr9JPVFxyxOHKpim+xT+/8v5imt6mZbWOkyP5ogtHRRdUc2T7ffbrwr7X3HV2ufl5cyMasKsLR0UXlH1k+3c9fagL+17TLZ9+tUKdL79zn3Pi19VeN/aL5rZpueexsloUyF990YUcoguqyYN8iZ5tyKaz8vmIKXs8dNmtFn71MZwPv3K6c+LLHQpdisC+bFOpuvP2O6XdnevPtjovPucJXeZLzvvkY/qMt0fgO/pnpeQFI7fcf+mtw3e5pW0mXrCBetrMDGSBQgVaHVu2u2p6KwEAusGmGmw9/bMv0wMBbcKeDAAAAKBtuI4B0DXENQAAAMAf5OdAe3C8AgDajPMYgGYRhdqJ7w3oAo5kAEA9zMW92FdfNwoVqu9s5y9jRe6i6UIDALrMAt0r2DxZ6tKtmy4RUAR7MgAAAIC24ToGQNcQ1wAAAAB/kJ8D7cHxCgBoM85jAJpFFGonvjegCziSAQD1iJ2WQbJAoVvYVD13KVmgsSZuJVmkud64VdPFBgB0mQUaK5S00IRLIbQXezIAAACAtuE6BkDXENcAAAAAf5CfA+3B8QoAaDPOYwCaRRRqJ743oAs4kgEAdTgyLcPmj/eauZFkoW516VaSjTVwr5suNAAAAAAAAAAAAAAAAAAAAAAAAAAAAAAAQPXeOv4n66mnhSS5pc0U2UqBIl02XWQAAAAAAAAAAAAAAAAAAAAAAAAAAAAAAIA6mDv2h7EC9bTUwi0kyQKF0uP/Acewrl8AAADISURBVAAAAAAAAAAAAAAAAAAAAAAAAAAAAAAAuu/otAwAAAAAAAAAAAAAAAAAAAAAAAAAAAAAAADn7VXTBQAAAAAAAAAAAAAAAAAAAAAAAAAAAAAAAPAT0zIAAAAAAAAAAAAAAAAAAAAAAAAAAAAAAADEYloGAAAAAAAAAAAAAAAAAAAAAAAAAAAAAACAWEzLAAAAAAAAAAAAAAAAAAAAAAAAAAAAAAAAEItpGQAAAAAAAAAAAAAAAAAAAAAAAAAAAAAAAGL9/wGvV3MrkGGIpAAAACV0RVh0ZGF0ZTpjcmVhdGUAMjAyMi0wNC0yOFQxMzowODowMiswMDowMMgGcX0AAAAldEVYdGRhdGU6bW9kaWZ5ADIwMjItMDQtMjhUMTM6MDg6MDIrMDA6MDC5W8nBAAAALXRFWHRpY2M6Y29weXJpZ2h0AENvcHlyaWdodCBBcnRpZmV4IFNvZnR3YXJlIDIwMTEIusW0AAAAMXRFWHRpY2M6ZGVzY3JpcHRpb24AQXJ0aWZleCBTb2Z0d2FyZSBzUkdCIElDQyBQcm9maWxlEwwBhgAAABN0RVh0cGRmOlZlcnNpb24AUERGLTEuNVM2WsEAAAAASUVORK5CYII=\n",
            "text/plain": [
                "<IPython.core.display.Image object>"
            ]
        },
        "execution_count": 16,
        "metadata": {},
        "output_type": "execute_result"
    }
],
"source": [
    "%qatdisplay circ"
]
},
{
"cell_type": "markdown",
"metadata": {
    "slideshow": {
        "slide_type": "slide"
    },
    "tags": []
},
"source": [
    "## Optimize the angles of $\\psi(\\vec{\\theta})$ for a given QPU\n",
    "\n",
    "We can now use the QLM's variational plugins to perform the VQE optimization."
]
},
{
"cell_type": "code",
"execution_count": 17,
"metadata": {
    "slideshow": {
        "slide_type": "fragment"
    }
},
"outputs": [
    {
        "name": "stdout",
        "output_type": "stream",
        "text": [
            "Minimum energy = -7.995936227517471\n",
            "FCI energy: -7.998354311186427\n"
        ]
    }
],
"source": [
    "job = circ.to_job(job_type=\"OBS\", observable=H_active_sp, nbshots=0)\n",
    "\n",
    "from qat.qpus import get_default_qpu\n",
    "from qat.vsolve.optimize import ScipyMinimizePlugin\n",
    "\n",
    "optimizer_scipy = ScipyMinimizePlugin(method=\"COBYLA\", tol=1e-3, options={\"maxiter\": 1000}, x0=theta_list)\n",
    "qpu = optimizer_scipy | get_default_qpu()\n",
    "result = qpu.submit(job)\n",
    "\n",
    "print(\"Minimum energy =\", result.value)\n",
    "print(\"FCI energy:\", info[\"FCI\"])"
]
},
{
"cell_type": "code",
"execution_count": 18,
"metadata": {
    "slideshow": {
        "slide_type": "fragment"
    }
},
"outputs": [
    {
        "data": {
            "image/png": "iVBORw0KGgoAAAANSUhEUgAAAYoAAAEGCAYAAAB7DNKzAAAAOXRFWHRTb2Z0d2FyZQBNYXRwbG90bGliIHZlcnNpb24zLjQuMywgaHR0cHM6Ly9tYXRwbG90bGliLm9yZy/MnkTPAAAACXBIWXMAAAsTAAALEwEAmpwYAAAumUlEQVR4nO3deZxcdZ3v/9en9y3prHRIAiRhCUsIDQlgSMiCERBhVIQA15FEhbiMDoziT2ZQXEbR60+4KHqFoE6QO0PisAyCUSFeGkIYCASbLQtkAzqB7J10pffu7/2jTnVOdVdXV3dX1TkV3s/Hox99Tn3Pqfp0dVKf/u7mnENERKQ3eUEHICIi4aZEISIiSSlRiIhIUkoUIiKSlBKFiIgkVRB0AJkwatQoN2HChAHde+jQIcrLy9MbUJopxvRQjOmRCzFCbsQZZIxr167d45wbnbDQOXfEfU2bNs0N1FNPPTXge7NFMaaHYkyPXIjRudyIM8gYgZdcL5+panoSEZGklChERCQpJQoREUnqiOzMFpEjU1tbG3V1dTQ3N/f73srKStavX5+BqNInGzGWlJQwfvx4CgsLU75HiUJEckZdXR1DhgxhwoQJmFm/7m1oaGDIkCEZiiw9Mh2jc469e/dSV1fHxIkTU75PTU8ikjOam5sZOXJkv5OERJkZI0eO7HeNTIkii9o7Oln/3kHaOjqDDkUkZylJDM5A3j81PWXRZ5e+yKq39jBv8mh+u+hs/YMXkZygGkWWNDS3seqtPQA8tXE3j9buCDgiEcmGW2+9lZUrV/b7vqVLl/KVr3wlAxH1n2oUWbL/UFvc+Y/+tJ6PnFpFebF+BSJHsu9///tBhzBoqlFkyf7G1rjznQdb+N81mwKKRkQGatu2bZxyyilcf/31nHbaaVx44YU0NTVRW1vLhz70IaZOnconP/lJ9u/fD8CiRYt48MEHAbj55ps59dRTmTp1KjfddBMAu3fv5lOf+hRnn302c+bMYfXq1T1e03/N2Wef3XXN008/TXV1NdXV1Zx55pk0NDTw3nvvMXv2bKqrq5kyZQqrVq0a9M+sP2ezZF+3RAFw76qtXDX9WI4dWRZARCK5bcLNf8zYc2/78ceSlr/11ls88MAD3HvvvSxYsICHHnqIn/zkJ9x1113MmTOHW2+9le9973vceeedXffs3buXRx55hA0bNmBm1NfXA3DDDTfwT//0T8yaNYt169bxqU99qsdcCv8177zzDhdddBHr16/npz/9Kb/85S+ZOXMmkUiEkpISlixZwkUXXcQtt9xCR0cHjY2Ng34/lCiyZP+hnomitb2TH/xxHUuunR5ARCIyUBMnTqS6uhqAadOmsXnzZurr65kzZw4ACxcu5Morr4y7p7KykpKSEj7/+c9z6aWXcumllwKwcuVK1q1bB0BnZycHDx4kEonE3eu/Bui6ZubMmXzta1/j05/+NJdffjnjx4/n7LPP5nOf+xxtbW184hOf6IpzMNT0lCX7Gw/3UZx17LCu4yfW7eRZr5NbRHJDcXFx13F+fn5X7SCZgoIC1qxZwxVXXMHjjz/OxRdfDESTw/PPP09tbS2rV69m+/btVFRUxN3rv6a2trbrmptvvplf//rXNDU1MXPmTDZs2MDs2bN55plnGDduHIsWLeJ3v/vdoH9e1SiyxF+jmHPSUUwcVcFDL9cB8L3H3mDFDedTmK+8LZKqvpqHusvkrOfKykqGDx/OqlWrOP/887n//vu7ahcxkUiExsZGLrnkEmbOnMmkSZMAuPDCC7nrrrv4xje+AUBtbW2PWkBv12zevJnTTz+d008/nRdffJENGzZQWlrK+PHjuf7662lpaeHll1/m2muvHdTPp0+mLPH3UQwvL+SbF0+mvCgfgLd2Rfg/z78dVGgikgb33Xcf3/jGN5g6dSq1tbXceuutceUNDQ1ceumlTJ06lVmzZnHHHXcA8POf/5yXXnqJqVOncvbZZ3P33Xf3eG7/NaeeemrXNXfeeSdTpkxh6tSpFBYW8tGPfpSamhrOOOMMzjzzTJYvX84NN9ww6J9NNYosqfcnirIijhpawlc/fCI//tMGAO548k3+7oyxjKwo7u0pRCQEJkyYwOuvv951Hhu9BPD888/3uH7p0qVdx2vWrOlRPmrUKJYvXw7E13oWLVrEokWLelzjd9ddd/V4bOHChSxcuDC1HyZFqlFkyT5f09OI8iIAPjtzAhO8EU8Nze389Ik3A4lNRCQZJYos8U+4G1YWXd63uCCfb196atfjy158h9e3H8h6bCIiyShRZIl/wl2sRgFwwclHMeek6H7mzkU7tqPb14qIhIMSRRY45+ISxfCyw4nCzPj2padSkBddIPDFbft57NX3sh6jiEhvlCiyINLSTltHtJZQWphPSWF+XPkJR1Ww6LwJXec/WrGe1nYtRS4i4aBEkQX1vsl2/mYnv3+cf2JX2XsHmtn4fkNWYhMR6YsSRRb4RzwNL0+8T+3QkkJOHnN4MlD3RQRFJBzy8/O7FuKrrq5m27ZtQHTo6+zZs5k8eTJnnnkm1113HY2NjaFaLnygNI8iC/b10j/RXWXp4SRysLmt1+tEJDilpaXU1tbGPbZz506uvPJKli1bxowZMwB48MEHaWg4MloGAkkUZrYcmOydDgPqnXPVCa7bBjQAHUC7cy4nV8/rPtmuN0NLDieKA01KFCK54pe//CULFy7sShIAV1xxRYARpVcgicI5d1Xs2MxuB5JNHpjnnMvpVfP2Heq7jwKgssxXo2hqz2hMIkeCuXPn9nhswYIFfPnLX+5aVymmo6OD/Pz8rhnPe/bs6fFhXlNT0+drNjU1da3FNHHiRB555BFef/31tM+GDpNAm54sumn0AuCCIOPINP+CgMPKEvdRAAwtOfzrUI1CJJwSNT0d6YLuozgf2Omce6uXcgc8YWYOuMc5t6S3JzKzxcBigKqqqpT+MkgkEokM+N7evLGppet4z/a3qalJvF/2zrrDyWHDlrepqXk/azGmm2JMD8UYr7KyMq7d/7HHHkt4Xewaf3msRhErLy4u7nF/qn0K3a874YQTeO6557jggp5/8zY3N9Pa2prSc3d0dGSlX6O5ublfv7OMJQozWwmMSVB0i3PuUe/4GuCBJE8zyzm33cyOAp40sw3OuWcSXeglkSUA06dPd4mqpKmoqalJWJ0djN9vXwvvRj/0z60+jblnjE143YHa7dy/rhaA8uGjmTv3rKzFmG6KMT0UY7z169cPeKnwdC4z3v15vv71r3POOedw+eWXc+655wLw8MMPM3PmTEpKSigqKkrptTO5FLpfSUkJZ555ZsrXZyxROOfmJys3swLgcmBakufY7n3fZWaPAOcACRNFmMUNj03Wme0f9aSmJ5GcUVVVxbJly7jpppvYtWsXeXl5zJ49u2tzolwXZNPTfGCDc64uUaGZlQN5zrkG7/hC4PvZDDBd/BPueptHAfGjnpQoRMKp+zalMTNmzGDVqlU9HvcvF56rgpxwdzXdmp3MbKyZrfBOq4BnzewVYA3wR+fcn7McY1okWmI8kfh5FBr1JCLhEFiNwjm3KMFjO4BLvOMtwBlZDivtki0I2N3QUo16EpHw0RIeGdbXgoB+3ZuetNy4SE/6fzE4A3n/lCgyLJUFAWNKCvMpLoj+Sto7HY2tHRmNTSTXlJSUsHfvXiWLAXLOsXfvXkpKSvp1X9DzKI54+1KcbBdTWVrIrobovIuDzW2UF+tXJBIzfvx46urq2L17d7/vbW5u7vcHZLZlI8aSkhLGjx/fr3v0KZRh+3rZ2a43Q/2JoqmdoyszFppIziksLGTixIkDurempqZfcweCENYY1fSUYakuCBjjH/mkDm0RCQMligzzLwg4PIWmJ/96T5pLISJhoESRYfvjNi1KrekpRjUKEQkDJYoM29/PPgptXiQiYaNEkWH+RDEshT4KbV4kImGjRJFhcct39LMzW5sXiUgYKFFkWKoLAsZoGQ8RCRsligxLdYnxGPVRiEjYKFFkUH8WBIxRH4WIhI0SRQYdau2IWxCwtKj3BQFjtHmRiISNEkUGxc2hSGGyHXTvzFaiEJHgKVFk0L5+TraDbjUKbV4kIiGgRJFB/Z1sBzCkuACz6HGkpZ32js5MhCYikjIligzq72Q7gLw8Y4hvafEG1SpEJGBKFBnkXxBwRIp9FNC9+Un9FCISLCWKDIpbYjzFpifQUuMiEi5KFBnU38l2MfF7Z6vpSUSCpUSRQftVoxCRI4ASRQbtj+uj6EeNwrfek/ooRCRoShQZFD/qqR+d2VrGQ0RCRIkig+KWGB9g05NmZ4tI0JQoMsQ5F7/EeL+anlSjEJHwUKLIkEOtHbR6s6pLCvNSWhAwplLLeIhIiASSKMxsuZnVel/bzKy2l+uGmdmDZrbBzNab2Ywshzpg+/u5s52fNi8SkTAp6PuS9HPOXRU7NrPbgQO9XPoz4M/OuSvMrAgoy0Z86TDQobGgPgoRCZdAEkWMmRmwALggQVklMBtYBOCcawVau18XVgOdbAfdJ9wpUYhIsMw5F9yLm80G7nDOTU9QVg0sAdYBZwBrgRucc4d6ea7FwGKAqqqqacuWLRtQTJFIhIqKigHd6/fcjnaWvNoCwLlj8vlSdUnK99Y3d3JjTRMAQ4vg5xeUZyTGTFKM6aEY0ycX4gwyxnnz5q1N9FkMGaxRmNlKYEyColucc496x9cAD/TyFAXAWcBXnXMvmNnPgJuBbye62Dm3hGhiYfr06W7u3LkDirumpoaB3uu35dmt8Oo6AE6eOJ65c6ekfG9zWwfU/BmApg5jzpw5WGzt8TTGmEmKMT0UY/rkQpxhjTFjicI5Nz9ZuZkVAJcD03q5pA6oc8694J0/SDRR5ISBLDEeU1KYT1FBHq3tnbR1OJrbOvs1akpEJJ2CHB47H9jgnKtLVOicex9418wmew99mGgzVE4Y6GS7mLh+Ci3jISIBCjJRXE23ZiczG2tmK3wPfRX4dzN7FagGbsteeIMTN9luAImiUkNkRSQkAhv15JxblOCxHcAlvvNaIGHnStjFj3pKfZ2nmKEaIisiIaGZ2RkSN4+in30UoKXGRSQ8lCgyxJ8o1EchIrlMiSIDnHNxe1EMukbRqEQhIsFRosiAwSwIGBO/eZEWBhSR4ChRZMBgFgSM0eZFIhIWShQZMJjJdjFaGFBEwkKJIgMGO9kOtHmRiISHEkUGDGaJ8Zj4zYuUKEQkOEoUGRA/4qn/k+2gex+FOrNFJDhKFBkw2Ml2oD4KEQkPJYoMSE8fhW94rBKFiARIiSID/AsCDhtg09MQX9NTQ0s7HZ3BbTAlIh9sShQZkI4aRX6eMaT4cK0iokl3IhIQJYoMSEcfBWiIrIiEgxJFBqRjeCx0W2pcQ2RFJCBKFGnWfUHAgS7hAdq8SETCQYkizdKxIGBM3FLjShQiEhAlijTbfyg9/ROgzYtEJByUKNIsXR3ZoD4KEQkHJYo0S8fQ2BjVKEQkDJQo0iwdk+1ihpb4Z2drHoWIBEOJIs3SWaPQPAoRCYOUEoWZ3W5mp2U6mCNBOvsotNS4iIRBqjWK9cASM3vBzL5oZpWZDCqXxSeKQTY9qUYhIiGQUqJwzv3aOTcTuBaYALxqZv9hZvMyGVwuituLIo2d2ZpHISJBSbmPwszygZO9rz3AK8DXzGxZhmLLSWnto9DmRSISAgV9XwJm9r+Ay4C/Arc559Z4Rf/TzDb290XNbDkw2TsdBtQ756q7XTMZWO57aBJwq3Puzv6+Xjapj0JEjjQpJQrgVeBbzrlDCcrO6e+LOueuih2b2e3AgQTXbASqvWvyge3AI/19rWxL14KAEF0CpDDfaOtwtLZ30tzWQUnhwJcEEREZiFQTxSvAZDPzP3YAeNs51+NDPlUWfcIFwAV9XPphYLNz7u2BvlY2pHNBQAAzo7K0kD2RaPI52NSmRCEiWWfO9b1zmpk9D5xFtGZhwBTgDaAS+JJz7okBvbjZbOAO59z0Pq77LfCyc+4XSa5ZDCwGqKqqmrZs2cC6TiKRCBUVFQO6t7nd8cWVjQAU5sG9F5YP6Hn8bn6mkfcbo7+j22aVMrYib1AxZotiTA/FmD65EGeQMc6bN29tr5/Fzrk+v4CHgdN856cCDxLtN6jt5Z6VwOsJvj7uu+ZXwNf7eO0iop3nVanE6pxj2rRpbqCeeuqpAd/7zt5D7rhvPu6O++bj7kO3rRzw8/h9/BfPdj3nS9v2DjrGbFGM6aEY0ycX4gwyRuAl18tnaqpNTyc5597wJZd1Znayc25Lt+YofwKan+wJzawAuByY1sdrf5RobWJnirEGJp0d2TFxCwNq5JOIBCDVRLHOzH4FxNpzrvIeKwYGOhxnPrDBOVfXx3XXAA8M8DWyan+jfw7F4CbbxWhhQBEJWqrzKBYCm4Abva8twCKiSWKgk+6uplsCMLOxZrbCd14OfIRo01fopXMvipi4hQE1RFZEAtBnjcIbmrrCOTcPuD3BJZGBvLBzblGCx3YAl/jODwEjB/L8QUjnZLuYuBpFoxKFiGRfnzUK51wH0Kn1nfpW7+ujGJaJPgrVKEQkAKn2UUSA18zsSaBr0p1z7h8zElWO2udLFCMGuSBgjPooRCRoqSaKh8mRfoIgpXNBwBj/ek8a9SQiQUgpUTjn7jOzUuBYF11aQxLIxPBY1ShEJGipblx0GVAL/Nk7rzazP2QwrpyUic7soaUa9SQiwUp1eOx3iS7+Vw/gnKslOitbfNK5IGBM/FLjShQikn2pJoo213Pxv850B5PLnHPxE+4y0JmtzYtEJAipdma/YWb/A8g3sxOBfwSey1xYuaextYPW9mjuLC7IozRNq7wO8U24a2hpp7Oz70UcRUTSKdVE8VXgFqCF6GzqvwD/mqmgwirS0s6W3YnnF+5uaOk6HlFeRG9rYPVXQX4eFcUFRFracS6aLEREsinVUU+NRBPFLZkNJ7w27Wrg736xmsbWjj6vTddku5ihJdFEAWp+EpHsS3Ur1JOAm4AJ/nucc31tOHTEeOyV91JKEgATR5Wl9bWHlhay40AzoA5tEcm+VJue/hO4G/g1kNqn5RFml69padyw0l6Hv46pLOFrHzkpra+tZTxEJEipJop259yvMhpJyPn7IL596SlcPOXorL1295FPJVl7ZRGR1IfHPmZmXzazo81sROwro5GFzJ7I4UQxqqI4q6+tZTxEJEip1igWet+/4XvM8QGadOevUYwekt1E0X0Zj6Oy+uoi8kGX6qiniZkOJMycc+wOskbRfRmP9A6qEhFJKmnTk5n9f77jK7uV3ZapoMKmoaW9azJdWVE+5cWpVsTSQwsDikiQ+uqjuNp3/M/dyi5OcyyhFWSzE3Tvo1CiEJHs6itRWC/Hic6PWHsagmt2AtUoRCRYfSUK18txovMjlr9/YnQAiSJ+HoVGPYlIdvXV2H6GmR0kWnso9Y7xzj8ww/njahRDst+TrBqFiAQpaaJwzqVnCdQcF1+jyH5+jBv11NRG6qOaRUQGL9UJdx9ouwOuUWjzIhEJkhJFCvZEDu9cF0QfRVlRPgV50bEDLe2dtHZ8YLqHRCQElChSEPTwWDOL69DWKh4ikk1KFCkIcp2nGH+H9qE21ShEJHuUKPrgnItLFEHUKCC6eVFMY7sShYhkTyDDZ8xsOTDZOx0G1DvnqhNc90/AdUTnbLwGfNY515ylMIFo53Gb1ycwpLiAkjTthd1f/qanRtUoRCSLAqlROOeucs5Ve8nhIeDh7teY2TjgH4HpzrkpQD7xS4pkRdD9EzHxiSKwMETkAyjQAflmZsACoLctVQuITvRrA8qAHdmKLSbIVWP94voo1PQkIllkzgX3oWNms4E7nHPTeym/Afgh0AQ84Zz7dJLnWgwsBqiqqpq2bNmyAcUUiUSoqKjoOn9+Rzt3vxpNFmePyecfqoOZkP77ja2s2BqtSlx2nONTp1T0cUewur+PYaQY0yMXYoTciDPIGOfNm7e2t8/ijNUozGwlMCZB0S3OuUe942uAB3q5fzjwcWAiUA/8p5n9vXPu/yS63jm3BFgCMH36dDd37twBxV1TU4P/3k2rtsCr6wE4deJ45s6dMqDnHaz1bGbF1g0AtFkRA/35sqX7+xhGijE9ciFGyI04wxpjxhKFc25+snIzKwAuB6b1csl8YKtzbrd3/cPAeUDCRJEpcZPtAu2j0KgnEQlGkMNj5wMbnHN1vZS/A3zIzMq8vowPA+uzFp0nLJ3ZlRr1JCIBCTJRXE23ZiczG2tmKwCccy8ADwIvEx0am4fXtJRNYZhsB/HrPalGISLZFNioJ+fcogSP7QAu8Z1/B/hOFsPqIYw1ikMaHisiWaSZ2X0ITY1CTU8iEhAliiQ6Oh17Dx3uzB5Zkf0lxmPi+ijU9CQiWaREkcT+xlY6OqMfypWlhRQXBLeP0xD/Wk9t0NmpZCEi2aFEkUQYFgOMKczPo6womqgccKhVa42LSHYoUSQRt7NdgM1OMdo7W0SCoESRRHyNIpilO/z8Q2QPavciEckSJYok4obGBjjiKUY1ChEJghJFEv7lO0YNCb7pyb+Mx8FmJQoRyQ4liiTCVqMYqhqFiARAiSKJuM7sgEc9QfyEv/fqs7rRn4h8gClRJBHXmR2CGsUJow+vU//mroYAIxGRDxIliiTCss5TzEljhnQdv/m+EoWIZIcSRS/aOzrZ1xjtzDaDEeXBd2afeNThGsXWPYdoae8IMBoR+aBQoujFvkOtxHaJHV5WRGF+8G9VeXEBx4woBaC907F1z6GAIxKRD4LgP/1CanfI+idiJlcdbn7aqOYnEckCJYpehK1/IuYkX6J4c6cShYhknhJFL+Im24VgnaeYyWP8NYpIgJGIyAeFEkUvwlqjOPGow4niLQ2RFZEsUKLoRfzKseFJFJNGl5Nn0eN39jXSqOXGRSTDlCh6Eaa9KPxKCvOpKotmCudg0y41P4lIZilR9CKsNQqAcRWHf20a+SQimaZE0Yuw1igAxg85/GvTyCcRyTQlil7451GEukaxU01PIpJZShQJtLZ3Ut8YXcY7LyTLd/j5E4XWfBKRTFOiSGDvocO1iZEVxeTHhhmFRFWZUeQtKfL+wWbtTSEiGaVEkUCYO7IB8vOM430LBL6lfgoRySAligTC3JEdM7nqcKLYqEQhIhkUSKIws+VmVut9bTOz2l6uu8HMXjezN8zsxmzFF1+jCFf/RIz2phCRbCkI4kWdc1fFjs3sduBA92vMbApwPXAO0Ar82cwed85tynR8/nWewluj8K35pBqFiGRQoE1PZmbAAuCBBMWnAC845xqdc+3A08Dl2Ygrbp2nEPZRQPdVZDVEVkQyx1xsd54gXtxsNnCHc256grJTgEeBGUAT8FfgJefcV3t5rsXAYoCqqqppy5YtG1BMkUiE320qYM370d3jvjC1mBljA6l49SoSiVBWXs6XVjbS4m1y9/N5ZQwtDs/orEgkQkVFRd8XBkgxpkcuxAi5EWeQMc6bN29tos9iyGDTk5mtBMYkKLrFOfeod3wNiWsTOOfWm9n/BJ4ADgG1QK97fzrnlgBLAKZPn+7mzp07oLhramqgtBjYB8Dsc6qZecKoAT1XptTU1DB37lxOXreaV96tB2DU8adzXojijMUYZooxPXIhRsiNOMMaY8YShXNufrJyMysg2pQ0Lclz/Ab4jXf9bUBdOmPszZ6QLjHe3eSqiq5EsXFnQ6gShYgcOYJsU5kPbHDO9frhb2ZHOed2mdmxRJPKh7IRWFi3Qe1Ou92JSDYE2Zl9Nd2ancxsrJmt8D30kJmtAx4D/sE5V5/poFo7HA3N0T0eCvKMytLCTL/kgMXvdqdEISKZEViNwjm3KMFjO4BLfOfnZzMmgIOthzv3R1UUkxey5Tv8Jncb+eScIzqQTEQkfTQzu5sDLb5EMSSck+1iRg8p7qrxRFra2XGgOeCIRORIpETRjb9GEeb+CQAz61arUPOTiKSfEkU3cTWKkCcKgJPGHB5zraU8RCQTlCi68SeKMA+NjdFSHiKSaUoU3RxozbEahZqeRCTDlCi6ybUahT9RvLUzQkdncEuyiMiRSYmim4M5liiGlxd1xdnS3sk7+xoH9Xxv7z3EbSvW88KWvekIT0SOAEoU3eRa0xN066cYRId2e0cnC3+7hiXPbOHa365hR31TOsITkRynRNFNrtUooHvz08ATxV/e2Mm2vdEaSUt7J/+2euugYxOR3KdE4dPY2k6ztz5tUX4eQ0vCtbx4byaPSc+2qL95dkvc+QNr3uVgc9uAn09EjgxKFD57GuJ3tsuV5TDSMfLp5Xf28/I79XGPRVra+Y8X3hlMaCJyBFCi8NkdObwERlj3yk7kRF+i2LL7EK3tnf1+jt88e7iZaczQkq7jf1u9dUDPJyJHDiUKn905sg9FdxXFBYwbVgpAe6dj655D/br/3X2N/Om197rO7/nMNI7yfv6dB1t4tHZ7+oIVkZyjROGzO3K46SlXRjzFxC053s/mp/ue20Zs+sXME0ZyxjHDWDRzQlf5vau2EOSWuSISLCUKn1ytUcDARz41NLex/MV3u86vmzUJgE+fexzlRflAdAnzmo270xSpiOQaJQqfPZHcTRRxI5/6MZfi9y/V0dAS3ahp0uhy5pw0GoDK0kKuPufYruvueWZzmiIVkVyjROHjr1HkWtPTQEY+dXS6uLkSn581MW6jps/Nmki+d/78ln28WlefnmBFJKcoUfjkco3i+NEVxD7j397XSFNrR5/3PPHG+9Ttj86+HlZWyOVnjo8rHzeslMumHt11fs8z8fMsROSDQYnCJ5drFCWF+UwYVQ6Ac7BpV6TPe37tGxL79+ceR6nXJ+G3ePbxXcd/eu093tk7uLWkRCT3KFF4nHM53ZkNcNJRqY98+ts7+1n79n4ACvONa2ccl/C6U8cO5fwTRwHQ6XrO3haRI58ShSfS0k6LN7GspDCva8RPLjnJN0T29y+9y/tJ9tD2T7C77IyxHOWbZNfd4tmTfM9bx/5Drb1eKyJHHiUKT/faRK4s3+F3+rjKruM1W/cx/46nue+5bT32qNhe38SfXn+/6/zzsyYmfd5ZJ4zi1KOHAtDU1sH9z7+dxqhFJOyUKDx7cniyXcy8yaO5xjekNdLSznf+8AaX/+/VvLHjQNfj/uQxY9JIThtb2eO5/MwsrlZx33PbaG7ru7NcRI4MShSeuBpFjiaKgvw8fnT56Txw/YeYNLq86/FX6g7wd79YzQ//uI5dDc084Fvo77rzk9cmYj429WjGVkabp/YeauWhl+vSG7yIhFZurKOdBbk8NLa7GceP5E83nM/dNVv45VObaO3opKPTce+qrdz//Ns0t0X7YiaNKmfe5KNSes7C/Dw+N2siP/jjegDuXPkWz23aS6dzOEf0O9FBAZ0Omg4082beZk4bW8lpY4cyrCx3FlkUkXhKFJ5cHhqbSHFBPjfMP5HLzjiab/3X6zy3Obq1aSxJAHy22wS7vlx9zrH87K9v0dDczu6GFv7oW0gwkf9+b0PX8bhhpZw2diinja1kyrihnFQ1hKGlhZQX5VOQr4qtSJgFlijMrBq4GygB2oEvO+fWJLhuIfAt7/QHzrn7MhFPrg+N7c2k0RX8+3Xn8sjftvODP65nnzdiqbK0kE+dNa5fz1VRXMCX5h7PT/68sd9xbK9vYnt9E0+s29mjrLggj4riAsqLCygryqeiuICy4gKK8o3C/DwK8vMozDcK8/IoLDAK8vIoKogmF+fVaBx01W5ij5sZZpBnRl7se97h463bWnm64Q2a2zpobO2gqbWDprbD31vbOyktyqe0MJ+yonzKigsoK8ynvLiA0qJ8ygrzMYsOG+70alJ432Pn0dePxWCHY8mLHptBslS9eUsrG6z35VOiP7vrOj78uIs7N6NrgEb0Na0rNksaQd82bW3jzbzBLfEy2BhSsWlrG2/lDW54d6bHuGza2sam/MHFOGl0ORecXJWmiKKCrFH8BPiec+5PZnaJdz7Xf4GZjQC+A0wn+lmw1sz+4Jzbn+5g/E1PR0KNws/MuPys8cybfBR3PPkmL729nxvnn0hZUf9//V+aczxnHjOc3ZGWrg+ZPDv8QWTe6z3z0qu0lVfx+o4DvPl+hNaO3ve0aGnvpKW9lb1BDLvdsi37r9lfb27o+5qgbcyBGAE2rg86gr4NMsZLpx59RCUKBwz1jiuBHQmuuQh40jm3D8DMngQuBh5IdzC7vUTx/n/czC01lfzYtw3qggUL+PKXv0xjYyOXXHJJj3sXLVrEokWL2LNnD1dccUWP8i996UtcddVVvPvuu3zmM5/pUf71r3+dyy67jI0bN/KFL3yhR/m3vvUt5s+fT21tLTfeeCP19fUMGzasq/y2227jvPPO47nnnuNf/uVfetx/5513Ul1dzdr/foZVd/4AgB89Aj/yyu+55x4mT57MY489xu23397j/vvvv59jjjmG5cuX86tf/apH+YMPPsioUaNYunQpS5cuBYiLcc0fHmdHpJPbf3YXf13xXxxq6aClrYMO5+jodIz5Hz8G4MALD9O0Ob5SaQXFVC34XvQ5Vz9A89uvxJXnlw5l9CejP/P+p5fSsj3+A6tgyChGXXYTAPtWLqF1V/xfa4UjxjHy4q8CsPfPd9G2L37vjaKjJjFi/mIA9jz2U9ob9sSVF487meFzFgGw+5Hb6Gg6GFdectwZDJt5DQA7f/8dXHtLXHnp8edQee7lQPTfXnflJ5/PkLM+RmdbM7v+87s9yitOn0/F6fPpaDzA7v/6UY/yIWdeQvkps2k/uJs9j/f83Q4955OUnXAubXvr2PuXX/QorzzvakonVNO6cwv7/rqkR/mw2QspGX8KzXXrqX+mZ2V/xIcXU1Q1iaZttRx4blmP8pEXfYXCkeNp3PQCB9c80qN81KVfp2DoaA6tf4aGv63oUT76E/9MflklkddWEnltZY/yo678LnmFJTS8/EcObVjVo/xI+7cX+3nSLchEcSPwFzP7KdHRV+cluGYc8K7vvM57LO2WfvYcdjU0c9ljeZTl4GS7MCsqyOPUsRVMO244m0eW9yhf8f2LiLS0c+cdr/Bk80Y6nKOzM9p8Ulhcwrevrqa1vZPf7/+/vH6onE5H1/4YFZVD+OIlJ5NnxsN1o9jcXB7XiDFsdCXXfewUOp1j2aYRvNvuzR9x0NzczMRjh/GFT06hrCifJZtG8d67DeRbrJZknHjKWP7h+nNpau3gX18bwa73m+nsdF6MjuOOHc7HLjgBM2Pp6goaD7ZHX98LYvKJo7j4wpPo6IS7/1pGW2teV1MZwORJIzjfG3r86xWlPd6bcSPzuWT2JFqbm7jvyZ7lZ500mmlzJtF4oJ5/r4mW+3/+GaeN4Yw5x7N/VxnLnu15/3mnVnHyORPZXQd/eL5n+dwpYzi+eiLvbWlmxUs9yz9yxtHYkAIYdTRPvNKz/GNnjeXoSRPZNOR9at7oWf7x6eMZNW4iG4q2sXpjz/Irzj6GytFH85rbwJotPcuvPvc4yiuH83LzKP72Ts/yz8yYQFFJKS8cGMnabUZxcfzE0tgcomd3jWDjnvj7C4uKudYrf6puOFvq48vLhpRxtVf+5OZhvBuJLx86qoIrvPIV64fyfkt8+cgxQ/i4V/5o7RD2dpTS0tLcFeOYcUO5xCt/8IUKDubFb0h2zPhhfMQrX/ZMGY0NbXxu1sSuOU/pZJnckMbMVgJjEhTdAnwYeNo595CZLQAWO+fmd7v/JqDEOfcD7/zbQJNz7qcJXmsxsBigqqpq2rJlPf96SUUkEqGioqLvCwOkGNNDMaZHLsQIuRFnkDHOmzdvrXNuesLCaKdX9r+AAxxOVAYcTHDNNcA9vvN7gGv6eu5p06a5gXrqqacGfG+2KMb0UIzpkQsxOpcbcQYZI/CS6+UzNchxiTuAOd7xBcBbCa75C3ChmQ03s+HAhd5jIiKSJUH2UVwP/MzMCoBmvGYjM5sOfNE5d51zbp+Z/SvwonfP953XsS0iItkRWKJwzj0LTEvw+EvAdb7z3wK/zWJoIiLioymxIiKSlBKFiIgkpUQhIiJJKVGIiEhSGZ1wFxQz2w0MdBu2UcCePq8KlmJMD8WYHrkQI+RGnEHGeJxzbnSigiMyUQyGmb3kepudGBKKMT0UY3rkQoyQG3GGNUY1PYmISFJKFCIikpQSRU8911IOH8WYHooxPXIhRsiNOEMZo/ooREQkKdUoREQkKSUKERFJSonCY2YXm9lGM9tkZj33pAwJM9tmZq+ZWa2ZvRR0PABm9lsz22Vmr/seG2FmT5rZW9734SGM8btmtt17L2u9vduDjPEYM3vKzNaZ2RtmdoP3eGjeyyQxhua9NLMSM1tjZq94MX7Pe3yimb3g/R9fbmZFIYxxqZlt9b2P1UHF6Kc+CsDM8oE3gY8Q3W71RaIbJK0LNLAEzGwbMN05F5qJQ2Y2G4gAv3POTfEe+wmwzzn3Yy/xDnfOfTNkMX4XiLgEOyYGwcyOBo52zr1sZkOAtcAngEWE5L1MEuMCQvJempkB5c65iJkVAs8CNwBfAx52zi0zs7uBV5xzPTeBDzbGLwKPO+ceDCKu3qhGEXUOsMk5t8U51wosAz4ecEw5wzn3DNB9n5CPA/d5x/cR/TAJTC8xhopz7j3n3MvecQOwnuge8aF5L5PEGBrehm0R77TQ+3JEN0iLfQAH/T72FmMoKVFEjQPe9Z3XEbJ//D4OeMLM1nr7hIdVlXPuPe/4faAqyGCS+IqZveo1TQXaPOZnZhOAM4EXCOl72S1GCNF7aWb5ZlYL7AKeBDYD9c65du+SwP+Pd4/RORd7H3/ovY//y8yKg4vwMCWK3DPLOXcW8FHgH7wmlVDz9uMN419LvwKOB6qB94DbA43GY2YVwEPAjc65g/6ysLyXCWIM1XvpnOtwzlUD44m2GJwcZDyJdI/RzKYA/0w01rOBEUBgzbV+ShRR24FjfOfjvcdCxzm33fu+C3iE6H+CMNrptWfH2rV3BRxPD865nd5/1k7gXkLwXnrt1Q8B/+6ce9h7OFTvZaIYw/heAjjn6oGngBnAMG/rZQjR/3FfjBd7TXvOOdcC/BsheR+VKKJeBE70RkUUAVcDfwg4ph7MrNzrQMTMyoELgdeT3xWYPwALveOFwKMBxpJQ7MPX80kCfi+9Ds7fAOudc3f4ikLzXvYWY5jeSzMbbWbDvONSooNU1hP9ML7Cuyzo9zFRjBt8fxAY0T6UUPz/1qgnjzec704gH/itc+6HwUbUk5lNIlqLgOh+5/8RhjjN7AFgLtElkncC3wH+C/g9cCzRJd8XOOcC60zuJca5RJtKHLAN+IKvLyDrzGwWsAp4Dej0Hv4Xon0AoXgvk8R4DSF5L81sKtHO6nyifwz/3jn3fe//zzKiTTp/A/7e+8s9TDH+X2A0YEAt8EVfp3dglChERCQpNT2JiEhSShQiIpKUEoWIiCSlRCEiIkkpUYiISFJKFCKDYGa3eKt/vuqt9nmumd1oZmVBxyaSLhoeKzJAZjYDuAOY65xrMbNRQBHwHCFb4VdkMFSjEBm4o4E9sUlbXmK4AhgLPGVmTwGY2YVm9t9m9rKZ/ae3TlJsb5GfWHR/kTVmdoL3+JVm9rq3V8EzwfxoIoepRiEyQN4H/rNAGbASWO6ce9q/Z4hXy3gY+Khz7pCZfRMo9mbhbgPudc790MyuJTrj+lIze43ouj/bzWyYtxaQSGBUoxAZIG9phWnAYmA3sNzMFnW77EPAqcBqb0nphcBxvvIHfN9neMergaVmdj3RJR5EAlXQ9yUi0hvnXAdQA9R4NYGF3S4xonsNXNPbU3Q/ds590czOBT4GrDWzac65vemNXCR1qlGIDJCZTTazE30PVRNdtK8BGOI99jww09f/UG5mJ/nuucr3/b+9a453zr3gnLuVaE3FvwS+SNapRiEycBXAXd5y0e3AJqLNUNcAfzazHc65eV5z1AO+3cq+RXSPdoDhZvYq0OLdB/D/ewnIgL8Cr2TjhxHpjTqzRQLi7/QOOhaRZNT0JCIiSalGISIiSalGISIiSSlRiIhIUkoUIiKSlBKFiIgkpUQhIiJJ/T/FBRB+A+OHQAAAAABJRU5ErkJggg==\n",
            "text/plain": [
                "<Figure size 432x288 with 1 Axes>"
            ]
        },
        "metadata": {
            "needs_background": "light"
        },
        "output_type": "display_data"
    }
],
"source": [
    "%matplotlib inline\n",
    "import matplotlib.pyplot as plt\n",
    "\n",
    "plt.plot(eval(result.meta_data[\"optimization_trace\"]), label=\"noiseless\", lw=3)\n",
    "plt.plot(\n",
    "    [info[\"FCI\"] for _ in range(len(eval(result.meta_data[\"optimization_trace\"])))],\n",
    "    \"--k\",\n",
    "    label=\"FCI\",\n",
    ")\n",
    "plt.legend(loc=\"best\")\n",
    "plt.xlabel(\"Steps\")\n",
    "plt.ylabel(\"Energy\")\n",
    "plt.grid()"
]
},
{
"cell_type": "markdown",
"metadata": {},
"source": [
    "## Annex : Active space selection using only the `MolecularHamiltonian`class"
]
},
{
"cell_type": "markdown",
"metadata": {},
"source": [
    "To explain better what is happening under the hood, let us select the active space of the $LiH$ molecule without using the `MoleculeInfo` class. Let us assume we already used `perform_pyscf_computation` to compute the molecule properties we need."
]
},
{
"cell_type": "code",
"execution_count": 19,
"metadata": {},
"outputs": [
    {
        "name": "stdout",
        "output_type": "stream",
        "text": [
            " MolecularHamiltonian(\n",
            " - constant_coeff : 0.9071609330057144\n",
            " - integrals shape\n",
            "    * one_body_integrals : (11, 11)\n",
            "    * two_body_integrals : (11, 11, 11, 11)\n",
            "\n"
        ]
    }
],
"source": [
    "# We define the molecular hamiltonian\n",
    "mol_h = MolecularHamiltonian(one_body_integrals, two_body_integrals, nuclear_repulsion)\n",
    "\n",
    "print(mol_h)\n",
    "\n",
    "# We compute the natural orbitals occupation numbers and the basis transformation matrix\n",
    "noons, basis_change = np.linalg.eigh(rdm1)\n",
    "\n",
    "# Reverse the noons order for them to be in decreasing order...\n",
    "noons = list(reversed(noons))\n",
    "\n",
    "# ... and flip the basis as well\n",
    "basis_change = np.flip(basis_change, axis=1)"
]
},
{
"cell_type": "markdown",
"metadata": {},
"source": [
    "We use `MolecularHamiltonian.select_active_space()` to select an active space. This will update the body integrals as well as the constant coefficient in the `MolecularHamiltonian`class (here `mol_h_active`)."
]
},
{
"cell_type": "code",
"execution_count": 20,
"metadata": {},
"outputs": [
    {
        "name": "stdout",
        "output_type": "stream",
        "text": [
            " MolecularHamiltonian(\n",
            " - constant_coeff : 0.9071609330057144\n",
            " - integrals shape\n",
            "    * one_body_integrals : (2, 2)\n",
            "    * two_body_integrals : (2, 2, 2, 2)\n",
            "\n",
            "We reduced the number of qubits from 22 to only 4 !\n"
        ]
    }
],
"source": [
    "# Active space selection\n",
    "mol_h_active, active_indices, occupied_indices = mol_h_new_basis.select_active_space(\n",
    "    noons=noons, n_electrons=n_electrons, threshold_1=0.02, threshold_2=0.002\n",
    ")\n",
    "\n",
    "print(mol_h_active)\n",
    "\n",
    "# The number of qubits can be computed from the one body integral in the active space:\n",
    "nqbits = mol_h_active.one_body_integrals.shape[0] * 2\n",
    "\n",
    "print(f\"We reduced the number of qubits from {mol_h.one_body_integrals.shape[0] * 2} to only {nqbits} !\")"
]
},
{
"cell_type": "markdown",
"metadata": {},
"source": [
    "We get the `active_indices` and the `occupied_indices`. The `MoleculeInfo` takes care of everything for us by overwriting the correct attributes with their updated **active** counterparts. But since we are not going to use it, we need to do it manually:"
]
},
{
"cell_type": "code",
"execution_count": 21,
"metadata": {},
"outputs": [],
"source": [
    "active_noons = [noons[idx] for idx in active_indices]\n",
    "active_orbital_energies = [orbital_energies[idx] for idx in active_indices]\n",
    "active_n_electrons = n_electrons - 2 * len(occupied_indices)"
]
},
{
"cell_type": "markdown",
"metadata": {},
"source": [
    "We can then do as usual, by calling directly the functions we need. For example we can guess the optimal initial parameter:"
]
},
{
"cell_type": "code",
"execution_count": 22,
"metadata": {
    "scrolled": true
},
"outputs": [
    {
        "name": "stdout",
        "output_type": "stream",
        "text": [
            "List of initial parameters : [0, 0, 0.1964034140766623]\n",
            "Initial Hartree-Fock state : 12\n"
        ]
    }
],
"source": [
    "# Computation of the initial parameters\n",
    "theta_list = guess_init_params(\n",
    "    mol_h_active.two_body_integrals,\n",
    "    active_n_electrons,\n",
    "    active_orbital_energies,\n",
    ")\n",
    "\n",
    "print(f\"List of initial parameters : {theta_list}\")\n",
    "\n",
    "# Get the initial Hartree-Fock state\n",
    "ket_hf_init = get_hf_ket(active_n_electrons, nqbits=nqbits)\n",
    "\n",
    "print(f\"Initial Hartree-Fock state : {ket_hf_init}\")\n",
    "\n",
    "# Compute the cluster operators\n",
    "cluster_ops = get_cluster_ops(molecule.n_electrons, noons=active_noons)"
]
},
{
"cell_type": "markdown",
"metadata": {},
"source": [
    "You are then free to convert the `MolecularHamiltonian` to an `ElectronicStructureHamiltonian` just as in the `MoleculeInfo`part by doing:"
]
},
{
"cell_type": "code",
"execution_count": 23,
"metadata": {},
"outputs": [],
"source": [
    "# Get the ElectronicStructureHamiltonian\n",
    "H_active = mol_h_active.get_electronic_hamiltonian()"
]
},
{
"cell_type": "markdown",
"metadata": {
    "slideshow": {
        "slide_type": "slide"
    },
    "tags": []
},
"source": [
    "## Further questions to be investigated:\n",
    "\n",
    "This notebook only tackles certain aspects of performing chemistry on the QLM. Other questions that you can deal with using other QLM tools include:\n",
    "\n",
    "- what are the effects of noise on the VQE ?\n",
    "- how do noisy and noiseless VQE compare ?\n",
    "- what is the effect of the QPU connectivity constraints (e.g. IBM QX5 chip) ? \n",
    "- how to reduce the gate count given a topology?\n",
    "- how to rewrite a circuit for another gate set (say, for ions)?\n",
    "- how to mitigate noise effects? (zero-noise extrapolation...)"
]
}
],
"metadata": {
"celltoolbar": "Diaporama",
"kernelspec": {
"display_name": "Python 3 (ipykernel)",
"language": "python",
"name": "python3"
},
"language_info": {
"codemirror_mode": {
    "name": "ipython",
    "version": 3
},
"file_extension": ".py",
"mimetype": "text/x-python",
"name": "python",
"nbconvert_exporter": "python",
"pygments_lexer": "ipython3",
"version": "3.9.2"
}
},
"nbformat": 4,
"nbformat_minor": 4
}