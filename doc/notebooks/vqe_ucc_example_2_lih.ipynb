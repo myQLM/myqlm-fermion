{
 "cells": [
  {
   "cell_type": "markdown",
   "metadata": {},
   "source": [
    "# Quantum chemistry on the QLM"
   ]
  },
  {
   "cell_type": "markdown",
   "metadata": {
    "slideshow": {
     "slide_type": "slide"
    },
    "tags": []
   },
   "source": [
    "## Example: $LiH$ molecule\n",
    "\n",
    "Let us now study the molecule $LiH$. As for the $H_2$ case (studied in a previous tutorial), we need to first describe the geometry and atomic content of the molecule. In this example, we will compute the basis change and select the active space.\n",
    "\n",
    "Again, we use the ``pySCF`` package. We chose to study lithium in the 6-31G basis at 1.75 Angström (internuclear distance.)"
   ]
  },
  {
   "cell_type": "code",
   "execution_count": 1,
   "metadata": {
    "slideshow": {
     "slide_type": "fragment"
    }
   },
   "outputs": [
    {
     "name": "stderr",
     "output_type": "stream",
     "text": [
      "/home/moliva/.local/lib/python3.9/site-packages/cotengra/hyper.py:29: UserWarning: Couldn't import `kahypar` - skipping from default hyper optimizer and using basic `labels` method instead.\n",
      "  warnings.warn(\"Couldn't import `kahypar` - skipping from default \"\n",
      "/usr/local/lib64/python3.9/site-packages/pyscf/lib/misc.py:46: H5pyDeprecationWarning: Using default_file_mode other than 'r' is deprecated. Pass the mode to h5py.File() instead.\n",
      "  h5py.get_config().default_file_mode = 'a'\n"
     ]
    },
    {
     "name": "stdout",
     "output_type": "stream",
     "text": [
      "HF energy= -7.978244325721489\n",
      "MP2 energy= -7.991271632153251\n",
      "FCI energy= -7.998354311186427\n",
      "Number of qubits before active space selection =  22\n"
     ]
    }
   ],
   "source": [
    "import numpy as np\n",
    "\n",
    "from qat.fermion.chemistry.pyscf_tools import perform_pyscf_computation\n",
    "\n",
    "geometry = [(\"Li\", (0.0, 0.0, 0.0)), (\"H\", (0.0, 0.0, 1.75))]\n",
    "basis = \"6-31g\"\n",
    "spin = 0\n",
    "charge = 0\n",
    "\n",
    "(\n",
    "    rdm1,\n",
    "    orbital_energies,\n",
    "    nuclear_repulsion,\n",
    "    n_electrons,\n",
    "    one_body_integrals,\n",
    "    two_body_integrals,\n",
    "    info,\n",
    ") = perform_pyscf_computation(geometry=geometry, basis=basis, spin=spin, charge=charge, verbose=True)\n",
    "\n",
    "print(\"Number of qubits before active space selection = \", rdm1.shape[0] * 2)"
   ]
  },
  {
   "cell_type": "markdown",
   "metadata": {
    "tags": []
   },
   "source": [
    "We wrap the body integrals and the nuclear repulsion in the `MolecularHamiltonian` class:"
   ]
  },
  {
   "cell_type": "code",
   "execution_count": 2,
   "metadata": {},
   "outputs": [
    {
     "name": "stdout",
     "output_type": "stream",
     "text": [
      " MolecularHamiltonian(\n",
      " - constant_coeff : 0.9071609330057144\n",
      " - integrals shape\n",
      "    * one_body_integrals : (11, 11)\n",
      "    * two_body_integrals : (11, 11, 11, 11)\n",
      "\n"
     ]
    }
   ],
   "source": [
    "from qat.fermion.chemistry import MolecularHamiltonian, MoleculeInfo\n",
    "\n",
    "# Define the molecular hamiltonian\n",
    "mol_h = MolecularHamiltonian(one_body_integrals, two_body_integrals, nuclear_repulsion)\n",
    "\n",
    "print(mol_h)"
   ]
  },
  {
   "cell_type": "markdown",
   "metadata": {
    "slideshow": {
     "slide_type": "slide"
    },
    "tags": []
   },
   "source": [
    "## Active space selection\n",
    "\n",
    "Based on the (approximate) one-particle reduced density matrix computed (``rdm1``), we compute the so-called \"natural-orbital occupation numbers\" (NOONs). We use them to select, with a given threshold, the \"active space orbitals\" (which are contained in the ``active_indices`` list below). We then compute the Hamiltonian in this active space."
   ]
  },
  {
   "cell_type": "code",
   "execution_count": 3,
   "metadata": {
    "slideshow": {
     "slide_type": "fragment"
    }
   },
   "outputs": [],
   "source": [
    "# Compute the natural orbitals occupation numbers and the basis transformation matrix\n",
    "noons, basis_change = np.linalg.eigh(rdm1)\n",
    "\n",
    "# The noons should be in decreasing order\n",
    "noons = list(reversed(noons))\n",
    "\n",
    "# Since we reversed the noons, we have to flip the basis as well\n",
    "basis_change = np.flip(basis_change, axis=1)"
   ]
  },
  {
   "cell_type": "markdown",
   "metadata": {
    "tags": []
   },
   "source": [
    "The basis change and the active space selection can be done within the `MolecularHamiltonian` class:"
   ]
  },
  {
   "cell_type": "code",
   "execution_count": 4,
   "metadata": {},
   "outputs": [],
   "source": [
    "# Change the hamiltonian basis\n",
    "mol_h_new_basis = mol_h.transform_basis(basis_change)"
   ]
  },
  {
   "cell_type": "code",
   "execution_count": 5,
   "metadata": {},
   "outputs": [],
   "source": [
    "# Select the active space\n",
    "mol_h_active, active_indices, occupied_indices = mol_h_new_basis.select_active_space(\n",
    "    noons=noons, n_electrons=n_electrons, threshold_1=0.02, threshold_2=0.002\n",
    ")"
   ]
  },
  {
   "cell_type": "code",
   "execution_count": 6,
   "metadata": {},
   "outputs": [
    {
     "data": {
      "text/plain": [
       " MolecularHamiltonian(\n",
       " - constant_coeff : 0.9071609330057144\n",
       " - integrals shape\n",
       "    * one_body_integrals : (2, 2)\n",
       "    * two_body_integrals : (2, 2, 2, 2)"
      ]
     },
     "execution_count": 6,
     "metadata": {},
     "output_type": "execute_result"
    }
   ],
   "source": [
    "mol_h_active"
   ]
  },
  {
   "cell_type": "code",
   "execution_count": 7,
   "metadata": {},
   "outputs": [
    {
     "name": "stdout",
     "output_type": "stream",
     "text": [
      "Active indices : [1, 2]\n"
     ]
    }
   ],
   "source": [
    "print(f\"Active indices : {active_indices}\")"
   ]
  },
  {
   "cell_type": "markdown",
   "metadata": {},
   "source": [
    "The active space selection can also be done within the `MoleculeInfo` class."
   ]
  },
  {
   "cell_type": "markdown",
   "metadata": {},
   "source": [
    "The `MoleculeInfo` class is a helper class which contains various molecule properties."
   ]
  },
  {
   "cell_type": "code",
   "execution_count": 8,
   "metadata": {},
   "outputs": [],
   "source": [
    "molecule = MoleculeInfo(\n",
    "    mol_h_new_basis,\n",
    "    n_electrons=n_electrons,\n",
    "    noons=noons,\n",
    "    orbital_energies=orbital_energies,\n",
    ")"
   ]
  },
  {
   "cell_type": "code",
   "execution_count": 9,
   "metadata": {},
   "outputs": [
    {
     "data": {
      "text/plain": [
       "MoleculeInfo(\n",
       " - MolecularHamiltonian(\n",
       "    * constant_coeff : 0.9071609330057144\n",
       "    * integrals shape\n",
       "       ** one_body_integrals : (11, 11)\n",
       "       ** two_body_integrals : (11, 11, 11, 11)\n",
       " - n_electrons = 4\n",
       " - noons = [1.9999088035737982, 1.9490174406700627, 0.04680924237131465, 0.001838829370008131, 0.0009388056503319692, 0.0009388056503319671, 0.0004987405992223018, 2.531545346755468e-05, 1.1601439027798402e-05, 1.1601439027797657e-05, 8.137834073751166e-07]\n",
       " - orbital energies = [-2.46481078 -0.29198191  0.00584726  0.05830485  0.05830485  0.14705508\n",
       "  0.19900943  0.21877097  0.21877097  0.32774881  1.30468514]\n",
       ")"
      ]
     },
     "execution_count": 9,
     "metadata": {},
     "output_type": "execute_result"
    }
   ],
   "source": [
    "molecule"
   ]
  },
  {
   "cell_type": "markdown",
   "metadata": {},
   "source": [
    " The `MoleculeInfo.restrict_active_space()` method updates the class to the new computed active space."
   ]
  },
  {
   "cell_type": "code",
   "execution_count": 10,
   "metadata": {},
   "outputs": [],
   "source": [
    "# Selection of the active space\n",
    "molecule.restrict_active_space(threshold_1=0.02, threshold_2=0.002)"
   ]
  },
  {
   "cell_type": "code",
   "execution_count": 11,
   "metadata": {
    "scrolled": true
   },
   "outputs": [
    {
     "data": {
      "text/plain": [
       "MoleculeInfo(\n",
       " - MolecularHamiltonian(\n",
       "    * constant_coeff : 0.9071609330057144\n",
       "    * integrals shape\n",
       "       ** one_body_integrals : (2, 2)\n",
       "       ** two_body_integrals : (2, 2, 2, 2)\n",
       " - n_electrons = 2\n",
       " - noons = [1.9490174406700627, 0.04680924237131465]\n",
       " - orbital energies = [-0.29198190623309134, 0.005847259432357844]\n",
       ")"
      ]
     },
     "execution_count": 11,
     "metadata": {},
     "output_type": "execute_result"
    }
   ],
   "source": [
    "molecule"
   ]
  },
  {
   "cell_type": "markdown",
   "metadata": {
    "slideshow": {
     "slide_type": "slide"
    }
   },
   "source": [
    "## Computation of cluster operators $T$ and good guess $\\vec{\\theta}_0$\n",
    "\n",
    "We construct the cluster operators (``cluster_ops``) $\\hat{T}(\\vec{\\theta})$, as well as a good starting parameter $\\vec{\\theta}$ (based on the second order Møller-Plesset perturbation theory)."
   ]
  },
  {
   "cell_type": "code",
   "execution_count": 12,
   "metadata": {
    "slideshow": {
     "slide_type": "fragment"
    }
   },
   "outputs": [],
   "source": [
    "from qat.fermion.chemistry.ucc import guess_init_params, get_hf_ket, get_cluster_ops\n",
    "\n",
    "# Compute the cluster operators\n",
    "cluster_ops = get_cluster_ops(molecule.n_electrons, noons=molecule.noons)"
   ]
  },
  {
   "cell_type": "code",
   "execution_count": 13,
   "metadata": {
    "scrolled": true
   },
   "outputs": [
    {
     "name": "stdout",
     "output_type": "stream",
     "text": [
      "List of initial parameters : [0, 0, 0.19640341453136992]\n"
     ]
    }
   ],
   "source": [
    "# Computation of the initial  parameters\n",
    "theta_list = guess_init_params(\n",
    "    molecule.two_body_integrals,\n",
    "    molecule.n_electrons,\n",
    "    molecule.orbital_energies,\n",
    ")\n",
    "\n",
    "print(f\"List of initial parameters : {theta_list}\")"
   ]
  },
  {
   "cell_type": "code",
   "execution_count": 14,
   "metadata": {
    "scrolled": true
   },
   "outputs": [
    {
     "name": "stdout",
     "output_type": "stream",
     "text": [
      "Initial Hartree-Fock state : 12\n"
     ]
    }
   ],
   "source": [
    "# Define the initial Hartree-Fock state\n",
    "ket_hf_init = get_hf_ket(molecule.n_electrons, nqbits=molecule.nqbits)\n",
    "print(f\"Initial Hartree-Fock state : {ket_hf_init}\")"
   ]
  },
  {
   "cell_type": "markdown",
   "metadata": {
    "slideshow": {
     "slide_type": "slide"
    },
    "tags": []
   },
   "source": [
    "## Encode to qubits: Fermion-spin transformation\n",
    "\n",
    "We transform the fermionic operators to spin (or qubit) space. In this example we choose the Bravyi-Kitaev transform."
   ]
  },
  {
   "cell_type": "code",
   "execution_count": 15,
   "metadata": {
    "slideshow": {
     "slide_type": "fragment"
    }
   },
   "outputs": [
    {
     "name": "stdout",
     "output_type": "stream",
     "text": [
      "ObservableType.SPIN\n"
     ]
    }
   ],
   "source": [
    "from qat.fermion.transforms import transform_to_bk_basis\n",
    "\n",
    "# Compute the ElectronicStructureHamiltonian\n",
    "H_active = molecule.hamiltonian.get_electronic_hamiltonian()\n",
    "\n",
    "# Transform the ElectronicStructureHamiltonian into a spin Hamiltonian\n",
    "H_active_sp = transform_to_bk_basis(H_active)\n",
    "\n",
    "print(H_active_sp.htype)"
   ]
  },
  {
   "cell_type": "code",
   "execution_count": 16,
   "metadata": {
    "slideshow": {
     "slide_type": "fragment"
    }
   },
   "outputs": [],
   "source": [
    "from qat.fermion.transforms import recode_integer, get_bk_code\n",
    "\n",
    "# Express the cluster operator in spin terms\n",
    "cluster_ops_sp = [transform_to_bk_basis(t_o) for t_o in cluster_ops]\n",
    "\n",
    "# Encoding the initial state to new encoding\n",
    "hf_init_sp = recode_integer(ket_hf_init, get_bk_code(H_active_sp.nbqbits))"
   ]
  },
  {
   "cell_type": "markdown",
   "metadata": {},
   "source": [
    "## Trotterize the Hamiltonian to get the parameterized circuit to optimize"
   ]
  },
  {
   "cell_type": "code",
   "execution_count": 17,
   "metadata": {},
   "outputs": [],
   "source": [
    "from qat.lang.AQASM import Program, X\n",
    "from qat.fermion.trotterisation import make_trotterisation_routine\n",
    "\n",
    "nqbits = cluster_ops_sp[0].nbqbits\n",
    "\n",
    "prog = Program()\n",
    "reg = prog.qalloc(nqbits)\n",
    "\n",
    "# Initialize the Hartree-Fock state into the Program\n",
    "for j, char in enumerate(format(hf_init_sp, \"0\" + str(nqbits) + \"b\")):\n",
    "    if char == \"1\":\n",
    "        prog.apply(X, reg[j])\n",
    "\n",
    "# Define the parameters to optimize\n",
    "theta = [prog.new_var(float, \"\\\\theta_{%s}\" % i) for i in range(len(cluster_ops))]\n",
    "\n",
    "# Define the parameterized Hamiltonian\n",
    "hamiltonian = sum([th * T for th, T in zip(theta, cluster_ops_sp)])\n",
    "\n",
    "# Trotterize the Hamiltonian (with 1 trotter step)\n",
    "qrout = make_trotterisation_routine(hamiltonian, n_trotter_steps=1, final_time=1)\n",
    "\n",
    "prog.apply(qrout, reg)\n",
    "circ = prog.to_circ()"
   ]
  },
  {
   "cell_type": "markdown",
   "metadata": {},
   "source": [
    "Alternatively, you can simply use the `construct_ucc_ansatz` fonction:"
   ]
  },
  {
   "cell_type": "code",
   "execution_count": 18,
   "metadata": {
    "slideshow": {
     "slide_type": "fragment"
    }
   },
   "outputs": [],
   "source": [
    "from qat.fermion.chemistry.ucc import construct_ucc_ansatz\n",
    "\n",
    "prog = construct_ucc_ansatz(cluster_ops_sp, hf_init_sp, n_steps=1)\n",
    "circ = prog.to_circ()"
   ]
  },
  {
   "cell_type": "code",
   "execution_count": 19,
   "metadata": {},
   "outputs": [
    {
     "data": {
      "image/png": "[encoded data removed]",
      "text/plain": [
       "<IPython.core.display.Image object>"
      ]
     },
     "metadata": {},
     "output_type": "display_data"
    }
   ],
   "source": [
    "circ.display()"
   ]
  },
  {
   "cell_type": "markdown",
   "metadata": {
    "slideshow": {
     "slide_type": "slide"
    },
    "tags": []
   },
   "source": [
    "## Optimize the angles of $\\psi(\\vec{\\theta})$ for a given QPU\n",
    "\n",
    "We can now use the QLM's variational plugins to perform the VQE optimization."
   ]
  },
  {
   "cell_type": "code",
   "execution_count": 20,
   "metadata": {
    "slideshow": {
     "slide_type": "fragment"
    }
   },
   "outputs": [
    {
     "name": "stdout",
     "output_type": "stream",
     "text": [
      "Minimum energy = -7.995935815414656\n",
      "FCI energy: -7.998354311186427\n"
     ]
    }
   ],
   "source": [
    "job = circ.to_job(job_type=\"OBS\", observable=H_active_sp, nbshots=0)\n",
    "\n",
    "from qat.qpus import LinAlg\n",
    "from qat.vsolve.optimize import ScipyMinimizePlugin\n",
    "\n",
    "optimizer_scipy = ScipyMinimizePlugin(method=\"COBYLA\", tol=1e-3, options={\"maxiter\": 1000}, x0=theta_list)\n",
    "qpu = optimizer_scipy | LinAlg()\n",
    "result = qpu.submit(job)\n",
    "\n",
    "print(\"Minimum energy =\", result.value)\n",
    "print(\"FCI energy:\", info[\"FCI\"])"
   ]
  },
  {
   "cell_type": "code",
   "execution_count": 21,
   "metadata": {
    "slideshow": {
     "slide_type": "fragment"
    }
   },
   "outputs": [
    {
     "data": {
      "image/png": "[encoded data removed]",
      "text/plain": [
       "<Figure size 432x288 with 1 Axes>"
      ]
     },
     "metadata": {
      "needs_background": "light"
     },
     "output_type": "display_data"
    }
   ],
   "source": [
    "%matplotlib inline\n",
    "import matplotlib.pyplot as plt\n",
    "\n",
    "plt.plot(eval(result.meta_data[\"optimization_trace\"]), label=\"noiseless\", lw=3)\n",
    "plt.plot(\n",
    "    [info[\"FCI\"] for _ in range(len(eval(result.meta_data[\"optimization_trace\"])))],\n",
    "    \"--k\",\n",
    "    label=\"FCI\",\n",
    ")\n",
    "plt.legend(loc=\"best\")\n",
    "plt.xlabel(\"Steps\")\n",
    "plt.ylabel(\"Energy\")\n",
    "plt.grid()"
   ]
  },
  {
   "cell_type": "markdown",
   "metadata": {
    "slideshow": {
     "slide_type": "slide"
    }
   },
   "source": [
    "## With a Noisy QPU\n",
    "\n",
    "We can easily switch to another QPU. Here, we want to investigate the effect of noise on VQE accuracy.\n",
    "To this end, we use a noisy QPU with a simple noise model with $T_1$ and $T_2$ noise."
   ]
  },
  {
   "cell_type": "code",
   "execution_count": 22,
   "metadata": {
    "slideshow": {
     "slide_type": "fragment"
    }
   },
   "outputs": [
    {
     "name": "stdout",
     "output_type": "stream",
     "text": [
      "=== StatPlugin:compile ===\n",
      "Job 0: {'nbqbits': 4, 'size': 107, 'gates': {'custom gate': 0, 'X': 1, 'RX': 28, 'CNOT': 46, 'RZ': 12, 'H': 20}, 'measurements': 0, 'resets': 0, 'logic': 0, 'breaks': 0, 'remaps': 0, 'gate_size': 107}\n",
      "Minimum energy = -7.926511615388256\n"
     ]
    }
   ],
   "source": [
    "from qat.hardware import HardwareModel, DefaultGatesSpecification\n",
    "from qat.quops import ParametricAmplitudeDamping, ParametricPureDephasing\n",
    "from qat.qpus import NoisyQProc\n",
    "from qat.plugins import StatPlugin\n",
    "\n",
    "gate_durations = {\n",
    "    \"Z\": 60,\n",
    "    \"H\": 60,\n",
    "    \"X\": 60,\n",
    "    \"Y\": 60,\n",
    "    \"RX\": lambda angle: 60,\n",
    "    \"RY\": lambda angle: 60,\n",
    "    \"RZ\": lambda angle: 60,\n",
    "    \"CNOT\": 150,\n",
    "}  # nanosecs\n",
    "T1 = 50000  # = 50 microsecs\n",
    "T2 = 50000\n",
    "\n",
    "amp_damping = ParametricAmplitudeDamping(T_1=T1)\n",
    "pure_dephasing = ParametricPureDephasing(T_phi=1 / (1 / T2 - 1 / (2 * T1)))\n",
    "hw_model = HardwareModel(DefaultGatesSpecification(gate_durations), idle_noise=[amp_damping, pure_dephasing])\n",
    "noisy_qpu = NoisyQProc(hardware_model=hw_model, sim_method=\"deterministic-vectorized\")\n",
    "\n",
    "qpu = StatPlugin() | optimizer_scipy | noisy_qpu\n",
    "result_n = qpu.submit(job)\n",
    "\n",
    "print(\"Minimum energy =\", result_n.value)"
   ]
  },
  {
   "cell_type": "markdown",
   "metadata": {
    "slideshow": {
     "slide_type": "slide"
    }
   },
   "source": [
    "## Comparison: noiseless vs. noisy\n",
    "\n",
    "As you can see, the final energy obtained with a noisy QPU is higher than the one obtained with a perfect (noiseless) QPU:"
   ]
  },
  {
   "cell_type": "code",
   "execution_count": 23,
   "metadata": {
    "slideshow": {
     "slide_type": "fragment"
    }
   },
   "outputs": [
    {
     "data": {
      "image/png": "[encoded data removed]",
      "text/plain": [
       "<Figure size 432x288 with 1 Axes>"
      ]
     },
     "metadata": {
      "needs_background": "light"
     },
     "output_type": "display_data"
    }
   ],
   "source": [
    "import matplotlib.pyplot as plt\n",
    "\n",
    "plt.plot(eval(result_n.meta_data[\"optimization_trace\"]), label=\"noisy\", lw=3)\n",
    "plt.plot(eval(result.meta_data[\"optimization_trace\"]), label=\"noiseless\", lw=3)\n",
    "plt.plot(\n",
    "    [info[\"FCI\"] for _ in range(len(eval(result.meta_data[\"optimization_trace\"])))],\n",
    "    \"--k\",\n",
    "    label=\"FCI\",\n",
    ")\n",
    "plt.legend(loc=\"best\")\n",
    "plt.xlabel(\"Steps\")\n",
    "plt.ylabel(\"Energy\")\n",
    "plt.grid()"
   ]
  },
  {
   "cell_type": "markdown",
   "metadata": {
    "slideshow": {
     "slide_type": "slide"
    }
   },
   "source": [
    "## VQE with noise + constraints:\n",
    "\n",
    "We now add another layer of complexity by adding connectivity constraints to the QPU. This is done via the ``QuameleonPlugin``. As a result of these constraints, the circuit needs to be compiled. This task is carried out by yet another QLM plugin, the ``Nnizer`` (see also the ``LazySynthesis`` plugin that carries out a similar task). Notice how the gate count (printed through the ``StatPlugin`` plugin) has increased with respect to the original circuit:"
   ]
  },
  {
   "cell_type": "code",
   "execution_count": 24,
   "metadata": {
    "slideshow": {
     "slide_type": "fragment"
    }
   },
   "outputs": [
    {
     "name": "stdout",
     "output_type": "stream",
     "text": [
      "=== StatPlugin:compile ===\n",
      "Job 0: {'nbqbits': 16, 'size': 325, 'gates': {'custom gate': 0, 'X': 1, 'RX': 28, 'H': 208, 'CNOT': 76, 'RZ': 12}, 'measurements': 0, 'resets': 0, 'logic': 0, 'breaks': 0, 'remaps': 0, 'gate_size': 325}\n",
      "Minimum energy = -7.786508617633003\n"
     ]
    }
   ],
   "source": [
    "import json\n",
    "from qat.core import Topology, HardwareSpecs, TopologyType\n",
    "from qat.plugins import Nnizer, QuameleonPlugin, Remap\n",
    "\n",
    "graph_dict = json.load(open(\"graph_ibmqx5.json\", \"r\"))[\"edges\"]  # we load a graph (here corresponding to IBM QX5' chip)\n",
    "graph = {int(vertex): edges for vertex, edges in graph_dict.items()}\n",
    "topology = Topology(type=TopologyType.CUSTOM, is_directed=False, graph=graph)\n",
    "hw_specs = HardwareSpecs(nbqbits=16, topology=topology)\n",
    "nnizer = Nnizer()\n",
    "\n",
    "# the Remap plugin below allows for a smart remapping of qubits to minimize the qubit count\n",
    "noisy_qpu_with_topology = QuameleonPlugin(specs=hw_specs) | (Remap() | noisy_qpu)\n",
    "qpu = Nnizer() | StatPlugin() | optimizer_scipy | noisy_qpu_with_topology\n",
    "result_nn = qpu.submit(job)\n",
    "\n",
    "print(\"Minimum energy =\", result_nn.value)"
   ]
  },
  {
   "cell_type": "markdown",
   "metadata": {
    "slideshow": {
     "slide_type": "slide"
    }
   },
   "source": [
    "## Final comparison\n",
    "\n",
    "Below, we compare the convergence of the VQE energy for the different QPUs. As expected, in the presence of noise and connectivity constraints, the VQE energy is highest because connectivity constraints lead to longer circuits that in turn lead to a higher sensitivity to decoherence."
   ]
  },
  {
   "cell_type": "code",
   "execution_count": 25,
   "metadata": {
    "slideshow": {
     "slide_type": "fragment"
    }
   },
   "outputs": [
    {
     "data": {
      "image/png": "[encoded data removed]",
      "text/plain": [
       "<Figure size 432x288 with 1 Axes>"
      ]
     },
     "metadata": {
      "needs_background": "light"
     },
     "output_type": "display_data"
    }
   ],
   "source": [
    "import matplotlib.pyplot as plt\n",
    "\n",
    "plt.plot(eval(result_n.meta_data[\"optimization_trace\"]), label=\"noisy\", lw=3)\n",
    "plt.plot(eval(result.meta_data[\"optimization_trace\"]), label=\"noiseless\", lw=3)\n",
    "plt.plot(eval(result_nn.meta_data[\"optimization_trace\"]), label=\"noisy + topology\", lw=3)\n",
    "plt.plot(\n",
    "    [info[\"FCI\"] for _ in range(len(eval(result.meta_data[\"optimization_trace\"])))],\n",
    "    \"--k\",\n",
    "    label=\"FCI\",\n",
    ")\n",
    "plt.legend(loc=\"best\")\n",
    "plt.xlabel(\"Steps\")\n",
    "plt.ylabel(\"Energy\")\n",
    "plt.grid()"
   ]
  },
  {
   "cell_type": "markdown",
   "metadata": {},
   "source": [
    "## Annex : Active space selection using only the `MolecularHamiltonian`class"
   ]
  },
  {
   "cell_type": "markdown",
   "metadata": {},
   "source": [
    "To explain better what is happening under the hood, let us select the active space of the $LiH$ molecule without using the `MoleculeInfo` class. Let us assume we already used `perform_pyscf_computation` to compute the molecule properties we need."
   ]
  },
  {
   "cell_type": "code",
   "execution_count": 26,
   "metadata": {},
   "outputs": [
    {
     "name": "stdout",
     "output_type": "stream",
     "text": [
      " MolecularHamiltonian(\n",
      " - constant_coeff : 0.9071609330057144\n",
      " - integrals shape\n",
      "    * one_body_integrals : (11, 11)\n",
      "    * two_body_integrals : (11, 11, 11, 11)\n",
      "\n"
     ]
    }
   ],
   "source": [
    "# We define the molecular hamiltonian\n",
    "mol_h = MolecularHamiltonian(one_body_integrals, two_body_integrals, nuclear_repulsion)\n",
    "\n",
    "print(mol_h)\n",
    "\n",
    "# We compute the natural orbitals occupation numbers and the basis transformation matrix\n",
    "noons, basis_change = np.linalg.eigh(rdm1)\n",
    "\n",
    "# Reverse the noons order for them to be in decreasing order...\n",
    "noons = list(reversed(noons))\n",
    "\n",
    "# ... and flip the basis as well\n",
    "basis_change = np.flip(basis_change, axis=1)"
   ]
  },
  {
   "cell_type": "markdown",
   "metadata": {},
   "source": [
    "We use `MolecularHamiltonian.select_active_space()` to select an active space. This will update the body integrals as well as the constant coefficient in the `MolecularHamiltonian`class (here `mol_h_active`)."
   ]
  },
  {
   "cell_type": "code",
   "execution_count": 27,
   "metadata": {},
   "outputs": [
    {
     "name": "stdout",
     "output_type": "stream",
     "text": [
      " MolecularHamiltonian(\n",
      " - constant_coeff : 0.9071609330057144\n",
      " - integrals shape\n",
      "    * one_body_integrals : (2, 2)\n",
      "    * two_body_integrals : (2, 2, 2, 2)\n",
      "\n",
      "We reduced the number of qubits from 22 to only 4 !\n"
     ]
    }
   ],
   "source": [
    "# Active space selection\n",
    "mol_h_active, active_indices, occupied_indices = mol_h_new_basis.select_active_space(\n",
    "    noons=noons, n_electrons=n_electrons, threshold_1=0.02, threshold_2=0.002\n",
    ")\n",
    "\n",
    "print(mol_h_active)\n",
    "\n",
    "# The number of qubits can be computed from the one body integral in the active space:\n",
    "nqbits = mol_h_active.one_body_integrals.shape[0] * 2\n",
    "\n",
    "print(f\"We reduced the number of qubits from {mol_h.one_body_integrals.shape[0] * 2} to only {nqbits} !\")"
   ]
  },
  {
   "cell_type": "markdown",
   "metadata": {},
   "source": [
    "We get the `active_indices` and the `occupied_indices`. The `MoleculeInfo` takes care of everything for us by overwriting the correct attributes with their updated **active** counterparts. But since we are not going to use it, we need to do it manually:"
   ]
  },
  {
   "cell_type": "code",
   "execution_count": 28,
   "metadata": {},
   "outputs": [],
   "source": [
    "active_noons = [noons[idx] for idx in active_indices]\n",
    "active_orbital_energies = [orbital_energies[idx] for idx in active_indices]\n",
    "active_n_electrons = n_electrons - 2 * len(occupied_indices)"
   ]
  },
  {
   "cell_type": "markdown",
   "metadata": {},
   "source": [
    "We can then do as usual, by calling directly the functions we need. For example we can guess the optimal initial parameter:"
   ]
  },
  {
   "cell_type": "code",
   "execution_count": 29,
   "metadata": {
    "scrolled": true
   },
   "outputs": [
    {
     "name": "stdout",
     "output_type": "stream",
     "text": [
      "List of initial parameters : [0, 0, 0.19640341453136992]\n",
      "Initial Hartree-Fock state : 12\n"
     ]
    }
   ],
   "source": [
    "# Computation of the initial parameters\n",
    "theta_list = guess_init_params(\n",
    "    mol_h_active.two_body_integrals,\n",
    "    active_n_electrons,\n",
    "    active_orbital_energies,\n",
    ")\n",
    "\n",
    "print(f\"List of initial parameters : {theta_list}\")\n",
    "\n",
    "# Get the initial Hartree-Fock state\n",
    "ket_hf_init = get_hf_ket(active_n_electrons, nqbits=nqbits)\n",
    "\n",
    "print(f\"Initial Hartree-Fock state : {ket_hf_init}\")\n",
    "\n",
    "# Compute the cluster operators\n",
    "cluster_ops = get_cluster_ops(molecule.n_electrons, noons=active_noons)"
   ]
  },
  {
   "cell_type": "markdown",
   "metadata": {},
   "source": [
    "You are then free to convert the `MolecularHamiltonian` to an `ElectronicStructureHamiltonian` just as in the `MoleculeInfo`part by doing:"
   ]
  },
  {
   "cell_type": "code",
   "execution_count": 30,
   "metadata": {},
   "outputs": [],
   "source": [
    "# Get the ElectronicStructureHamiltonian\n",
    "H_active = mol_h_active.get_electronic_hamiltonian()"
   ]
  },
  {
   "cell_type": "markdown",
   "metadata": {
    "slideshow": {
     "slide_type": "slide"
    },
    "tags": []
   },
   "source": [
    "## Further questions to be investigated:\n",
    "\n",
    "This notebook only tackles certain aspects of performing chemistry on the QLM with advanced QPUs and Plugins. Other questions that you can deal with using other QLM tools include:\n",
    "\n",
    "- how to reduce the gate count given a topology?\n",
    "- how to rewrite a circuit for another gate set (say, for ions)?\n",
    "- how to mitigate noise effects? (zero-noise extrapolation...)"
   ]
  }
 ],
 "metadata": {
  "celltoolbar": "Diaporama",
  "kernelspec": {
   "display_name": "Python 3 (ipykernel)",
   "language": "python",
   "name": "python3"
  },
  "language_info": {
   "codemirror_mode": {
    "name": "ipython",
    "version": 3
   },
   "file_extension": ".py",
   "mimetype": "text/x-python",
   "name": "python",
   "nbconvert_exporter": "python",
   "pygments_lexer": "ipython3",
   "version": "3.9.2"
  }
 },
 "nbformat": 4,
 "nbformat_minor": 4
}
