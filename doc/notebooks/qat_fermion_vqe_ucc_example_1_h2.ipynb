{
 "cells": [
  {
   "cell_type": "markdown",
   "metadata": {},
   "source": [
    "# Quantum chemistry on the QLM\n",
    "\n",
    "The **Variational Quantum Eigensolver** method solves the following minimization problem :\n",
    "$$\n",
    "E = \\min_{\\vec{\\theta}}\\; \\langle \\psi(\\vec{\\theta}) \\,|\\, \\hat{H} \\,|\\, \\psi(\\vec{\\theta}) \\rangle\n",
    "$$\n",
    "\n",
    "Here, we use a **Unitary Coupled Cluster** trial state, of the form:\n",
    "$$\n",
    "|\\psi(\\vec{\\theta})\\rangle = e^{\\hat{T}(\\vec{\\theta}) - \\hat{T}^\\dagger(\\vec{\\theta})} |0\\rangle\n",
    "$$\n",
    "where $\\hat{T}(\\theta)$ is the *cluster operator*: \n",
    "$$\n",
    "\\hat{T}(\\vec{\\theta}) = \\hat{T}_1(\\vec{\\theta}) + \\hat{T}_2(\\vec{\\theta}) + \\cdots\n",
    "$$\n",
    "where\n",
    "$$\n",
    "\\hat{T}_1 = \\sum_{a\\in U}\\sum_{i \\in O} \\theta_a^i\\, \\hat{a}_a^\\dagger \\hat{a}_i \\qquad\n",
    "\\hat{T}_2 = \\sum_{a>b\\in U}\\sum_{i>j\\in O} \\theta_{a, b}^{i, j}\\, \\hat{a}^\\dagger_a \\hat{a}^\\dagger_b \\hat{a}_i \\hat{a}_j \\qquad\n",
    "\\cdots\n",
    "$$\n",
    "($O$ is the set of occupied orbitals and $U$, the set of unoccupied ones.)"
   ]
  },
  {
   "cell_type": "markdown",
   "metadata": {},
   "source": [
    "## Example: $H_2$ molecule\n",
    "\n",
    "One has to first describe the geometry and atomic content of the molecule (in this case, $H_2$).\n",
    "\n",
    "This is done, in the cell below, using the open-source ``pySCF`` package. We specify the chosen basis set and the studied geometry. Here, we chose to study dihydrogen in the so-called STO-3G basis at 0.7414 Angström (internuclear distance.)"
   ]
  },
  {
   "cell_type": "code",
   "execution_count": 1,
   "metadata": {},
   "outputs": [
    {
     "name": "stdout",
     "output_type": "stream",
     "text": [
      " HF energy :  -1.1166843870853405\n",
      " MP2 energy : -1.1298551535553094\n",
      " FCI energy : -1.137270174660903\n",
      "\n",
      "Number of qubits before active space selection = 4\n",
      "Number of qubits =  4\n"
     ]
    }
   ],
   "source": [
    "import numpy as np\n",
    "\n",
    "from qat.fermion.chemistry.pyscf_tools import perform_pyscf_computation\n",
    "\n",
    "geometry = [(\"H\", (0.0, 0.0, 0.0)), (\"H\", (0.0, 0.0, 0.7414))]\n",
    "basis = \"sto-3g\"\n",
    "spin = 0\n",
    "charge = 0\n",
    "\n",
    "(\n",
    "    rdm1,\n",
    "    orbital_energies,\n",
    "    nuclear_repulsion,\n",
    "    n_electrons,\n",
    "    one_body_integrals,\n",
    "    two_body_integrals,\n",
    "    info,\n",
    ") = perform_pyscf_computation(geometry=geometry, basis=basis, spin=spin, charge=charge, run_fci=True)\n",
    "\n",
    "print(\n",
    "    f\" HF energy :  {info['HF']}\\n\",\n",
    "    f\"MP2 energy : {info['MP2']}\\n\",\n",
    "    f\"FCI energy : {info['FCI']}\\n\",\n",
    ")\n",
    "print(f\"Number of qubits before active space selection = {rdm1.shape[0] * 2}\")\n",
    "\n",
    "nqbits = rdm1.shape[0] * 2\n",
    "print(\"Number of qubits = \", nqbits)"
   ]
  },
  {
   "cell_type": "markdown",
   "metadata": {},
   "source": [
    "#### As we will see below, it can be useful to wrap the hamiltonian data into the `MolecularHamiltonian` class."
   ]
  },
  {
   "cell_type": "code",
   "execution_count": 2,
   "metadata": {},
   "outputs": [
    {
     "name": "stdout",
     "output_type": "stream",
     "text": [
      " MolecularHamiltonian(\n",
      " - constant_coeff : 0.7137539936876182\n",
      " - integrals shape\n",
      "    * one_body_integrals : (2, 2)\n",
      "    * two_body_integrals : (2, 2, 2, 2)\n",
      ")\n"
     ]
    }
   ],
   "source": [
    "from qat.fermion.chemistry import MolecularHamiltonian, MoleculeInfo\n",
    "\n",
    "# Define the molecular hamiltonian\n",
    "mol_h = MolecularHamiltonian(one_body_integrals, two_body_integrals, nuclear_repulsion)\n",
    "\n",
    "print(mol_h)"
   ]
  },
  {
   "cell_type": "markdown",
   "metadata": {},
   "source": [
    "## Computation of cluster operators $T$ and good guess $\\vec{\\theta}_0$\n",
    "\n",
    "We now construct the cluster operators (``cluster_ops``) defined in the introduction part as $\\hat{T}(\\vec{\\theta})$, as well as a good starting parameter $\\vec{\\theta}$ (based on the second order Møller-Plesset perturbation theory)."
   ]
  },
  {
   "cell_type": "code",
   "execution_count": 3,
   "metadata": {},
   "outputs": [
    {
     "name": "stdout",
     "output_type": "stream",
     "text": [
      "List of initial parameters : [0, 0, 0.07265074220469026]\n"
     ]
    }
   ],
   "source": [
    "from qat.fermion.chemistry.ucc import guess_init_params, get_hf_ket, get_cluster_ops\n",
    "\n",
    "# Computation of the initial parameters\n",
    "theta_init = guess_init_params(\n",
    "    mol_h.two_body_integrals,\n",
    "    n_electrons,\n",
    "    orbital_energies,\n",
    ")\n",
    "\n",
    "print(f\"List of initial parameters : {theta_init}\")\n",
    "\n",
    "# Define the initial Hartree-Fock state\n",
    "ket_hf_init = get_hf_ket(n_electrons, nqbits=nqbits)\n",
    "\n",
    "# Compute the cluster operators\n",
    "cluster_ops = get_cluster_ops(n_electrons, nqbits=nqbits)"
   ]
  },
  {
   "cell_type": "markdown",
   "metadata": {},
   "source": [
    "## Encode to qubits: Fermion-spin transformation\n",
    "\n",
    "All the above operators are fermion operators. We now transform them to spin (or qubit) space. There are different possible choices. Here, we choose the Jordan-Wigner transform (the commented out imports show how to use the other transforms that are available on the QLM)."
   ]
  },
  {
   "cell_type": "code",
   "execution_count": 4,
   "metadata": {},
   "outputs": [],
   "source": [
    "from qat.fermion.transforms import transform_to_jw_basis  # , transform_to_bk_basis, transform_to_parity_basis\n",
    "from qat.fermion.transforms import recode_integer, get_jw_code  # , get_bk_code, get_parity_code\n",
    "\n",
    "# Compute the ElectronicStructureHamiltonian\n",
    "H = mol_h.get_electronic_hamiltonian()"
   ]
  },
  {
   "cell_type": "code",
   "execution_count": 5,
   "metadata": {},
   "outputs": [],
   "source": [
    "# Transform the ElectronicStructureHamiltonian into a spin Hamiltonian\n",
    "H_sp = transform_to_jw_basis(H)"
   ]
  },
  {
   "cell_type": "code",
   "execution_count": 6,
   "metadata": {},
   "outputs": [],
   "source": [
    "# Express the cluster operator in spin terms\n",
    "cluster_ops_sp = [transform_to_jw_basis(t_o) for t_o in cluster_ops]"
   ]
  },
  {
   "cell_type": "code",
   "execution_count": 7,
   "metadata": {},
   "outputs": [],
   "source": [
    "# Encoding the initial state to new encoding\n",
    "hf_init_sp = recode_integer(ket_hf_init, get_jw_code(H_sp.nbqbits))"
   ]
  },
  {
   "cell_type": "markdown",
   "metadata": {},
   "source": [
    "## Trotterize the Hamiltonian to get the parameterized circuit to optimize"
   ]
  },
  {
   "cell_type": "code",
   "execution_count": 8,
   "metadata": {},
   "outputs": [],
   "source": [
    "from qat.lang.AQASM import Program, X\n",
    "from qat.fermion.trotterisation import make_trotterisation_routine\n",
    "\n",
    "prog = Program()\n",
    "reg = prog.qalloc(H_sp.nbqbits)\n",
    "\n",
    "# Initialize the Hartree-Fock state into the Program\n",
    "for j, char in enumerate(format(hf_init_sp, \"0\" + str(H_sp.nbqbits) + \"b\")):\n",
    "    if char == \"1\":\n",
    "        prog.apply(X, reg[j])\n",
    "\n",
    "# Define the parameters to optimize\n",
    "theta_list = [prog.new_var(float, \"\\\\theta_{%s}\" % i) for i in range(len(cluster_ops))]\n",
    "\n",
    "# Define the parameterized Hamiltonian\n",
    "cluster_op = sum([theta * T for theta, T in zip(theta_list, cluster_ops_sp)])\n",
    "\n",
    "# Trotterize the Hamiltonian (with 1 trotter step)\n",
    "qrout = make_trotterisation_routine(cluster_op, n_trotter_steps=1, final_time=1)\n",
    "\n",
    "prog.apply(qrout, reg)\n",
    "circ = prog.to_circ()"
   ]
  },
  {
   "cell_type": "markdown",
   "metadata": {},
   "source": [
    "Alternatively, you can simply use the `construct_ucc_ansatz` fonction:"
   ]
  },
  {
   "cell_type": "code",
   "execution_count": 9,
   "metadata": {},
   "outputs": [],
   "source": [
    "from qat.fermion.chemistry.ucc import construct_ucc_ansatz\n",
    "\n",
    "prog = construct_ucc_ansatz(cluster_ops_sp, hf_init_sp, n_steps=1)\n",
    "circ = prog.to_circ()"
   ]
  },
  {
   "cell_type": "code",
   "execution_count": 10,
   "metadata": {},
   "outputs": [
    {
     "data": {
      "image/png": "[encoded data removed]",
      "text/plain": [
       "<IPython.core.display.Image object>"
      ]
     },
     "metadata": {},
     "output_type": "display_data"
    }
   ],
   "source": [
    "circ.display()"
   ]
  },
  {
   "cell_type": "markdown",
   "metadata": {
    "slideshow": {
     "slide_type": "slide"
    },
    "tags": []
   },
   "source": [
    "## Optimize the angles of $\\psi(\\vec{\\theta})$ for a given QPU\n",
    "\n",
    "We can now use the QLM's variational plugins to perform the VQE optimization."
   ]
  },
  {
   "cell_type": "code",
   "execution_count": 11,
   "metadata": {
    "slideshow": {
     "slide_type": "fragment"
    }
   },
   "outputs": [
    {
     "name": "stdout",
     "output_type": "stream",
     "text": [
      "Minimum energy = -1.1372692847285162\n"
     ]
    }
   ],
   "source": [
    "job = circ.to_job(observable=H_sp, nbshots=0)\n",
    "\n",
    "from qat.qpus import get_default_qpu\n",
    "from qat.plugins import ScipyMinimizePlugin\n",
    "\n",
    "optimizer_scipy = ScipyMinimizePlugin(method=\"COBYLA\", tol=1e-3, options={\"maxiter\": 1000}, x0=theta_init)\n",
    "qpu = optimizer_scipy | get_default_qpu()\n",
    "result = qpu.submit(job)\n",
    "\n",
    "print(\"Minimum energy =\", result.value)"
   ]
  },
  {
   "cell_type": "code",
   "execution_count": 12,
   "metadata": {
    "slideshow": {
     "slide_type": "fragment"
    }
   },
   "outputs": [
    {
     "data": {
      "image/png": "[encoded data removed]",
      "text/plain": [
       "<Figure size 432x288 with 1 Axes>"
      ]
     },
     "metadata": {
      "needs_background": "light"
     },
     "output_type": "display_data"
    }
   ],
   "source": [
    "%matplotlib inline\n",
    "import matplotlib.pyplot as plt\n",
    "\n",
    "plt.plot(eval(result.meta_data[\"optimization_trace\"]), lw=3)\n",
    "\n",
    "plt.xlabel(\"Steps\")\n",
    "plt.ylabel(\"Energy\")\n",
    "plt.grid()"
   ]
  },
  {
   "cell_type": "markdown",
   "metadata": {},
   "source": [
    "# Solving $H_2$ using ADAPT-VQE plugin\n",
    "\n",
    "We can use the **ADAPT-VQE** plugin to generate iteratively the ansatz which minimizes the energy. Assuming we have our Hamiltonian in the selected active space (`H_active`), we need to initialize the circuit with the corresponding Hartree-Fock state.\n",
    "\n",
    "The plugin `AdaptVQEPlugin` generates automatically the ansatz, which needs to be optimized using an optimizer. Here, we will use once again `ScipyMinimizePlugin`, coupled to the QPU."
   ]
  },
  {
   "cell_type": "code",
   "execution_count": 13,
   "metadata": {},
   "outputs": [
    {
     "data": {
      "application/vnd.jupyter.widget-view+json": {
       "model_id": "dc7fca3108224e04921ab42c97b9c202",
       "version_major": 2,
       "version_minor": 0
      },
      "text/plain": [
       "Output()"
      ]
     },
     "metadata": {},
     "output_type": "display_data"
    },
    {
     "name": "stderr",
     "output_type": "stream",
     "text": [
      "/home/moliva/.local/lib/python3.9/site-packages/qat/plugins/adapt_vqe.py:50: TqdmExperimentalWarning: rich is experimental/alpha\n",
      "  return [observable | op for op in tqdm(self.pool, desc=\"Computing commutators...\")]\n"
     ]
    },
    {
     "data": {
      "text/html": [
       "<pre style=\"white-space:pre;overflow-x:auto;line-height:normal;font-family:Menlo,'DejaVu Sans Mono',consolas,'Courier New',monospace\"></pre>\n"
      ],
      "text/plain": []
     },
     "metadata": {},
     "output_type": "display_data"
    },
    {
     "data": {
      "text/html": [
       "<pre style=\"white-space:pre;overflow-x:auto;line-height:normal;font-family:Menlo,'DejaVu Sans Mono',consolas,'Courier New',monospace\">\n",
       "</pre>\n"
      ],
      "text/plain": [
       "\n"
      ]
     },
     "metadata": {},
     "output_type": "display_data"
    },
    {
     "data": {
      "application/vnd.jupyter.widget-view+json": {
       "model_id": "15bce04b59ed4ee4a9e926426ad6dda4",
       "version_major": 2,
       "version_minor": 0
      },
      "text/plain": [
       "Output()"
      ]
     },
     "metadata": {},
     "output_type": "display_data"
    },
    {
     "data": {
      "text/html": [
       "<pre style=\"white-space:pre;overflow-x:auto;line-height:normal;font-family:Menlo,'DejaVu Sans Mono',consolas,'Courier New',monospace\">/tmp/ipykernel_2161218/3920108482.py:25: UserWarning: All energy gradients are equal to zero \n",
       "for given operator pool. Ending calculation.\n",
       "  result_adapt = stack.submit(job)\n",
       "</pre>\n"
      ],
      "text/plain": [
       "/tmp/ipykernel_2161218/3920108482.py:25: UserWarning: All energy gradients are equal to zero \n",
       "for given operator pool. Ending calculation.\n",
       "  result_adapt = stack.submit(job)\n"
      ]
     },
     "metadata": {},
     "output_type": "display_data"
    },
    {
     "name": "stderr",
     "output_type": "stream",
     "text": [
      "/home/moliva/.local/lib/python3.9/site-packages/qat/plugins/adapt_vqe.py:153: TqdmExperimentalWarning: rich is experimental/alpha\n",
      "  pbar = tqdm(range(self.n_iterations))\n"
     ]
    },
    {
     "data": {
      "text/html": [
       "<pre style=\"white-space:pre;overflow-x:auto;line-height:normal;font-family:Menlo,'DejaVu Sans Mono',consolas,'Courier New',monospace\"></pre>\n"
      ],
      "text/plain": []
     },
     "metadata": {},
     "output_type": "display_data"
    },
    {
     "data": {
      "text/html": [
       "<pre style=\"white-space:pre;overflow-x:auto;line-height:normal;font-family:Menlo,'DejaVu Sans Mono',consolas,'Courier New',monospace\">\n",
       "</pre>\n"
      ],
      "text/plain": [
       "\n"
      ]
     },
     "metadata": {},
     "output_type": "display_data"
    }
   ],
   "source": [
    "from qat.plugins import AdaptVQEPlugin\n",
    "\n",
    "# Initialize a Program\n",
    "prog = Program()\n",
    "reg = prog.qalloc(H_sp.nbqbits)\n",
    "\n",
    "# Define the circuit which prepares a Hartree-Fock state\n",
    "for j, char in enumerate(format(hf_init_sp, \"0\" + str(H_sp.nbqbits) + \"b\")):\n",
    "    if char == \"1\":\n",
    "        prog.apply(X, reg[j])\n",
    "\n",
    "circuit = prog.to_circ()\n",
    "\n",
    "# We have the variational Job we need to optimize\n",
    "job = circuit.to_job(observable=H_sp)\n",
    "\n",
    "# We define the stack...\n",
    "adaptvqe_plugin = AdaptVQEPlugin(cluster_ops_sp, n_iterations=15, early_stopper=1e-15)\n",
    "optimizer = ScipyMinimizePlugin(method=\"COBYLA\", tol=1e-3, options={\"maxiter\": 200}, x0=theta_list)\n",
    "qpu = get_default_qpu()\n",
    "\n",
    "stack = adaptvqe_plugin | optimizer | qpu\n",
    "\n",
    "# ... and submit the job\n",
    "result_adapt = stack.submit(job)"
   ]
  },
  {
   "cell_type": "code",
   "execution_count": 14,
   "metadata": {},
   "outputs": [
    {
     "data": {
      "image/png": "[encoded data removed]",
      "text/plain": [
       "<Figure size 432x288 with 1 Axes>"
      ]
     },
     "metadata": {
      "needs_background": "light"
     },
     "output_type": "display_data"
    }
   ],
   "source": [
    "%matplotlib inline\n",
    "import matplotlib.pyplot as plt\n",
    "\n",
    "plt.plot(eval(result.meta_data[\"optimization_trace\"]), label=\"VQE\", lw=3)\n",
    "plt.plot(eval(result_adapt.meta_data[\"optimization_trace\"]), label=\"ADAPT-VQE\", lw=3)\n",
    "plt.plot(\n",
    "    [info[\"FCI\"] for _ in enumerate(eval(result.meta_data[\"optimization_trace\"]))],\n",
    "    \"--k\",\n",
    "    label=\"FCI\",\n",
    ")\n",
    "plt.legend(loc=\"best\")\n",
    "plt.xlabel(\"Steps\")\n",
    "plt.ylabel(\"Energy\")\n",
    "plt.grid()"
   ]
  },
  {
   "cell_type": "markdown",
   "metadata": {},
   "source": [
    "## Further questions to be investigated:\n",
    "- How does this work for a bigger molecule ?\n",
    "- How to do an active space selection to simplify the computations ?\n",
    "\n",
    "These questions are answered in our [second example of quantum chemistry computations on an $LiH$ molecule.](qat_fermion_vqe_ucc_example_2_lih.ipynb)"
   ]
  }
 ],
 "metadata": {
  "celltoolbar": "Diaporama",
  "kernelspec": {
   "display_name": "Python 3 (ipykernel)",
   "language": "python",
   "name": "python3"
  },
  "language_info": {
   "codemirror_mode": {
    "name": "ipython",
    "version": 3
   },
   "file_extension": ".py",
   "mimetype": "text/x-python",
   "name": "python",
   "nbconvert_exporter": "python",
   "pygments_lexer": "ipython3",
   "version": "3.9.2"
  }
 },
 "nbformat": 4,
 "nbformat_minor": 4
}
