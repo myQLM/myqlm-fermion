{
    "cells": [
        {
            "cell_type": "markdown",
            "metadata": {
                "slideshow": {
                    "slide_type": "slide"
                }
            },
            "source": [
                "# Quantum chemistry on the QLM\n",
                "\n",
                "The **Variational Quantum Eigensolver** method solves the following minimization problem :\n",
                "$$\n",
                "E = \\min_{\\vec{\\theta}}\\; \\langle \\psi(\\vec{\\theta}) \\,|\\, \\hat{H} \\,|\\, \\psi(\\vec{\\theta}) \\rangle\n",
                "$$\n",
                "\n",
                "Here, we use a **Unitary Coupled Cluster** trial state, of the form:\n",
                "$$\n",
                "|\\psi(\\vec{\\theta})\\rangle = e^{\\hat{T}(\\vec{\\theta}) - \\hat{T}^\\dagger(\\vec{\\theta})} |0\\rangle\n",
                "$$\n",
                "where $\\hat{T}(\\theta)$ is the *cluster operator*: \n",
                "$$\n",
                "\\hat{T}(\\vec{\\theta}) = \\hat{T}_1(\\vec{\\theta}) + \\hat{T}_2(\\vec{\\theta}) + \\cdots\n",
                "$$\n",
                "where\n",
                "$$\n",
                "\\hat{T}_1 = \\sum_{a\\in U}\\sum_{i \\in O} \\theta_a^i\\, \\hat{a}_a^\\dagger \\hat{a}_i \\qquad\n",
                "\\hat{T}_2 = \\sum_{a>b\\in U}\\sum_{i>j\\in O} \\theta_{a, b}^{i, j}\\, \\hat{a}^\\dagger_a \\hat{a}^\\dagger_b \\hat{a}_i \\hat{a}_j \\qquad\n",
                "\\cdots\n",
                "$$\n",
                "($O$ is the set of occupied orbitals and $U$, the set of unoccupied ones.)"
            ]
        },
        {
            "cell_type": "markdown",
            "metadata": {
                "slideshow": {
                    "slide_type": "slide"
                }
            },
            "source": [
                "## Example: $H_2$ molecule\n",
                "\n",
                "One has to first describe the geometry and atomic content of the molecule (in this case, $H_2$).\n",
                "\n",
                "This is done, in the cell below, using the open-source ``pySCF`` package. We specify the chosen basis set and the studied geometry. Here, we chose to study dihydrogen in the so-called STO-3G basis at 0.7414 Angström (internuclear distance.)"
            ]
        },
        {
            "cell_type": "code",
            "execution_count": null,
            "metadata": {
                "slideshow": {
                    "slide_type": "fragment"
                }
            },
            "outputs": [],
            "source": [
                "import numpy as np\n",
                "from qat.fermion.chemistry.pyscf_tools import perform_pyscf_computation\n",
                "\n",
                "#H2 \n",
                "geometry = [('H', (0., 0., 0.)), ('H', (0., 0., 0.7414))]\n",
                "basis = \"sto-3g\"\n",
                "spin = 0 # = 2 S with S total spin angular momentum = # of unpaired electrons\n",
                "charge = 0\n",
                "\n",
                "\"\"\"Other examples:\n",
                "geometry = [('Li', (0., 0., 0.)), ('H', (0., 0., 1.75))]\n",
                "basis = \"6-31g\"\n",
                "spin = 0\n",
                "charge = 0\n",
                "\n",
                "geometry = [['C', [0.0, 0.0, 8.261342997000753e-07]],\n",
                "            ['O', [1.0990287608769004e-18, 2.7114450405987004e-19, 1.2236575813458745]],\n",
                "            ['O', [2.696319376811295e-22, 2.4247676462727696e-23, -1.2236561920609494]]]\n",
                "basis = \"sto-3g\"\n",
                "spin = 1\n",
                "\"\"\"\n",
                "\n",
                "rdm1, orbital_energies, nuclear_repulsion,\\\n",
                "nels, one_body_integrals, two_body_integrals, info = perform_pyscf_computation(geometry=geometry,\n",
                "                                                                               basis=basis,\n",
                "                                                                               spin=spin,\n",
                "                                                                               charge=charge,\n",
                "                                                                               verbose=True)\n",
                "print(\"Number of qubits before active space selection = \", rdm1.shape[0] * 2)"
            ]
        },
        {
            "cell_type": "markdown",
            "metadata": {
                "slideshow": {
                    "slide_type": "slide"
                }
            },
            "source": [
                "## Active space selection\n",
                "\n",
                "Based on the (approximate) one-particle reduced density matrix computed above (``rdm1``), we compute the so-called \"natural-orbital occupation numbers\" (NOONs). We use them to select, with a given threshold, the \"active space orbitals\" (which are contained in the ``active_indices`` list below). We then compute the Hamiltonian in this active space: we obtain ``H_active``."
            ]
        },
        {
            "cell_type": "code",
            "execution_count": null,
            "metadata": {
                "slideshow": {
                    "slide_type": "fragment"
                }
            },
            "outputs": [],
            "source": [
                "from qat.fermion.chemistry import transform_integrals_to_new_basis\n",
                "noons, basis_change = np.linalg.eigh(rdm1)\n",
                "noons = list(reversed(noons))  # need to put noons in decreasing order\n",
                "basis_change = np.flip(basis_change, axis=1)\n",
                "one_body_integrals, two_body_integrals = transform_integrals_to_new_basis(one_body_integrals,\n",
                "                                                                          two_body_integrals,\n",
                "                                                                          basis_change, old_version=False)\n",
                "from qat.fermion.chemistry.ucc import get_active_space_hamiltonian\n",
                "H_active, active_inds, occ_inds = get_active_space_hamiltonian(one_body_integrals,\n",
                "                                                               two_body_integrals, \n",
                "                                                               noons, nels, nuclear_repulsion)\n",
                "\n",
                "print(\"Number of qubits after active space selection =\", H_active.nbqbits)\n",
                "\n",
                "print(\"Active-space Hamiltonian:\", H_active)"
            ]
        },
        {
            "cell_type": "markdown",
            "metadata": {
                "slideshow": {
                    "slide_type": "slide"
                }
            },
            "source": [
                "## Computation of cluster operators $T$ and good guess $\\vec{\\theta}_0$\n",
                "\n",
                "We now construct the cluster operators (``cluster_ops``) defined in the introduction part as $\\hat{T}(\\vec{\\theta})$, as well as a good starting parameter $\\vec{\\theta}$ (based on MP2 theory)."
            ]
        },
        {
            "cell_type": "code",
            "execution_count": null,
            "metadata": {
                "slideshow": {
                    "slide_type": "fragment"
                }
            },
            "outputs": [],
            "source": [
                "from qat.fermion.chemistry.ucc import get_cluster_ops_and_init_guess\n",
                "active_noons, active_orb_energies = [], []\n",
                "for ind in active_inds:\n",
                "    active_noons.extend([noons[ind], noons[ind]])\n",
                "    active_orb_energies.extend([orbital_energies[ind], orbital_energies[ind]])\n",
                "nb_active_els = nels - 2 * len(occ_inds)\n",
                "cluster_ops, theta_0, hf_init =\\\n",
                "        get_cluster_ops_and_init_guess(nb_active_els,\n",
                "                                       active_noons,\n",
                "                                       active_orb_energies,\n",
                "                                       H_active.hpqrs)\n",
                "print(\"Initial theta:\", theta_0)"
            ]
        },
        {
            "cell_type": "markdown",
            "metadata": {
                "slideshow": {
                    "slide_type": "slide"
                }
            },
            "source": [
                "## Encode to qubits: Fermion-spin transformation\n",
                "\n",
                "\n",
                "All the above operators are fermion operators. We now transform them to spin (or qubit) space. There are different possible choices. Here, we choose the Jordan-Wigner transform (the commented out imports show how to use the other transforms that are available on QLM)."
            ]
        },
        {
            "cell_type": "code",
            "execution_count": null,
            "metadata": {
                "slideshow": {
                    "slide_type": "fragment"
                }
            },
            "outputs": [],
            "source": [
                "from qat.fermion.transforms import recode_integer\n",
                "from qat.fermion.transforms import transform_to_jw_basis, get_jw_code\n",
                "#from qat.fermion.transforms import transform_to_bk_basis, get_bk_code\n",
                "#from qat.fermion.transforms import transform_to_parity_basis, get_parity_code\n",
                "\n",
                "transform, code = transform_to_jw_basis, get_jw_code #Jordan Wigner\n",
                "#transform, code = transform_to_bk_basis, get_bk_code #Bravyi Kitaev\n",
                "H_active_sp = transform(H_active)\n",
                "\n",
                "\n",
                "# expressing the cluster operator in spin terms\n",
                "cluster_ops_sp = [transform(t_o) for t_o in cluster_ops]\n",
                "# encoding the initial state to new encoding\n",
                "hf_init_sp = recode_integer(hf_init, code(H_active_sp.nbqbits))\n",
                "\n",
                "##Finally: build_uccsd\n",
                "from qat.fermion.chemistry.ucc import construct_ucc_ansatz\n",
                "qprog = construct_ucc_ansatz(cluster_ops_sp, hf_init_sp)\n",
                "circ = qprog.to_circ()\n",
                "circ.display()"
            ]
        },
        {
            "cell_type": "markdown",
            "metadata": {
                "slideshow": {
                    "slide_type": "slide"
                }
            },
            "source": [
                "## Optimize the angles of $\\psi(\\vec{\\theta})$ for a given QPU\n",
                "\n",
                "We can now use the QLM's variational plugins to perform the VQE optimization."
            ]
        },
        {
            "cell_type": "code",
            "execution_count": null,
            "metadata": {
                "slideshow": {
                    "slide_type": "fragment"
                }
            },
            "outputs": [],
            "source": [
                "job = circ.to_job(job_type=\"OBS\", observable=H_active_sp, nbshots=0)\n",
                "\n",
                "from qat.qpus import LinAlg\n",
                "from qat.vsolve.optimize import ScipyMinimizePlugin\n",
                "\n",
                "optimizer_scipy = ScipyMinimizePlugin(method=\"COBYLA\", tol=1e-3, options={\"maxiter\": 1000},\n",
                "                                      x0=theta_0)\n",
                "qpu = optimizer_scipy | LinAlg()\n",
                "result = qpu.submit(job)\n",
                "\n",
                "print(\"Minimum energy =\", result.value)\n",
                "print(\"FCI energy:\", info[\"FCI\"])\n",
                "\n",
                "%matplotlib inline\n",
                "import matplotlib.pyplot as plt\n",
                "plt.plot(eval(result.meta_data['optimization_trace']), label=\"noiseless\", lw=3)\n",
                "plt.plot([info[\"FCI\"] for _ in range(len(eval(result.meta_data['optimization_trace'])))], '--k',\n",
                "         label = \"FCI\")\n",
                "plt.legend(loc=\"best\")\n",
                "plt.xlabel(\"Steps\")\n",
                "plt.ylabel(\"Energy\");\n",
                "plt.grid()"
            ]
        },
        {
            "cell_type": "markdown",
            "metadata": {
                "slideshow": {
                    "slide_type": "slide"
                }
            },
            "source": [
                "## With a Noisy QPU\n",
                "\n",
                "We can easily switch to another QPU. Here, we want to investigate the effect of noise on VQE accuracy.\n",
                "To this end, we use a noisy QPU with a simple noise model with $T_1$ and $T_2$ noise."
            ]
        },
        {
            "cell_type": "code",
            "execution_count": null,
            "metadata": {
                "slideshow": {
                    "slide_type": "fragment"
                }
            },
            "outputs": [],
            "source": [
                "from qat.hardware import HardwareModel, DefaultGatesSpecification\n",
                "from qat.quops import ParametricAmplitudeDamping, ParametricPureDephasing\n",
                "from qat.qpus import NoisyQProc\n",
                "from qat.plugins import StatPlugin\n",
                "\n",
                "gate_durations = {\"Z\": 60 ,\"H\": 60,  \"X\":60, \"Y\":60,\n",
                "                  \"RX\": lambda angle: 60, \"RY\": lambda angle: 60, \"RZ\": lambda angle: 60, \n",
                "                  \"CNOT\":150} # nanosecs\n",
                "T1 = 50000 # = 50 microsecs\n",
                "T2 = 50000\n",
                "\n",
                "amp_damping = ParametricAmplitudeDamping(T_1=T1)\n",
                "pure_dephasing = ParametricPureDephasing(T_phi=1/(1/T2 - 1/(2*T1)))\n",
                "hw_model = HardwareModel(DefaultGatesSpecification(gate_durations),\n",
                "                         idle_noise = [amp_damping, pure_dephasing])\n",
                "noisy_qpu = NoisyQProc(hardware_model=hw_model, sim_method=\"deterministic-vectorized\")\n",
                "\n",
                "\n",
                "qpu = StatPlugin()|optimizer_scipy | noisy_qpu\n",
                "result_n = qpu.submit(job)\n",
                "print(\"Minimum energy =\", result_n.value)"
            ]
        },
        {
            "cell_type": "markdown",
            "metadata": {
                "slideshow": {
                    "slide_type": "slide"
                }
            },
            "source": [
                "## Comparison: noiseless vs. noisy\n",
                "\n",
                "As you can see, the final energy obtained with a noisy QPU is higher than the one obtained with a perfect (noiseless) QPU:"
            ]
        },
        {
            "cell_type": "code",
            "execution_count": null,
            "metadata": {
                "slideshow": {
                    "slide_type": "fragment"
                }
            },
            "outputs": [],
            "source": [
                "%matplotlib inline\n",
                "import matplotlib.pyplot as plt\n",
                "plt.plot(eval(result_n.meta_data['optimization_trace']), label = \"noisy\", lw=3)\n",
                "plt.plot(eval(result.meta_data['optimization_trace']), label = \"noiseless\", lw=3)\n",
                "plt.plot([info[\"FCI\"] for _ in range(len(eval(result.meta_data['optimization_trace'])))], '--k',\n",
                "         label = \"FCI\")\n",
                "plt.legend(loc=\"best\")\n",
                "plt.xlabel(\"Steps\")\n",
                "plt.ylabel(\"Energy\");\n",
                "plt.grid()"
            ]
        },
        {
            "cell_type": "markdown",
            "metadata": {
                "slideshow": {
                    "slide_type": "slide"
                }
            },
            "source": [
                "## VQE with noise + constraints:\n",
                "\n",
                "We now add another layer of complexity by adding connectivity constraints to the QPU. This is done via the ``QuameleonPlugin``. As a result of these constraints, the circuit needs to be compiled. This task is carried out by yet another QLM plugin, the ``Nnizer`` (see also the ``LazySynthesis`` plugin that carries out a similar task). Notice how the gate count (printed through the ``StatPlugin`` plugin) has increased with respect to the original circuit:"
            ]
        },
        {
            "cell_type": "code",
            "execution_count": null,
            "metadata": {
                "slideshow": {
                    "slide_type": "fragment"
                }
            },
            "outputs": [],
            "source": [
                "import json\n",
                "from qat.core import Topology, HardwareSpecs, TopologyType\n",
                "from qat.plugins import Nnizer, QuameleonPlugin, Remap\n",
                "\n",
                "graph_dict = json.load(open(\"graph_ibmqx5.json\", 'r'))[\"edges\"]  # we load a graph (here corresponding to IBM QX5' chip)\n",
                "graph = {int(vertex): edges for vertex, edges in graph_dict.items()}\n",
                "topology = Topology(type=TopologyType.CUSTOM, is_directed=False, graph=graph)\n",
                "hw_specs = HardwareSpecs(nbqbits=16, topology=topology)\n",
                "nnizer = Nnizer() \n",
                "\n",
                "# the Remap plugin below allows for a smart remapping of qubits to minimize the qubit count\n",
                "noisy_qpu_with_topology = QuameleonPlugin(specs=hw_specs)| (Remap() | noisy_qpu)  \n",
                "qpu = Nnizer() | StatPlugin() | optimizer_scipy | noisy_qpu_with_topology \n",
                "result_nn = qpu.submit(job)\n",
                "print(\"Minimum energy =\", result_nn.value)"
            ]
        },
        {
            "cell_type": "markdown",
            "metadata": {
                "slideshow": {
                    "slide_type": "slide"
                }
            },
            "source": [
                "## Final comparison\n",
                "\n",
                "Below, we compare the convergence of the VQE energy for the different QPUs. As expected, in the presence of noise and connectivity constraints, the VQE energy is highest because connectivity constraints lead to longer circuits that in turn lead to a higher sensitivity to decoherence."
            ]
        },
        {
            "cell_type": "code",
            "execution_count": null,
            "metadata": {
                "slideshow": {
                    "slide_type": "fragment"
                }
            },
            "outputs": [],
            "source": [
                "\n",
                "%matplotlib inline\n",
                "import matplotlib.pyplot as plt\n",
                "plt.plot(eval(result_n.meta_data['optimization_trace']), label = \"noisy\", lw=3)\n",
                "plt.plot(eval(result.meta_data['optimization_trace']), label = \"noiseless\", lw=3)\n",
                "plt.plot(eval(result_nn.meta_data['optimization_trace']), label = \"noisy + topology\", lw=3)\n",
                "plt.plot([info[\"FCI\"] for _ in range(len(eval(result.meta_data['optimization_trace'])))], '--k',\n",
                "         label = \"FCI\")\n",
                "plt.legend(loc=\"best\")\n",
                "plt.xlabel(\"Steps\")\n",
                "plt.ylabel(\"Energy\");\n",
                "plt.grid()"
            ]
        },
        {
            "cell_type": "markdown",
            "metadata": {
                "slideshow": {
                    "slide_type": "slide"
                }
            },
            "source": [
                "## Further questions to be investigated:\n",
                "\n",
                "This notebook only tackles certain aspects of performing chemistry on the QLM with advanced QPUs and Plugins. Other questions that you can deal with using other QLM tools include:\n",
                "\n",
                "- how to reduce the gate count given a topology?\n",
                "- how to rewrite a circuit for another gate set (say, for ions)?\n",
                "- how to mitigate noise effects? (zero-noise extrapolation...)"
            ]
        }
    ],
    "metadata": {
        "celltoolbar": "Diaporama",
        "kernelspec": {
            "display_name": "Python 3 (ipykernel)",
            "language": "python",
            "name": "python3"
        },
        "language_info": {
            "codemirror_mode": {
                "name": "ipython",
                "version": 3
            },
            "file_extension": ".py",
            "mimetype": "text/x-python",
            "name": "python",
            "nbconvert_exporter": "python",
            "pygments_lexer": "ipython3",
            "version": "3.9.2"
        }
    },
    "nbformat": 4,
    "nbformat_minor": 2
}