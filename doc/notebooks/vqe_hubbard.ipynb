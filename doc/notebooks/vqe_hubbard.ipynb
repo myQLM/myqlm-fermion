{
 "cells": [
  {
   "cell_type": "markdown",
   "metadata": {
    "tags": []
   },
   "source": [
    "# Variational Quantum Eigensolver for Fermions: tutorial\n",
    "\n",
    "In this notebook, we want to find a good approximation of the minimum energy ($E_0$) of a fermionic Hamiltonian $H$ of the form :\n",
    "$$ H=\\sum_{pq}h_{pq}c_p^\\dagger c_q + \\frac{1}{2} \\sum_{pqrs} h_{pqrs}c_p^\\dagger c_q^\\dagger c_r c_s $$\n",
    "\n",
    "To find this minimum, we invoke the Rayleigh-Ritz variational principle that stipulates that:\n",
    "$$ \\frac{\\langle\\Psi|H|\\Psi\\rangle}{\\langle\\Psi|\\Psi\\rangle} \\geq E_0 \\; \\; \\forall \\Psi$$\n",
    "\n",
    "The idea is to construct a family of variational wavefunctions $|\\Psi(\\vec{\\theta})\\rangle$ and find the parameter $\\vec{\\theta}^*$ that minimizes $\\frac{\\langle\\Psi(\\vec{\\theta})|H|\\Psi(\\vec{\\theta})\\rangle}{\\langle\\Psi(\\vec{\\theta})|\\Psi(\\vec{\\theta})\\rangle} $.  \n",
    "\n",
    "To construct such states, we use a quantum circuit that generates $\\Psi(\\vec{\\theta})$ given a list of parameters $\\vec{\\theta}$. We then measure the mean value of $H$, $E(\\vec{\\theta})$, which we feed to a classical optimizer that will find a new set of parameters, and so on until a desired accuracy is achieved."
   ]
  },
  {
   "cell_type": "markdown",
   "metadata": {},
   "source": [
    "## Defining the Hamiltonian\n",
    "\n",
    "Here, we define the fermionic Hamiltonian. For simplicity, we will focus on a very simple example: a **single-site Hubbard model**, defined by the Hamiltonian:\n",
    "$$ H = U n_\\uparrow n_\\downarrow - \\mu \\sum_{\\sigma=\\uparrow,\\downarrow} n_\\sigma $$\n",
    "\n",
    "with $n_\\sigma \\equiv c_\\sigma^\\dagger c_\\sigma$.\n",
    "\n",
    "Such a Hamiltonian is already part of the QLM's ``qat.fermion`` module via the ``make_hubbard_model`` function below. This function creates the hopping and interaction integrals $h_{pq}$ and $h_{pqrs}$ that define our Hamiltonian. \n",
    "\n"
   ]
  },
  {
   "cell_type": "code",
   "execution_count": 1,
   "metadata": {},
   "outputs": [
    {
     "name": "stdout",
     "output_type": "stream",
     "text": [
      "H =  -1.0 * (Cc|[0, 0]) +\n",
      "-1.0 * (Cc|[1, 1]) +\n",
      "-1.0 * (CCcc|[0, 1, 0, 1]) +\n",
      "-1.0 * (CCcc|[1, 0, 1, 0])\n"
     ]
    }
   ],
   "source": [
    "import numpy as np\n",
    "import scipy.optimize\n",
    "\n",
    "from qat.fermion.hamiltonians import make_hubbard_model\n",
    "\n",
    "U = 2.0\n",
    "nqbit = 2\n",
    "t_mat = np.zeros((1, 1))\n",
    "hamilt = make_hubbard_model(t_mat, U, mu=U / 2)\n",
    "\n",
    "print(\"H = \", hamilt)"
   ]
  },
  {
   "cell_type": "markdown",
   "metadata": {},
   "source": [
    "The first step is to transform this fermionic Hamiltonian to a Hamiltonian that acts on qubits, i.e two-level systems. This transformation is not unique. Common transformations are the Jordan-Wigner and the Bravyi-Kitaev transformation. In the following cell, we use the Jordan-Wigner transform:"
   ]
  },
  {
   "cell_type": "code",
   "execution_count": 2,
   "metadata": {},
   "outputs": [
    {
     "name": "stdout",
     "output_type": "stream",
     "text": [
      "H (spin) =  (-0.5+0j) * I^2 +\n",
      "(0.5+0j) * (ZZ|[0, 1])\n"
     ]
    }
   ],
   "source": [
    "from qat.fermion.transforms import transform_to_jw_basis\n",
    "\n",
    "hamilt_spin = transform_to_jw_basis(hamilt)\n",
    "print(\"H (spin) = \", hamilt_spin)"
   ]
  },
  {
   "cell_type": "markdown",
   "metadata": {},
   "source": [
    "### Ansatz and corresponding quantum circuit\n",
    "\n",
    "The second step is to find a circuit with some parameters to generate our variational wavefunction $\\Psi(\\vec\\theta)$. This ansatz has to be powerful enough to be able to come close enough to the ground state, but with as few as possible gates (to reduce the circuit depth) and parameters (to ease the task of the classical optimizer).\n",
    "\n",
    "In our example, we take a list with only two parameters and we create a function that returns a ``QRoutine``. \n",
    "\n",
    "Note that we insert a CNOT because we know that our Hamiltonian contains terms entangling two orbitals in our fermionic system.\n",
    "\n",
    "We encapsulate the QRoutine inside a Program that is itself converted into a parametric circuit:"
   ]
  },
  {
   "cell_type": "code",
   "execution_count": 3,
   "metadata": {},
   "outputs": [
    {
     "data": {
      "image/png": "[encoded data removed]",
      "text/plain": [
       "<IPython.core.display.Image object>"
      ]
     },
     "metadata": {},
     "output_type": "display_data"
    }
   ],
   "source": [
    "from qat.lang.AQASM import H, RX, RY, CNOT, QRoutine, Program\n",
    "\n",
    "\n",
    "def simple_circuit_with_two_parameters(theta):\n",
    "    \"\"\"Take a parameter theta and return the corresponding circuit\"\"\"\n",
    "    Qrout = QRoutine()\n",
    "    Qrout.apply(H, 0)\n",
    "    Qrout.apply(RY(theta[0]), 0)\n",
    "    Qrout.apply(CNOT, 0, 1)\n",
    "    Qrout.apply(RX(theta[1]), 1)\n",
    "    return Qrout\n",
    "\n",
    "\n",
    "prog = Program()\n",
    "reg = prog.qalloc(hamilt_spin.nbqbits)\n",
    "prog.apply(\n",
    "    simple_circuit_with_two_parameters([prog.new_var(float, \"\\\\theta_%s\" % i) for i in range(hamilt_spin.nbqbits)]),\n",
    "    reg,\n",
    ")\n",
    "circ = prog.to_circ()\n",
    "\n",
    "circ.display()"
   ]
  },
  {
   "cell_type": "markdown",
   "metadata": {},
   "source": [
    "## Job preparation\n",
    "\n",
    "What we now want to achieve is the minimization of the expectation value $\\langle \\Psi(\\vec{\\theta})| H |\\Psi(\\vec{\\theta})\\rangle$ of the Hamiltonian $H$ at hand on the variational wavefunction $|\\Psi(\\vec{\\theta})\\rangle$ over the two-dimensional space of variational parameters $\\vec{\\theta}$. \n",
    "Such a computational job is described by a ``Job`` object that essentially contains information about\n",
    "\n",
    "- the variational circuit: ``circ`` below\n",
    "- the observable (Hamiltonian) to be minimized: ``hamilt_spin``\n",
    "\n",
    "The ``nbshots`` variable indicates the number of repetitions of the state preparation and measurement that are devoted to the computation of the expectation value"
   ]
  },
  {
   "cell_type": "code",
   "execution_count": 4,
   "metadata": {},
   "outputs": [],
   "source": [
    "job = circ.to_job(job_type=\"OBS\", observable=hamilt_spin, nbshots=0)\n",
    "theta0 = [0.5, 1.23]"
   ]
  },
  {
   "cell_type": "markdown",
   "metadata": {},
   "source": [
    "This job is a parametric job because the parameters $\\vec{\\theta}$ of the circuit are not fixed. To handle such jobs, the QLM supplies special plugins whose purpose is to minimize the value of a job's observable over the job's parametric circuit.\n",
    "The minimization can be carried out using various classical optimizers.\n",
    "\n",
    "In the cell below, we use Scipy's Nelder-Mead optimizer as a backend for this minimization. The corresponding dedicated QLM Plugin is ``ScipyMinimizePlugin``:"
   ]
  },
  {
   "cell_type": "code",
   "execution_count": 5,
   "metadata": {},
   "outputs": [
    {
     "name": "stdout",
     "output_type": "stream",
     "text": [
      "Minimum VQE energy = -0.9999999999915516\n"
     ]
    }
   ],
   "source": [
    "from qat.plugins import ScipyMinimizePlugin\n",
    "from qat.qpus import LinAlg\n",
    "\n",
    "optimizer_scipy = ScipyMinimizePlugin(method=\"Nelder-Mead\", x0=theta0, tol=1e-3, options={\"maxiter\": 600})\n",
    "linalg_qpu = LinAlg()\n",
    "qpu = optimizer_scipy | linalg_qpu\n",
    "result = qpu.submit(job)\n",
    "\n",
    "print(\"Minimum VQE energy =\", result.value)"
   ]
  },
  {
   "cell_type": "markdown",
   "metadata": {},
   "source": [
    "The ``result`` variable contains additional information about the variational procedure, such as the successive values of the variational energy over the course of the optimization, or the value of the optimal parameters $\\vec{\\theta}^*$:"
   ]
  },
  {
   "cell_type": "code",
   "execution_count": 6,
   "metadata": {},
   "outputs": [
    {
     "name": "stdout",
     "output_type": "stream",
     "text": [
      "Theta* =  [-0.1168944245437169, 3.1415984667744556]\n"
     ]
    },
    {
     "data": {
      "image/png": "[encoded data removed]",
      "text/plain": [
       "<Figure size 432x288 with 1 Axes>"
      ]
     },
     "metadata": {
      "needs_background": "light"
     },
     "output_type": "display_data"
    }
   ],
   "source": [
    "%matplotlib inline\n",
    "import matplotlib.pyplot as plt\n",
    "\n",
    "plt.plot(eval(result.meta_data[\"optimization_trace\"]))\n",
    "plt.xlabel(\"Steps\")\n",
    "plt.ylabel(\"Energy\")\n",
    "\n",
    "print(\"Theta* = \", result.meta_data[\"parameters\"])"
   ]
  },
  {
   "cell_type": "markdown",
   "metadata": {},
   "source": [
    "### Simultaneous Perturbation Stochastic Approximation optimizer\n",
    "\n",
    "We now switch to another classical optimizer, SPSA:"
   ]
  },
  {
   "cell_type": "code",
   "execution_count": 7,
   "metadata": {},
   "outputs": [
    {
     "name": "stdout",
     "output_type": "stream",
     "text": [
      "Precision reached ( 0.0001 ), iteration number = 66\n",
      "Minimum energy = -0.9991606579426187\n"
     ]
    },
    {
     "data": {
      "image/png": "[encoded data removed]",
      "text/plain": [
       "<Figure size 432x288 with 1 Axes>"
      ]
     },
     "metadata": {
      "needs_background": "light"
     },
     "output_type": "display_data"
    }
   ],
   "source": [
    "from qat.plugins import SPSAMinimizePlugin\n",
    "\n",
    "optimizer_spsa = SPSAMinimizePlugin(theta0)\n",
    "\n",
    "qpu = optimizer_spsa | linalg_qpu\n",
    "result = qpu.submit(job)\n",
    "\n",
    "print(\"Minimum energy =\", result.value)\n",
    "plt.plot(eval(result.meta_data[\"optimization_trace\"]))\n",
    "plt.xlabel(\"Steps\")\n",
    "plt.ylabel(\"Energy\");"
   ]
  },
  {
   "cell_type": "markdown",
   "metadata": {},
   "source": [
    " ### Particle-Swarm Optimizer\n",
    "\n",
    "Similarly, we can use a Particle-Swarm Optimizer, PSO. We can specify the number of swarm particles used for the optimization. In the following example, we take 10."
   ]
  },
  {
   "cell_type": "code",
   "execution_count": 8,
   "metadata": {},
   "outputs": [
    {
     "name": "stdout",
     "output_type": "stream",
     "text": [
      "Minimum energy = -1.0\n"
     ]
    },
    {
     "data": {
      "image/png": "[encoded data removed]",
      "text/plain": [
       "<Figure size 432x288 with 1 Axes>"
      ]
     },
     "metadata": {
      "needs_background": "light"
     },
     "output_type": "display_data"
    }
   ],
   "source": [
    "from qat.plugins import PSOMinimizePlugin\n",
    "\n",
    "optimizer_pso = PSOMinimizePlugin(theta0, max_iter=50, swarm_number=10)\n",
    "qpu = optimizer_pso | linalg_qpu\n",
    "result = qpu.submit(job)\n",
    "\n",
    "print(\"Minimum energy =\", result.value)\n",
    "\n",
    "plt.plot(eval(result.meta_data[\"optimization_trace\"]))\n",
    "plt.xlabel(\"Steps\")\n",
    "plt.ylabel(\"Energy\");"
   ]
  },
  {
   "cell_type": "markdown",
   "metadata": {},
   "source": [
    "### Exact result\n",
    "It may be interesting to compare this result with an exact result. This can be done, in this simple case, by a full exact diagonalisation:"
   ]
  },
  {
   "cell_type": "code",
   "execution_count": 9,
   "metadata": {},
   "outputs": [
    {
     "name": "stdout",
     "output_type": "stream",
     "text": [
      "Exact ground-state energy = -1.0\n"
     ]
    }
   ],
   "source": [
    "eigvals, eigvecs = np.linalg.eigh(hamilt.get_matrix())\n",
    "print(\"Exact ground-state energy =\", min(eigvals))"
   ]
  },
  {
   "cell_type": "markdown",
   "metadata": {},
   "source": [
    "## VQE on a noisy computer\n",
    "\n",
    "We can now define a noisy hardware model and see how VQE behaves."
   ]
  },
  {
   "cell_type": "code",
   "execution_count": 10,
   "metadata": {},
   "outputs": [],
   "source": [
    "from qat.hardware import HardwareModel, DefaultGatesSpecification\n",
    "from qat.quops import ParametricAmplitudeDamping, ParametricPureDephasing\n",
    "from qat.qpus import NoisyQProc\n",
    "\n",
    "gate_durations = {\n",
    "    \"Z\": 60,\n",
    "    \"H\": 60,\n",
    "    \"X\": 60,\n",
    "    \"Y\": 60,\n",
    "    \"RY\": lambda angle: 60,\n",
    "    \"RX\": lambda angle: 60,\n",
    "    \"CNOT\": 150,\n",
    "}\n",
    "T1 = 1000\n",
    "T2 = 1000\n",
    "\n",
    "amp_damping = ParametricAmplitudeDamping(T_1=T1)\n",
    "pure_dephasing = ParametricPureDephasing(T_phi=1 / (1 / T2 - 1 / (2 * T1)))\n",
    "hw_model = HardwareModel(DefaultGatesSpecification(gate_durations), idle_noise=[amp_damping, pure_dephasing])\n",
    "noisy_qproc = NoisyQProc(hardware_model=hw_model, sim_method=\"deterministic-vectorized\")"
   ]
  },
  {
   "cell_type": "markdown",
   "metadata": {},
   "source": [
    "It suffices to replace an ideal qpu with a noisy one to obtain the result in the presence of noise with any of the two above-mentioned methods. One can also select various `sim_method` arguments (see commented-out line for an example with \"stochastic\" method)."
   ]
  },
  {
   "cell_type": "code",
   "execution_count": 11,
   "metadata": {},
   "outputs": [
    {
     "name": "stdout",
     "output_type": "stream",
     "text": [
      "Minimum energy = -0.9590913766860634\n"
     ]
    },
    {
     "data": {
      "image/png": "[encoded data removed]",
      "text/plain": [
       "<Figure size 432x288 with 1 Axes>"
      ]
     },
     "metadata": {
      "needs_background": "light"
     },
     "output_type": "display_data"
    }
   ],
   "source": [
    "optimizer_scipy = ScipyMinimizePlugin(method=\"COBYLA\", x0=theta0, tol=1e-3, options={\"maxiter\": 600})\n",
    "qpu = optimizer_scipy | noisy_qproc\n",
    "result = qpu.submit(job)\n",
    "\n",
    "print(\"Minimum energy =\", result.value)\n",
    "plt.plot(eval(result.meta_data[\"optimization_trace\"]))\n",
    "plt.xlabel(\"Steps\")\n",
    "plt.ylabel(\"Energy\");"
   ]
  },
  {
   "cell_type": "markdown",
   "metadata": {},
   "source": [
    "## Influence of the number of shots\n",
    "\n",
    "So far we have assumed each circuit observable was measured exactly, i.e with an infinite number of projective measurements. We can change this by setting the parameter ``nbshots`` to a finite number (it defaults to 0, i.e infinity). Choosing an insufficient number of shots leads to an inaccurate result due to shot noise."
   ]
  },
  {
   "cell_type": "code",
   "execution_count": 12,
   "metadata": {},
   "outputs": [
    {
     "name": "stdout",
     "output_type": "stream",
     "text": [
      "==== nb shots = 50\n",
      "Minimum energy = -1.0\n",
      "==== nb shots = 1500\n",
      "Minimum energy = -1.0\n",
      "==== nb shots = 0\n",
      "Minimum energy = -0.9999996784470463\n"
     ]
    },
    {
     "data": {
      "image/png": "[encoded data removed]",
      "text/plain": [
       "<Figure size 432x288 with 1 Axes>"
      ]
     },
     "metadata": {
      "needs_background": "light"
     },
     "output_type": "display_data"
    }
   ],
   "source": [
    "optimizer_scipy = ScipyMinimizePlugin(method=\"COBYLA\", x0=theta0, tol=1e-3, options={\"maxiter\": 600})\n",
    "qpu = optimizer_scipy | linalg_qpu\n",
    "nbshots_list = [50, 1500, 0]\n",
    "for nbshots in nbshots_list:\n",
    "    job = prog.to_circ().to_job(job_type=\"OBS\", observable=hamilt_spin, nbshots=nbshots)\n",
    "    result = qpu.submit(job)\n",
    "    print(\"==== nb shots =\", nbshots)\n",
    "    print(\"Minimum energy =\", result.value)\n",
    "    plt.plot(\n",
    "        eval(result.meta_data[\"optimization_trace\"]),\n",
    "        label=r\"$n_\\mathrm{shots} = %s$\" % nbshots,\n",
    "    )\n",
    "plt.xlabel(\"Steps\")\n",
    "plt.ylabel(\"Energy\")\n",
    "plt.legend();"
   ]
  }
 ],
 "metadata": {
  "authors": [
   "Thomas Ayral",
   "Satyanarayana Bade"
  ],
  "kernelspec": {
   "display_name": "Python 3 (ipykernel)",
   "language": "python",
   "name": "python3"
  },
  "language_info": {
   "codemirror_mode": {
    "name": "ipython",
    "version": 3
   },
   "file_extension": ".py",
   "mimetype": "text/x-python",
   "name": "python",
   "nbconvert_exporter": "python",
   "pygments_lexer": "ipython3",
   "version": "3.9.2"
  }
 },
 "nbformat": 4,
 "nbformat_minor": 4
}
