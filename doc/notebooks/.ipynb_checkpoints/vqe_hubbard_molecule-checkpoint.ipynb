{
 "cells": [
  {
   "cell_type": "markdown",
   "metadata": {},
   "source": [
    "# VQE on the Hubbard molecule\n",
    "\n",
    "We would like to study the \"Hubbard dimer\" molecule, whose Hamiltonian reads:\n",
    "\n",
    "$$H=-t\\sum_{\\sigma=\\uparrow,\\downarrow}\\left(c_{1\\sigma}^{\\dagger}c_{2\\sigma}+c_{2\\sigma}^{\\dagger}c_{1\\sigma}\\right)-\\mu\\sum_{i=1,2}\\sum_{\\sigma=\\uparrow,\\downarrow}n_{i\\sigma}+U\\sum_{i=1,2}n_{i\\uparrow}n_{i\\downarrow}$$\n",
    "\n",
    "with $n_{i\\sigma} = c^\\dagger_{i\\sigma} c_{i\\sigma}$. We will choose $\\mu=U/2$ to keep the number of electrons at one per site."
   ]
  },
  {
   "cell_type": "code",
   "execution_count": 1,
   "metadata": {},
   "outputs": [
    {
     "name": "stdout",
     "output_type": "stream",
     "text": [
      "#### r = 0.1 ####\n",
      "exact energy =  (-10.317416949263238+0j)\n",
      "VQE energy =  -9.976151435496568\n",
      "#### r = 0.575 ####\n",
      "exact energy =  (-2.2917785434479137+0j)\n",
      "Precision reached ( 0.0001 ), iteration number = 64\n",
      "VQE energy =  -1.737215335095266\n",
      "#### r = 1.05 ####\n",
      "exact energy =  (-1.322702781255465+0j)\n",
      "VQE energy =  -1.044103355330222\n",
      "#### r = 1.525 ####\n",
      "exact energy =  (-0.8727850680163758+0j)\n",
      "VQE energy =  -0.643883026211614\n",
      "#### r = 2.0 ####\n",
      "exact energy =  (-0.6184597068268618+0j)\n",
      "VQE energy =  -0.5020718204380252\n"
     ]
    }
   ],
   "source": [
    "import numpy as np\n",
    "import random\n",
    "import scipy.optimize\n",
    "\n",
    "from qat.lang.AQASM import H, RX, RY, CNOT, QRoutine, Program\n",
    "from qat.qpus import LinAlg\n",
    "from qat.fermion.hamiltonians import make_hubbard_model\n",
    "from qat.fermion.transforms import transform_to_jw_basis\n",
    "from qat.plugins import SPSAMinimizePlugin\n",
    "\n",
    "qpu = LinAlg()\n",
    "\n",
    "distances = np.linspace(0.1, 2, 5)\n",
    "exact_energies = []\n",
    "vqe_energies = []\n",
    "for r in distances:\n",
    "    print(\"#### r = %s ####\" % r)\n",
    "\n",
    "    U = 1 / r  # supposing U depends on r this way...\n",
    "    t = np.exp(-r)  # ditto\n",
    "    nqbit = 4\n",
    "    t_mat = -t * np.array([[0.0, 1.0], [1.0, 0.0]])\n",
    "    hamilt = make_hubbard_model(t_mat, U, mu=U / 2)\n",
    "    hamilt_sp = transform_to_jw_basis(hamilt)\n",
    "\n",
    "    # eigvals, eigvecs = np.linalg.eig(hamilt.get_matrix())\n",
    "    eigvals, eigvecs = np.linalg.eigh(hamilt_sp.get_matrix())\n",
    "    E0 = min(eigvals)\n",
    "    exact_energies.append(E0)\n",
    "    print(\"exact energy = \", E0)\n",
    "\n",
    "    prog = Program()\n",
    "    reg = prog.qalloc(nqbit)\n",
    "    theta = [prog.new_var(float, \"\\\\theta_%s\" % i) for i in range(8)]\n",
    "    for layer in range(2):\n",
    "        for qb in [0, 1, 2, 3]:\n",
    "            prog.apply(H, reg[qb])\n",
    "        for qb in [0, 1, 2, 3]:\n",
    "            prog.apply(RY(theta[4 * layer + qb]), reg[qb])\n",
    "            prog.apply(CNOT, reg[qb], reg[(qb + 1) % 4])\n",
    "\n",
    "    circ = prog.to_circ()\n",
    "    theta0 = 2.0 * np.pi * np.random.random(8)\n",
    "    spsa_optimizer = SPSAMinimizePlugin(x0=theta0)\n",
    "    stack = spsa_optimizer | qpu\n",
    "\n",
    "    res = stack.submit(circ.to_job(job_type=\"OBS\", observable=hamilt_sp))\n",
    "    E0 = res.value\n",
    "    vqe_energies.append(E0)\n",
    "    print(\"VQE energy = \", E0)"
   ]
  },
  {
   "cell_type": "code",
   "execution_count": 2,
   "metadata": {},
   "outputs": [
    {
     "data": {
      "text/plain": [
       "<matplotlib.legend.Legend at 0x2ac011c93be0>"
      ]
     },
     "execution_count": 2,
     "metadata": {},
     "output_type": "execute_result"
    },
    {
     "data": {
      "image/png": "[encoded data removed]",
      "text/plain": [
       "<Figure size 432x288 with 1 Axes>"
      ]
     },
     "metadata": {
      "needs_background": "light"
     },
     "output_type": "display_data"
    }
   ],
   "source": [
    "import matplotlib.pyplot as plt\n",
    "\n",
    "%matplotlib inline\n",
    "\n",
    "plt.plot(distances[1:], exact_energies[1:], \"--k\", lw=4, label=\"exact\")\n",
    "plt.plot(distances[1:], vqe_energies[1:], label=\"VQE\")\n",
    "plt.legend()"
   ]
  },
  {
   "cell_type": "code",
   "execution_count": null,
   "metadata": {},
   "outputs": [],
   "source": []
  }
 ],
 "metadata": {
  "authors": [
   "Thomas Ayral",
   "Satyanarayana Bade"
  ],
  "kernelspec": {
   "display_name": "Python 3",
   "language": "python",
   "name": "python3"
  },
  "language_info": {
   "codemirror_mode": {
    "name": "ipython",
    "version": 3
   },
   "file_extension": ".py",
   "mimetype": "text/x-python",
   "name": "python",
   "nbconvert_exporter": "python",
   "pygments_lexer": "ipython3",
   "version": "3.6.8"
  }
 },
 "nbformat": 4,
 "nbformat_minor": 2
}
