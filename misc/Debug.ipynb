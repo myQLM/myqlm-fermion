{
 "cells": [
  {
   "cell_type": "markdown",
   "id": "fecafbc5",
   "metadata": {},
   "source": [
    "# Debugging gaussian state preparation"
   ]
  },
  {
   "cell_type": "code",
   "execution_count": 1,
   "id": "accabc57",
   "metadata": {},
   "outputs": [],
   "source": [
    "import numpy as np\n",
    "\n",
    "import copy\n",
    "from matplotlib import pyplot as plt\n",
    "from qat.qpus import get_default_qpu\n",
    "\n",
    "from qat.fermion.hamiltonians import make_hubbard_model, ElectronicStructureHamiltonian\n",
    "from qat.fermion.matchgates import get_nn_rotation_angles, prepare_R_matrix\n",
    "from qat.fermion.circuits import make_ldca_circ\n",
    "from qat.dqs.fermionic_util import init_creation_ops, dag\n",
    "\n",
    "from qat.core.simutil import wavefunction\n",
    "from gaussian_util import herm_conj, generate_unitary_matrix, make_quadratic_hamiltonian, make_rotation_thouless, compute_diff_to_thouless\n",
    "from qat.qpus import LinAlg\n",
    "\n",
    "from scipy.stats import unitary_group"
   ]
  },
  {
   "cell_type": "markdown",
   "id": "92260e1a",
   "metadata": {},
   "source": [
    "## 1. Checking the equivalence between the single-particle modes rotation and the corresponding conjugate action in Fock space\n",
    "Here, we want to check that $ \\tilde{H} = \\mathcal{U} H \\mathcal{U}^{\\dagger}$ with $H = \\sum_{pq} h_{pq} a^{\\dagger}_p a_q$, $\\tilde{h} = r h r^{\\dagger}$, $H = \\sum_{pq} \\tilde{h}_{pq} a^{\\dagger}_p a_q$, $\\mathcal{U} = \\exp \\left( \\sum_{pq} \\log(r)_{pq} (a^{\\dagger}_p a_q - \\mathrm{h.c.} )\\right)$.\n",
    "For that, we generate at random a unitary matrix, using either the custom function or scipy's. Then, we feed it to a function that will check that the relation above holds by picking at random a hermitian matrix and constructing the corresponding Hamiltonian and the corresponding rotated Hamiltonian."
   ]
  },
  {
   "cell_type": "code",
   "execution_count": 2,
   "id": "cd3e5825",
   "metadata": {},
   "outputs": [
    {
     "name": "stdout",
     "output_type": "stream",
     "text": [
      "Norm of operator difference with AS= 0.5324550915906859\n",
      "Norm of operator difference without AS= 1.4663247218518516e-15\n"
     ]
    }
   ],
   "source": [
    "r = generate_unitary_matrix(2)\n",
    "#r = unitary_group.rvs(2) # alternative\n",
    "\n",
    "diff = compute_diff_to_thouless(r, antisymmetrize=True)\n",
    "print('Norm of operator difference with AS=', diff)\n",
    "\n",
    "diff = compute_diff_to_thouless(r, antisymmetrize=False)\n",
    "print('Norm of operator difference without AS=', diff)"
   ]
  },
  {
   "cell_type": "markdown",
   "id": "d1160c7b",
   "metadata": {},
   "source": [
    "## 2. Connecting ground states of quadratic Hamiltonians\n",
    "Here, we consider a quadratic Hamiltonian, diagonalize it and look at its ground state. We observe it corresponds to the filling of negative-energy orbitals."
   ]
  },
  {
   "cell_type": "code",
   "execution_count": 3,
   "id": "01ac0598",
   "metadata": {},
   "outputs": [
    {
     "name": "stdout",
     "output_type": "stream",
     "text": [
      "E0= -1.5567715973003715\n",
      "[-1.21115868 -0.34561291  1.08987198  4.61402353]\n",
      "psi0 tilde= [0.+0.j 0.+0.j 0.+0.j 0.+0.j 0.+0.j 0.+0.j 0.+0.j 0.+0.j 0.+0.j 0.+0.j\n",
      " 0.+0.j 0.+0.j 1.+0.j 0.+0.j 0.+0.j 0.+0.j]\n"
     ]
    }
   ],
   "source": [
    "# Generate quadratic Hamiltonian\n",
    "M = 4\n",
    "np.random.seed(seed=0)\n",
    "mat = np.random.random((M, M))\n",
    "hpq = mat + herm_conj(mat)\n",
    "\n",
    "H = ElectronicStructureHamiltonian(hpq=hpq, hpqrs=np.zeros((M, M, M, M)), constant_coeff=0)\n",
    "H_mat = H.get_matrix()\n",
    "eigvals, eigvecs = np.linalg.eigh(H_mat)\n",
    "E0 = eigvals[0]\n",
    "psi0 = eigvecs[:, 0]\n",
    "print('E0=', E0)\n",
    "diag_energies, r = np.linalg.eigh(hpq)\n",
    "print(diag_energies)\n",
    "\n",
    "H_tilde = ElectronicStructureHamiltonian(hpq=herm_conj(r).dot(hpq.dot(r)), hpqrs=np.zeros((M, M, M, M)), constant_coeff=0)\n",
    "H_tilde_mat = H_tilde.get_matrix()\n",
    "eigvals_tilde, eigvecs_tilde = np.linalg.eigh(H_tilde_mat)\n",
    "\n",
    "psi0_tilde = eigvecs_tilde[:, 0]\n",
    "\n",
    "print('psi0 tilde=', psi0_tilde)"
   ]
  },
  {
   "cell_type": "markdown",
   "id": "86dd11d5",
   "metadata": {},
   "source": [
    "Let $r$ be the Hamiltonian's diagonalization matrix. We construct $\\mathcal{U}(r)$. Let $|\\psi_0\\rangle$ be the ground state of the original Hamiltonian $H$, $|\\tilde{\\psi}_0\\rangle$ that of the diagonalized Hamiltonian $\\tilde{H}$. We expect that $|\\psi_0\\rangle = \\mathcal{U}(r)| \\tilde{\\psi}_0\\rangle$."
   ]
  },
  {
   "cell_type": "code",
   "execution_count": 4,
   "id": "4c74e5e6",
   "metadata": {},
   "outputs": [
    {
     "name": "stdout",
     "output_type": "stream",
     "text": [
      "0.9999999999999996\n",
      "(-1+0j)\n",
      "2.136079133711712e-15\n"
     ]
    }
   ],
   "source": [
    "U_cal = make_rotation_thouless(r)\n",
    "transformed_psi0 = U_cal.dot(psi0_tilde)\n",
    "\n",
    "# checking that normalization is conserved (sanity check, as U_cal is checked by its constructor for unitarity)\n",
    "print(np.linalg.norm(transformed_psi0))\n",
    "print(herm_conj(psi0).dot(transformed_psi0))\n",
    "print(np.linalg.norm(psi0 + transformed_psi0))"
   ]
  },
  {
   "cell_type": "code",
   "execution_count": 5,
   "id": "18684125",
   "metadata": {},
   "outputs": [
    {
     "ename": "SyntaxError",
     "evalue": "EOL while scanning string literal (3240389896.py, line 3)",
     "output_type": "error",
     "traceback": [
      "\u001b[0;36m  File \u001b[0;32m\"/tmp/ipykernel_1990098/3240389896.py\"\u001b[0;36m, line \u001b[0;32m3\u001b[0m\n\u001b[0;31m    \"\"\"\"\u001b[0m\n\u001b[0m        \n^\u001b[0m\n\u001b[0;31mSyntaxError\u001b[0m\u001b[0;31m:\u001b[0m EOL while scanning string literal\n"
     ]
    }
   ],
   "source": [
    "\"\"\"\"\n",
    "FROM THERE: WIP\n",
    "\"\"\"\"\n",
    "assert 0==1"
   ]
  },
  {
   "cell_type": "code",
   "execution_count": null,
   "id": "60531e7f",
   "metadata": {},
   "outputs": [],
   "source": [
    "a_dag = init_creation_ops(M)\n",
    "psi_ref = np.zeros((2**M,))\n",
    "psi_ref[0] = 1\n",
    "psi0_tilde_bis = a_dag[0].dot(a_dag[1].dot(psi_ref))\n",
    "print(psi0_tilde_bis)"
   ]
  },
  {
   "cell_type": "code",
   "execution_count": null,
   "id": "4a754854",
   "metadata": {},
   "outputs": [],
   "source": [
    "givens_rotation_angles, cf = get_nn_rotation_angles(r)\n",
    "print(cf)"
   ]
  },
  {
   "cell_type": "code",
   "execution_count": null,
   "id": "1bd3703b",
   "metadata": {},
   "outputs": [],
   "source": [
    "R = prepare_R_matrix(2, givens_rotation_angles)\n",
    "print(R)\n",
    "U_cal_bis = make_rotation_thouless(R)\n",
    "print(np.linalg.norm(U_cal - U_cal_bis))"
   ]
  },
  {
   "cell_type": "code",
   "execution_count": null,
   "id": "44ccbf27",
   "metadata": {},
   "outputs": [],
   "source": [
    "circ = make_ldca_circ(nb_fermionic_modes=4, ncycles=1)\n",
    "\n",
    "nb_ldca_params = len(circ.var_dic)\n",
    "\n",
    "nb_angles = len(givens_rotation_angles)\n",
    "nb_other_params = nb_ldca_params - nb_angles\n",
    "\n",
    "# We set the initial parameters to the Givens rotations, the rest of the parameters beeing set to 0\n",
    "theta = list(givens_rotation_angles) + [0]*nb_other_params \n",
    "\n",
    "# We bind these parameters to the paramterized circuit defined previously\n",
    "prep_circ = circ.bind_variables({ r\"\\theta_{%i}\"%i : 0.5*theta[i] for i in range(len(theta))}) # beware of the 0.5 factor!"
   ]
  },
  {
   "cell_type": "code",
   "execution_count": null,
   "id": "6c5a64a6",
   "metadata": {},
   "outputs": [],
   "source": [
    "circ_wf = wavefunction(prep_circ, LinAlg())"
   ]
  },
  {
   "cell_type": "code",
   "execution_count": null,
   "id": "2ae34f0a",
   "metadata": {},
   "outputs": [],
   "source": [
    "print(herm_conj(psi0).dot(circ_wf))"
   ]
  }
 ],
 "metadata": {
  "kernelspec": {
   "display_name": "Python 3 (ipykernel)",
   "language": "python",
   "name": "python3"
  },
  "language_info": {
   "codemirror_mode": {
    "name": "ipython",
    "version": 3
   },
   "file_extension": ".py",
   "mimetype": "text/x-python",
   "name": "python",
   "nbconvert_exporter": "python",
   "pygments_lexer": "ipython3",
   "version": "3.9.7"
  }
 },
 "nbformat": 4,
 "nbformat_minor": 5
}
